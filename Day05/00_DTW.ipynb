{
 "cells": [
  {
   "cell_type": "code",
   "execution_count": null,
   "metadata": {
    "tags": []
   },
   "outputs": [],
   "source": [
    "# !pip install IPython\n",
    "from IPython.display import display, HTML, Image"
   ]
  },
  {
   "cell_type": "code",
   "execution_count": null,
   "metadata": {},
   "outputs": [],
   "source": [
    "!git clone https://github.com/Seung-hwanSong/LG_time_series_day05.git #코랩 사용"
   ]
  },
  {
   "cell_type": "markdown",
   "metadata": {
    "tags": []
   },
   "source": [
    "# [머신러닝 기반 시계열 분석 2 실습]\n",
    "# DTW\n",
    "## [Dynamic Time Warping ]\n",
    "* 두개의 시계열 데이터 길이가 달라도 유사도 비교 가능\n",
    "* 비슷한 패턴이지만 시간차가 있는 경우(shift 발생) 유사도 비교 가능\n",
    "\n",
    "참고: https://blog.kubwa.co.kr/dtw-%EA%B8%B0%EB%B3%B8-%EC%84%A4%EB%AA%85-%EB%B0%8F-%EC%8B%A4%EC%8A%B5-%EC%BD%94%EB%93%9C-b333091d1e79"
   ]
  },
  {
   "cell_type": "markdown",
   "metadata": {},
   "source": [
    "##### jupyter notebook 단축키\n",
    "\n",
    "- ctrl+enter: 셀 실행   \n",
    "- shift+enter: 셀 실행 및 다음 셀 이동   \n",
    "- alt+enter: 셀 실행, 다음 셀 이동, 새로운 셀 생성\n",
    "- a: 상단에 새로운 셀 만들기\n",
    "- b: 하단에 새로운 셀 만들기\n",
    "- dd: 셀 삭제(x: 셀 삭제)\n",
    "- 함수 ( ) 안에서 shift+tab: arguments description. shift+tab+tab은 길게 볼 수 있도록"
   ]
  },
  {
   "cell_type": "markdown",
   "metadata": {},
   "source": [
    "## __DTW 계산방법 이론__\n",
    "### 시계열 데이터 2개가 존재, 두 시계열의 길이 $n, m$은 길이가 같을 수도 있고 다를 수도 있음\n",
    "\n",
    "$ P = (p_1, p_2, p_3, ..., p_n)$, \n",
    "$ Q = (q_1, q_2, q_3, ..., q_m)$\n",
    "\n",
    "-  두 시계열을 나열하여 n X M 행렬을 만든다고 하였을 때, 행렬의 $(i, j)$번째 요소는 $p_i$와 $q_j$간의 유클리드 거리 $d(p_i, q_j)=(p_i-q_j)^2$을 의미\n",
    "\n",
    "- 유클리드 거리를 이용하여 최적의 warping 경로를 탐색함 "
   ]
  },
  {
   "cell_type": "markdown",
   "metadata": {
    "tags": []
   },
   "source": [
    "## 1. 모듈 불러오기"
   ]
  },
  {
   "cell_type": "code",
   "execution_count": null,
   "metadata": {},
   "outputs": [],
   "source": [
    "!pip install dtaidistance"
   ]
  },
  {
   "cell_type": "code",
   "execution_count": null,
   "metadata": {},
   "outputs": [],
   "source": [
    "''' 기본 모듈 '''\n",
    "import numpy as np\n",
    "import pandas as pd\n",
    "\n",
    "''' DTW 모듈 '''\n",
    "# !pip install dtaidistance\n",
    "from dtaidistance import dtw\n",
    "\n",
    "''' DTW 시각화 모듈 '''\n",
    "from dtaidistance import dtw_visualisation as dtwvis\n",
    "import matplotlib.pyplot as plt"
   ]
  },
  {
   "cell_type": "markdown",
   "metadata": {},
   "source": [
    "## 2. 데이터 만들기 "
   ]
  },
  {
   "cell_type": "code",
   "execution_count": null,
   "metadata": {},
   "outputs": [],
   "source": [
    "a = [1, 2, 5, 7, 4, 3, 6, 8, 2, 1] # 빨간색 선 \n",
    "b = [3, 6, 1, 2, 8, 9, 3, 4, 3, 2, 1, 2] # 파란색 선\n",
    "c = [2, 5, 7, 4, 3, 6, 8, 2, 1, 1] # 검정색 선"
   ]
  },
  {
   "cell_type": "code",
   "execution_count": null,
   "metadata": {},
   "outputs": [],
   "source": [
    "# a(빨간색 선)와 b(파란색 선)는 길이가 다름\n",
    "\n",
    "plt.figure(figsize=(18, 6))\n",
    "\n",
    "plt.plot(a, color='red')\n",
    "plt.plot(b, color='blue')\n",
    "\n",
    "plt.show()"
   ]
  },
  {
   "cell_type": "code",
   "execution_count": null,
   "metadata": {},
   "outputs": [],
   "source": [
    "# a(빨간색 선)와 c(검정색 선)는 패턴은 비슷하지만 시간차가 존재\n",
    "\n",
    "plt.figure(figsize=(18, 6))\n",
    "\n",
    "plt.plot(a, color='red')\n",
    "plt.plot(c, color='black')\n",
    "\n",
    "plt.show()"
   ]
  },
  {
   "cell_type": "markdown",
   "metadata": {},
   "source": [
    "## 3. 길이가 다른 경우 (a & b)"
   ]
  },
  {
   "cell_type": "markdown",
   "metadata": {},
   "source": [
    "### 3.1 최종 warping 경로 비용"
   ]
  },
  {
   "cell_type": "code",
   "execution_count": null,
   "metadata": {},
   "outputs": [],
   "source": [
    "distance = dtw.distance(a, b)\n",
    "print(distance)\n",
    "\n",
    "# distance 값이 작을수록 기준이 되는 a값과 유사도가 높음"
   ]
  },
  {
   "cell_type": "markdown",
   "metadata": {},
   "source": [
    "### 3.2 Warping 시각화"
   ]
  },
  {
   "cell_type": "code",
   "execution_count": null,
   "metadata": {},
   "outputs": [],
   "source": [
    "dtwvis.plot_warping(a, b, path = dtw.warping_path(a, b))"
   ]
  },
  {
   "cell_type": "markdown",
   "metadata": {},
   "source": [
    "## 4. 비슷한 패턴에서 시간차가 존재할 경우"
   ]
  },
  {
   "cell_type": "markdown",
   "metadata": {},
   "source": [
    "### 4.1 최종 warping 경로 비용"
   ]
  },
  {
   "cell_type": "code",
   "execution_count": null,
   "metadata": {},
   "outputs": [],
   "source": [
    "distance = dtw.distance(a, c)\n",
    "print(distance)\n",
    "\n",
    "# distance 값이 작을수록 기준이 되는 a값과 유사도가 높음"
   ]
  },
  {
   "cell_type": "markdown",
   "metadata": {},
   "source": [
    "### 4.2 Warping 시각화"
   ]
  },
  {
   "cell_type": "code",
   "execution_count": null,
   "metadata": {},
   "outputs": [],
   "source": [
    "dtwvis.plot_warping(a, c, path = dtw.warping_path(a, c))"
   ]
  },
  {
   "cell_type": "markdown",
   "metadata": {},
   "source": [
    "# EOD"
   ]
  }
 ],
 "metadata": {
  "kernelspec": {
   "display_name": "ttest",
   "language": "python",
   "name": "ttest"
  },
  "language_info": {
   "codemirror_mode": {
    "name": "ipython",
    "version": 3
   },
   "file_extension": ".py",
   "mimetype": "text/x-python",
   "name": "python",
   "nbconvert_exporter": "python",
   "pygments_lexer": "ipython3",
   "version": "3.7.11"
  }
 },
 "nbformat": 4,
 "nbformat_minor": 4
}
