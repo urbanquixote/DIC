{
 "cells": [
  {
   "cell_type": "markdown",
   "id": "896ae385",
   "metadata": {
    "id": "896ae385"
   },
   "source": [
    "# Cnvolutional neural network Signal: Tutorial\n",
    "- 실습조교: 배진수(wlstn215@korea.ac.kr), 김정인(jungin_kim23@korea.ac.kr), 정진용(jy_jeong@korea.ac.kr)"
   ]
  },
  {
   "cell_type": "markdown",
   "id": "e59d689f",
   "metadata": {
    "id": "e59d689f"
   },
   "source": [
    "## Colab gpu 연결\n",
    "\n",
    "#### 런타임 -> 런타임유형 변경 -> 하드웨어 가속기 -> GPU"
   ]
  },
  {
   "cell_type": "code",
   "execution_count": null,
   "id": "a7506d99",
   "metadata": {
    "executionInfo": {
     "elapsed": 1620,
     "status": "ok",
     "timestamp": 1676511134230,
     "user": {
      "displayName": "",
      "userId": ""
     },
     "user_tz": -540
    },
    "id": "a7506d99"
   },
   "outputs": [],
   "source": [
    "import torch, os\n",
    "torch.cuda.is_available()"
   ]
  },
  {
   "cell_type": "markdown",
   "id": "822bb8c7",
   "metadata": {
    "id": "822bb8c7"
   },
   "source": [
    "## 0.모듈 불러오기"
   ]
  },
  {
   "cell_type": "code",
   "execution_count": null,
   "id": "4056e110",
   "metadata": {
    "colab": {
     "base_uri": "https://localhost:8080/",
     "height": 35
    },
    "executionInfo": {
     "elapsed": 914,
     "status": "ok",
     "timestamp": 1676511137627,
     "user": {
      "displayName": "",
      "userId": ""
     },
     "user_tz": -540
    },
    "id": "4056e110",
    "outputId": "396153f2-f6c7-47ea-fd13-1f79e5a6ec4a"
   },
   "outputs": [],
   "source": [
    "''' 기본 모듈 및 시각화 모듈'''\n",
    "import numpy as np\n",
    "import pandas as pd\n",
    "import seaborn as sns\n",
    "import matplotlib.pyplot as plt\n",
    "import os\n",
    "import pickle\n",
    "\n",
    "'''CNN을 위한 딥러닝 모듈'''\n",
    "import torch\n",
    "import torch.nn as nn\n",
    "import torch.optim as optim\n",
    "from torch.optim import lr_scheduler\n",
    "import torchvision\n",
    "from torchvision import datasets, models, transforms\n",
    "\n",
    "''' 결과 평가용 모듈 '''\n",
    "from sklearn.metrics import confusion_matrix, accuracy_score, f1_score, precision_score, recall_score\n",
    "\n",
    "''' github+colab 교육생분들 '''\n",
    "# !git clone https://github.com/bogus215/LG-EDUCATION2.git"
   ]
  },
  {
   "cell_type": "markdown",
   "id": "94f2f25c",
   "metadata": {
    "id": "94f2f25c"
   },
   "source": [
    "### <GPU 확인, 사용할 device 설정>"
   ]
  },
  {
   "cell_type": "code",
   "execution_count": null,
   "id": "f165a699",
   "metadata": {
    "executionInfo": {
     "elapsed": 256,
     "status": "ok",
     "timestamp": 1676511143800,
     "user": {
      "displayName": "",
      "userId": ""
     },
     "user_tz": -540
    },
    "id": "f165a699"
   },
   "outputs": [],
   "source": [
    "device = torch.device('cuda') if torch.cuda.is_available() else torch.device('cpu')"
   ]
  },
  {
   "cell_type": "markdown",
   "id": "a56ac4d4",
   "metadata": {
    "id": "a56ac4d4"
   },
   "source": [
    "### <Seed/Random state 고정, 재현성을 위해>"
   ]
  },
  {
   "cell_type": "code",
   "execution_count": null,
   "id": "2244302e",
   "metadata": {
    "executionInfo": {
     "elapsed": 4,
     "status": "ok",
     "timestamp": 1676511144846,
     "user": {
      "displayName": "",
      "userId": ""
     },
     "user_tz": -540
    },
    "id": "2244302e"
   },
   "outputs": [],
   "source": [
    "torch.manual_seed(0)\n",
    "torch.cuda.manual_seed(0)\n",
    "torch.backends.cudnn.deterministic = True\n",
    "torch.backends.cudnn.benchmark = False\n",
    "np.random.seed(0)"
   ]
  },
  {
   "cell_type": "markdown",
   "id": "cadca07a",
   "metadata": {
    "id": "cadca07a"
   },
   "source": [
    "## 1. 데이터 불러오기: Human Activity Recognition Data\n",
    "https://archive.ics.uci.edu/ml/datasets/human+activity+recognition+using+smartphones#\n",
    "- Human Activity Recognition (HAR) Data는 30명의 실험자들에 대해서 각자 스마트폰을 허리에 착용하고 6가지 활동 (Walking, Walking Upstairs, Walking Downstairs, Sitting, Standing, Laying)을 수행할 때 측정된 센서 데이터로 구성된 데이터셋\n",
    "- 총 9종류의 센서로 이루어진 데이터이며, 각 센서는 50Hz 단위로 측정이 이루어짐.\n",
    "- 2.56초에 해당하는 window_size를 적용하여 다변량 센서 데이터를 입력 변수(X)로, 활동을 출력 변수(Y)로 분류하는 것이 목표"
   ]
  },
  {
   "cell_type": "markdown",
   "id": "17351c8f",
   "metadata": {
    "id": "17351c8f"
   },
   "source": [
    "<img src=\"https://github.com/bogus215/LG-EDUCATION2/blob/main/image/image4.png?raw=1\" width=\"600\">"
   ]
  },
  {
   "cell_type": "markdown",
   "id": "78fd556a",
   "metadata": {
    "id": "78fd556a"
   },
   "source": [
    "<img src=\"https://github.com/bogus215/LG-EDUCATION2/blob/main/image/image5.png?raw=1\" width=\"600\">"
   ]
  },
  {
   "cell_type": "markdown",
   "id": "ba1ae814",
   "metadata": {
    "id": "ba1ae814"
   },
   "source": [
    "### - 데이터 전처리"
   ]
  },
  {
   "cell_type": "code",
   "execution_count": null,
   "id": "121fd9bf",
   "metadata": {
    "executionInfo": {
     "elapsed": 241,
     "status": "ok",
     "timestamp": 1676511149820,
     "user": {
      "displayName": "",
      "userId": ""
     },
     "user_tz": -540
    },
    "id": "121fd9bf"
   },
   "outputs": [],
   "source": [
    "# txt 파일로 존재하는 데이터 line 별로 읽어오기\n",
    "# (num_data,sequence_length)의 data 생성\n",
    "\n",
    "def create_data(path, filename):\n",
    "    with open(os.path.join(path, filename)) as f:\n",
    "        data = []\n",
    "        for line in f:\n",
    "            num = [float(l) for l in line.split()]\n",
    "            data.append(num)\n",
    "    data = np.array(data).reshape(-1,128)\n",
    "\n",
    "    return data"
   ]
  },
  {
   "cell_type": "code",
   "execution_count": null,
   "id": "a825b9f1",
   "metadata": {
    "colab": {
     "base_uri": "https://localhost:8080/",
     "height": 35
    },
    "executionInfo": {
     "elapsed": 299,
     "status": "ok",
     "timestamp": 1676511200782,
     "user": {
      "displayName": "",
      "userId": ""
     },
     "user_tz": -540
    },
    "id": "a825b9f1",
    "outputId": "0d6c485c-6a51-4957-825e-415ab1616f71"
   },
   "outputs": [],
   "source": [
    "train_path = './data/UCI HAR Dataset/train/Inertial Signals'\n",
    "test_path = './data/UCI HAR Dataset/test/Inertial Signals'\n",
    "train_dir_lst = sorted(os.listdir(train_path))\n",
    "test_dir_lst = sorted(os.listdir(test_path))\n",
    "\n",
    "''' github+colab 교육생분들 '''\n",
    "# train_path = './LG-EDUCATION2/data/UCI HAR Dataset/train/Inertial Signals'\n",
    "# test_path = './LG-EDUCATION2/data/UCI HAR Dataset/test/Inertial Signals'"
   ]
  },
  {
   "cell_type": "code",
   "execution_count": null,
   "id": "f27d7301",
   "metadata": {
    "executionInfo": {
     "elapsed": 4825,
     "status": "ok",
     "timestamp": 1676511208152,
     "user": {
      "displayName": "",
      "userId": ""
     },
     "user_tz": -540
    },
    "id": "f27d7301"
   },
   "outputs": [],
   "source": [
    "# Conv1d 의 input 형태 : (batch_size,num_channels,sequence_length)\n",
    "# 각 센서별로 나오는 데이터를 (num_data,num_channels,sequence_length)형태로 변경\n",
    "train_data = []\n",
    "for i in range(len(train_dir_lst)):\n",
    "    data = create_data(train_path, train_dir_lst[i])\n",
    "    train_data.append(data)\n",
    "train_data = np.transpose(np.array(train_data),(1,0,2))\n",
    "\n",
    "test_data = []\n",
    "for i in range(len(test_dir_lst)):\n",
    "    data = create_data(test_path, test_dir_lst[i])\n",
    "    test_data.append(data)\n",
    "test_data = np.transpose(np.array(test_data),(1,0,2))"
   ]
  },
  {
   "cell_type": "code",
   "execution_count": null,
   "id": "a225a91a",
   "metadata": {
    "colab": {
     "base_uri": "https://localhost:8080/",
     "height": 35
    },
    "executionInfo": {
     "elapsed": 9,
     "status": "ok",
     "timestamp": 1676511208153,
     "user": {
      "displayName": "",
      "userId": ""
     },
     "user_tz": -540
    },
    "id": "a225a91a",
    "outputId": "c1b56c28-696a-4566-c297-2849f51bb997"
   },
   "outputs": [],
   "source": [
    "# 1~6 으로 class label이 형성되어 있으므로 0~5까지 맞춰주기 위해서 -1 \n",
    "# 0(Walking) / 1(Walking Upstairs) / 2(Walking Downstairs) / 3(Sitting) / 4(Standing) / 5(Laying)\n",
    "train_label = pd.read_csv('./data/UCI HAR Dataset/train/y_train.txt',header=None,sep=' ')\n",
    "train_label = np.array(train_label[0])-1\n",
    "\n",
    "test_label = pd.read_csv('./data/UCI HAR Dataset/test/y_test.txt',header=None,sep=' ')\n",
    "test_label = np.array(test_label[0])-1\n",
    "\n",
    "''' github+colab 교육생분들 '''\n",
    "# train_label = pd.read_csv('./LG-EDUCATION2/data/UCI HAR Dataset/train/y_train.txt',header=None,sep=' ')\n",
    "# test_label = pd.read_csv('./LG-EDUCATION2/data/UCI HAR Dataset/test/y_test.txt',header=None,sep=' ')"
   ]
  },
  {
   "cell_type": "code",
   "execution_count": null,
   "id": "e4c9d9b1",
   "metadata": {
    "executionInfo": {
     "elapsed": 8,
     "status": "ok",
     "timestamp": 1676511208154,
     "user": {
      "displayName": "",
      "userId": ""
     },
     "user_tz": -540
    },
    "id": "e4c9d9b1"
   },
   "outputs": [],
   "source": [
    "# train 데이터를 활용하여 val 데이터 생성 ( train : val = 8 : 2)\n",
    "len_train = int(len(train_data) * 0.8)\n",
    "\n",
    "new_train_data = train_data[:len_train,:,:]\n",
    "new_train_label = train_label[:len_train]\n",
    "\n",
    "val_data = train_data[len_train:,:,:]\n",
    "val_label = train_label[len_train:]"
   ]
  },
  {
   "cell_type": "markdown",
   "id": "1fe86b28",
   "metadata": {
    "id": "1fe86b28"
   },
   "source": [
    "### Dataset and DataLoader\n",
    "- Tensor : 데이터를 담고있는 다차원 행렬\n",
    "- Dataset : 데이터를 불러오고 전처리 하는 과정\n",
    "- Data Loader : Dataset을 입력받아 배치 사이즈에 맞추어 출력"
   ]
  },
  {
   "cell_type": "code",
   "execution_count": null,
   "id": "a138ecf1",
   "metadata": {
    "executionInfo": {
     "elapsed": 9,
     "status": "ok",
     "timestamp": 1676511208155,
     "user": {
      "displayName": "",
      "userId": ""
     },
     "user_tz": -540
    },
    "id": "a138ecf1"
   },
   "outputs": [],
   "source": [
    "train_dataset = torch.utils.data.TensorDataset(torch.Tensor(new_train_data),torch.Tensor(new_train_label))\n",
    "val_dataset = torch.utils.data.TensorDataset(torch.Tensor(val_data),torch.Tensor(val_label))\n",
    "test_dataset = torch.utils.data.TensorDataset(torch.Tensor(test_data),torch.Tensor(test_label))"
   ]
  },
  {
   "cell_type": "code",
   "execution_count": null,
   "id": "ad795b16",
   "metadata": {
    "executionInfo": {
     "elapsed": 8,
     "status": "ok",
     "timestamp": 1676511208155,
     "user": {
      "displayName": "",
      "userId": ""
     },
     "user_tz": -540
    },
    "id": "ad795b16"
   },
   "outputs": [],
   "source": [
    "# train/val/test를 위한 dataloader 생성\n",
    "# input data shape : (batch_size,num_channels,sequence_length)\n",
    "train_loader = torch.utils.data.DataLoader(train_dataset, batch_size=100, shuffle=True)\n",
    "val_loader = torch.utils.data.DataLoader(val_dataset, batch_size=100, shuffle = True)\n",
    "test_loader = torch.utils.data.DataLoader(test_dataset, batch_size = 100)"
   ]
  },
  {
   "cell_type": "markdown",
   "id": "70530b45",
   "metadata": {
    "id": "70530b45"
   },
   "source": [
    "## 2. Model: 1D CNN"
   ]
  },
  {
   "cell_type": "markdown",
   "id": "009adfff",
   "metadata": {
    "id": "009adfff"
   },
   "source": [
    "### __Conv1d__ : (in_channels,out_channels,kernel_size)\n",
    "- in_channels : input으로 들어오는 데이터의 채널 개수(다변량 시계열 데이터에서는 센서의 개수)\n",
    "- out_channels : Convolution 연산 이후 만들어지는 채널의 개수\n",
    "- kernel_size : Filter의 크기를 의미하며 하나의 Filter에서 고려할 시점의 개수"
   ]
  },
  {
   "cell_type": "markdown",
   "id": "4d52fab6",
   "metadata": {
    "id": "4d52fab6"
   },
   "source": [
    "### Model\n",
    "- torch.nn.Module 상속받기\n",
    "- \\_\\_init\\_\\_: 모델에서 사용할 layer 정의\n",
    "- forward: 데이터를 입력받아 모델 진행 순서 결정"
   ]
  },
  {
   "cell_type": "markdown",
   "id": "8d292760",
   "metadata": {
    "id": "8d292760"
   },
   "source": [
    "<img src=\"https://github.com/bogus215/LG-EDUCATION2/blob/main/image/image8.png?raw=1\" width=\"800\">"
   ]
  },
  {
   "cell_type": "code",
   "execution_count": null,
   "id": "9e3c9a09",
   "metadata": {
    "executionInfo": {
     "elapsed": 9,
     "status": "ok",
     "timestamp": 1676511208156,
     "user": {
      "displayName": "",
      "userId": ""
     },
     "user_tz": -540
    },
    "id": "9e3c9a09"
   },
   "outputs": [],
   "source": [
    "class CNN_1d(nn.Module):\n",
    "    def __init__(self,num_classes=6):\n",
    "        super().__init__()\n",
    "        \n",
    "        '''모델에 필요한 layer 정의'''\n",
    "        \n",
    "        self.conv1 = nn.Sequential(\n",
    "            nn.Conv1d(9,196,kernel_size=6),\n",
    "            nn.ReLU(),\n",
    "            nn.MaxPool1d(kernel_size = 2)\n",
    "        )\n",
    "        \n",
    "        self.conv2 = nn.Sequential(\n",
    "            nn.Conv1d(196,64,kernel_size =6),\n",
    "            nn.ReLU(),\n",
    "            nn.MaxPool1d(kernel_size=2)\n",
    "        )\n",
    "        \n",
    "        self.classifier = nn.Linear(64*28,num_classes)\n",
    "        \n",
    "    def forward(self,x):\n",
    "        \n",
    "        ''' x를 입력받아 진행할 순서 설정 '''\n",
    "        \n",
    "        out = self.conv1(x) \n",
    "        out = self.conv2(out) \n",
    "        out = out.view(out.size(0),-1)\n",
    "        out = self.classifier(out)\n",
    "        \n",
    "        return out"
   ]
  },
  {
   "cell_type": "code",
   "execution_count": null,
   "id": "b0f278b1",
   "metadata": {
    "colab": {
     "base_uri": "https://localhost:8080/"
    },
    "executionInfo": {
     "elapsed": 8,
     "status": "ok",
     "timestamp": 1676511208573,
     "user": {
      "displayName": "",
      "userId": ""
     },
     "user_tz": -540
    },
    "id": "b0f278b1",
    "outputId": "e9ab7359-645d-41d5-9def-7d5faaa3421f"
   },
   "outputs": [],
   "source": [
    "model = CNN_1d()\n",
    "model"
   ]
  },
  {
   "cell_type": "markdown",
   "id": "a3a0fdc3",
   "metadata": {
    "id": "a3a0fdc3"
   },
   "source": [
    "## 3. 모델 학습"
   ]
  },
  {
   "cell_type": "markdown",
   "id": "5a553270",
   "metadata": {
    "id": "5a553270"
   },
   "source": [
    "### 비용함수"
   ]
  },
  {
   "cell_type": "code",
   "execution_count": null,
   "id": "cd25e450",
   "metadata": {
    "executionInfo": {
     "elapsed": 385,
     "status": "ok",
     "timestamp": 1676511210521,
     "user": {
      "displayName": "",
      "userId": ""
     },
     "user_tz": -540
    },
    "id": "cd25e450"
   },
   "outputs": [],
   "source": [
    "# 비용함수 정의 (분류문제 -> crossentropy 사용)\n",
    "criterion = nn.CrossEntropyLoss()"
   ]
  },
  {
   "cell_type": "markdown",
   "id": "bbea3d22",
   "metadata": {
    "id": "bbea3d22"
   },
   "source": [
    "### - Optimizer\n",
    "- __params__ : update를 진행할 모델의 파라미터\n",
    "- __lr__ : learning rate"
   ]
  },
  {
   "cell_type": "code",
   "execution_count": null,
   "id": "e6606832",
   "metadata": {
    "executionInfo": {
     "elapsed": 4,
     "status": "ok",
     "timestamp": 1676511210996,
     "user": {
      "displayName": "",
      "userId": ""
     },
     "user_tz": -540
    },
    "id": "e6606832"
   },
   "outputs": [],
   "source": [
    "# optimizer로 Adam 활용\n",
    "optimizer = torch.optim.Adam(model.parameters(), lr=1e-4)"
   ]
  },
  {
   "cell_type": "code",
   "execution_count": null,
   "id": "877c113c",
   "metadata": {
    "colab": {
     "base_uri": "https://localhost:8080/"
    },
    "executionInfo": {
     "elapsed": 13127,
     "status": "ok",
     "timestamp": 1676511224879,
     "user": {
      "displayName": "",
      "userId": ""
     },
     "user_tz": -540
    },
    "id": "877c113c",
    "outputId": "9da7a3c3-5374-40ca-e193-6a315b067f1d"
   },
   "outputs": [],
   "source": [
    "# 모델을 'gpu' or 'cpu'로 이동\n",
    "model.to(device)\n",
    "\n",
    "num_epochs = 20\n",
    "\n",
    "print(\"Start Training !\")\n",
    "print('-'*50)\n",
    "print()\n",
    "\n",
    "train_loss_total = []\n",
    "val_loss_total = []\n",
    "best_loss = np.inf\n",
    "\n",
    "for epoch in range(num_epochs):\n",
    "    print('Epoch {}/{}'.format(epoch+1, num_epochs))\n",
    "    print('-' * 10)\n",
    "    \n",
    "    train_loss = 0\n",
    "    val_loss = 0\n",
    "    train_corrects = 0\n",
    "    val_corrects = 0\n",
    "    \n",
    "    \n",
    "    '''Train'''\n",
    "    # 모델을 학습모드로 전환\n",
    "    model.train()\n",
    "    \n",
    "    for inputs,labels in train_loader:\n",
    "        # 데이터를 'gpu' or 'cpu' 로 이동\n",
    "        inputs = inputs.to(device)\n",
    "        labels = labels.to(device).long()\n",
    "        \n",
    "        \n",
    "        # 모델의 모든 기울기 값을 0으로 설정\n",
    "        optimizer.zero_grad()\n",
    "        \n",
    "        # 데이터를 모델에 입력하여 출력값 계산\n",
    "        outputs = model(inputs)\n",
    "        \n",
    "        #outputs값 중에서 큰 class값을 가져옴\n",
    "        _,preds = torch.max(outputs,1)\n",
    "        \n",
    "        # 비용함수를 활용하여 오차 계산\n",
    "        loss = criterion(outputs,labels)\n",
    "        \n",
    "        # 계산된 오차를 기반으로 기울기 계산\n",
    "        loss.backward()\n",
    "        \n",
    "        # 계산된 기울기를 바탕으로 모델의 파라미터 업데이트\n",
    "        optimizer.step()\n",
    "        \n",
    "        train_loss += loss.item()\n",
    "        train_corrects += torch.sum(preds == labels.data)\n",
    "    \n",
    "    '''Validation'''\n",
    "    # 모델을 평가모드로 전환\n",
    "    model.eval()\n",
    "    # 모델을 평가할때는 기울기 계산 불필요\n",
    "    with torch.no_grad():\n",
    "        for inputs,labels in val_loader:\n",
    "            inputs = inputs.to(device)\n",
    "            labels = labels.to(device).long()\n",
    "            \n",
    "            outputs = model(inputs)\n",
    "            _,preds = torch.max(outputs,1)\n",
    "            \n",
    "            loss = criterion(outputs, labels)\n",
    "            \n",
    "            val_loss += loss.item()\n",
    "            val_corrects += torch.sum(preds == labels.data)\n",
    "    \n",
    "    # epoch의 loss 계산\n",
    "    train_loss_epoch = train_loss/len(train_loader)\n",
    "    val_loss_epoch = val_loss/len(val_loader)\n",
    "    \n",
    "    #epoch의 accuracy 계산\n",
    "    train_acc_epoch = train_corrects / len(train_dataset)\n",
    "    val_acc_epoch = val_corrects / len(val_dataset)\n",
    "\n",
    "    print(f'{epoch+1} epoch | Train loss: {train_loss_epoch:.3f}, Valid loss: {val_loss_epoch:.3f}')\n",
    "    print(f'{epoch+1} epoch | Train acc: {train_acc_epoch:.3f}, Valid acc: {val_acc_epoch:.3f}')\n",
    "    print()\n",
    "\n",
    "    # validation loss 기준으로 best epoch 계산 (Early stopping)\n",
    "    if val_loss_epoch < best_loss:\n",
    "        # best loss 업데이트\n",
    "        best_loss = val_loss_epoch\n",
    "        # 최적의 epoch 수와 모델 저장하기\n",
    "        best_epoch = epoch\n",
    "        torch.save(model.state_dict(), './best_model_HAR.pt')\n",
    "    \n",
    "    train_loss_total.append(train_loss_epoch)\n",
    "    val_loss_total.append(val_loss_epoch)\n",
    "\n",
    "print()\n",
    "print('-'*50)\n",
    "print(f'Finished Training ! Best Epoch is epoch {best_epoch+1}')"
   ]
  },
  {
   "cell_type": "markdown",
   "id": "2588f74b",
   "metadata": {
    "id": "2588f74b"
   },
   "source": [
    "## 4. 모델 성능 평가"
   ]
  },
  {
   "cell_type": "markdown",
   "id": "a18ce624",
   "metadata": {
    "id": "a18ce624"
   },
   "source": [
    "<img src='https://github.com/bogus215/LG-EDUCATION2/blob/main/image/image6.png?raw=1' width='500'></img>\n",
    "<img src='https://github.com/bogus215/LG-EDUCATION2/blob/main/image/image7.png?raw=1' width='500'></img>"
   ]
  },
  {
   "cell_type": "markdown",
   "id": "6ee112af",
   "metadata": {
    "id": "6ee112af"
   },
   "source": [
    "### 학습 상태 확인 (learning curve)"
   ]
  },
  {
   "cell_type": "code",
   "execution_count": null,
   "id": "1b06eff2",
   "metadata": {
    "colab": {
     "base_uri": "https://localhost:8080/",
     "height": 611
    },
    "executionInfo": {
     "elapsed": 653,
     "status": "ok",
     "timestamp": 1676511310754,
     "user": {
      "displayName": "",
      "userId": ""
     },
     "user_tz": -540
    },
    "id": "1b06eff2",
    "outputId": "45101086-94e5-46ad-81c2-17cb0902e502"
   },
   "outputs": [],
   "source": [
    "plt.figure(figsize=(20,10))\n",
    "\n",
    "# 학습 및 검증 로스 변동 관찰하기\n",
    "plt.plot(train_loss_total,label='Train Loss')\n",
    "plt.plot(val_loss_total, label='Validation Loss')\n",
    "# 최적의 모델이 저장된 곳 표시\n",
    "plt.axvline(x = best_epoch, color='red', label='Best Epoch')\n",
    "plt.legend(fontsize=20)\n",
    "plt.title(\"Learning Curve of trained model\", fontsize=18)\n",
    "plt.show()"
   ]
  },
  {
   "cell_type": "code",
   "execution_count": null,
   "id": "3c6726eb",
   "metadata": {
    "colab": {
     "base_uri": "https://localhost:8080/"
    },
    "executionInfo": {
     "elapsed": 4,
     "status": "ok",
     "timestamp": 1676511311964,
     "user": {
      "displayName": "",
      "userId": ""
     },
     "user_tz": -540
    },
    "id": "3c6726eb",
    "outputId": "69565ab7-4edc-478e-dd68-d2b4a1f49350"
   },
   "outputs": [],
   "source": [
    "# 모델 선언\n",
    "model = CNN_1d()\n",
    "# 최적의 모델 불러오기\n",
    "ckpt = torch.load('./best_model_HAR.pt')\n",
    "# 모델 파라미터 불러오기\n",
    "model.load_state_dict(ckpt)"
   ]
  },
  {
   "cell_type": "code",
   "execution_count": null,
   "id": "4b0abc3b",
   "metadata": {
    "executionInfo": {
     "elapsed": 950,
     "status": "ok",
     "timestamp": 1676511313163,
     "user": {
      "displayName": "",
      "userId": ""
     },
     "user_tz": -540
    },
    "id": "4b0abc3b"
   },
   "outputs": [],
   "source": [
    "# model을 evaluation 모드로 변경\n",
    "pred_list = []\n",
    "true_list = []\n",
    "\n",
    "model.eval()\n",
    "\n",
    "with torch.no_grad():\n",
    "    for inputs,labels in test_loader:\n",
    "        # 모델의 출력값 계산\n",
    "        y_logit = model(inputs)\n",
    "        # 출력값을 최대로하는 인덱스(class) 저장\n",
    "        y_pred = torch.argmax(y_logit, dim=1)\n",
    "\n",
    "        # 예측값과 실제값 저장\n",
    "        pred_list.extend(y_pred.detach().numpy())\n",
    "        true_list.extend(labels.detach().numpy())"
   ]
  },
  {
   "cell_type": "code",
   "execution_count": null,
   "id": "7ea8db64",
   "metadata": {
    "colab": {
     "base_uri": "https://localhost:8080/",
     "height": 579
    },
    "executionInfo": {
     "elapsed": 487,
     "status": "ok",
     "timestamp": 1676511313646,
     "user": {
      "displayName": "",
      "userId": ""
     },
     "user_tz": -540
    },
    "id": "7ea8db64",
    "outputId": "61f4a93a-6f22-41f2-f36a-b43b0c9afcc2"
   },
   "outputs": [],
   "source": [
    "# confusion matrix 계산\n",
    "cm_train = confusion_matrix(y_true=true_list, y_pred=pred_list)\n",
    "\n",
    "# confusion matrix 시각화\n",
    "plt.figure(figsize=(10, 8))\n",
    "sns.heatmap(data=cm_train, annot=True, fmt='d', annot_kws={'size': 15}, cmap='Blues')\n",
    "plt.xlabel('Predicted', size=20)\n",
    "plt.ylabel('True', size=20)\n",
    "plt.show()\n",
    "\n",
    "# 평가지표 계산\n",
    "test_acc = accuracy_score(true_list, pred_list)\n",
    "test_rec = recall_score(true_list, pred_list, average='macro')\n",
    "test_prec = precision_score(true_list, pred_list, average='macro')\n",
    "test_f1 = f1_score(true_list, pred_list, average='macro')\n",
    "\n",
    "print('Test Accuracy   : {:.3f}'.format(test_acc))\n",
    "print('Test Sensitivity: {:.3f}'.format(test_rec))\n",
    "print('Test Precision  : {:.3f}'.format(test_prec))\n",
    "print('Test F1 Score   : {:.3f}'.format(test_f1))"
   ]
  },
  {
   "cell_type": "markdown",
   "id": "daf05814",
   "metadata": {
    "id": "daf05814"
   },
   "source": [
    "### EOD"
   ]
  }
 ],
 "metadata": {
  "accelerator": "GPU",
  "colab": {
   "provenance": [
    {
     "file_id": "https://github.com/bogus215/LG-EDUCATION2/blob/main/05-Convolutional-Neural-Networks-Tutorial2.ipynb",
     "timestamp": 1676511330390
    }
   ]
  },
  "gpuClass": "standard",
  "kernelspec": {
   "display_name": "Python 3 (ipykernel)",
   "language": "python",
   "name": "python3"
  },
  "language_info": {
   "codemirror_mode": {
    "name": "ipython",
    "version": 3
   },
   "file_extension": ".py",
   "mimetype": "text/x-python",
   "name": "python",
   "nbconvert_exporter": "python",
   "pygments_lexer": "ipython3",
   "version": "3.9.16"
  }
 },
 "nbformat": 4,
 "nbformat_minor": 5
}
