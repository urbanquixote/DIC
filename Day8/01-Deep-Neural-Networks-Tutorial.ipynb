{
 "cells": [
  {
   "cell_type": "markdown",
   "id": "52a52089",
   "metadata": {
    "id": "52a52089"
   },
   "source": [
    "# Deep Neural Networks: Tutorial\n",
    "- 실습조교: 배진수(wlstn215@korea.ac.kr), 김정인(jungin_kim23@korea.ac.kr), 정진용(jy_jeong@korea.ac.kr)"
   ]
  },
  {
   "cell_type": "markdown",
   "id": "ab198537",
   "metadata": {
    "id": "ab198537"
   },
   "source": [
    "## 딥러닝 프레임워크\n",
    "\n",
    "- pytorch <br>\n",
    "<br>\n",
    "<img src=\"https://tutorials.pytorch.kr/_static/img/thumbnails/cropped/profiler.png\" width=\"300\"></img><br>\n",
    "<br><br>\n",
    "- tensorflow<br>\n",
    "<br>\n",
    "<img src=\"https://www.tensorflow.org/images/tf_logo_social.png?hl=ko\" width=\"300\"></img><br>"
   ]
  },
  {
   "cell_type": "markdown",
   "id": "743b2d3a",
   "metadata": {
    "id": "743b2d3a"
   },
   "source": [
    "## Colab gpu 연결\n",
    "\n",
    "#### 런타임 -> 런타임유형 변경 -> 하드웨어 가속기 -> GPU"
   ]
  },
  {
   "cell_type": "code",
   "execution_count": null,
   "id": "1ee74a33",
   "metadata": {
    "colab": {
     "base_uri": "https://localhost:8080/"
    },
    "executionInfo": {
     "elapsed": 4454,
     "status": "ok",
     "timestamp": 1676507337963,
     "user": {
      "displayName": "",
      "userId": ""
     },
     "user_tz": -540
    },
    "id": "1ee74a33",
    "outputId": "18cb834d-247f-4bf5-a8cc-8c009be8d56c"
   },
   "outputs": [],
   "source": [
    "import torch\n",
    "torch.cuda.is_available()"
   ]
  },
  {
   "cell_type": "markdown",
   "id": "92bed642",
   "metadata": {
    "id": "92bed642"
   },
   "source": [
    "## 0. 모듈 불러오기"
   ]
  },
  {
   "cell_type": "code",
   "execution_count": null,
   "id": "4f687429",
   "metadata": {
    "colab": {
     "base_uri": "https://localhost:8080/"
    },
    "executionInfo": {
     "elapsed": 8003,
     "status": "ok",
     "timestamp": 1676507446677,
     "user": {
      "displayName": "",
      "userId": ""
     },
     "user_tz": -540
    },
    "id": "4f687429",
    "outputId": "6e48734c-3230-4d2e-8d00-57d672c5411e"
   },
   "outputs": [],
   "source": [
    "''' 기본 모듈 및 시각화 모듈 '''\n",
    "import numpy as np\n",
    "import pandas as pd\n",
    "import seaborn as sns\n",
    "import matplotlib.pyplot as plt\n",
    "\n",
    "''' 데이터 전처리 모듈 '''\n",
    "from sklearn.preprocessing import StandardScaler\n",
    "from sklearn.model_selection import train_test_split\n",
    "\n",
    "'''Neural Network을 위한 딥러닝 모듈'''\n",
    "import torch\n",
    "from torch.utils.data import Dataset\n",
    "from torch.utils.data import DataLoader\n",
    "\n",
    "''' 결과 평가용 모듈 '''\n",
    "from sklearn.metrics import confusion_matrix, accuracy_score, f1_score, precision_score, recall_score\n",
    "\n",
    "''' github+colab 교육생분들 '''\n",
    "# !git clone https://github.com/bogus215/LG-EDUCATION2.git"
   ]
  },
  {
   "cell_type": "markdown",
   "id": "83d9372a",
   "metadata": {
    "id": "83d9372a"
   },
   "source": [
    "## 1. 분석데이터 : MNIST Handwritten Digits\n",
    "\n",
    "<img src=\"https://storage.googleapis.com/tfds-data/visualization/fig/mnist-3.0.1.png\" width=\"500\"></img> <br>\n",
    "<a href='https://www.tensorflow.org/datasets/catalog/mnist'> https://www.tensorflow.org/datasets/catalog/mnist </a>"
   ]
  },
  {
   "cell_type": "markdown",
   "id": "73ef0282",
   "metadata": {
    "id": "73ef0282"
   },
   "source": [
    "- 이미지 데이터는 픽셀로 이루어져 있으며, 각 픽셀의 밝기(intensity, 0~255)를 통해 이미지를 나타낼 수 있다.\n",
    "- MNIST 데이터는 이런 픽셀 값들을 설명변수(X)로 하여 어떤 숫자(Y)에 해당하는 이미지인지 분류하는 문제\n",
    "- MNIST 데이터의 이미지는 가로 28 픽셀, 세로 28 픽셀로 이루어져 있으므로 28 x 28 = 784개의 설명변수로 10개의 클래스를 예측하는 다범주 분류문제"
   ]
  },
  {
   "cell_type": "markdown",
   "id": "f8b2d7bf",
   "metadata": {
    "id": "f8b2d7bf"
   },
   "source": [
    "### 데이터 불러오기"
   ]
  },
  {
   "cell_type": "code",
   "execution_count": null,
   "id": "e7f03ede",
   "metadata": {
    "executionInfo": {
     "elapsed": 367,
     "status": "ok",
     "timestamp": 1676507540478,
     "user": {
      "displayName": "",
      "userId": ""
     },
     "user_tz": -540
    },
    "id": "e7f03ede"
   },
   "outputs": [],
   "source": [
    "data = pd.read_csv('./data/MNIST_Example.csv')\n",
    "\n",
    "''' github+colab 교육생분들 '''\n",
    "# data = pd.read_csv('./LG-EDUCATION2/data/MNIST_Example.csv')"
   ]
  },
  {
   "cell_type": "markdown",
   "id": "dd05a824",
   "metadata": {
    "id": "dd05a824"
   },
   "source": [
    "## 2. 탐색적 데이터 분석"
   ]
  },
  {
   "cell_type": "markdown",
   "id": "57c4aa0e",
   "metadata": {
    "id": "57c4aa0e"
   },
   "source": [
    "### 데이터 확인"
   ]
  },
  {
   "cell_type": "code",
   "execution_count": null,
   "id": "1f5a1672",
   "metadata": {
    "colab": {
     "base_uri": "https://localhost:8080/",
     "height": 253
    },
    "executionInfo": {
     "elapsed": 554,
     "status": "ok",
     "timestamp": 1676507561348,
     "user": {
      "displayName": "",
      "userId": ""
     },
     "user_tz": -540
    },
    "id": "1f5a1672",
    "outputId": "39fac718-4c87-4528-f30a-2f7e5b7169ca"
   },
   "outputs": [],
   "source": [
    "print('Data shape: {}'.format(data.shape))\n",
    "data.head()"
   ]
  },
  {
   "cell_type": "markdown",
   "id": "7dfca497",
   "metadata": {
    "id": "7dfca497"
   },
   "source": [
    "### 클래스 비율 확인"
   ]
  },
  {
   "cell_type": "code",
   "execution_count": null,
   "id": "da704bd9",
   "metadata": {
    "colab": {
     "base_uri": "https://localhost:8080/"
    },
    "executionInfo": {
     "elapsed": 2,
     "status": "ok",
     "timestamp": 1676507563449,
     "user": {
      "displayName": "",
      "userId": ""
     },
     "user_tz": -540
    },
    "id": "da704bd9",
    "outputId": "c3152081-4ee5-4b1d-991f-0bbf5d4f6aa6"
   },
   "outputs": [],
   "source": [
    "data['Y'].value_counts()"
   ]
  },
  {
   "cell_type": "markdown",
   "id": "78ea93fd",
   "metadata": {
    "id": "78ea93fd"
   },
   "source": [
    "### 예시 이미지 출력"
   ]
  },
  {
   "cell_type": "code",
   "execution_count": null,
   "id": "c60e5d74",
   "metadata": {
    "colab": {
     "base_uri": "https://localhost:8080/",
     "height": 248
    },
    "executionInfo": {
     "elapsed": 14,
     "status": "ok",
     "timestamp": 1676507565339,
     "user": {
      "displayName": "",
      "userId": ""
     },
     "user_tz": -540
    },
    "id": "c60e5d74",
    "outputId": "e2b75ef5-69ce-4405-e4b1-11bae37ccd4b"
   },
   "outputs": [],
   "source": [
    "image = data.iloc[0,:-1].values\n",
    "plt.imshow(image.reshape(28,28), cmap='gray')\n",
    "plt.axis('off')\n",
    "plt.show()"
   ]
  },
  {
   "cell_type": "markdown",
   "id": "a32b21d9",
   "metadata": {
    "id": "a32b21d9"
   },
   "source": [
    "## 3. 모델링: Deep Neural Networks (DNN)"
   ]
  },
  {
   "cell_type": "markdown",
   "id": "87d9461f",
   "metadata": {
    "id": "87d9461f"
   },
   "source": [
    "### Dataset and DataLoader\n",
    "- Tensor : 데이터를 담고있는 다차원 행렬\n",
    "- Dataset : 데이터를 불러오고 전처리 하는 과정\n",
    "- Data Loader : Dataset을 입력받아 배치 사이즈에 맞추어 출력\n",
    "\n",
    "### Dataset\n",
    "- torch.utils.data.Dataset 상속받기\n",
    "- \\_\\_init\\_\\_: 데이터 불러오기, 전처리\n",
    "- \\_\\_len\\_\\_: datset의 데이터 개수를 반환\n",
    "- \\_\\_getitem\\_\\_: 인덱스를 입력받아 데이터 반환"
   ]
  },
  {
   "cell_type": "code",
   "execution_count": null,
   "id": "53cf56f2",
   "metadata": {
    "executionInfo": {
     "elapsed": 3,
     "status": "ok",
     "timestamp": 1676507569010,
     "user": {
      "displayName": "",
      "userId": ""
     },
     "user_tz": -540
    },
    "id": "53cf56f2"
   },
   "outputs": [],
   "source": [
    "class MNISTDataset(Dataset):\n",
    "    def __init__(self, data_path, split):\n",
    "        '''데이터 불러오기, 전처리'''\n",
    "\n",
    "        # 데이터 불러오기\n",
    "        data = pd.read_csv(data_path)\n",
    "        X = data.drop(labels='Y', axis=1).values\n",
    "        y = data['Y'].values\n",
    "\n",
    "        # 데이터 나누기 (학습, 검증, 테스트)\n",
    "        train_X, test_X, train_y, test_y = train_test_split(X, y, stratify=y, test_size=0.2, random_state=0)\n",
    "        train_X, valid_X, train_y, valid_y = train_test_split(train_X, train_y, stratify=train_y, test_size=0.2, random_state=0)\n",
    "\n",
    "        # 데이터 정규화\n",
    "        self.scaler = StandardScaler()\n",
    "        train_X = self.scaler.fit_transform(train_X)\n",
    "        valid_X = self.scaler.transform(valid_X)\n",
    "        test_X = self.scaler.transform(test_X)\n",
    "\n",
    "        # 데이터셋 지정\n",
    "        if split == 'train':\n",
    "            self.data_X = train_X\n",
    "            self.data_y = train_y\n",
    "        elif split == 'valid':\n",
    "            self.data_X = valid_X\n",
    "            self.data_y = valid_y\n",
    "        elif split == 'test':\n",
    "            self.data_X = test_X\n",
    "            self.data_y = test_y\n",
    "\n",
    "        # numpy array -> Tensor 변환\n",
    "        self.data_X = torch.FloatTensor(self.data_X)\n",
    "        self.data_y = torch.LongTensor(self.data_y)\n",
    "\n",
    "    def __len__(self):\n",
    "        '''데이터셋 개수 정의'''\n",
    "        return len(self.data_X)\n",
    "    \n",
    "    def __getitem__(self, idx):\n",
    "        '''인덱스를 입력받아 데이터를 출력'''\n",
    "        X = self.data_X[idx]\n",
    "        y = self.data_y[idx]\n",
    "        return X, y"
   ]
  },
  {
   "cell_type": "markdown",
   "id": "18bef934",
   "metadata": {
    "id": "18bef934"
   },
   "source": [
    "#### DataLoader\n",
    "- __dateaset__: 데이터를 불러올 Dataset\n",
    "- __batch_size__: 배치사이즈\n",
    "- __shuffle__: epoch 마다 데이터 섞기\n",
    "\n",
    "<a href='https://pytorch.org/docs/stable/data.html#torch.utils.data.DataLoader'> DataLoader Documnet </a>"
   ]
  },
  {
   "cell_type": "code",
   "execution_count": null,
   "id": "061dc7c4",
   "metadata": {
    "colab": {
     "base_uri": "https://localhost:8080/",
     "height": 35
    },
    "executionInfo": {
     "elapsed": 538,
     "status": "ok",
     "timestamp": 1676507684987,
     "user": {
      "displayName": "",
      "userId": ""
     },
     "user_tz": -540
    },
    "id": "061dc7c4",
    "outputId": "eb04241c-50fd-4f77-91b5-afa33d0ed581"
   },
   "outputs": [],
   "source": [
    "# 학습 데이터\n",
    "train_dataset = MNISTDataset(data_path='./data/MNIST_Example.csv', split='train')\n",
    "train_loader = DataLoader(dataset = train_dataset, batch_size = 64, shuffle = True)\n",
    "# 검증 데이터\n",
    "valid_dataset = MNISTDataset(data_path='./data/MNIST_Example.csv', split='valid')\n",
    "valid_loader = DataLoader(dataset = valid_dataset, batch_size = 64)\n",
    "# 테스트 데이터\n",
    "test_dataset = MNISTDataset(data_path='./data/MNIST_Example.csv', split='test')\n",
    "test_loader = DataLoader(dataset = test_dataset, batch_size = 64)\n",
    "\n",
    "''' github+colab 교육생분들 '''\n",
    "# train_dataset = MNISTDataset(data_path='./LG-EDUCATION2/data/MNIST_Example.csv', split='train')\n",
    "# valid_dataset = MNISTDataset(data_path='./LG-EDUCATION2/data/MNIST_Example.csv', split='valid')\n",
    "# test_dataset = MNISTDataset(data_path='./LG-EDUCATION2/data/MNIST_Example.csv', split='test')"
   ]
  },
  {
   "cell_type": "markdown",
   "id": "be98bcc1",
   "metadata": {
    "id": "be98bcc1"
   },
   "source": [
    "### Model\n",
    "- torch.nn.Module 상속받기\n",
    "- \\_\\_init\\_\\_: 모델에서 사용할 layer 정의\n",
    "- forward: 데이터를 입력받아 모델 진행 순서 결정"
   ]
  },
  {
   "cell_type": "code",
   "execution_count": null,
   "id": "b26e7c1c",
   "metadata": {
    "executionInfo": {
     "elapsed": 376,
     "status": "ok",
     "timestamp": 1676507728448,
     "user": {
      "displayName": "",
      "userId": ""
     },
     "user_tz": -540
    },
    "id": "b26e7c1c"
   },
   "outputs": [],
   "source": [
    "class DNN(torch.nn.Module):\n",
    "    def __init__(self, input_dim, hidden_dim, output_dim): \n",
    "        super().__init__()\n",
    "        \n",
    "        ''' 모델에 필요한 layer 정의 ''' \n",
    "               \n",
    "        self.linear1 = torch.nn.Linear(input_dim, hidden_dim[0]) # input_dim(784) -> hidden_dim1(500)\n",
    "        self.linear2 = torch.nn.Linear(hidden_dim[0], hidden_dim[1]) # hidden_dim1(500) -> hidden_dim2(500)\n",
    "        self.linear3 = torch.nn.Linear(hidden_dim[1], hidden_dim[2]) # hidden_dim2(500) -> hidden_dim3(300)\n",
    "        self.linear4 = torch.nn.Linear(hidden_dim[2], output_dim) # hidden_dim3(300) -> output_dim(10)   \n",
    "        self.relu = torch.nn.ReLU() # Relu activation function\n",
    "        \n",
    "    def forward(self, x):\n",
    "        \n",
    "        ''' x를 입력받아 진행할 순서 설정 '''\n",
    "\n",
    "        x = self.relu(self.linear1(x))\n",
    "        x = self.relu(self.linear2(x))\n",
    "        x = self.relu(self.linear3(x))\n",
    "        x = self.linear4(x)\n",
    "\n",
    "        return x"
   ]
  },
  {
   "cell_type": "code",
   "execution_count": null,
   "id": "3a7b8ec2",
   "metadata": {
    "executionInfo": {
     "elapsed": 455,
     "status": "ok",
     "timestamp": 1676507732387,
     "user": {
      "displayName": "",
      "userId": ""
     },
     "user_tz": -540
    },
    "id": "3a7b8ec2"
   },
   "outputs": [],
   "source": [
    "# 입력 차원수 (28*28 = 784)\n",
    "input_dim = train_dataset.data_X[0].shape[0]\n",
    "# 모델 선언\n",
    "model = DNN(input_dim, [500, 300, 100], 10) # 10=class 개수"
   ]
  },
  {
   "cell_type": "markdown",
   "id": "f5f7d7b9",
   "metadata": {
    "id": "f5f7d7b9"
   },
   "source": [
    "### 비용함수"
   ]
  },
  {
   "cell_type": "code",
   "execution_count": null,
   "id": "ee4751ec",
   "metadata": {
    "executionInfo": {
     "elapsed": 2,
     "status": "ok",
     "timestamp": 1676507735600,
     "user": {
      "displayName": "",
      "userId": ""
     },
     "user_tz": -540
    },
    "id": "ee4751ec"
   },
   "outputs": [],
   "source": [
    "# 비용함수 정의 (분류문제 -> crossentropy 사용)\n",
    "criterion = torch.nn.CrossEntropyLoss()"
   ]
  },
  {
   "cell_type": "markdown",
   "id": "2fc54ddc",
   "metadata": {
    "id": "2fc54ddc"
   },
   "source": [
    "### Optimizer\n",
    "- __params__: 모델의 파라미터\n",
    "- __lr__: learning rate"
   ]
  },
  {
   "cell_type": "code",
   "execution_count": null,
   "id": "0713eecc",
   "metadata": {
    "executionInfo": {
     "elapsed": 2,
     "status": "ok",
     "timestamp": 1676507736086,
     "user": {
      "displayName": "",
      "userId": ""
     },
     "user_tz": -540
    },
    "id": "0713eecc"
   },
   "outputs": [],
   "source": [
    "# 경사하강법의 종류 정의 (adam)\n",
    "optim = torch.optim.Adam(model.parameters(), lr = 0.0001)"
   ]
  },
  {
   "cell_type": "markdown",
   "id": "55ea9536",
   "metadata": {
    "id": "55ea9536"
   },
   "source": [
    "### 학습\n",
    "<img src='https://github.com/bogus215/LG-EDUCATION2/blob/main/image/image03.png?raw=1' width='600'></img>"
   ]
  },
  {
   "cell_type": "code",
   "execution_count": null,
   "id": "ad5b3686",
   "metadata": {
    "colab": {
     "base_uri": "https://localhost:8080/"
    },
    "executionInfo": {
     "elapsed": 10490,
     "status": "ok",
     "timestamp": 1676507749796,
     "user": {
      "displayName": "",
      "userId": ""
     },
     "user_tz": -540
    },
    "id": "ad5b3686",
    "outputId": "adf2a909-ea37-432b-98e7-a40483cf9ead",
    "scrolled": true
   },
   "outputs": [],
   "source": [
    "# gpu 사용\n",
    "device = torch.device('cuda') if torch.cuda.is_available() else torch.device('cpu')\n",
    "# gpu에서 모델 동작\n",
    "model.to(device)\n",
    "\n",
    "num_epochs = 100\n",
    "\n",
    "print(\"Start Training !\")\n",
    "print('-'*50)\n",
    "\n",
    "train_loss_total = []\n",
    "valid_loss_total = []\n",
    "best_loss = np.inf\n",
    "\n",
    "for epoch in range(num_epochs):\n",
    "    \n",
    "    train_loss = 0\n",
    "    valid_loss = 0\n",
    "    \n",
    "    ''' Training '''\n",
    "    # 모델을 학습모드로 전환\n",
    "    model.train()\n",
    "    # __getitem__에서 반환해주는 형태로 데이터 반환\n",
    "    for X_data, y_data in train_loader:\n",
    "\n",
    "        # 데이터를 gpu로\n",
    "        X_data = X_data.to(device)\n",
    "        y_data = y_data.to(device)\n",
    "        \n",
    "        # 모델의 모든 기울기 값을 0으로 설정\n",
    "        optim.zero_grad()\n",
    "        \n",
    "        # 데이터를 모델에 입력하여 출력값 계산\n",
    "        y_pred = model(X_data)\n",
    "        \n",
    "        # 비용함수를 활용하여 오차 계산\n",
    "        loss = criterion(y_pred, y_data)\n",
    "        \n",
    "        # 계산된 오차를 기반으로 기울기 계산\n",
    "        loss.backward()\n",
    "        \n",
    "        # 계산된 기울기를 바탕으로 모델의 파라미터 업데이트\n",
    "        optim.step()\n",
    "\n",
    "        train_loss += loss.item()\n",
    "    \n",
    "    ''' Validation '''\n",
    "    # 모델을 평가모드로 전환\n",
    "    model.eval()\n",
    "    # 모델을 평가할때는 기울기 계산 불필요\n",
    "    with torch.no_grad():\n",
    "        for X_data, y_data in valid_loader:\n",
    "            X_data = X_data.to(device)\n",
    "            y_data = y_data.to(device)\n",
    "            y_pred = model(X_data)\n",
    "            loss = criterion(y_pred, y_data)\n",
    "            valid_loss += loss.item()\n",
    "    \n",
    "    # epoch의 loss 계산\n",
    "    train_loss_epoch = train_loss/len(train_loader)\n",
    "    valid_loss_epoch = valid_loss/len(valid_loader)\n",
    "\n",
    "    print(f'{epoch+1} epoch | Train loss: {train_loss_epoch:.3f}, Valid loss: {valid_loss_epoch:.3f}')\n",
    "    \n",
    "    # validation loss 기준으로 best epoch 계산 (Early stopping)\n",
    "    if valid_loss_epoch < best_loss:\n",
    "        # best loss 업데이트\n",
    "        best_loss = valid_loss_epoch\n",
    "        # 최적의 epoch 수와 모델 저장하기\n",
    "        best_epoch = epoch\n",
    "        torch.save(model.state_dict(), './best_model_dnn.pt')\n",
    "    \n",
    "    train_loss_total.append(train_loss_epoch)\n",
    "    valid_loss_total.append(valid_loss_epoch)\n",
    "    \n",
    "print('-'*50)\n",
    "print(f'Finished Training ! Best Epoch is epoch {best_epoch+1}')"
   ]
  },
  {
   "cell_type": "markdown",
   "id": "ed8d7bad",
   "metadata": {
    "id": "ed8d7bad"
   },
   "source": [
    "### 학습 상태 확인 (learning curve)"
   ]
  },
  {
   "cell_type": "code",
   "execution_count": null,
   "id": "2a9afdd7",
   "metadata": {
    "colab": {
     "base_uri": "https://localhost:8080/",
     "height": 611
    },
    "executionInfo": {
     "elapsed": 693,
     "status": "ok",
     "timestamp": 1676507756470,
     "user": {
      "displayName": "",
      "userId": ""
     },
     "user_tz": -540
    },
    "id": "2a9afdd7",
    "outputId": "ee3a7e4b-8f34-4a3e-d475-99930094c355"
   },
   "outputs": [],
   "source": [
    "plt.figure(figsize=(20,10))\n",
    "\n",
    "# 학습 및 검증 로스 변동 관찰하기\n",
    "plt.plot(train_loss_total,label='Train Loss')\n",
    "plt.plot(valid_loss_total, label='Validation Loss')\n",
    "# 최적의 모델이 저장된 곳 표시\n",
    "plt.axvline(x = best_epoch, color='red', label='Best Epoch')\n",
    "plt.legend(fontsize=20)\n",
    "plt.title(\"Learning Curve of trained model\", fontsize=18)\n",
    "plt.show()"
   ]
  },
  {
   "cell_type": "markdown",
   "id": "703d2614",
   "metadata": {
    "id": "703d2614"
   },
   "source": [
    "## 4. Deep Neural Networks 모델 성능 평가"
   ]
  },
  {
   "cell_type": "code",
   "execution_count": null,
   "id": "dbd69aa2",
   "metadata": {
    "colab": {
     "base_uri": "https://localhost:8080/"
    },
    "executionInfo": {
     "elapsed": 565,
     "status": "ok",
     "timestamp": 1676507762457,
     "user": {
      "displayName": "",
      "userId": ""
     },
     "user_tz": -540
    },
    "id": "dbd69aa2",
    "outputId": "f48be5ce-6986-44ed-dd25-ddbfd371c72b"
   },
   "outputs": [],
   "source": [
    "# 모델 선언\n",
    "model = DNN(input_dim, [500, 300, 100], 10)\n",
    "# 최적의 모델 불러오기\n",
    "ckpt = torch.load('./best_model_dnn.pt')\n",
    "# 모델 파라미터 불러오기\n",
    "model.load_state_dict(ckpt)"
   ]
  },
  {
   "cell_type": "markdown",
   "id": "2219e48a",
   "metadata": {
    "id": "2219e48a"
   },
   "source": [
    "### 학습된 DNN 결과 확인 및 성능 평가: Training Data\n",
    "<img src='https://github.com/bogus215/LG-EDUCATION2/blob/main/image/image04.png?raw=1' width='500'></img>\n",
    "<img src='https://github.com/bogus215/LG-EDUCATION2/blob/main/image/image05.png?raw=1' width='500'></img>"
   ]
  },
  {
   "cell_type": "code",
   "execution_count": null,
   "id": "078c4895",
   "metadata": {
    "executionInfo": {
     "elapsed": 384,
     "status": "ok",
     "timestamp": 1676507779343,
     "user": {
      "displayName": "",
      "userId": ""
     },
     "user_tz": -540
    },
    "id": "078c4895"
   },
   "outputs": [],
   "source": [
    "# model을 evaluation 모드로 변경\n",
    "pred_list = []\n",
    "true_list = []\n",
    "\n",
    "model.eval()\n",
    "with torch.no_grad():\n",
    "    for X_data, y_data in train_loader:\n",
    "        # 모델의 출력값 계산\n",
    "        y_logit = model(X_data)\n",
    "        # 출력값을 최대로하는 인덱스(class) 저장\n",
    "        y_pred = torch.argmax(y_logit, dim=1)\n",
    "        # 예측값과 실제값 저장\n",
    "        pred_list.extend(y_pred.detach().numpy())\n",
    "        true_list.extend(y_data.detach().numpy())\n"
   ]
  },
  {
   "cell_type": "code",
   "execution_count": null,
   "id": "25b5dfaa",
   "metadata": {
    "colab": {
     "base_uri": "https://localhost:8080/",
     "height": 579
    },
    "executionInfo": {
     "elapsed": 867,
     "status": "ok",
     "timestamp": 1676507780560,
     "user": {
      "displayName": "",
      "userId": ""
     },
     "user_tz": -540
    },
    "id": "25b5dfaa",
    "outputId": "171855b1-5e95-4819-ab4a-81c97a5f2cd1"
   },
   "outputs": [],
   "source": [
    "# confusion matrix 계산\n",
    "cm_train = confusion_matrix(y_true=true_list, y_pred=pred_list)\n",
    "\n",
    "# confusion matrix 시각화\n",
    "plt.figure(figsize=(10, 8))\n",
    "sns.heatmap(data=cm_train, annot=True, fmt='d', annot_kws={'size': 15}, cmap='Blues')\n",
    "plt.xlabel('Predicted', size=20)\n",
    "plt.ylabel('True', size=20)\n",
    "plt.show()\n",
    "\n",
    "# 평가지표 계산\n",
    "train_acc = accuracy_score(true_list, pred_list)\n",
    "train_rec = recall_score(true_list, pred_list, average='macro')\n",
    "train_prec = precision_score(true_list, pred_list, average='macro')\n",
    "train_f1 = f1_score(true_list, pred_list, average='macro')\n",
    "\n",
    "print('Train Accuracy   : {:.3f}'.format(train_acc))\n",
    "print('Train Sensitivity: {:.3f}'.format(train_rec))\n",
    "print('Train Precision  : {:.3f}'.format(train_prec))\n",
    "print('Train F1 Score   : {:.3f}'.format(train_f1))"
   ]
  },
  {
   "cell_type": "markdown",
   "id": "267307b9",
   "metadata": {
    "id": "267307b9"
   },
   "source": [
    "### 학습된 DNN 결과 확인 및 성능 평가: Testing Data"
   ]
  },
  {
   "cell_type": "code",
   "execution_count": null,
   "id": "d63813f9",
   "metadata": {
    "executionInfo": {
     "elapsed": 2,
     "status": "ok",
     "timestamp": 1676507783012,
     "user": {
      "displayName": "",
      "userId": ""
     },
     "user_tz": -540
    },
    "id": "d63813f9"
   },
   "outputs": [],
   "source": [
    "# model을 evaluation 모드로 변경\n",
    "pred_list = []\n",
    "true_list = []\n",
    "\n",
    "model.eval()\n",
    "with torch.no_grad():\n",
    "    for X_data, y_data in test_loader:\n",
    "        # 모델의 출력값 계산\n",
    "        y_logit = model(X_data)\n",
    "        # 출력값을 최대로하는 인덱스(class) 저장\n",
    "        y_pred = torch.argmax(y_logit, dim=1)\n",
    "        # 예측값과 실제값 저장\n",
    "        pred_list.extend(y_pred.detach().numpy())\n",
    "        true_list.extend(y_data.detach().numpy())"
   ]
  },
  {
   "cell_type": "code",
   "execution_count": null,
   "id": "b4faa4fb",
   "metadata": {
    "colab": {
     "base_uri": "https://localhost:8080/",
     "height": 579
    },
    "executionInfo": {
     "elapsed": 1117,
     "status": "ok",
     "timestamp": 1676507784531,
     "user": {
      "displayName": "",
      "userId": ""
     },
     "user_tz": -540
    },
    "id": "b4faa4fb",
    "outputId": "07303c89-cd60-4965-ca2e-e328addf5976"
   },
   "outputs": [],
   "source": [
    "# confusion matrix 계산\n",
    "cm_train = confusion_matrix(y_true=true_list, y_pred=pred_list)\n",
    "\n",
    "# confusion matrix 시각화\n",
    "plt.figure(figsize=(10, 8))\n",
    "sns.heatmap(data=cm_train, annot=True, fmt='d', annot_kws={'size': 15}, cmap='Blues')\n",
    "plt.xlabel('Predicted', size=20)\n",
    "plt.ylabel('True', size=20)\n",
    "plt.show()\n",
    "\n",
    "# 평가지표 계산\n",
    "test_acc = accuracy_score(true_list, pred_list)\n",
    "test_rec = recall_score(true_list, pred_list, average='macro')\n",
    "test_prec = precision_score(true_list, pred_list, average='macro')\n",
    "test_f1 = f1_score(true_list, pred_list, average='macro')\n",
    "\n",
    "print('Test Accuracy   : {:.3f}'.format(test_acc))\n",
    "print('Test Sensitivity: {:.3f}'.format(test_rec))\n",
    "print('Test Precision  : {:.3f}'.format(test_prec))\n",
    "print('Test F1 Score   : {:.3f}'.format(test_f1))"
   ]
  },
  {
   "cell_type": "markdown",
   "id": "8deaa1a9",
   "metadata": {
    "id": "8deaa1a9"
   },
   "source": [
    "## 5. 실제 데이터 이미지로 확인"
   ]
  },
  {
   "cell_type": "code",
   "execution_count": null,
   "id": "f1161903",
   "metadata": {
    "executionInfo": {
     "elapsed": 10,
     "status": "ok",
     "timestamp": 1676507787595,
     "user": {
      "displayName": "",
      "userId": ""
     },
     "user_tz": -540
    },
    "id": "f1161903"
   },
   "outputs": [],
   "source": [
    "# test data에서 일부 이미지 선택\n",
    "test_data = test_dataset.data_X[:9]\n",
    "\n",
    "# 모델의 출력값 계산\n",
    "y_logit = model(test_data)\n",
    "\n",
    "# 출력값을 최대로하는 인덱스(class) 저장\n",
    "y_pred = torch.argmax(y_logit, dim=1)\n",
    "\n",
    "# scaler 불러오기\n",
    "scaler = test_dataset.scaler\n",
    "\n",
    "# 정규화 제거 (-1 ~ 1 -> 0 ~ 255)\n",
    "test_data = scaler.inverse_transform(test_data)"
   ]
  },
  {
   "cell_type": "code",
   "execution_count": null,
   "id": "2e414121",
   "metadata": {
    "colab": {
     "base_uri": "https://localhost:8080/",
     "height": 629
    },
    "executionInfo": {
     "elapsed": 1034,
     "status": "ok",
     "timestamp": 1676507792638,
     "user": {
      "displayName": "",
      "userId": ""
     },
     "user_tz": -540
    },
    "id": "2e414121",
    "outputId": "434ff817-84e7-4e59-ca95-290f555df441"
   },
   "outputs": [],
   "source": [
    "# 예측값 출력\n",
    "print(y_pred.reshape(3,3))\n",
    "\n",
    "# test data 시각화\n",
    "fig ,axes = plt.subplots(3,3,figsize=(10,10))\n",
    "for i, ax in enumerate(axes.ravel()):\n",
    "    ax.imshow(test_data[i].reshape(28,28), cmap='gray')\n",
    "    ax.axis('off')\n",
    "plt.show()"
   ]
  }
 ],
 "metadata": {
  "accelerator": "GPU",
  "colab": {
   "provenance": [
    {
     "file_id": "https://github.com/bogus215/LG-EDUCATION2/blob/main/01-Deep-Neural-Networks-Tutorial.ipynb",
     "timestamp": 1676507805979
    }
   ]
  },
  "gpuClass": "standard",
  "kernelspec": {
   "display_name": "Python 3 (ipykernel)",
   "language": "python",
   "name": "python3"
  },
  "language_info": {
   "codemirror_mode": {
    "name": "ipython",
    "version": 3
   },
   "file_extension": ".py",
   "mimetype": "text/x-python",
   "name": "python",
   "nbconvert_exporter": "python",
   "pygments_lexer": "ipython3",
   "version": "3.9.16"
  },
  "toc": {
   "base_numbering": 1,
   "nav_menu": {},
   "number_sections": false,
   "sideBar": true,
   "skip_h1_title": false,
   "title_cell": "Table of Contents",
   "title_sidebar": "Contents",
   "toc_cell": false,
   "toc_position": {
    "height": "calc(100% - 180px)",
    "left": "10px",
    "top": "150px",
    "width": "305.075px"
   },
   "toc_section_display": true,
   "toc_window_display": true
  }
 },
 "nbformat": 4,
 "nbformat_minor": 5
}
