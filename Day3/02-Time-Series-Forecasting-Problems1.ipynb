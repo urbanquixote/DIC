{
 "cells": [
  {
   "attachments": {},
   "cell_type": "markdown",
   "metadata": {},
   "source": [
    "# 02-Time Series Forecasting: Problem 1 \n",
    "\n",
    "### - 구간평균법 \n",
    "### - 단순지수평활법 \n",
    "### - 이중지수평활법\n",
    "### - 홀트-윈터지수평활법 "
   ]
  },
  {
   "cell_type": "markdown",
   "metadata": {},
   "source": [
    "### 1. 모듈 불러오기"
   ]
  },
  {
   "cell_type": "code",
   "execution_count": 1,
   "metadata": {},
   "outputs": [
    {
     "name": "stderr",
     "output_type": "stream",
     "text": [
      "/tmp/ipykernel_1148640/1249615641.py:19: MatplotlibDeprecationWarning: The seaborn styles shipped by Matplotlib are deprecated since 3.6, as they no longer correspond to the styles shipped by seaborn. However, they will remain available as 'seaborn-v0_8-<style>'. Alternatively, directly use the seaborn API instead.\n",
      "  plt.style.use('seaborn-whitegrid')\n"
     ]
    }
   ],
   "source": [
    "import os\n",
    "import itertools\n",
    "\n",
    "import pandas as pd\n",
    "import numpy as np\n",
    "\n",
    "from sklearn.model_selection import train_test_split\n",
    "from sklearn.metrics import mean_squared_error, mean_absolute_error, r2_score\n",
    "\n",
    "def mean_absolute_percentage_error(y_true, y_pred):\n",
    "    y_true, y_pred = np.array(y_true), np.array(y_pred)\n",
    "    return np.mean(np.abs((y_true-y_pred)/y_true))*100\n",
    "\n",
    "from sklearn.datasets import fetch_openml\n",
    "import statsmodels.api as sm\n",
    "\n",
    "import matplotlib.pyplot as plt\n",
    "import matplotlib\n",
    "plt.style.use('seaborn-whitegrid')\n",
    "import seaborn as sns\n",
    "\n",
    "!git clone https://github.com/hansam95/LG-Elec-Day3.git"
   ]
  },
  {
   "cell_type": "markdown",
   "metadata": {},
   "source": [
    "### 2. 데이터 불러오기"
   ]
  },
  {
   "cell_type": "code",
   "execution_count": 3,
   "metadata": {},
   "outputs": [
    {
     "data": {
      "text/html": [
       "<div>\n",
       "<style scoped>\n",
       "    .dataframe tbody tr th:only-of-type {\n",
       "        vertical-align: middle;\n",
       "    }\n",
       "\n",
       "    .dataframe tbody tr th {\n",
       "        vertical-align: top;\n",
       "    }\n",
       "\n",
       "    .dataframe thead th {\n",
       "        text-align: right;\n",
       "    }\n",
       "</style>\n",
       "<table border=\"1\" class=\"dataframe\">\n",
       "  <thead>\n",
       "    <tr style=\"text-align: right;\">\n",
       "      <th></th>\n",
       "      <th>카테고리: 모든 카테고리</th>\n",
       "    </tr>\n",
       "  </thead>\n",
       "  <tbody>\n",
       "    <tr>\n",
       "      <th>월</th>\n",
       "      <td>데이터분석: (대한민국)</td>\n",
       "    </tr>\n",
       "    <tr>\n",
       "      <th>2012-01</th>\n",
       "      <td>3</td>\n",
       "    </tr>\n",
       "    <tr>\n",
       "      <th>2012-02</th>\n",
       "      <td>15</td>\n",
       "    </tr>\n",
       "    <tr>\n",
       "      <th>2012-03</th>\n",
       "      <td>9</td>\n",
       "    </tr>\n",
       "    <tr>\n",
       "      <th>2012-04</th>\n",
       "      <td>0</td>\n",
       "    </tr>\n",
       "    <tr>\n",
       "      <th>...</th>\n",
       "      <td>...</td>\n",
       "    </tr>\n",
       "    <tr>\n",
       "      <th>2021-09</th>\n",
       "      <td>93</td>\n",
       "    </tr>\n",
       "    <tr>\n",
       "      <th>2021-10</th>\n",
       "      <td>78</td>\n",
       "    </tr>\n",
       "    <tr>\n",
       "      <th>2021-11</th>\n",
       "      <td>69</td>\n",
       "    </tr>\n",
       "    <tr>\n",
       "      <th>2021-12</th>\n",
       "      <td>71</td>\n",
       "    </tr>\n",
       "    <tr>\n",
       "      <th>2022-01</th>\n",
       "      <td>45</td>\n",
       "    </tr>\n",
       "  </tbody>\n",
       "</table>\n",
       "<p>122 rows × 1 columns</p>\n",
       "</div>"
      ],
      "text/plain": [
       "         카테고리: 모든 카테고리\n",
       "월        데이터분석: (대한민국)\n",
       "2012-01              3\n",
       "2012-02             15\n",
       "2012-03              9\n",
       "2012-04              0\n",
       "...                ...\n",
       "2021-09             93\n",
       "2021-10             78\n",
       "2021-11             69\n",
       "2021-12             71\n",
       "2022-01             45\n",
       "\n",
       "[122 rows x 1 columns]"
      ]
     },
     "execution_count": 3,
     "metadata": {},
     "output_type": "execute_result"
    }
   ],
   "source": [
    "# Google trend에서 2012년부터 2022년까지 10년간 '데이터분석 ' 키워드 관심도 변화량\n",
    "# https://trends.google.com/trends/explore?date=2012-01-01%202022-01-01&geo=KR&q=%EB%8D%B0%EC%9D%B4%ED%84%B0%EB%B6%84%EC%84%9D\n",
    "data = pd.read_csv('/content/LG-Elec-Day3/data/googletrend_keyword.csv')\n",
    "data"
   ]
  },
  {
   "cell_type": "markdown",
   "metadata": {},
   "source": [
    "#### 2.1 Data Preprocessing"
   ]
  },
  {
   "cell_type": "code",
   "execution_count": 66,
   "metadata": {},
   "outputs": [],
   "source": [
    "# change column name\n",
    "data = data.rename(columns={'카테고리: 모든 카테고리': 'data_analysis(korea)'})\n",
    "data = data[1:]"
   ]
  },
  {
   "cell_type": "code",
   "execution_count": 68,
   "metadata": {},
   "outputs": [],
   "source": [
    "# change the column type to numeric\n",
    "data = data.astype(np.int64(data['data_analysis(korea)']))"
   ]
  },
  {
   "cell_type": "code",
   "execution_count": null,
   "metadata": {},
   "outputs": [],
   "source": [
    "# change the index type to datetime\n",
    "data.index = pd.to_datetime(data.index)\n",
    "data.index"
   ]
  },
  {
   "cell_type": "code",
   "execution_count": null,
   "metadata": {},
   "outputs": [],
   "source": [
    "'''\n",
    "데이터 시각화를 통해 전체 개요 확인\n",
    "'''\n",
    "data.plot(figsize=(12,4)) # color='green', linestyle='--', linewidth=1\n",
    "\n",
    "plt.xticks(fontsize=11)\n",
    "plt.yticks(fontsize=11)\n",
    "plt.legend('')\n",
    "\n",
    "plt.title(\"'Data analysis' keyword search amount from Google trend \\n\", fontsize=15)\n",
    "plt.xlabel('\\n Year', fontsize=13)\n",
    "plt.ylabel('keyword search amount \\n', fontsize=13)\n",
    "plt.tight_layout()\n",
    "plt.show()"
   ]
  },
  {
   "cell_type": "code",
   "execution_count": null,
   "metadata": {},
   "outputs": [],
   "source": [
    "# Seasonal decomposition plot: Seasonal decomposition using moving averages.\n",
    "# https://www.statsmodels.org/stable/generated/statsmodels.tsa.seasonal.seasonal_decompose.html\n",
    "\n",
    "# Observed: observed data\n",
    "# Trend: The estimated trend component\n",
    "# Seasonal: The estimated seasonal component\n",
    "# resid: The estimated residuals\n",
    "\n",
    "decompostion = sm.tsa.seasonal_decompose(data['data_analysis(korea)'],  model='additive')\n",
    "\n",
    "fig = decompostion.plot()\n",
    "fig.set_size_inches(10,10)\n",
    "plt.show()"
   ]
  },
  {
   "cell_type": "markdown",
   "metadata": {},
   "source": [
    "### Q. 학습 및 평가 데이터셋 분리\n",
    " - 학습 데이터는 2019년 12월까지, 평가 데이터는 2020년 1월부터 구성"
   ]
  },
  {
   "cell_type": "code",
   "execution_count": 75,
   "metadata": {},
   "outputs": [],
   "source": [
    "'''\n",
    "Train Test Split\n",
    "'''\n",
    "train = data[:'''Answer''']\n",
    "test  = data['''Answer''':]"
   ]
  },
  {
   "cell_type": "markdown",
   "metadata": {},
   "source": [
    "### 3. Moving Average (구간평균법)"
   ]
  },
  {
   "cell_type": "code",
   "execution_count": null,
   "metadata": {},
   "outputs": [],
   "source": [
    "'''\n",
    "Version 1\n",
    "'''\n",
    "def Moving_Average(x, N):\n",
    "    x = x.values.flatten()\n",
    "    \n",
    "    pred = np.convolve(x, np.ones(N) / float(N), 'valid')\n",
    "    pred = np.concatenate((np.zeros(N-1), pred), axis=0)\n",
    "    pred[:N-1] = np.nan\n",
    "    return pred\n",
    "\n",
    "MA_train_pred = pd.DataFrame(Moving_Average(train, 5), index=train.index, columns=['MA_5'])\n",
    "MA_test_pred = pd.DataFrame(np.array([MA_train_pred.iloc[-1]]*len(test)), index=test.index, columns=['MA_5'])\n",
    "\n",
    "print('Moving Average Train results')\n",
    "print(MA_train_pred)\n",
    "print('-'*30)\n",
    "print('Moving Average Test results')\n",
    "print(MA_test_pred)"
   ]
  },
  {
   "cell_type": "code",
   "execution_count": null,
   "metadata": {},
   "outputs": [],
   "source": [
    "'''\n",
    "Version 2\n",
    "'''\n",
    "MA_train_pred = train.rolling(5).mean() # Option: min_periods=1\n",
    "MA_train_pred.columns = ['MA_5']\n",
    "\n",
    "MA_test_pred = pd.DataFrame(np.array([MA_train_pred.iloc[-1]]*len(test)), index=test.index, columns=['MA_5'])\n",
    "prediction = pd.concat([MA_train_pred, MA_test_pred], axis=0)\n",
    "\n",
    "print('Moving Average Train Results')\n",
    "print(MA_train_pred)\n",
    "print('-'*30)\n",
    "print('Moving Average Test Results')\n",
    "print(MA_test_pred)"
   ]
  },
  {
   "cell_type": "code",
   "execution_count": null,
   "metadata": {},
   "outputs": [],
   "source": [
    "'''\n",
    "Visualization \n",
    "'''\n",
    "fig, ax = plt.subplots(figsize=(12,4))\n",
    "data.plot(ax=ax)\n",
    "prediction.plot(ax=ax, label = 'Prediction (N=5)') \n",
    "ax.vlines(test.index[0], 0, 100, linestyle='--', color='r')\n",
    "ax.legend(['Raw Dataset', 'Prediction (N=5)', 'Start of Forecast'], loc='upper left')\n",
    "plt.title('Moving Average Results (Train and Test)')\n",
    "plt.tight_layout()\n",
    "plt.show()\n",
    "\n",
    "# Only Test\n",
    "fig, ax = plt.subplots(figsize=(12,4))\n",
    "data.plot(ax=ax)\n",
    "MA_test_pred.plot(ax=ax, label = 'Prediction (N=5)')\n",
    "ax.vlines(test.index[0], 0, 100, linestyle='--', color='r')\n",
    "ax.legend(['Raw Dataset', 'Prediction (N=5)', 'Start of Forecast'], loc='upper left')\n",
    "plt.title('Moving Average Results (Only Test)')\n",
    "plt.tight_layout()\n",
    "plt.show()"
   ]
  },
  {
   "cell_type": "markdown",
   "metadata": {},
   "source": [
    "##### 정량적 지표를 통한 모델 검증"
   ]
  },
  {
   "cell_type": "markdown",
   "metadata": {},
   "source": [
    "###### Mean Squared Error (평균 제곱 오차) <br>\n",
    "$\\frac{1}{n} \\sum_{i=1}^{n} (y_{i} - \\hat{y}_{i})^{2}$   "
   ]
  },
  {
   "cell_type": "code",
   "execution_count": null,
   "metadata": {},
   "outputs": [],
   "source": [
    "print(f'MSE: {np.round(mean_squared_error(test, MA_test_pred), 2)}')"
   ]
  },
  {
   "cell_type": "markdown",
   "metadata": {},
   "source": [
    "### Q. RMSE(제곱근 평균 제곱 오차)\n",
    " - Root Mean Squared Error (제곱근 평균 제곱 오차) <br>\n",
    "$\\sqrt{\\frac{1}{n} \\sum_{i=1}^{n} (y_{i} - \\hat{y}_{i})^{2}}$"
   ]
  },
  {
   "cell_type": "code",
   "execution_count": null,
   "metadata": {},
   "outputs": [],
   "source": [
    "print(f'RMSE: {'''Answer'''}') "
   ]
  },
  {
   "cell_type": "markdown",
   "metadata": {},
   "source": [
    "##### Mean Absolute Error (평균 절대 오차) <br>\n",
    "$\\frac{1}{n} \\sum_{i=1}^{n} |y_{i} - \\hat{y}_{i}|$"
   ]
  },
  {
   "cell_type": "code",
   "execution_count": null,
   "metadata": {},
   "outputs": [],
   "source": [
    "print(f'MAE: {np.round(mean_absolute_error(test, MA_test_pred), 2)}')"
   ]
  },
  {
   "cell_type": "markdown",
   "metadata": {},
   "source": [
    "#####  R squared (결정계수 $({r})^{2}$) <br>\n",
    "$\\frac{SSR}{SST} = 1- \\frac{SSR}{SST}%$"
   ]
  },
  {
   "cell_type": "code",
   "execution_count": null,
   "metadata": {},
   "outputs": [],
   "source": [
    "print(f'R2 score: {np.round(r2_score(test, MA_test_pred), 2)}')"
   ]
  },
  {
   "cell_type": "markdown",
   "metadata": {},
   "source": [
    "### 4. Exponential Smoothing (지수평활법)"
   ]
  },
  {
   "cell_type": "markdown",
   "metadata": {},
   "source": [
    "#### 4.1 Simple Exponential Smoothing (단순지수평활법)"
   ]
  },
  {
   "cell_type": "markdown",
   "metadata": {},
   "source": [
    "### Q. 지수 평활법\n",
    " - 초기값 L_0을 train data의 평균으로 지정\n",
    " - numpy 내장 함수 활용"
   ]
  },
  {
   "cell_type": "code",
   "execution_count": null,
   "metadata": {},
   "outputs": [],
   "source": [
    "L_0 = '''Answer'''  # initial value\n",
    "\n",
    "SES_train = train.copy()\n",
    "SES_train = pd.concat([pd.DataFrame(np.zeros(1), columns=['data_analysis(korea)']), SES_train])\n",
    "SES_train['Level'] = np.nan\n",
    "SES_train['Forecast'] = np.nan\n",
    "SES_train.loc[0,'Level'] = L_0.values\n",
    "\n",
    "SES_train"
   ]
  },
  {
   "cell_type": "code",
   "execution_count": 91,
   "metadata": {},
   "outputs": [],
   "source": [
    "'''\n",
    "Version 1\n",
    "'''\n",
    "def Simple_Exponential_Smoothing(table, alpha):\n",
    "    # table = SES_train.copy()\n",
    "    # alpha = 0.9\n",
    "    for i in range(len(table)):\n",
    "        if i == 0: # Skip initialization point\n",
    "            continue\n",
    "\n",
    "        x = table.loc[list(table.index)[i],'data_analysis(korea)']\n",
    "        L_prev = table.loc[list(table.index)[i-1],'Level']\n",
    "        table.loc[list(table.index)[i],'Level'] = alpha*x + (1-alpha)*(L_prev)\n",
    "\n",
    "        L_pred = table.iloc[-1,1]\n",
    "        SES_test_pred = [L_pred]*len(test)\n",
    "        SES_test_pred = pd.DataFrame(SES_test_pred, index=test.index, columns=[f'SES_{alpha}'])\n",
    "        \n",
    "    return table, SES_test_pred"
   ]
  },
  {
   "cell_type": "code",
   "execution_count": 92,
   "metadata": {},
   "outputs": [],
   "source": [
    "SES_train_pred, SES_test_pred = Simple_Exponential_Smoothing(SES_train, 0.9)"
   ]
  },
  {
   "cell_type": "code",
   "execution_count": null,
   "metadata": {},
   "outputs": [],
   "source": [
    "print('Simple Exponential Smoothing Train Results')\n",
    "print(SES_train_pred)\n",
    "print('-'*30)\n",
    "print('Simple Exponential Smoothing Test results')\n",
    "print(SES_test_pred)"
   ]
  },
  {
   "cell_type": "code",
   "execution_count": 94,
   "metadata": {},
   "outputs": [],
   "source": [
    "'''\n",
    "Version 2\n",
    "'''\n",
    "\n",
    "SES_train_pred_09 = pd.concat([pd.DataFrame([L_0], columns=['data_analysis(korea)']), train]).ewm(alpha=0.9, adjust=False).mean().iloc[1:]\n",
    "SES_train_pred_09.columns = ['SES_09']\n",
    "SES_test_pred_09 = pd.DataFrame(np.array([SES_train_pred_09.iloc[-1]]*len(test)),\n",
    "                                index=test.index, columns=['SES_09'])\n",
    "prediction_09 = pd.concat([SES_train_pred_09, SES_test_pred_09], axis=0)\n",
    "\n",
    "SES_train_pred_05 = pd.concat([pd.DataFrame([L_0], columns=['data_analysis(korea)']), train]).ewm(alpha=0.5, adjust=False).mean().iloc[1:]\n",
    "SES_train_pred_05.columns = ['SES_05']\n",
    "SES_test_pred_05 = pd.DataFrame(np.array([SES_train_pred_05.iloc[-1]]*len(test)),\n",
    "                                index=test.index, columns=['SES_05'])\n",
    "prediction_05 = pd.concat([SES_train_pred_05, SES_test_pred_05], axis=0)\n",
    "\n",
    "SES_train_pred_01 = pd.concat([pd.DataFrame([L_0], columns=['data_analysis(korea)']), train]).ewm(alpha=0.1, adjust=False).mean().iloc[1:]\n",
    "SES_train_pred_01.columns = ['SES_01']\n",
    "SES_test_pred_01 = pd.DataFrame(np.array([SES_train_pred_01.iloc[-1]]*len(test)),\n",
    "                                index=test.index, columns=['SES_01'])\n",
    "prediction_01 = pd.concat([SES_train_pred_01, SES_test_pred_01], axis=0)"
   ]
  },
  {
   "cell_type": "code",
   "execution_count": null,
   "metadata": {},
   "outputs": [],
   "source": [
    "'''\n",
    "Visualization \n",
    "'''\n",
    "fig, ax = plt.subplots(figsize=(12,4))\n",
    "data.plot(ax=ax)\n",
    "prediction_09.plot(ax=ax, label = 'Prediction (alpha=0.9)')\n",
    "prediction_05.plot(ax=ax, label = 'Prediction (alpha=0.5)')\n",
    "prediction_01.plot(ax=ax, label = 'Prediction (alpha=0.1)')\n",
    "\n",
    "ax.vlines(test.index[0], 0, 100, linestyle='--', color='r')\n",
    "ax.legend(['Raw Dataset', 'Prediction (alpha=0.9)', 'Prediction (alpha=0.5)', 'Prediction (alpha=0.1)', 'Start of Forecast'], loc='upper left')\n",
    "plt.suptitle('Exponential Moving Average Results')\n",
    "plt.tight_layout()\n",
    "plt.show()\n",
    "\n",
    "# Only Test\n",
    "fig, ax = plt.subplots(figsize=(12,4))\n",
    "data['2020-01':'2022-01'].plot(ax=ax)\n",
    "prediction_09['2020-01':'2022-01'].plot(ax=ax, label = 'Prediction (alpha=0.9)')\n",
    "prediction_05['2020-01':'2022-01'].plot(ax=ax, label = 'Prediction (alpha=0.5)')\n",
    "prediction_01['2020-01':'2022-01'].plot(ax=ax, label = 'Prediction (alpha=0.1)')\n",
    "\n",
    "ax.vlines(test.index[0], 50, 100, linestyle='--', color='r')\n",
    "ax.legend(['Raw Dataset', 'Prediction (alpha=0.9)', 'Prediction (alpha=0.5)', 'Prediction (alpha=0.1)', 'Start of Forecast'], loc='upper left')\n",
    "plt.suptitle('Exponential Moving Average Results')\n",
    "plt.tight_layout()\n",
    "plt.show()"
   ]
  },
  {
   "cell_type": "markdown",
   "metadata": {},
   "source": [
    "#### 4.2 Double Exponential Smoothing (이중지수평활법)"
   ]
  },
  {
   "cell_type": "code",
   "execution_count": null,
   "metadata": {},
   "outputs": [],
   "source": [
    "'''\n",
    "Searching Initialization Points\n",
    "'''\n",
    "train_reg = train.reset_index()\n",
    "x = np.array(train_reg.index)\n",
    "y = train_reg['data_analysis(korea)']\n",
    "\n",
    "x = sm.add_constant(x)\n",
    "model = sm.OLS(y,x)\n",
    "results = model.fit()\n",
    "\n",
    "print(results.summary())\n",
    "L_0, B_0 = results.params"
   ]
  },
  {
   "cell_type": "code",
   "execution_count": null,
   "metadata": {},
   "outputs": [],
   "source": [
    "DES_train = train.copy()\n",
    "DES_train = pd.concat([pd.DataFrame(np.zeros(1), columns=['data_analysis(korea)']), DES_train])\n",
    "DES_train['Level'] = np.nan\n",
    "DES_train['Trend'] = np.nan\n",
    "DES_train['Forecast'] = np.nan\n",
    "\n",
    "DES_train.loc[0,'Level'] = L_0\n",
    "DES_train.loc[0,'Trend'] = B_0\n",
    "\n",
    "DES_train"
   ]
  },
  {
   "cell_type": "markdown",
   "metadata": {},
   "source": [
    "### Q. 지수평활법\n",
    " - Double_Exponential_Smoothing 함수 내 Level 과 Trend 변수 생성\n",
    " - 총 4개의 Answer는 'x', 'L_prev', 'T_prev\" 3개 값으로 구성"
   ]
  },
  {
   "cell_type": "code",
   "execution_count": 100,
   "metadata": {},
   "outputs": [],
   "source": [
    "def Double_Exponential_Smoothing(table, alpha, beta):\n",
    "    # table = DES_train.copy()\n",
    "    # alpha = 0.16\n",
    "    # beta = 0.1\n",
    "    for i in range(len(table)):\n",
    "        if i == 0: # Skip initialization point\n",
    "            continue\n",
    "\n",
    "        x = table.loc[list(table.index)[i],'data_analysis(korea)']\n",
    "        L_prev = table.loc[list(table.index)[i-1],'Level']\n",
    "        T_prev = table.loc[list(table.index)[i-1],'Trend']\n",
    "        \n",
    "        table.loc[list(table.index)[i],'Level'] = alpha*'''Answer''' + (1-alpha)*'''Answer'''\n",
    "        table.loc[list(table.index)[i],'Trend'] = beta*(table.loc[list(table.index)[i],'Level']-'''Answer''') + (1-beta)*'''Answer'''\n",
    "\n",
    "        L_Pred = table.iloc[-1,1]\n",
    "        T_Pred = table.iloc[-1,2]\n",
    "        \n",
    "        DES_test_pred = L_Pred + range(len(test))*T_Pred\n",
    "        DES_test_pred = pd.DataFrame(DES_test_pred, index = test.index, columns=['DES'])\n",
    "        \n",
    "    return table, DES_test_pred"
   ]
  },
  {
   "cell_type": "code",
   "execution_count": 101,
   "metadata": {},
   "outputs": [],
   "source": [
    "DES_train_pred, DES_test_pred = Double_Exponential_Smoothing(DES_train, 0.16, 0.1)"
   ]
  },
  {
   "cell_type": "code",
   "execution_count": null,
   "metadata": {},
   "outputs": [],
   "source": [
    "print('Double Exponential Smoothing Train Results')\n",
    "print(DES_train_pred)\n",
    "print('-'*30)\n",
    "print('Double Exponential Smoothing Test results')\n",
    "print(DES_test_pred)"
   ]
  },
  {
   "cell_type": "code",
   "execution_count": null,
   "metadata": {},
   "outputs": [],
   "source": [
    "'''\n",
    "Visualization \n",
    "'''\n",
    "# Train and Test\n",
    "train_pred = pd.DataFrame(DES_train_pred.iloc[1:,1])\n",
    "train_pred.columns = ['DES']\n",
    "DES_pred = pd.concat([train_pred, DES_test_pred])\n",
    "\n",
    "fig, ax = plt.subplots(figsize=(12,4))\n",
    "data.plot(ax=ax)\n",
    "DES_pred.plot(ax=ax, label = 'Prediction (alpha=0.16, beta=0.1)')\n",
    "ax.vlines(test.index[0], 0, 100, linestyle='--', color='r')\n",
    "ax.legend(['Raw Dataset', 'DEMA (alpha=0.16, beta=0.1)', 'Start of Forecast'], loc='upper left')\n",
    "plt.suptitle('Double Exponential Moving Average Results')\n",
    "plt.tight_layout()\n",
    "plt.show()"
   ]
  },
  {
   "cell_type": "code",
   "execution_count": null,
   "metadata": {},
   "outputs": [],
   "source": [
    "'''\n",
    "Quantitative Evaluation\n",
    "'''\n",
    "print('-'*30)\n",
    "print('alpha  = 0.16, beta = 0.1')\n",
    "print(f'MSE: {np.round(mean_squared_error(test, DES_test_pred), 2)}')\n",
    "print(f'RMSE: {np.round(np.sqrt(mean_squared_error(test,DES_test_pred)), 2)}')\n",
    "print(f'MAE: {np.round(mean_absolute_error(test, DES_test_pred), 2)}')\n",
    "print(f'R2 score: {np.round(r2_score(test, DES_test_pred), 2)}')"
   ]
  },
  {
   "cell_type": "code",
   "execution_count": null,
   "metadata": {},
   "outputs": [],
   "source": [
    "'''\n",
    "Comparing\n",
    "'''\n",
    "fig, ax = plt.subplots(figsize=(12,4))\n",
    "data['2020-01':].plot(ax=ax)\n",
    "MA_test_pred['2020-01':].plot(ax=ax, label = 'Prediction (N=5)')\n",
    "SES_test_pred_09['2020-01':].plot(ax=ax, label = 'Prediction (alpha=0.9)')\n",
    "DES_test_pred['2020-01':].plot(ax=ax, label = 'Prediction (alpha=0.16, beta=0.1)')\n",
    "ax.legend(['Raw Dataset', 'MA (N=5)', 'SES (alpha=0.9)', 'DES (alpha=0.16, beta=0.1)'], loc='upper left')\n",
    "plt.suptitle('Double Exponential Moving Average Results')\n",
    "plt.tight_layout()\n",
    "plt.show()"
   ]
  },
  {
   "cell_type": "markdown",
   "metadata": {},
   "source": [
    "#### 4.3 Holt-Winter's Exponential Smoothing (홀트-윈터 지수평활법)"
   ]
  },
  {
   "cell_type": "markdown",
   "metadata": {},
   "source": [
    "##### 4.3.1 Additive/Multiplicative Winter's method"
   ]
  },
  {
   "cell_type": "markdown",
   "metadata": {},
   "source": [
    "### Q. 홀트-윈터 지수평활법\n",
    " - Additive 홀트-윈터 지수 평활법을 활용한 분석 과정일 때, Answer 값 작성\n",
    " - Answer는 'add', 'mul' 값 중 하나로 구성"
   ]
  },
  {
   "cell_type": "code",
   "execution_count": null,
   "metadata": {},
   "outputs": [],
   "source": [
    "from statsmodels.tsa.holtwinters import ExponentialSmoothing\n",
    "HW_model = ExponentialSmoothing(train, trend='''Answer''', seasonal='''Answer''').fit(optimized=True)\n",
    "HW_model.summary()"
   ]
  },
  {
   "cell_type": "code",
   "execution_count": null,
   "metadata": {},
   "outputs": [],
   "source": [
    "HW_train_pred = HW_model.fittedvalues\n",
    "HW_test_pred = HW_model.forecast(len(test))\n",
    "HW_test_pred = pd.DataFrame(HW_test_pred, index=test.index, columns=['HW_add'])\n",
    "\n",
    "print('Holt-Winter Exponential Smoothing Train Results')\n",
    "print(HW_train_pred)\n",
    "print('-'*30)\n",
    "print('Holt-Winter Smoothing Test results')\n",
    "print(HW_test_pred)"
   ]
  },
  {
   "cell_type": "code",
   "execution_count": null,
   "metadata": {},
   "outputs": [],
   "source": [
    "'''\n",
    "Visualization \n",
    "'''\n",
    "# Train and Test\n",
    "train_pred = pd.DataFrame(HW_train_pred, columns=['HW_add'])\n",
    "HW_pred = pd.concat([train_pred, HW_test_pred])\n",
    "\n",
    "fig, ax = plt.subplots(figsize=(12,4))\n",
    "data.plot(ax=ax)\n",
    "HW_pred.plot(ax=ax, label = 'Prediction')\n",
    "ax.vlines(test.index[0], 0, 100, linestyle='--', color='r')\n",
    "ax.legend(['Raw Dataset', 'HW', 'Start of Forecast'], loc='upper left')\n",
    "plt.title('Holt-Winter Exponential Moving Average Results')\n",
    "plt.tight_layout()\n",
    "plt.show()"
   ]
  },
  {
   "cell_type": "code",
   "execution_count": null,
   "metadata": {},
   "outputs": [],
   "source": [
    "'''\n",
    "Comparing\n",
    "'''\n",
    "fig, ax = plt.subplots(figsize=(12,4))\n",
    "data.plot(ax=ax)\n",
    "MA_test_pred['2020-01':].plot(ax=ax, label = 'Prediction (N=5)')\n",
    "SES_test_pred_09['2020-01':].plot(ax=ax, label = 'Prediction (alpha=0.9)')\n",
    "DES_test_pred['2020-01':].plot(ax=ax, label = 'Prediction (alpha=0.16, beta=0.1)')\n",
    "HW_test_pred['2020-01':].plot(ax=ax, label = 'Prediction (additive)')\n",
    "ax.vlines(test.index[0], 0, 100, linestyle='--', color='r')\n",
    "ax.legend(['Raw Dataset', 'MA (N=5)', 'SES (alpha=0.9)', 'DES (alpha=0.16, beta=0.1)', 'HW (Additive)'], loc='upper left')\n",
    "plt.title('Double Exponential Moving Average Results')\n",
    "plt.tight_layout()\n",
    "plt.show()"
   ]
  },
  {
   "cell_type": "code",
   "execution_count": null,
   "metadata": {},
   "outputs": [],
   "source": [
    "'''\n",
    "Quantitative Evaluation\n",
    "'''\n",
    "print('-'*55)\n",
    "print('Moving Average (N = 5)')\n",
    "print(f'MSE: {np.round(mean_squared_error(test, MA_test_pred), 2)}')\n",
    "print(f'RMSE: {np.round(np.sqrt(mean_squared_error(test,MA_test_pred)), 2)}')\n",
    "print(f'MAE: {np.round(mean_absolute_error(test, MA_test_pred), 2)}')\n",
    "\n",
    "print('-'*55)\n",
    "print('Simple Exponential Smoothing (alpha = 0.9)')\n",
    "print(f'MSE: {np.round(mean_squared_error(test, SES_test_pred_09), 2)}')\n",
    "print(f'RMSE: {np.round(np.sqrt(mean_squared_error(test,SES_test_pred_09)), 2)}')\n",
    "print(f'MAE: {np.round(mean_absolute_error(test, SES_test_pred_09), 2)}')\n",
    "\n",
    "print('-'*55)\n",
    "print('Double Exponential Smoothing (alpha = 0.16, beta = 0.1)')\n",
    "print(f'MSE: {np.round(mean_squared_error(test, DES_test_pred), 2)}')\n",
    "print(f'RMSE: {np.round(np.sqrt(mean_squared_error(test,DES_test_pred)), 2)}')\n",
    "print(f'MAE: {np.round(mean_absolute_error(test, DES_test_pred), 2)}')\n",
    "\n",
    "print('-'*55)\n",
    "print('Holt-Winter Exponential Smoothing')\n",
    "print(f'MSE: {np.round(mean_squared_error(test, HW_test_pred), 2)}')\n",
    "print(f'RMSE: {np.round(np.sqrt(mean_squared_error(test,HW_test_pred)), 2)}')\n",
    "print(f'MAE: {np.round(mean_absolute_error(test, HW_test_pred), 2)}')"
   ]
  },
  {
   "cell_type": "code",
   "execution_count": null,
   "metadata": {},
   "outputs": [],
   "source": [
    "test_predict_results = pd.concat([test, MA_test_pred, SES_test_pred_09, DES_test_pred, HW_test_pred], axis=1)\n",
    "test_predict_results"
   ]
  },
  {
   "cell_type": "markdown",
   "metadata": {},
   "source": [
    "### Q. 결론\n",
    " - 상기 4가지 시계열 분석 모델의 성능 비교를 통해 본 데이터에 가장 적합한 모델을 고른 후,\n",
    " - Quantitative Evaluation를 참고하여 선정 이유 서술"
   ]
  },
  {
   "cell_type": "markdown",
   "metadata": {},
   "source": [
    "# EOD"
   ]
  }
 ],
 "metadata": {
  "kernelspec": {
   "display_name": "Python 3",
   "language": "python",
   "name": "python3"
  },
  "language_info": {
   "codemirror_mode": {
    "name": "ipython",
    "version": 3
   },
   "file_extension": ".py",
   "mimetype": "text/x-python",
   "name": "python",
   "nbconvert_exporter": "python",
   "pygments_lexer": "ipython3",
   "version": "3.8.10 (default, Jun 22 2022, 20:18:18) \n[GCC 9.4.0]"
  },
  "toc": {
   "base_numbering": "1",
   "nav_menu": {},
   "number_sections": false,
   "sideBar": true,
   "skip_h1_title": false,
   "title_cell": "Table of Contents",
   "title_sidebar": "Contents",
   "toc_cell": false,
   "toc_position": {
    "height": "calc(100% - 180px)",
    "left": "10px",
    "top": "150px",
    "width": "357.469px"
   },
   "toc_section_display": true,
   "toc_window_display": true
  },
  "vscode": {
   "interpreter": {
    "hash": "e7370f93d1d0cde622a1f8e1c04877d8463912d04d973331ad4851f04de6915a"
   }
  }
 },
 "nbformat": 4,
 "nbformat_minor": 4
}
