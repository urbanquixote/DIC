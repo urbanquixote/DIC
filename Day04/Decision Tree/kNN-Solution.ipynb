{
 "cells": [
  {
   "cell_type": "markdown",
   "metadata": {},
   "source": [
    "# [k-근접이웃 실습: 실전]"
   ]
  },
  {
   "cell_type": "markdown",
   "metadata": {},
   "source": [
    "##### jupyter notebook 단축키\n",
    "\n",
    "- ctrl+enter: 셀 실행   \n",
    "- shift+enter: 셀 실행 및 다음 셀 이동   \n",
    "- alt+enter: 셀 실행, 다음 셀 이동, 새로운 셀 생성\n",
    "- a: 상단에 새로운 셀 만들기\n",
    "- b: 하단에 새로운 셀 만들기\n",
    "- dd: 셀 삭제(x: 셀 삭제)\n",
    "- 함수 ( ) 안에서 shift+tab: arguments description. shift+tab+tab은 길게 볼 수 있도록"
   ]
  },
  {
   "cell_type": "markdown",
   "metadata": {},
   "source": [
    "## 1. 모듈 불러오기"
   ]
  },
  {
   "cell_type": "markdown",
   "metadata": {},
   "source": [
    "import 불러올 패키지명 as 그 패키지를 파이썬에서 사용할 이름"
   ]
  },
  {
   "cell_type": "code",
   "execution_count": 1,
   "metadata": {},
   "outputs": [],
   "source": [
    "# 데이터 전처리\n",
    "import numpy as np\n",
    "import pandas as pd\n",
    "\n",
    "from sklearn.preprocessing import MinMaxScaler\n",
    "\n",
    "# 기계학습 모델 생성, 학습, 평가\n",
    "from sklearn.model_selection import train_test_split, GridSearchCV\n",
    "from sklearn.metrics import accuracy_score, f1_score, confusion_matrix\n",
    "from sklearn.neighbors import KNeighborsClassifier\n",
    "from sklearn.neighbors import VALID_METRICS\n",
    "from sklearn.metrics import SCORERS\n",
    "\n",
    "# 시각화\n",
    "import seaborn as sns\n",
    "import matplotlib.pyplot as plt"
   ]
  },
  {
   "cell_type": "markdown",
   "metadata": {},
   "source": [
    "## 2. p2p 대출 데이터\n",
    "#### 문제상황\n",
    "- P2P 대출이란 일종의 크라우드펀딩으로 온라인 플랫폼을 기반으로 개인끼리 자금을 빌려주고 돌려받는 새로운 개념의 대출형태. 플랫폼이 온라인이라는 특수성 때문에 투자자들은 온라인에서 차용인의 정보만 획득하고 투자를 결정 <br>\n",
    "- 기존 신용평가모형이 아닌 새로운 대출지표가 필요. 머신러닝 방법론을 기반으로 금융·비금융 정보를 활용한 대출 상환예측 모델을 구축\n",
    "<br>\n",
    "<br>\n",
    "\n",
    "#### 설명변수 및 반응변수\n",
    "- annual_inc - 연봉\n",
    "- bc_util - 모든 카드의 신용금액 대비 현재 잔액 비율\n",
    "- dti - 총 부채상환 비율\n",
    "- num_accts_ever_120_pd - 120일 이상 연체한 계좌 수\n",
    "- pub_rec_bankruptcies - 부정적인 공공정보의 수\n",
    "- tax_liens - 세금에 의한 재산 차압의 수\n",
    "- tot_hi_cred_lim - 전체 신용한도\n",
    "- total_bc_limit - 신용카드의 한도\n",
    "- avg_cur_bal - 계좌의 평균 잔액\n",
    "- pct_tl_nvr_dlq - 연체 없는 거래의 비율\n",
    "- total_acc - 전체 한도 계좌의 수\n",
    "- int_rate - 이자\n",
    "- home_ownership - 집 소유 상태 (3종류: Own, Rent, Mortgage) <span style=\"color:red\"> (범주형) </span>\n",
    "- term - 상환기간 <span style=\"color:red\"> (범주형) </span>\n",
    "- <span style=\"color:blue\">TARGET - 0: 상환 성공, 1: 상환 실패 <b>[타겟 변수]</b> <br></span>"
   ]
  },
  {
   "cell_type": "code",
   "execution_count": 2,
   "metadata": {},
   "outputs": [
    {
     "data": {
      "text/html": [
       "<div>\n",
       "<style scoped>\n",
       "    .dataframe tbody tr th:only-of-type {\n",
       "        vertical-align: middle;\n",
       "    }\n",
       "\n",
       "    .dataframe tbody tr th {\n",
       "        vertical-align: top;\n",
       "    }\n",
       "\n",
       "    .dataframe thead th {\n",
       "        text-align: right;\n",
       "    }\n",
       "</style>\n",
       "<table border=\"1\" class=\"dataframe\">\n",
       "  <thead>\n",
       "    <tr style=\"text-align: right;\">\n",
       "      <th></th>\n",
       "      <th>annual_inc</th>\n",
       "      <th>bc_util</th>\n",
       "      <th>dti</th>\n",
       "      <th>num_accts_ever_120_pd</th>\n",
       "      <th>pub_rec_bankruptcies</th>\n",
       "      <th>tax_liens</th>\n",
       "      <th>tot_hi_cred_lim</th>\n",
       "      <th>total_bc_limit</th>\n",
       "      <th>avg_cur_bal</th>\n",
       "      <th>pct_tl_nvr_dlq</th>\n",
       "      <th>total_acc</th>\n",
       "      <th>int_rate</th>\n",
       "      <th>home_ownership</th>\n",
       "      <th>term</th>\n",
       "      <th>TARGET</th>\n",
       "    </tr>\n",
       "  </thead>\n",
       "  <tbody>\n",
       "    <tr>\n",
       "      <th>0</th>\n",
       "      <td>53000.0</td>\n",
       "      <td>88.8</td>\n",
       "      <td>25.25</td>\n",
       "      <td>0</td>\n",
       "      <td>0</td>\n",
       "      <td>0</td>\n",
       "      <td>132074</td>\n",
       "      <td>11200</td>\n",
       "      <td>14564</td>\n",
       "      <td>100.0</td>\n",
       "      <td>17</td>\n",
       "      <td>20.49</td>\n",
       "      <td>OWN</td>\n",
       "      <td>60 months</td>\n",
       "      <td>1</td>\n",
       "    </tr>\n",
       "    <tr>\n",
       "      <th>1</th>\n",
       "      <td>60000.0</td>\n",
       "      <td>94.4</td>\n",
       "      <td>25.88</td>\n",
       "      <td>1</td>\n",
       "      <td>0</td>\n",
       "      <td>0</td>\n",
       "      <td>68761</td>\n",
       "      <td>6300</td>\n",
       "      <td>5565</td>\n",
       "      <td>87.5</td>\n",
       "      <td>16</td>\n",
       "      <td>12.29</td>\n",
       "      <td>RENT</td>\n",
       "      <td>36 months</td>\n",
       "      <td>0</td>\n",
       "    </tr>\n",
       "    <tr>\n",
       "      <th>2</th>\n",
       "      <td>125000.0</td>\n",
       "      <td>82.5</td>\n",
       "      <td>10.93</td>\n",
       "      <td>0</td>\n",
       "      <td>0</td>\n",
       "      <td>0</td>\n",
       "      <td>229006</td>\n",
       "      <td>15000</td>\n",
       "      <td>14929</td>\n",
       "      <td>100.0</td>\n",
       "      <td>41</td>\n",
       "      <td>7.89</td>\n",
       "      <td>RENT</td>\n",
       "      <td>36 months</td>\n",
       "      <td>0</td>\n",
       "    </tr>\n",
       "    <tr>\n",
       "      <th>3</th>\n",
       "      <td>90000.0</td>\n",
       "      <td>77.6</td>\n",
       "      <td>22.75</td>\n",
       "      <td>0</td>\n",
       "      <td>0</td>\n",
       "      <td>0</td>\n",
       "      <td>248018</td>\n",
       "      <td>43900</td>\n",
       "      <td>12054</td>\n",
       "      <td>100.0</td>\n",
       "      <td>41</td>\n",
       "      <td>17.57</td>\n",
       "      <td>MORTGAGE</td>\n",
       "      <td>60 months</td>\n",
       "      <td>0</td>\n",
       "    </tr>\n",
       "    <tr>\n",
       "      <th>4</th>\n",
       "      <td>76863.0</td>\n",
       "      <td>43.3</td>\n",
       "      <td>19.53</td>\n",
       "      <td>2</td>\n",
       "      <td>0</td>\n",
       "      <td>0</td>\n",
       "      <td>40792</td>\n",
       "      <td>2400</td>\n",
       "      <td>3816</td>\n",
       "      <td>77.8</td>\n",
       "      <td>20</td>\n",
       "      <td>9.17</td>\n",
       "      <td>MORTGAGE</td>\n",
       "      <td>36 months</td>\n",
       "      <td>0</td>\n",
       "    </tr>\n",
       "  </tbody>\n",
       "</table>\n",
       "</div>"
      ],
      "text/plain": [
       "   annual_inc  bc_util    dti  num_accts_ever_120_pd  pub_rec_bankruptcies  \\\n",
       "0     53000.0     88.8  25.25                      0                     0   \n",
       "1     60000.0     94.4  25.88                      1                     0   \n",
       "2    125000.0     82.5  10.93                      0                     0   \n",
       "3     90000.0     77.6  22.75                      0                     0   \n",
       "4     76863.0     43.3  19.53                      2                     0   \n",
       "\n",
       "   tax_liens  tot_hi_cred_lim  total_bc_limit  avg_cur_bal  pct_tl_nvr_dlq  \\\n",
       "0          0           132074           11200        14564           100.0   \n",
       "1          0            68761            6300         5565            87.5   \n",
       "2          0           229006           15000        14929           100.0   \n",
       "3          0           248018           43900        12054           100.0   \n",
       "4          0            40792            2400         3816            77.8   \n",
       "\n",
       "   total_acc  int_rate home_ownership        term  TARGET  \n",
       "0         17     20.49            OWN   60 months       1  \n",
       "1         16     12.29           RENT   36 months       0  \n",
       "2         41      7.89           RENT   36 months       0  \n",
       "3         41     17.57       MORTGAGE   60 months       0  \n",
       "4         20      9.17       MORTGAGE   36 months       0  "
      ]
     },
     "execution_count": 2,
     "metadata": {},
     "output_type": "execute_result"
    }
   ],
   "source": [
    "data = pd.read_csv('../Data/p2p.csv')\n",
    "data.head()"
   ]
  },
  {
   "cell_type": "markdown",
   "metadata": {},
   "source": [
    "### 범주형 변수에 대한 더미 변수 생성"
   ]
  },
  {
   "cell_type": "code",
   "execution_count": 3,
   "metadata": {},
   "outputs": [
    {
     "data": {
      "text/html": [
       "<div>\n",
       "<style scoped>\n",
       "    .dataframe tbody tr th:only-of-type {\n",
       "        vertical-align: middle;\n",
       "    }\n",
       "\n",
       "    .dataframe tbody tr th {\n",
       "        vertical-align: top;\n",
       "    }\n",
       "\n",
       "    .dataframe thead th {\n",
       "        text-align: right;\n",
       "    }\n",
       "</style>\n",
       "<table border=\"1\" class=\"dataframe\">\n",
       "  <thead>\n",
       "    <tr style=\"text-align: right;\">\n",
       "      <th></th>\n",
       "      <th>annual_inc</th>\n",
       "      <th>bc_util</th>\n",
       "      <th>dti</th>\n",
       "      <th>num_accts_ever_120_pd</th>\n",
       "      <th>pub_rec_bankruptcies</th>\n",
       "      <th>tax_liens</th>\n",
       "      <th>tot_hi_cred_lim</th>\n",
       "      <th>total_bc_limit</th>\n",
       "      <th>avg_cur_bal</th>\n",
       "      <th>pct_tl_nvr_dlq</th>\n",
       "      <th>total_acc</th>\n",
       "      <th>int_rate</th>\n",
       "      <th>TARGET</th>\n",
       "      <th>home_ownership_OWN</th>\n",
       "      <th>home_ownership_RENT</th>\n",
       "      <th>term_ 60 months</th>\n",
       "    </tr>\n",
       "  </thead>\n",
       "  <tbody>\n",
       "    <tr>\n",
       "      <th>0</th>\n",
       "      <td>53000.0</td>\n",
       "      <td>88.8</td>\n",
       "      <td>25.25</td>\n",
       "      <td>0</td>\n",
       "      <td>0</td>\n",
       "      <td>0</td>\n",
       "      <td>132074</td>\n",
       "      <td>11200</td>\n",
       "      <td>14564</td>\n",
       "      <td>100.0</td>\n",
       "      <td>17</td>\n",
       "      <td>20.49</td>\n",
       "      <td>1</td>\n",
       "      <td>1</td>\n",
       "      <td>0</td>\n",
       "      <td>1</td>\n",
       "    </tr>\n",
       "    <tr>\n",
       "      <th>1</th>\n",
       "      <td>60000.0</td>\n",
       "      <td>94.4</td>\n",
       "      <td>25.88</td>\n",
       "      <td>1</td>\n",
       "      <td>0</td>\n",
       "      <td>0</td>\n",
       "      <td>68761</td>\n",
       "      <td>6300</td>\n",
       "      <td>5565</td>\n",
       "      <td>87.5</td>\n",
       "      <td>16</td>\n",
       "      <td>12.29</td>\n",
       "      <td>0</td>\n",
       "      <td>0</td>\n",
       "      <td>1</td>\n",
       "      <td>0</td>\n",
       "    </tr>\n",
       "    <tr>\n",
       "      <th>2</th>\n",
       "      <td>125000.0</td>\n",
       "      <td>82.5</td>\n",
       "      <td>10.93</td>\n",
       "      <td>0</td>\n",
       "      <td>0</td>\n",
       "      <td>0</td>\n",
       "      <td>229006</td>\n",
       "      <td>15000</td>\n",
       "      <td>14929</td>\n",
       "      <td>100.0</td>\n",
       "      <td>41</td>\n",
       "      <td>7.89</td>\n",
       "      <td>0</td>\n",
       "      <td>0</td>\n",
       "      <td>1</td>\n",
       "      <td>0</td>\n",
       "    </tr>\n",
       "    <tr>\n",
       "      <th>3</th>\n",
       "      <td>90000.0</td>\n",
       "      <td>77.6</td>\n",
       "      <td>22.75</td>\n",
       "      <td>0</td>\n",
       "      <td>0</td>\n",
       "      <td>0</td>\n",
       "      <td>248018</td>\n",
       "      <td>43900</td>\n",
       "      <td>12054</td>\n",
       "      <td>100.0</td>\n",
       "      <td>41</td>\n",
       "      <td>17.57</td>\n",
       "      <td>0</td>\n",
       "      <td>0</td>\n",
       "      <td>0</td>\n",
       "      <td>1</td>\n",
       "    </tr>\n",
       "    <tr>\n",
       "      <th>4</th>\n",
       "      <td>76863.0</td>\n",
       "      <td>43.3</td>\n",
       "      <td>19.53</td>\n",
       "      <td>2</td>\n",
       "      <td>0</td>\n",
       "      <td>0</td>\n",
       "      <td>40792</td>\n",
       "      <td>2400</td>\n",
       "      <td>3816</td>\n",
       "      <td>77.8</td>\n",
       "      <td>20</td>\n",
       "      <td>9.17</td>\n",
       "      <td>0</td>\n",
       "      <td>0</td>\n",
       "      <td>0</td>\n",
       "      <td>0</td>\n",
       "    </tr>\n",
       "  </tbody>\n",
       "</table>\n",
       "</div>"
      ],
      "text/plain": [
       "   annual_inc  bc_util    dti  num_accts_ever_120_pd  pub_rec_bankruptcies  \\\n",
       "0     53000.0     88.8  25.25                      0                     0   \n",
       "1     60000.0     94.4  25.88                      1                     0   \n",
       "2    125000.0     82.5  10.93                      0                     0   \n",
       "3     90000.0     77.6  22.75                      0                     0   \n",
       "4     76863.0     43.3  19.53                      2                     0   \n",
       "\n",
       "   tax_liens  tot_hi_cred_lim  total_bc_limit  avg_cur_bal  pct_tl_nvr_dlq  \\\n",
       "0          0           132074           11200        14564           100.0   \n",
       "1          0            68761            6300         5565            87.5   \n",
       "2          0           229006           15000        14929           100.0   \n",
       "3          0           248018           43900        12054           100.0   \n",
       "4          0            40792            2400         3816            77.8   \n",
       "\n",
       "   total_acc  int_rate  TARGET  home_ownership_OWN  home_ownership_RENT  \\\n",
       "0         17     20.49       1                   1                    0   \n",
       "1         16     12.29       0                   0                    1   \n",
       "2         41      7.89       0                   0                    1   \n",
       "3         41     17.57       0                   0                    0   \n",
       "4         20      9.17       0                   0                    0   \n",
       "\n",
       "   term_ 60 months  \n",
       "0                1  \n",
       "1                0  \n",
       "2                0  \n",
       "3                1  \n",
       "4                0  "
      ]
     },
     "execution_count": 3,
     "metadata": {},
     "output_type": "execute_result"
    }
   ],
   "source": [
    "# date: dummies\n",
    "data = pd.get_dummies(data, columns=['home_ownership'], drop_first=True)\n",
    "data = pd.get_dummies(data, columns=['term'], drop_first=True)\n",
    "data.head()\n",
    "\n",
    "# data = pd.get_dummies(data, columns=['home_ownership', 'term'], drop_first=True)"
   ]
  },
  {
   "cell_type": "markdown",
   "metadata": {},
   "source": [
    "### X, y로 구분"
   ]
  },
  {
   "cell_type": "code",
   "execution_count": 4,
   "metadata": {},
   "outputs": [],
   "source": [
    "X = data.drop('TARGET', axis=1)\n",
    "y = data['TARGET']"
   ]
  },
  {
   "cell_type": "markdown",
   "metadata": {},
   "source": [
    "### 클래스의 분포를 확인"
   ]
  },
  {
   "cell_type": "code",
   "execution_count": 5,
   "metadata": {},
   "outputs": [
    {
     "name": "stderr",
     "output_type": "stream",
     "text": [
      "C:\\Users\\Jingu\\anaconda3\\lib\\site-packages\\seaborn\\_decorators.py:36: FutureWarning: Pass the following variable as a keyword arg: x. From version 0.12, the only valid positional argument will be `data`, and passing other arguments without an explicit keyword will result in an error or misinterpretation.\n",
      "  warnings.warn(\n"
     ]
    },
    {
     "data": {
      "image/png": "[encoded data removed]",
      "text/plain": [
       "<Figure size 288x360 with 1 Axes>"
      ]
     },
     "metadata": {
      "needs_background": "light"
     },
     "output_type": "display_data"
    }
   ],
   "source": [
    "plt.figure(figsize=(4, 5))\n",
    "sns.countplot(y)\n",
    "plt.show()"
   ]
  },
  {
   "cell_type": "markdown",
   "metadata": {},
   "source": [
    "## 3. 데이터 전처리"
   ]
  },
  {
   "cell_type": "markdown",
   "metadata": {},
   "source": [
    "### 학습-평가 데이터셋 구성\n",
    "- Train:Test = 80:20\n",
    "- 클래스 비율 유지: train_test_split 함수 내 stratify 옵션\n",
    "- randomstate = 2020"
   ]
  },
  {
   "cell_type": "code",
   "execution_count": 6,
   "metadata": {},
   "outputs": [],
   "source": [
    "random_state = 2020\n",
    "X_train, X_test, y_train, y_test = train_test_split(X, y, test_size=2/10, random_state=random_state, stratify=y)"
   ]
  },
  {
   "cell_type": "markdown",
   "metadata": {},
   "source": [
    "#### 데이터 스케일링: 0-1"
   ]
  },
  {
   "cell_type": "code",
   "execution_count": 7,
   "metadata": {},
   "outputs": [],
   "source": [
    "scaler = MinMaxScaler()\n",
    "X_train = scaler.fit_transform(X_train)\n",
    "X_test = scaler.transform(X_test)"
   ]
  },
  {
   "cell_type": "markdown",
   "metadata": {},
   "source": [
    "## 4. 최적 파라미터 탐색: Grid Search"
   ]
  },
  {
   "cell_type": "markdown",
   "metadata": {},
   "source": [
    "#### parameter grid 지정\n",
    "- dictioanry 안의 list 형태로 넣어서 구성"
   ]
  },
  {
   "cell_type": "code",
   "execution_count": 8,
   "metadata": {},
   "outputs": [],
   "source": [
    "param_grid = {\n",
    "    'n_neighbors': [1, 3, 5, 7, 9, 11],\n",
    "    'weights': ['uniform', 'distance'],\n",
    "    'metric': ['cosine', 'euclidean', 'manhattan']\n",
    "}"
   ]
  },
  {
   "cell_type": "markdown",
   "metadata": {},
   "source": [
    "#### 기본 모델 구성 (grid search 외에 고정할 파라미터를 설정할 수 있음)"
   ]
  },
  {
   "cell_type": "code",
   "execution_count": 9,
   "metadata": {},
   "outputs": [],
   "source": [
    "model = KNeighborsClassifier()"
   ]
  },
  {
   "cell_type": "markdown",
   "metadata": {},
   "source": [
    "#### Grid Search CV 모델 구성: cv = 5"
   ]
  },
  {
   "cell_type": "code",
   "execution_count": 10,
   "metadata": {},
   "outputs": [
    {
     "data": {
      "text/plain": [
       "dict_keys(['explained_variance', 'r2', 'max_error', 'neg_median_absolute_error', 'neg_mean_absolute_error', 'neg_mean_squared_error', 'neg_mean_squared_log_error', 'neg_root_mean_squared_error', 'neg_mean_poisson_deviance', 'neg_mean_gamma_deviance', 'accuracy', 'roc_auc', 'roc_auc_ovr', 'roc_auc_ovo', 'roc_auc_ovr_weighted', 'roc_auc_ovo_weighted', 'balanced_accuracy', 'average_precision', 'neg_log_loss', 'neg_brier_score', 'adjusted_rand_score', 'homogeneity_score', 'completeness_score', 'v_measure_score', 'mutual_info_score', 'adjusted_mutual_info_score', 'normalized_mutual_info_score', 'fowlkes_mallows_score', 'precision', 'precision_macro', 'precision_micro', 'precision_samples', 'precision_weighted', 'recall', 'recall_macro', 'recall_micro', 'recall_samples', 'recall_weighted', 'f1', 'f1_macro', 'f1_micro', 'f1_samples', 'f1_weighted', 'jaccard', 'jaccard_macro', 'jaccard_micro', 'jaccard_samples', 'jaccard_weighted'])"
      ]
     },
     "execution_count": 10,
     "metadata": {},
     "output_type": "execute_result"
    }
   ],
   "source": [
    "SCORERS.keys()"
   ]
  },
  {
   "cell_type": "code",
   "execution_count": 11,
   "metadata": {},
   "outputs": [
    {
     "name": "stdout",
     "output_type": "stream",
     "text": [
      "Fitting 5 folds for each of 36 candidates, totalling 180 fits\n"
     ]
    },
    {
     "name": "stderr",
     "output_type": "stream",
     "text": [
      "[Parallel(n_jobs=-1)]: Using backend LokyBackend with 12 concurrent workers.\n",
      "[Parallel(n_jobs=-1)]: Done  26 tasks      | elapsed:   31.6s\n",
      "[Parallel(n_jobs=-1)]: Done 180 out of 180 | elapsed:  1.4min finished\n"
     ]
    },
    {
     "data": {
      "text/plain": [
       "GridSearchCV(cv=5, estimator=KNeighborsClassifier(), n_jobs=-1,\n",
       "             param_grid={'metric': ['cosine', 'euclidean', 'manhattan'],\n",
       "                         'n_neighbors': [1, 3, 5, 7, 9, 11],\n",
       "                         'weights': ['uniform', 'distance']},\n",
       "             verbose=1)"
      ]
     },
     "execution_count": 11,
     "metadata": {},
     "output_type": "execute_result"
    }
   ],
   "source": [
    "model_cv = GridSearchCV(estimator=model,\n",
    "                        param_grid=param_grid,\n",
    "                        cv=5,verbose=1,\n",
    "                        n_jobs=-1)\n",
    "model_cv.fit(X_train, y_train)"
   ]
  },
  {
   "cell_type": "markdown",
   "metadata": {},
   "source": [
    "### 필요한 정보 추출\n",
    "- 파라미터 조합 이름\n",
    "- 5-CV 성능의 평균 및 표준편차"
   ]
  },
  {
   "cell_type": "code",
   "execution_count": 12,
   "metadata": {},
   "outputs": [],
   "source": [
    "results = model_cv.cv_results_\n",
    "params = results['params']\n",
    "mean_score = results['mean_test_score']\n",
    "std_score =results['std_test_score']"
   ]
  },
  {
   "cell_type": "code",
   "execution_count": 13,
   "metadata": {},
   "outputs": [
    {
     "data": {
      "text/plain": [
       "['cosine_1_uniform',\n",
       " 'cosine_1_distance',\n",
       " 'cosine_3_uniform',\n",
       " 'cosine_3_distance',\n",
       " 'cosine_5_uniform']"
      ]
     },
     "execution_count": 13,
     "metadata": {},
     "output_type": "execute_result"
    }
   ],
   "source": [
    "params = ['_'.join(str(x) for x in param.values()) for param in params]\n",
    "params[:5]"
   ]
  },
  {
   "cell_type": "code",
   "execution_count": 14,
   "metadata": {},
   "outputs": [
    {
     "data": {
      "image/png": "[encoded data removed]",
      "text/plain": [
       "<Figure size 1080x432 with 1 Axes>"
      ]
     },
     "metadata": {
      "needs_background": "light"
     },
     "output_type": "display_data"
    }
   ],
   "source": [
    "plt.figure(figsize=(15, 6))\n",
    "plt.fill_between(range(len(params)), mean_score - std_score, mean_score + std_score, alpha=0.1, color='blue')\n",
    "plt.plot(range(len(params)), mean_score, color='blue')\n",
    "plt.ylim([0.5, 1.0])\n",
    "plt.xticks(range(len(params)), params, rotation=90)\n",
    "plt.show()"
   ]
  },
  {
   "cell_type": "markdown",
   "metadata": {},
   "source": [
    "#### Best Parameter 찾기"
   ]
  },
  {
   "cell_type": "code",
   "execution_count": 15,
   "metadata": {},
   "outputs": [
    {
     "name": "stdout",
     "output_type": "stream",
     "text": [
      "Best parameters (Grid Search) \n",
      " >>  {'metric': 'euclidean', 'n_neighbors': 11, 'weights': 'uniform'}\n"
     ]
    }
   ],
   "source": [
    "print('Best parameters (Grid Search) \\n >> ', model_cv.best_params_)"
   ]
  },
  {
   "cell_type": "markdown",
   "metadata": {},
   "source": [
    "#### Best Model 찾기\n",
    "1) best parameter를 사용해서 모델을 다시 학습  \n",
    "2) best_estimator_를 그대로 사용"
   ]
  },
  {
   "cell_type": "code",
   "execution_count": 16,
   "metadata": {},
   "outputs": [
    {
     "data": {
      "text/plain": [
       "KNeighborsClassifier(metric='euclidean', n_neighbors=11)"
      ]
     },
     "execution_count": 16,
     "metadata": {},
     "output_type": "execute_result"
    }
   ],
   "source": [
    "model = model_cv.best_estimator_\n",
    "model"
   ]
  },
  {
   "cell_type": "markdown",
   "metadata": {},
   "source": [
    "#### 모델 평가 (test)"
   ]
  },
  {
   "cell_type": "code",
   "execution_count": 17,
   "metadata": {},
   "outputs": [
    {
     "name": "stdout",
     "output_type": "stream",
     "text": [
      "- Accuracy (Test) : 0.752\n",
      "- F1 score (Test) : 0.247\n"
     ]
    }
   ],
   "source": [
    "# 에측 결과 산출\n",
    "y_test_pred = model.predict(X_test)\n",
    "\n",
    "# Confusion Matrix\n",
    "cm = confusion_matrix(y_test, y_test_pred)\n",
    "cm = pd.DataFrame(cm)\n",
    "\n",
    "# Accuracy, F1-Score\n",
    "acc = accuracy_score(y_test, y_test_pred)\n",
    "f1 = f1_score(y_test, y_test_pred)\n",
    "\n",
    "print('- Accuracy (Test) : {:.3}'.format(acc))\n",
    "print('- F1 score (Test) : {:.3}'.format(f1))"
   ]
  },
  {
   "cell_type": "markdown",
   "metadata": {},
   "source": [
    "#### 정오행렬 시각화"
   ]
  },
  {
   "cell_type": "code",
   "execution_count": 18,
   "metadata": {},
   "outputs": [
    {
     "data": {
      "image/png": "[encoded data removed]",
      "text/plain": [
       "<Figure size 432x360 with 2 Axes>"
      ]
     },
     "metadata": {
      "needs_background": "light"
     },
     "output_type": "display_data"
    }
   ],
   "source": [
    "# 시각화\n",
    "plt.figure(figsize=(6, 5))\n",
    "sns.heatmap(data=cm, annot=True, annot_kws={'size': 15}, fmt='d', cmap='Blues')\n",
    "plt.title('Acc = {:.3f} & F1 = {:.3f}'.format(acc, f1))\n",
    "plt.show()\n",
    "\n",
    "#y축이 실제 값 x축이 예상한 값"
   ]
  },
  {
   "cell_type": "markdown",
   "metadata": {},
   "source": [
    "## 5. 클래스 불균형: F1-Score를 사용해서 다시 한번!"
   ]
  },
  {
   "cell_type": "markdown",
   "metadata": {},
   "source": [
    "#### Grid Search"
   ]
  },
  {
   "cell_type": "code",
   "execution_count": 19,
   "metadata": {},
   "outputs": [
    {
     "data": {
      "text/plain": [
       "GridSearchCV(cv=5,\n",
       "             estimator=KNeighborsClassifier(metric='euclidean', n_neighbors=11),\n",
       "             n_jobs=-1,\n",
       "             param_grid={'metric': ['cosine', 'euclidean', 'manhattan'],\n",
       "                         'n_neighbors': [1, 3, 5, 7, 9, 11],\n",
       "                         'weights': ['uniform', 'distance']},\n",
       "             scoring='f1')"
      ]
     },
     "execution_count": 19,
     "metadata": {},
     "output_type": "execute_result"
    }
   ],
   "source": [
    "model_cv = GridSearchCV(estimator=model,\n",
    "                        param_grid=param_grid,\n",
    "                        scoring='f1',\n",
    "                        cv=5,\n",
    "                        n_jobs=-1)\n",
    "model_cv.fit(X_train, y_train)"
   ]
  },
  {
   "cell_type": "code",
   "execution_count": 20,
   "metadata": {},
   "outputs": [
    {
     "name": "stdout",
     "output_type": "stream",
     "text": [
      "Best parameters (Grid Search) \n",
      " >>  {'metric': 'manhattan', 'n_neighbors': 1, 'weights': 'uniform'}\n"
     ]
    }
   ],
   "source": [
    "print('Best parameters (Grid Search) \\n >> ', model_cv.best_params_)"
   ]
  },
  {
   "cell_type": "markdown",
   "metadata": {},
   "source": [
    "#### Best Model 선정"
   ]
  },
  {
   "cell_type": "code",
   "execution_count": 21,
   "metadata": {},
   "outputs": [
    {
     "data": {
      "text/plain": [
       "KNeighborsClassifier(metric='manhattan', n_neighbors=1)"
      ]
     },
     "execution_count": 21,
     "metadata": {},
     "output_type": "execute_result"
    }
   ],
   "source": [
    "model = model_cv.best_estimator_\n",
    "model"
   ]
  },
  {
   "cell_type": "markdown",
   "metadata": {},
   "source": [
    "#### 모델 평가 (test)"
   ]
  },
  {
   "cell_type": "code",
   "execution_count": 22,
   "metadata": {},
   "outputs": [
    {
     "name": "stdout",
     "output_type": "stream",
     "text": [
      "- Accuracy (Test) : 0.67\n",
      "- F1 score (Test) : 0.317\n"
     ]
    }
   ],
   "source": [
    "# 에측 결과 산출\n",
    "y_test_pred = model.predict(X_test)\n",
    "\n",
    "# Confusion Matrix\n",
    "cm = confusion_matrix(y_test, y_test_pred)\n",
    "cm = pd.DataFrame(cm)\n",
    "\n",
    "# Accuracy, F1-Score\n",
    "acc = accuracy_score(y_test, y_test_pred)\n",
    "f1 = f1_score(y_test, y_test_pred)\n",
    "\n",
    "print('- Accuracy (Test) : {:.3}'.format(acc))\n",
    "print('- F1 score (Test) : {:.3}'.format(f1))"
   ]
  },
  {
   "cell_type": "markdown",
   "metadata": {},
   "source": [
    "#### 정오행렬 시각화"
   ]
  },
  {
   "cell_type": "code",
   "execution_count": 23,
   "metadata": {},
   "outputs": [
    {
     "data": {
      "image/png": "[encoded data removed]",
      "text/plain": [
       "<Figure size 432x360 with 2 Axes>"
      ]
     },
     "metadata": {
      "needs_background": "light"
     },
     "output_type": "display_data"
    }
   ],
   "source": [
    "# 시각화\n",
    "plt.figure(figsize=(6, 5))\n",
    "sns.heatmap(data=cm, annot=True, annot_kws={'size': 15}, fmt='d', cmap='Blues')\n",
    "plt.title('Acc = {:.3f} & F1 = {:.3f}'.format(acc, f1))\n",
    "plt.show()"
   ]
  },
  {
   "cell_type": "code",
   "execution_count": 24,
   "metadata": {},
   "outputs": [],
   "source": [
    "results = model_cv.cv_results_\n",
    "params = results['params']\n",
    "mean_score = results['mean_test_score']\n",
    "std_score =results['std_test_score']"
   ]
  },
  {
   "cell_type": "code",
   "execution_count": 25,
   "metadata": {},
   "outputs": [
    {
     "data": {
      "text/plain": [
       "['cosine_1_uniform',\n",
       " 'cosine_1_distance',\n",
       " 'cosine_3_uniform',\n",
       " 'cosine_3_distance',\n",
       " 'cosine_5_uniform']"
      ]
     },
     "execution_count": 25,
     "metadata": {},
     "output_type": "execute_result"
    }
   ],
   "source": [
    "params = ['_'.join(str(x) for x in param.values()) for param in params]\n",
    "params[:5]"
   ]
  },
  {
   "cell_type": "code",
   "execution_count": 27,
   "metadata": {},
   "outputs": [
    {
     "data": {
      "image/png": "[encoded data removed]",
      "text/plain": [
       "<Figure size 1080x432 with 1 Axes>"
      ]
     },
     "metadata": {
      "needs_background": "light"
     },
     "output_type": "display_data"
    }
   ],
   "source": [
    "plt.figure(figsize=(15, 6))\n",
    "plt.fill_between(range(len(params)), mean_score - std_score, mean_score + std_score, alpha=0.1, color='blue')\n",
    "plt.plot(range(len(params)), mean_score, color='blue')\n",
    "# plt.ylim([0.5, 1.0])\n",
    "plt.xticks(range(len(params)), params, rotation=90)\n",
    "plt.show()"
   ]
  },
  {
   "cell_type": "code",
   "execution_count": null,
   "metadata": {},
   "outputs": [],
   "source": []
  }
 ],
 "metadata": {
  "kernelspec": {
   "display_name": "Python 3 (ipykernel)",
   "language": "python",
   "name": "python3"
  },
  "language_info": {
   "codemirror_mode": {
    "name": "ipython",
    "version": 3
   },
   "file_extension": ".py",
   "mimetype": "text/x-python",
   "name": "python",
   "nbconvert_exporter": "python",
   "pygments_lexer": "ipython3",
   "version": "3.7.11"
  }
 },
 "nbformat": 4,
 "nbformat_minor": 4
}
