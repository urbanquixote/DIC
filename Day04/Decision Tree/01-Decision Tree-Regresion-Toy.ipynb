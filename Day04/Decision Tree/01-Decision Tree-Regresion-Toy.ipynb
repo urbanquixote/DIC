{
 "cells": [
  {
   "cell_type": "code",
   "execution_count": null,
   "metadata": {
    "tags": []
   },
   "outputs": [],
   "source": [
    "!pip install IPython\n",
    "from IPython.display import Image"
   ]
  },
  {
   "cell_type": "code",
   "execution_count": null,
   "metadata": {},
   "outputs": [],
   "source": [
    "!git clone https://github.com/KU-DIC/LG_time_series_day04.git #코랩 사용"
   ]
  },
  {
   "cell_type": "code",
   "execution_count": null,
   "metadata": {},
   "outputs": [],
   "source": [
    "Image('/content/LG_time_series_day04/image/intro1.png')"
   ]
  },
  {
   "cell_type": "markdown",
   "metadata": {
    "tags": []
   },
   "source": [
    "# [머신러닝 기반 시계열 분석 1 실습]\n",
    "# Decision Tree & k-NN \n",
    "## [Decision Tree: Regression Tree - Toy Example]"
   ]
  },
  {
   "cell_type": "markdown",
   "metadata": {},
   "source": [
    "##### jupyter notebook 단축키\n",
    "\n",
    "- ctrl+enter: 셀 실행   \n",
    "- shift+enter: 셀 실행 및 다음 셀 이동   \n",
    "- alt+enter: 셀 실행, 다음 셀 이동, 새로운 셀 생성\n",
    "- a: 상단에 새로운 셀 만들기\n",
    "- b: 하단에 새로운 셀 만들기\n",
    "- dd: 셀 삭제(x: 셀 삭제)\n",
    "- 함수 ( ) 안에서 shift+tab: arguments description. shift+tab+tab은 길게 볼 수 있도록"
   ]
  },
  {
   "cell_type": "markdown",
   "metadata": {},
   "source": [
    "## 1. 모듈 불러오기"
   ]
  },
  {
   "cell_type": "markdown",
   "metadata": {},
   "source": [
    "import 불러올 패키지명 as 그 패키지를 파이썬에서 사용할 이름"
   ]
  },
  {
   "cell_type": "code",
   "execution_count": null,
   "metadata": {},
   "outputs": [],
   "source": [
    "\"\"\" 데이터 전처리 \"\"\"\n",
    "import numpy as np\n",
    "import pandas as pd\n",
    "\n",
    "from sklearn.datasets import make_regression\n",
    "from sklearn.preprocessing import StandardScaler\n",
    "\n",
    "\"\"\" 모델 생성, 학습, 평가 \"\"\"\n",
    "from sklearn.tree import DecisionTreeRegressor\n",
    "\n",
    "\"\"\" 시각화 \"\"\"\n",
    "import matplotlib.pyplot as plt"
   ]
  },
  {
   "cell_type": "markdown",
   "metadata": {},
   "source": [
    "##  2. 데이터 임의 생성 \n",
    "\n",
    "$ y=sin(x)+\\epsilon $"
   ]
  },
  {
   "cell_type": "code",
   "execution_count": null,
   "metadata": {},
   "outputs": [],
   "source": [
    "\"\"\" seed 고정으로 같은 데이터를 만들 수 있도록 설정 \"\"\"\n",
    "random_state = 2023\n",
    "n_samples = 50"
   ]
  },
  {
   "cell_type": "code",
   "execution_count": null,
   "metadata": {},
   "outputs": [],
   "source": [
    "np.random.seed(random_state)\n",
    "\n",
    "X = np.random.rand(n_samples, 1) * 10\n",
    "X = np.sort(X, axis=0) # 내림차순 정렬\n",
    "\n",
    "y = np.sin(X).reshape(-1, )\n",
    "y[::5] = y[::5] + np.random.randn(int(np.ceil(n_samples/5)))"
   ]
  },
  {
   "cell_type": "code",
   "execution_count": null,
   "metadata": {},
   "outputs": [],
   "source": [
    "X_test = np.arange(0, 10, 0.01).reshape(-1, 1)"
   ]
  },
  {
   "cell_type": "code",
   "execution_count": null,
   "metadata": {},
   "outputs": [],
   "source": [
    "\"\"\" 생성된 데이터 확인 \"\"\"\n",
    "plt.figure(figsize=(8, 5))\n",
    "plt.scatter(X, y, s=20, edgecolor='black', c='lightblue', label='data')\n",
    "plt.legend(loc='lower right') # 범주 조절\n",
    "plt.show()"
   ]
  },
  {
   "cell_type": "markdown",
   "metadata": {},
   "source": [
    "# 3. Decision Tree Regressor"
   ]
  },
  {
   "cell_type": "code",
   "execution_count": null,
   "metadata": {},
   "outputs": [],
   "source": [
    "model = DecisionTreeRegressor(max_depth=None)\n",
    "model.fit(X, y)"
   ]
  },
  {
   "cell_type": "code",
   "execution_count": null,
   "metadata": {},
   "outputs": [],
   "source": [
    "y_pred = model.predict(X_test)"
   ]
  },
  {
   "cell_type": "code",
   "execution_count": null,
   "metadata": {},
   "outputs": [],
   "source": [
    "# 원본 데이터 및 결과 시각화\n",
    "plt.figure(figsize=(8, 5))\n",
    "\n",
    "plt.plot(X_test, y_pred, label='max_depth=None', linewidth=2)\n",
    "plt.scatter(X, y, s=20, edgecolor='black', c='lightblue', label='data')\n",
    "\n",
    "plt.xlabel('data')\n",
    "plt.ylabel('target')\n",
    "plt.legend(loc='lower right')\n",
    "plt.show()"
   ]
  },
  {
   "cell_type": "markdown",
   "metadata": {},
   "source": [
    "## 3.1 depth를 바꾸며 결과 확인"
   ]
  },
  {
   "cell_type": "code",
   "execution_count": null,
   "metadata": {},
   "outputs": [],
   "source": [
    "max_depths = [3, 5, None]"
   ]
  },
  {
   "cell_type": "code",
   "execution_count": null,
   "metadata": {},
   "outputs": [],
   "source": [
    "plt.figure(figsize=(12, 6))\n",
    "plt.scatter(X, y, s=20, edgecolor='black', c='lightblue', label='data')\n",
    "for i, max_depth in enumerate(max_depths):\n",
    "    \n",
    "    # 모델 학습\n",
    "    model = DecisionTreeRegressor(max_depth=max_depth)\n",
    "    model.fit(X, y)\n",
    "    \n",
    "    # 예측\n",
    "    y_pred = model.predict(X_test)\n",
    "    \n",
    "    # plot\n",
    "    plt.plot(X_test, y_pred, label='max_depth={}'.format(max_depth), linewidth=1.5, alpha=0.7)\n",
    "    \n",
    "plt.legend(loc='lower right')\n",
    "plt.show()"
   ]
  },
  {
   "cell_type": "code",
   "execution_count": null,
   "metadata": {},
   "outputs": [],
   "source": []
  }
 ],
 "metadata": {
  "kernelspec": {
   "display_name": "ttest",
   "language": "python",
   "name": "ttest"
  },
  "language_info": {
   "codemirror_mode": {
    "name": "ipython",
    "version": 3
   },
   "file_extension": ".py",
   "mimetype": "text/x-python",
   "name": "python",
   "nbconvert_exporter": "python",
   "pygments_lexer": "ipython3",
   "version": "3.7.11"
  }
 },
 "nbformat": 4,
 "nbformat_minor": 4
}
