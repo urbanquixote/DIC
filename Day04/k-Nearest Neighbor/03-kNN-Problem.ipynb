{
 "cells": [
  {
   "cell_type": "code",
   "execution_count": null,
   "metadata": {},
   "outputs": [],
   "source": [
    "!git clone https://github.com/KU-DIC/LG_time_series_day04.git #코랩 사용"
   ]
  },
  {
   "cell_type": "markdown",
   "metadata": {},
   "source": [
    "# [머신러닝 기반 시계열 분석 1 실습]\n",
    "# Decision Tree & k-NN \n",
    "# [k-Nearest Neighbor: k-NN 실전]"
   ]
  },
  {
   "cell_type": "markdown",
   "metadata": {},
   "source": [
    "##### jupyter notebook 단축키\n",
    "\n",
    "- ctrl+enter: 셀 실행   \n",
    "- shift+enter: 셀 실행 및 다음 셀 이동   \n",
    "- alt+enter: 셀 실행, 다음 셀 이동, 새로운 셀 생성\n",
    "- a: 상단에 새로운 셀 만들기\n",
    "- b: 하단에 새로운 셀 만들기\n",
    "- dd: 셀 삭제(x: 셀 삭제)\n",
    "- 함수 ( ) 안에서 shift+tab: arguments description. shift+tab+tab은 길게 볼 수 있도록"
   ]
  },
  {
   "cell_type": "markdown",
   "metadata": {},
   "source": [
    "## 1. 모듈 불러오기"
   ]
  },
  {
   "cell_type": "markdown",
   "metadata": {},
   "source": [
    "import 불러올 패키지명 as 그 패키지를 파이썬에서 사용할 이름"
   ]
  },
  {
   "cell_type": "code",
   "execution_count": null,
   "metadata": {},
   "outputs": [],
   "source": [
    "# 데이터 전처리\n",
    "import numpy as np\n",
    "import pandas as pd\n",
    "\n",
    "from sklearn.preprocessing import MinMaxScaler\n",
    "\n",
    "# 기계학습 모델 생성, 학습, 평가\n",
    "from sklearn.model_selection import train_test_split, GridSearchCV\n",
    "from sklearn.metrics import accuracy_score, f1_score, confusion_matrix\n",
    "from sklearn.neighbors import KNeighborsClassifier\n",
    "from sklearn.neighbors import VALID_METRICS\n",
    "\n",
    "# 시각화\n",
    "import seaborn as sns\n",
    "import matplotlib.pyplot as plt"
   ]
  },
  {
   "cell_type": "markdown",
   "metadata": {},
   "source": [
    "## 2. p2p 대출 데이터\n",
    "#### 문제상황\n",
    "- P2P 대출이란 일종의 크라우드펀딩으로 온라인 플랫폼을 기반으로 개인끼리 자금을 빌려주고 돌려받는 새로운 개념의 대출형태. 플랫폼이 온라인이라는 특수성 때문에 투자자들은 온라인에서 차용인의 정보만 획득하고 투자를 결정 <br>\n",
    "- 기존 신용평가모형이 아닌 새로운 대출지표가 필요. 머신러닝 방법론을 기반으로 금융·비금융 정보를 활용한 대출 상환예측 모델을 구축\n",
    "<br>\n",
    "<br>\n",
    "\n",
    "#### 설명변수 및 반응변수\n",
    "- annual_inc - 연봉\n",
    "- bc_util - 모든 카드의 신용금액 대비 현재 잔액 비율\n",
    "- dti - 총 부채상환 비율\n",
    "- num_accts_ever_120_pd - 120일 이상 연체한 계좌 수\n",
    "- pub_rec_bankruptcies - 부정적인 공공정보의 수\n",
    "- tax_liens - 세금에 의한 재산 차압의 수\n",
    "- tot_hi_cred_lim - 전체 신용한도\n",
    "- total_bc_limit - 신용카드의 한도\n",
    "- avg_cur_bal - 계좌의 평균 잔액\n",
    "- pct_tl_nvr_dlq - 연체 없는 거래의 비율\n",
    "- total_acc - 전체 한도 계좌의 수\n",
    "- int_rate - 이자\n",
    "- home_ownership - 집 소유 상태 (3종류: Own, Rent, Mortgage) <span style=\"color:red\"> (범주형) </span>\n",
    "- term - 상환기간 <span style=\"color:red\"> (범주형) </span>\n",
    "- <span style=\"color:blue\">TARGET - 0: 상환 성공, 1: 상환 실패 <b>[타겟 변수]</b> <br></span>"
   ]
  },
  {
   "cell_type": "code",
   "execution_count": null,
   "metadata": {},
   "outputs": [],
   "source": [
    "data = pd.read_csv('/content/LG_time_series_day04/data/p2p.csv')\n",
    "data.head()"
   ]
  },
  {
   "cell_type": "markdown",
   "metadata": {},
   "source": [
    "### 범주형 변수에 대한 더미 변수 생성"
   ]
  },
  {
   "cell_type": "code",
   "execution_count": null,
   "metadata": {},
   "outputs": [],
   "source": []
  },
  {
   "cell_type": "markdown",
   "metadata": {},
   "source": [
    "### X, y로 구분"
   ]
  },
  {
   "cell_type": "code",
   "execution_count": null,
   "metadata": {},
   "outputs": [],
   "source": []
  },
  {
   "cell_type": "markdown",
   "metadata": {},
   "source": [
    "### 클래스의 분포를 확인"
   ]
  },
  {
   "cell_type": "code",
   "execution_count": null,
   "metadata": {},
   "outputs": [],
   "source": []
  },
  {
   "cell_type": "markdown",
   "metadata": {},
   "source": [
    "## 3. 데이터 전처리"
   ]
  },
  {
   "cell_type": "markdown",
   "metadata": {},
   "source": [
    "### 학습-평가 데이터셋 구성\n",
    "- Train:Test = 80:20\n",
    "- 클래스 비율 유지: train_test_split 함수 내 stratify 옵션\n",
    "- randomstate = 2023"
   ]
  },
  {
   "cell_type": "code",
   "execution_count": null,
   "metadata": {},
   "outputs": [],
   "source": [
    "random_state = 2023\n",
    "X_train, X_test, y_train, y_test = train_test_split(X, y, test_size=2/10, random_state=random_state, stratify=y)"
   ]
  },
  {
   "cell_type": "markdown",
   "metadata": {},
   "source": [
    "#### 데이터 스케일링: 0-1"
   ]
  },
  {
   "cell_type": "code",
   "execution_count": null,
   "metadata": {},
   "outputs": [],
   "source": [
    "scaler = MinMaxScaler()\n",
    "X_train = scaler.fit_transform(X_train)\n",
    "X_test = scaler.transform(X_test)"
   ]
  },
  {
   "cell_type": "markdown",
   "metadata": {},
   "source": [
    "## 4. 최적 파라미터 탐색: Grid Search"
   ]
  },
  {
   "cell_type": "markdown",
   "metadata": {},
   "source": [
    "#### parameter grid 지정\n",
    "- dictioanry 안의 list 형태로 넣어서 구성"
   ]
  },
  {
   "cell_type": "code",
   "execution_count": null,
   "metadata": {},
   "outputs": [],
   "source": []
  },
  {
   "cell_type": "markdown",
   "metadata": {},
   "source": [
    "#### 기본 모델 구성 (grid search 외에 고정할 파라미터를 설정할 수 있음)"
   ]
  },
  {
   "cell_type": "code",
   "execution_count": null,
   "metadata": {},
   "outputs": [],
   "source": [
    "model = KNeighborsClassifier()"
   ]
  },
  {
   "cell_type": "markdown",
   "metadata": {},
   "source": [
    "#### Grid Search CV 모델 구성: cv = 5"
   ]
  },
  {
   "cell_type": "code",
   "execution_count": null,
   "metadata": {},
   "outputs": [],
   "source": []
  },
  {
   "cell_type": "markdown",
   "metadata": {},
   "source": [
    "### 필요한 정보 추출\n",
    "- 파라미터 조합 이름\n",
    "- 5-CV 성능의 평균 및 표준편차"
   ]
  },
  {
   "cell_type": "code",
   "execution_count": null,
   "metadata": {},
   "outputs": [],
   "source": [
    "results = model_cv.cv_results_\n",
    "params = results['params']\n",
    "mean_score = results['mean_test_score']\n",
    "std_score =results['std_test_score']"
   ]
  },
  {
   "cell_type": "code",
   "execution_count": null,
   "metadata": {},
   "outputs": [],
   "source": [
    "params = ['_'.join(str(x) for x in param.values()) for param in params]\n",
    "params[:5]"
   ]
  },
  {
   "cell_type": "code",
   "execution_count": null,
   "metadata": {},
   "outputs": [],
   "source": [
    "plt.figure(figsize=(15, 6))\n",
    "plt.fill_between(range(len(params)), mean_score - std_score, mean_score + std_score, alpha=0.1, color='blue')\n",
    "plt.plot(range(len(params)), mean_score, color='blue')\n",
    "plt.ylim([0.5, 1.0])\n",
    "plt.xticks(range(len(params)), params, rotation=90)\n",
    "plt.show()"
   ]
  },
  {
   "cell_type": "markdown",
   "metadata": {},
   "source": [
    "#### Best Parameter 찾기"
   ]
  },
  {
   "cell_type": "code",
   "execution_count": null,
   "metadata": {},
   "outputs": [],
   "source": [
    "print('Best parameters (Grid Search) \\n >> ', model_cv.best_params_)"
   ]
  },
  {
   "cell_type": "markdown",
   "metadata": {},
   "source": [
    "#### Best Model 찾기\n",
    "1) best parameter를 사용해서 모델을 다시 학습  \n",
    "2) best_estimator_를 그대로 사용"
   ]
  },
  {
   "cell_type": "code",
   "execution_count": null,
   "metadata": {},
   "outputs": [],
   "source": []
  },
  {
   "cell_type": "markdown",
   "metadata": {},
   "source": [
    "#### 모델 평가 (test)"
   ]
  },
  {
   "cell_type": "code",
   "execution_count": null,
   "metadata": {},
   "outputs": [],
   "source": [
    "# 에측 결과 산출\n",
    "\n",
    "\n",
    "# Confusion Matrix\n",
    "\n",
    "\n",
    "# Accuracy, F1-Score\n",
    "\n",
    "\n",
    "print('- Accuracy (Test) : {:.3}'.format(acc))\n",
    "print('- F1 score (Test) : {:.3}'.format(f1))"
   ]
  },
  {
   "cell_type": "markdown",
   "metadata": {},
   "source": [
    "#### 정오행렬 시각화"
   ]
  },
  {
   "cell_type": "code",
   "execution_count": null,
   "metadata": {},
   "outputs": [],
   "source": [
    "# 시각화\n",
    "plt.figure(figsize=(6, 5))\n",
    "sns.heatmap(data=cm, annot=True, annot_kws={'size': 15}, fmt='d', cmap='Blues')\n",
    "plt.title('Acc = {:.3f} & F1 = {:.3f}'.format(acc, f1))\n",
    "plt.show()"
   ]
  },
  {
   "cell_type": "markdown",
   "metadata": {},
   "source": [
    "## 5. 클래스 불균형: F1-Score를 사용해서 다시 한번!"
   ]
  },
  {
   "cell_type": "markdown",
   "metadata": {},
   "source": [
    "#### Grid Search"
   ]
  },
  {
   "cell_type": "code",
   "execution_count": null,
   "metadata": {},
   "outputs": [],
   "source": []
  },
  {
   "cell_type": "code",
   "execution_count": null,
   "metadata": {},
   "outputs": [],
   "source": [
    "print('Best parameters (Grid Search) \\n >> ', model_cv.best_params_)"
   ]
  },
  {
   "cell_type": "markdown",
   "metadata": {},
   "source": [
    "#### Best Model 선정"
   ]
  },
  {
   "cell_type": "code",
   "execution_count": null,
   "metadata": {},
   "outputs": [],
   "source": [
    "model = model_cv.best_estimator_"
   ]
  },
  {
   "cell_type": "markdown",
   "metadata": {},
   "source": [
    "#### 모델 평가 (test)"
   ]
  },
  {
   "cell_type": "code",
   "execution_count": null,
   "metadata": {},
   "outputs": [],
   "source": [
    "# 에측 결과 산출\n",
    "\n",
    "\n",
    "# Confusion Matrix\n",
    "\n",
    "# Accuracy, F1-Score\n",
    "\n",
    "\n",
    "print('- Accuracy (Test) : {:.3}'.format(acc))\n",
    "print('- F1 score (Test) : {:.3}'.format(f1))"
   ]
  },
  {
   "cell_type": "markdown",
   "metadata": {},
   "source": [
    "#### 정오행렬 시각화"
   ]
  },
  {
   "cell_type": "code",
   "execution_count": null,
   "metadata": {},
   "outputs": [],
   "source": [
    "# 시각화\n",
    "plt.figure(figsize=(6, 5))\n",
    "sns.heatmap(data=cm, annot=True, annot_kws={'size': 15}, fmt='d', cmap='Blues')\n",
    "plt.title('Acc = {:.3f} & F1 = {:.3f}'.format(acc, f1))\n",
    "plt.show()"
   ]
  }
 ],
 "metadata": {
  "kernelspec": {
   "display_name": "Python 3 (ipykernel)",
   "language": "python",
   "name": "python3"
  },
  "language_info": {
   "codemirror_mode": {
    "name": "ipython",
    "version": 3
   },
   "file_extension": ".py",
   "mimetype": "text/x-python",
   "name": "python",
   "nbconvert_exporter": "python",
   "pygments_lexer": "ipython3",
   "version": "3.7.11"
  }
 },
 "nbformat": 4,
 "nbformat_minor": 4
}
