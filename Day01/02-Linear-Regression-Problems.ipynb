{
 "cells": [
  {
   "attachments": {},
   "cell_type": "markdown",
   "metadata": {},
   "source": [
    "# 02-Linear Regression: Problems"
   ]
  },
  {
   "cell_type": "markdown",
   "metadata": {},
   "source": [
    "## 모듈 불러오기"
   ]
  },
  {
   "cell_type": "code",
   "execution_count": 1,
   "metadata": {},
   "outputs": [],
   "source": [
    "# 데이터 전처리 패키지\n",
    "import numpy as np\n",
    "import pandas as pd\n",
    "\n",
    "# 기계학습 모델 & 데이터 셋 & 성능 평가 패키지\n",
    "import statsmodels.api as sm\n",
    "import statsmodels.formula.api as smf\n",
    "\n",
    "from sklearn.preprocessing import StandardScaler, RobustScaler, MinMaxScaler, MaxAbsScaler\n",
    "from sklearn.model_selection import train_test_split\n",
    "from sklearn.metrics import mean_squared_error, r2_score, mean_absolute_error\n",
    "\n",
    "# 데이터 시각화 패키지\n",
    "import seaborn as sns\n",
    "import matplotlib.pyplot as plt\n",
    "import matplotlib.font_manager as fm\n",
    "\n",
    "# 경고 숨기기\n",
    "import warnings\n",
    "warnings.filterwarnings(action='ignore')\n",
    "\n",
    "def mean_absolute_percentage_error(y_true, y_pred):\n",
    "    y_true, y_pred = np.array(y_true), np.array(y_pred)\n",
    "    return np.mean(np.abs((y_true-y_pred)/y_true))*100\n",
    "\n",
    "!git clone https://github.com/hansam95/LG-Elec-Day1.git"
   ]
  },
  {
   "cell_type": "markdown",
   "metadata": {},
   "source": [
    "## 데이터 불러오기\n",
    "\n",
    "### Toyota Corolla Data (Toyota 중고차 가격 예측)\n",
    "\n",
    "#### 설명변수\n",
    "- Id : Record_ID\n",
    "- Model : Model Description\n",
    "- Age_08_04 : Age in months as in August 2004\n",
    "- Mfg_Month : Manufacturing month (1-12)\n",
    "- Mfg_Year : Manufacturing Year\n",
    "- KM : Accumulated Kilometers on odometer\n",
    "- Fuel_Type : Fuel Type (Petrol, Diesel, CNG)\n",
    "- HP : Horse Power\n",
    "- Met_Color : Metallic Color (Yes=1, No=0)\n",
    "- Color : Color (Blue, Red, Grey, Silver, Black, etc.)\n",
    "- Automatic : Automatic ( (Yes=1, No=0)\n",
    "- CC : Cylinder Volume in cubic centimeters\n",
    "- Doors : Number of doors\n",
    "- Cylinders : Number of cylinders\n",
    "- Gears : Number of gear positions\n",
    "- Quarterly_Tax : Quarterly road tax in EUROs\n",
    "- Weight : Weight in Kilograms\n",
    "- Mfr_Guarantee : Within Manufacturer's Guarantee period (Yes=1, No=0)\n",
    "- BOVAG_Guarantee : BOVAG (Dutch dealer network) Guarantee (Yes=1, No=0)\n",
    "- Guarantee_Period : Guarantee period in months\n",
    "- ABS : Anti-Lock Brake System (Yes=1, No=0)\n",
    "- Airbag_1 : Driver_Airbag (Yes=1, No=0)\n",
    "- Airbag_2 : Passenger Airbag (Yes=1, No=0)\n",
    "- Airco : Airconditioning (Yes=1, No=0)\n",
    "- Automatic_airco : Automatic Airconditioning (Yes=1, No=0)\n",
    "- Boardcomputer : Boardcomputer (Yes=1, No=0)\n",
    "- CD_Player : CD Player (Yes=1, No=0)\n",
    "- Central_Lock : Central Lock (Yes=1, No=0)\n",
    "- Powered_Windows : Powered Windows (Yes=1, No=0)\n",
    "- Power_Steering : Power Steering (Yes=1, No=0)\n",
    "- Radio : Radio (Yes=1, No=0)\n",
    "- Mistlamps : Mistlamps (Yes=1, No=0)\n",
    "- Sport_Model : Sport Model (Yes=1, No=0)\n",
    "- Backseat_Divider : Backseat Divider (Yes=1, No=0)\n",
    "- Metallic_Rim : Metallic Rim (Yes=1, No=0)\n",
    "- Radio_cassette : Radio Cassette (Yes=1, No=0)\n",
    "- Parking_Assistant : Parking assistance system (Yes=1, No=0)\n",
    "- Tow_Bar : Tow Bar (Yes=1, No=0)\n",
    "\n",
    "#### 반응변수\n",
    "- Price : Offer Price in EUROs"
   ]
  },
  {
   "cell_type": "code",
   "execution_count": 3,
   "metadata": {
    "scrolled": true
   },
   "outputs": [
    {
     "data": {
      "text/html": [
       "<div>\n",
       "<style scoped>\n",
       "    .dataframe tbody tr th:only-of-type {\n",
       "        vertical-align: middle;\n",
       "    }\n",
       "\n",
       "    .dataframe tbody tr th {\n",
       "        vertical-align: top;\n",
       "    }\n",
       "\n",
       "    .dataframe thead th {\n",
       "        text-align: right;\n",
       "    }\n",
       "</style>\n",
       "<table border=\"1\" class=\"dataframe\">\n",
       "  <thead>\n",
       "    <tr style=\"text-align: right;\">\n",
       "      <th></th>\n",
       "      <th>Id</th>\n",
       "      <th>Model</th>\n",
       "      <th>Price</th>\n",
       "      <th>Age_08_04</th>\n",
       "      <th>Mfg_Month</th>\n",
       "      <th>Mfg_Year</th>\n",
       "      <th>KM</th>\n",
       "      <th>Fuel_Type</th>\n",
       "      <th>HP</th>\n",
       "      <th>Met_Color</th>\n",
       "      <th>...</th>\n",
       "      <th>Central_Lock</th>\n",
       "      <th>Powered_Windows</th>\n",
       "      <th>Power_Steering</th>\n",
       "      <th>Radio</th>\n",
       "      <th>Mistlamps</th>\n",
       "      <th>Sport_Model</th>\n",
       "      <th>Backseat_Divider</th>\n",
       "      <th>Metallic_Rim</th>\n",
       "      <th>Radio_cassette</th>\n",
       "      <th>Tow_Bar</th>\n",
       "    </tr>\n",
       "  </thead>\n",
       "  <tbody>\n",
       "    <tr>\n",
       "      <th>0</th>\n",
       "      <td>1</td>\n",
       "      <td>TOYOTA Corolla 2.0 D4D HATCHB TERRA 2/3-Doors</td>\n",
       "      <td>13500</td>\n",
       "      <td>23</td>\n",
       "      <td>10</td>\n",
       "      <td>2002</td>\n",
       "      <td>46986</td>\n",
       "      <td>Diesel</td>\n",
       "      <td>90</td>\n",
       "      <td>1</td>\n",
       "      <td>...</td>\n",
       "      <td>1</td>\n",
       "      <td>1</td>\n",
       "      <td>1</td>\n",
       "      <td>0</td>\n",
       "      <td>0</td>\n",
       "      <td>0</td>\n",
       "      <td>1</td>\n",
       "      <td>0</td>\n",
       "      <td>0</td>\n",
       "      <td>0</td>\n",
       "    </tr>\n",
       "    <tr>\n",
       "      <th>1</th>\n",
       "      <td>2</td>\n",
       "      <td>TOYOTA Corolla 2.0 D4D HATCHB TERRA 2/3-Doors</td>\n",
       "      <td>13750</td>\n",
       "      <td>23</td>\n",
       "      <td>10</td>\n",
       "      <td>2002</td>\n",
       "      <td>72937</td>\n",
       "      <td>Diesel</td>\n",
       "      <td>90</td>\n",
       "      <td>1</td>\n",
       "      <td>...</td>\n",
       "      <td>1</td>\n",
       "      <td>0</td>\n",
       "      <td>1</td>\n",
       "      <td>0</td>\n",
       "      <td>0</td>\n",
       "      <td>0</td>\n",
       "      <td>1</td>\n",
       "      <td>0</td>\n",
       "      <td>0</td>\n",
       "      <td>0</td>\n",
       "    </tr>\n",
       "    <tr>\n",
       "      <th>2</th>\n",
       "      <td>3</td>\n",
       "      <td>?TOYOTA Corolla 2.0 D4D HATCHB TERRA 2/3-Doors</td>\n",
       "      <td>13950</td>\n",
       "      <td>24</td>\n",
       "      <td>9</td>\n",
       "      <td>2002</td>\n",
       "      <td>41711</td>\n",
       "      <td>Diesel</td>\n",
       "      <td>90</td>\n",
       "      <td>1</td>\n",
       "      <td>...</td>\n",
       "      <td>0</td>\n",
       "      <td>0</td>\n",
       "      <td>1</td>\n",
       "      <td>0</td>\n",
       "      <td>0</td>\n",
       "      <td>0</td>\n",
       "      <td>1</td>\n",
       "      <td>0</td>\n",
       "      <td>0</td>\n",
       "      <td>0</td>\n",
       "    </tr>\n",
       "    <tr>\n",
       "      <th>3</th>\n",
       "      <td>4</td>\n",
       "      <td>TOYOTA Corolla 2.0 D4D HATCHB TERRA 2/3-Doors</td>\n",
       "      <td>14950</td>\n",
       "      <td>26</td>\n",
       "      <td>7</td>\n",
       "      <td>2002</td>\n",
       "      <td>48000</td>\n",
       "      <td>Diesel</td>\n",
       "      <td>90</td>\n",
       "      <td>0</td>\n",
       "      <td>...</td>\n",
       "      <td>0</td>\n",
       "      <td>0</td>\n",
       "      <td>1</td>\n",
       "      <td>0</td>\n",
       "      <td>0</td>\n",
       "      <td>0</td>\n",
       "      <td>1</td>\n",
       "      <td>0</td>\n",
       "      <td>0</td>\n",
       "      <td>0</td>\n",
       "    </tr>\n",
       "    <tr>\n",
       "      <th>4</th>\n",
       "      <td>5</td>\n",
       "      <td>TOYOTA Corolla 2.0 D4D HATCHB SOL 2/3-Doors</td>\n",
       "      <td>13750</td>\n",
       "      <td>30</td>\n",
       "      <td>3</td>\n",
       "      <td>2002</td>\n",
       "      <td>38500</td>\n",
       "      <td>Diesel</td>\n",
       "      <td>90</td>\n",
       "      <td>0</td>\n",
       "      <td>...</td>\n",
       "      <td>1</td>\n",
       "      <td>1</td>\n",
       "      <td>1</td>\n",
       "      <td>0</td>\n",
       "      <td>1</td>\n",
       "      <td>0</td>\n",
       "      <td>1</td>\n",
       "      <td>0</td>\n",
       "      <td>0</td>\n",
       "      <td>0</td>\n",
       "    </tr>\n",
       "  </tbody>\n",
       "</table>\n",
       "<p>5 rows × 37 columns</p>\n",
       "</div>"
      ],
      "text/plain": [
       "   Id                                           Model  Price  Age_08_04  \\\n",
       "0   1   TOYOTA Corolla 2.0 D4D HATCHB TERRA 2/3-Doors  13500         23   \n",
       "1   2   TOYOTA Corolla 2.0 D4D HATCHB TERRA 2/3-Doors  13750         23   \n",
       "2   3  ?TOYOTA Corolla 2.0 D4D HATCHB TERRA 2/3-Doors  13950         24   \n",
       "3   4   TOYOTA Corolla 2.0 D4D HATCHB TERRA 2/3-Doors  14950         26   \n",
       "4   5     TOYOTA Corolla 2.0 D4D HATCHB SOL 2/3-Doors  13750         30   \n",
       "\n",
       "   Mfg_Month  Mfg_Year     KM Fuel_Type  HP  Met_Color  ...  Central_Lock  \\\n",
       "0         10      2002  46986    Diesel  90          1  ...             1   \n",
       "1         10      2002  72937    Diesel  90          1  ...             1   \n",
       "2          9      2002  41711    Diesel  90          1  ...             0   \n",
       "3          7      2002  48000    Diesel  90          0  ...             0   \n",
       "4          3      2002  38500    Diesel  90          0  ...             1   \n",
       "\n",
       "   Powered_Windows  Power_Steering  Radio  Mistlamps  Sport_Model  \\\n",
       "0                1               1      0          0            0   \n",
       "1                0               1      0          0            0   \n",
       "2                0               1      0          0            0   \n",
       "3                0               1      0          0            0   \n",
       "4                1               1      0          1            0   \n",
       "\n",
       "   Backseat_Divider  Metallic_Rim  Radio_cassette  Tow_Bar  \n",
       "0                 1             0               0        0  \n",
       "1                 1             0               0        0  \n",
       "2                 1             0               0        0  \n",
       "3                 1             0               0        0  \n",
       "4                 1             0               0        0  \n",
       "\n",
       "[5 rows x 37 columns]"
      ]
     },
     "execution_count": 3,
     "metadata": {},
     "output_type": "execute_result"
    }
   ],
   "source": [
    "data = pd.read_csv('Data/ToyotaCorolla.csv')\n",
    "data.head()"
   ]
  },
  {
   "cell_type": "markdown",
   "metadata": {},
   "source": [
    "## 데이터 전처리하기"
   ]
  },
  {
   "attachments": {},
   "cell_type": "markdown",
   "metadata": {},
   "source": [
    "### 데이터 행과 열 개수 확인"
   ]
  },
  {
   "cell_type": "code",
   "execution_count": null,
   "metadata": {
    "scrolled": true
   },
   "outputs": [],
   "source": [
    "data.'''Answer'''"
   ]
  },
  {
   "cell_type": "markdown",
   "metadata": {},
   "source": [
    "### Column별 기초 통계량 확인"
   ]
  },
  {
   "cell_type": "code",
   "execution_count": null,
   "metadata": {},
   "outputs": [],
   "source": [
    "data.'''Answer'''()"
   ]
  },
  {
   "cell_type": "markdown",
   "metadata": {},
   "source": [
    "### 예측에 필요하지 않은 변수 제거\n",
    "예측에 필요하지 않은 변수명: Id, Model, Fuel_Type"
   ]
  },
  {
   "cell_type": "code",
   "execution_count": null,
   "metadata": {},
   "outputs": [],
   "source": [
    "data = data.drop('''Answer''')\n",
    "data.head()"
   ]
  },
  {
   "cell_type": "markdown",
   "metadata": {},
   "source": [
    "### Training 데이터 70% / Testing 데이터 30% 로 나누기"
   ]
  },
  {
   "cell_type": "code",
   "execution_count": null,
   "metadata": {
    "scrolled": true
   },
   "outputs": [],
   "source": [
    "train_data, test_data = train_test_split('''Anwer''', random_state=55)"
   ]
  },
  {
   "cell_type": "markdown",
   "metadata": {},
   "source": [
    "## 모델링"
   ]
  },
  {
   "cell_type": "markdown",
   "metadata": {},
   "source": [
    "### 학습 데이터를 이용하여 선형회귀모델 학습 (상수항 미포함)"
   ]
  },
  {
   "cell_type": "code",
   "execution_count": null,
   "metadata": {},
   "outputs": [],
   "source": [
    "lm = sm.OLS('''Answer''')\n",
    "lm_trained = '''Answer'''"
   ]
  },
  {
   "cell_type": "markdown",
   "metadata": {},
   "source": [
    "### 모델 학습 결과 (Summary) 확인"
   ]
  },
  {
   "cell_type": "code",
   "execution_count": null,
   "metadata": {},
   "outputs": [],
   "source": [
    "lm_trained.'''Answer'''()"
   ]
  },
  {
   "cell_type": "markdown",
   "metadata": {},
   "source": [
    "## 예측성능 평가"
   ]
  },
  {
   "cell_type": "markdown",
   "metadata": {},
   "source": [
    "### 학습 데이터셋에 대한 예측성능 평가\n",
    "MSE, RMSE, MAE, MAPE, R2 계산하여 성능 확인"
   ]
  },
  {
   "cell_type": "code",
   "execution_count": null,
   "metadata": {},
   "outputs": [],
   "source": [
    "train_pred = lm_trained.'''Answer'''\n",
    "\n",
    "print('Training MSE: {:.3f}'.format('''Answer''')\n",
    "print('Training RMSE: {:.3f}'.format('''Answer''')\n",
    "print('Training MAE: {:.3f}'.format('''Answer''')\n",
    "print('Training MAPE: {:.3f}'.format('''Answer''')\n",
    "print('Training R2: {:.3f}'.format('''Answer''')"
   ]
  },
  {
   "cell_type": "markdown",
   "metadata": {},
   "source": [
    "### 테스트 데이터셋에 대한 예측성능 평가\n",
    "MSE, RMSE, MAE, MAPE, R2 계산하여 성능 확인"
   ]
  },
  {
   "cell_type": "code",
   "execution_count": null,
   "metadata": {},
   "outputs": [],
   "source": [
    "test_pred = lm_trained.'''Answer'''\n",
    "\n",
    "print('Testing MSE: {:.3f}'.format('''Answer''')\n",
    "print('Testing RMSE: {:.3f}'.format('''Answer''')\n",
    "print('Testing MAE: {:.3f}'.format('''Answer''')\n",
    "print('Testing MAPE: {:.3f}'.format('''Answer''')\n",
    "print('Testing R2: {:.3f}'.format('''Answer'''?)"
   ]
  },
  {
   "cell_type": "markdown",
   "metadata": {},
   "source": [
    "## 변수 선택"
   ]
  },
  {
   "cell_type": "markdown",
   "metadata": {},
   "source": [
    "### 선형회귀모델에서 유의하지 않은 변수가 있다면 제거"
   ]
  },
  {
   "cell_type": "code",
   "execution_count": null,
   "metadata": {},
   "outputs": [],
   "source": [
    "not_significants = lm_trained.pvalues.index[lm_trained.pvalues > '''Answer''']\n",
    "print(not_significants)\n",
    "\n",
    "train_data_new = train_data.drop(not_significants, axis=1)\n",
    "test_data_new = test_data.drop(not_significants, axis=1)\n",
    "\n",
    "## 직접 p-value를 보고 drop 함수를 통해 제거하기도 가능"
   ]
  },
  {
   "cell_type": "markdown",
   "metadata": {},
   "source": [
    "### 변수 제거 후 모델 학습 결과 확인"
   ]
  },
  {
   "cell_type": "code",
   "execution_count": null,
   "metadata": {},
   "outputs": [],
   "source": [
    "lm_new = sm.OLS('''Answer''')\n",
    "lm_new_trained = '''Answer'''\n",
    "lm_new_trained.summary()"
   ]
  },
  {
   "cell_type": "markdown",
   "metadata": {},
   "source": [
    "### 변수 제거 후 모델 예측성능 (학습/테스트) 확인"
   ]
  },
  {
   "cell_type": "code",
   "execution_count": null,
   "metadata": {},
   "outputs": [],
   "source": [
    "train_pred_new = lm_new_trained.'''Answer'''\n",
    "\n",
    "print('Training MSE: {:.3f}'.format('''Answer''')\n",
    "print('Training RMSE: {:.3f}'.format('''Answer''')\n",
    "print('Training MAE: {:.3f}'.format('''Answer''')\n",
    "print('Training MAPE: {:.3f}'.format('''Answer''')\n",
    "print('Training R2: {:.3f}'.format('''Answer''')"
   ]
  },
  {
   "cell_type": "code",
   "execution_count": null,
   "metadata": {
    "scrolled": true
   },
   "outputs": [],
   "source": [
    "test_pred_new = lm_new_trained.'''Answer'''\n",
    "\n",
    "print('Training MSE: {:.3f}'.format('''Answer''')\n",
    "print('Training RMSE: {:.3f}'.format('''Answer''')\n",
    "print('Training MAE: {:.3f}'.format('''Answer''')\n",
    "print('Training MAPE: {:.3f}'.format('''Answer''')\n",
    "print('Training R2: {:.3f}'.format('''Answer''')"
   ]
  },
  {
   "cell_type": "markdown",
   "metadata": {},
   "source": [
    "### 상관계수가 높은 설명변수들이 있다면 하나의 변수만 선택\n",
    "변수별 상관계수 히트맵 출력"
   ]
  },
  {
   "cell_type": "code",
   "execution_count": null,
   "metadata": {
    "scrolled": true
   },
   "outputs": [],
   "source": [
    "plt.figure(figsize=(20, 18))\n",
    "'''Answer'''(data.corr(), cmap=sns.color_palette(\"coolwarm\", 10), annot=data.corr())"
   ]
  },
  {
   "cell_type": "markdown",
   "metadata": {},
   "source": [
    "상관계수가 높은 두 변수 중 하나의 변수만 선택하여 설명변수에서 제거"
   ]
  },
  {
   "cell_type": "code",
   "execution_count": null,
   "metadata": {},
   "outputs": [],
   "source": [
    "train_data_new2 = train_data.drop('''Answer''')\n",
    "test_data_new2 = test_data.drop('''Answer''')"
   ]
  },
  {
   "cell_type": "markdown",
   "metadata": {},
   "source": [
    "### 변수 제거 후 모델 학습 결과 확인"
   ]
  },
  {
   "cell_type": "code",
   "execution_count": null,
   "metadata": {},
   "outputs": [],
   "source": [
    "lm_new2 = '''Answer'''(train_data_new2['Price'], train_data_new2.drop('Price', axis=1))\n",
    "lm_new2_trained = '''Answer'''\n",
    "lm_new2_trained.summary()"
   ]
  },
  {
   "cell_type": "markdown",
   "metadata": {},
   "source": [
    "### 변수 제거 후 모델 예측성능 (학습/테스트) 확인"
   ]
  },
  {
   "cell_type": "code",
   "execution_count": null,
   "metadata": {},
   "outputs": [],
   "source": [
    "train_pred_new2 = lm_new2_trained.'''Answer'''\n",
    "\n",
    "print('Training MSE: {:.3f}'.format(mean_squared_error(train_data_new2['Price'], train_pred_new2)))\n",
    "print('Training RMSE: {:.3f}'.format(np.sqrt(mean_squared_error(train_data_new2['Price'], train_pred_new2))))\n",
    "print('Training MAE: {:.3f}'.format(mean_absolute_error(train_data_new2['Price'], train_pred_new2)))\n",
    "print('Training MAPE: {:.3f}'.format(mean_absolute_percentage_error(train_data_new2['Price'], train_pred_new2)))\n",
    "print('Training R2: {:.3f}'.format(r2_score(train_data_new2['Price'], train_pred_new2)))"
   ]
  },
  {
   "cell_type": "code",
   "execution_count": null,
   "metadata": {},
   "outputs": [],
   "source": [
    "test_pred_new2 = lm_new2_trained.'''Answer'''\n",
    "\n",
    "print('Testing MSE: {:.3f}'.format(mean_squared_error(test_data_new2['Price'], test_pred_new2)))\n",
    "print('Testing RMSE: {:.3f}'.format(np.sqrt(mean_squared_error(test_data_new2['Price'], test_pred_new2))))\n",
    "print('Testing MAE: {:.3f}'.format(mean_absolute_error(test_data_new2['Price'], test_pred_new2)))\n",
    "print('Testing MAPE: {:.3f}'.format(mean_absolute_percentage_error(test_data_new2['Price'], test_pred_new2)))\n",
    "print('Testing R2: {:.3f}'.format(r2_score(test_data_new2['Price'], test_pred_new2)))"
   ]
  }
 ],
 "metadata": {
  "kernelspec": {
   "display_name": "Python 3",
   "language": "python",
   "name": "python3"
  },
  "language_info": {
   "codemirror_mode": {
    "name": "ipython",
    "version": 3
   },
   "file_extension": ".py",
   "mimetype": "text/x-python",
   "name": "python",
   "nbconvert_exporter": "python",
   "pygments_lexer": "ipython3",
   "version": "3.8.10 (default, Jun 22 2022, 20:18:18) \n[GCC 9.4.0]"
  },
  "toc": {
   "base_numbering": 1,
   "nav_menu": {},
   "number_sections": true,
   "sideBar": true,
   "skip_h1_title": false,
   "title_cell": "Table of Contents",
   "title_sidebar": "Contents",
   "toc_cell": false,
   "toc_position": {},
   "toc_section_display": true,
   "toc_window_display": true
  },
  "vscode": {
   "interpreter": {
    "hash": "e7370f93d1d0cde622a1f8e1c04877d8463912d04d973331ad4851f04de6915a"
   }
  }
 },
 "nbformat": 4,
 "nbformat_minor": 2
}
