{
 "cells": [
  {
   "attachments": {},
   "cell_type": "markdown",
   "metadata": {},
   "source": [
    "# 05-Logistic Regression: Problems"
   ]
  },
  {
   "cell_type": "markdown",
   "metadata": {},
   "source": [
    "## 모듈 불러오기"
   ]
  },
  {
   "cell_type": "code",
   "execution_count": null,
   "metadata": {},
   "outputs": [],
   "source": [
    "# 데이터 전처리 패키지\n",
    "import numpy as np\n",
    "import pandas as pd\n",
    "from sklearn.preprocessing import StandardScaler\n",
    "\n",
    "# 기계학습 모델 구축 및 평가 패키지\n",
    "from sklearn.linear_model import LogisticRegression\n",
    "from sklearn.model_selection import train_test_split\n",
    "from sklearn.metrics import roc_curve, accuracy_score, confusion_matrix, recall_score, precision_score\n",
    "\n",
    "# 데이터 시각화 패키지\n",
    "import seaborn as sns\n",
    "import matplotlib.pyplot as plt\n",
    "import matplotlib.font_manager as fm\n",
    "\n",
    "# # 한글 폰트 설정\n",
    "# plt.rc('font', family='Malgun Gothic')\n",
    "\n",
    "# !git clone https://github.com/KU-DIC/LG_time_series_day03.git"
   ]
  },
  {
   "cell_type": "markdown",
   "metadata": {},
   "source": [
    "## 데이터 불러오기"
   ]
  },
  {
   "cell_type": "markdown",
   "metadata": {},
   "source": [
    "### Parkinson 질병 예측\n",
    ": This dataset is composed of a range of biomedical voice measurements from 31 people, 23 with Parkinson's disease (PD). Each column in the table is a particular voice measure, and each row corresponds one of 195 voice recording from these individuals (\"name\" column). The main aim of the data is to discriminate healthy people from those with PD, according to \"status\" column which is set to 0 for healthy and 1 for PD.\n",
    "\n",
    "The data is in ASCII CSV format. The rows of the CSV file contain an instance corresponding to one voice recording. There are around six recordings per patient, the name of the patient is identified in the first column.For further information or to pass on comments, please contact Max Little (littlem '@' robots.ox.ac.uk).\n",
    "\n",
    "Further details are contained in the following reference -- if you use this dataset, please cite:\n",
    "Max A. Little, Patrick E. McSharry, Eric J. Hunter, Lorraine O. Ramig (2008), 'Suitability of dysphonia measurements for telemonitoring of Parkinson's disease', IEEE Transactions on Biomedical Engineering (to appear).\n",
    "\n",
    "### 타겟변수(Y): status (1:Parkinson, 0:Healthy)\n",
    "\n",
    "### 0: 정상 / 1: 환자"
   ]
  },
  {
   "cell_type": "code",
   "execution_count": null,
   "metadata": {},
   "outputs": [],
   "source": [
    "data = pd.read_csv('''Answer''')\n",
    "data.head()"
   ]
  },
  {
   "cell_type": "markdown",
   "metadata": {},
   "source": [
    "## 데이터 전처리"
   ]
  },
  {
   "attachments": {},
   "cell_type": "markdown",
   "metadata": {},
   "source": [
    "### 데이터 행과 열 개수 확인"
   ]
  },
  {
   "cell_type": "code",
   "execution_count": null,
   "metadata": {},
   "outputs": [],
   "source": [
    "data.'''Answer'''"
   ]
  },
  {
   "cell_type": "markdown",
   "metadata": {},
   "source": [
    "### Column별 기초 통계량 확인"
   ]
  },
  {
   "cell_type": "code",
   "execution_count": null,
   "metadata": {},
   "outputs": [],
   "source": [
    "data.'''Answer'''()"
   ]
  },
  {
   "cell_type": "markdown",
   "metadata": {},
   "source": [
    "### 필요하지 않은 변수 제거"
   ]
  },
  {
   "cell_type": "code",
   "execution_count": null,
   "metadata": {},
   "outputs": [],
   "source": [
    "data = data.drop('''Answer''')"
   ]
  },
  {
   "cell_type": "markdown",
   "metadata": {},
   "source": [
    "### 설명변수(X), 반응변수(y) 나누기"
   ]
  },
  {
   "cell_type": "code",
   "execution_count": null,
   "metadata": {},
   "outputs": [],
   "source": [
    "X = '''Answer'''\n",
    "y = '''Answer'''\n",
    "\n",
    "display(X.head(3))"
   ]
  },
  {
   "cell_type": "markdown",
   "metadata": {},
   "source": [
    "### 변수별 target y 값 분포 확인"
   ]
  },
  {
   "cell_type": "code",
   "execution_count": null,
   "metadata": {},
   "outputs": [],
   "source": [
    "parkinson = '''Answer'''\n",
    "healthy =  '''Answer'''\n",
    "\n",
    "plt.figure(figsize=[20,15])\n",
    "\n",
    "for col in range(22):\n",
    "    plt.subplot(6,4,col+1)\n",
    "    plt.hist(parkinson.iloc[:,col],bins=20, alpha=0.3) # 막대 너비 = 전체 구간을 bins=20으로 나누어 준 너비\n",
    "    plt.hist(healthy.iloc[:,col], bins=20 ,alpha=0.3) # alpha 는 투명도(0~1)를 조절\n",
    "    plt.title(X.columns[col])\n",
    "    plt.legend(['Healty', 'Parkinson'])\n",
    "    plt.xticks([])"
   ]
  },
  {
   "cell_type": "markdown",
   "metadata": {},
   "source": [
    "### Training 데이터 70% / Testing 데이터 30% 나누기"
   ]
  },
  {
   "cell_type": "code",
   "execution_count": null,
   "metadata": {
    "scrolled": false
   },
   "outputs": [],
   "source": [
    "X_train, X_test, y_train, y_test = train_test_split('''Answer''')"
   ]
  },
  {
   "cell_type": "markdown",
   "metadata": {},
   "source": [
    "### 데이터 전처리 (정규화)"
   ]
  },
  {
   "cell_type": "code",
   "execution_count": null,
   "metadata": {
    "scrolled": true
   },
   "outputs": [],
   "source": [
    "normalizer = '''Answer'''\n",
    "X_train = normalizer.fit_transform('''Answer''')\n",
    "X_test = normalizer.'''Answer'''"
   ]
  },
  {
   "cell_type": "markdown",
   "metadata": {},
   "source": [
    "## 모델링"
   ]
  },
  {
   "cell_type": "code",
   "execution_count": null,
   "metadata": {
    "scrolled": true
   },
   "outputs": [],
   "source": [
    "# model 불러오기\n",
    "model = LogisticRegression()\n",
    "\n",
    "# model 학습시키기\n",
    "model.fit('''Answer''')"
   ]
  },
  {
   "cell_type": "markdown",
   "metadata": {},
   "source": [
    "## 모델 결과물 확인 (변수별 beta, exp(beta) 확인)"
   ]
  },
  {
   "cell_type": "code",
   "execution_count": null,
   "metadata": {},
   "outputs": [],
   "source": [
    "# 데이터 컬럼에 따른 beta, exp(beta) 체크\n",
    "column_name = [\"const\"] + X.columns.tolist()\n",
    "beta = np.concatenate([model.intercept_,model.coef_.reshape('''Answer''')]).round(2) # round(2) 소수점 둘째짜리까지 반올림\n",
    "odds = np.exp(beta).round(2) # round(2) 소수점 둘째짜리까지 반올림\n",
    "interpret = np.where(beta>0,'risky','protective') # np.where() 조건문 \n",
    "\n",
    "# beta 해석 정리\n",
    "beta_analysis = pd.DataFrame(np.c_[beta,odds,interpret],index=column_name, columns=['beta','exp(beta)','interpret'])\n",
    "beta_analysis"
   ]
  },
  {
   "cell_type": "markdown",
   "metadata": {},
   "source": [
    "### Numpy를 통해 계산한 결과와 model.predict_proba() 함수를 사용한 결과 비교"
   ]
  },
  {
   "cell_type": "code",
   "execution_count": null,
   "metadata": {},
   "outputs": [],
   "source": [
    "probs = model.predict_proba('''Answer''')[:,1]\n",
    "\n",
    "## beta 곱하기 X 계산 (np.c_ :상수항 파트)\n",
    "Xbeta = np.matmul(np.c_['''Answer'''],beta.reshape(-1,1))\n",
    "\n",
    "## P(Y=1) 계산\n",
    "P_1 = 1 / (1+np.exp(-Xbeta))\n",
    "\n",
    "## 패키지와 직접 계산 결과 비교\n",
    "pd.DataFrame(np.concatenate([P_1,probs.reshape(-1,1)],axis=1),columns=['직접','패키지'])[:10]"
   ]
  },
  {
   "cell_type": "markdown",
   "metadata": {},
   "source": [
    "### 산출한 예측 결과값의 성능을 Cut off 값을 변경하며 Accuracy 관찰할 것."
   ]
  },
  {
   "cell_type": "code",
   "execution_count": null,
   "metadata": {},
   "outputs": [],
   "source": [
    "Cut_off = np.linspace(0,1,11)\n",
    "\n",
    "## cut off 값 여러개 만들어두기\n",
    "for cutoff in Cut_off:\n",
    "    y_pred = np.where(probs.reshape(-1)>=cutoff,1,0) # 확률값이 cuf off보다 크면 1(유방암), 아니면 0(유방암x)\n",
    "    acc = '''Answer'''(y_true = y_test, y_pred =y_pred)\n",
    "    recall = '''Answer'''(y_true = y_test, y_pred =y_pred)\n",
    "    precision = '''Answer'''(y_true = y_test, y_pred =y_pred)\n",
    "    \n",
    "    print(f\"정확도:{acc:0.2f}\",f\"민감도:{recall:0.2f}\",f\"정밀도:{precision:0.2f}\",f\"cut off:{cutoff:0.2f}\", sep='  |  ')  "
   ]
  },
  {
   "cell_type": "markdown",
   "metadata": {},
   "source": [
    "### 최종 Cut-off에 대해 Confusion Matrix 그려보기"
   ]
  },
  {
   "cell_type": "code",
   "execution_count": null,
   "metadata": {},
   "outputs": [],
   "source": [
    "best_cut_off = 0.5\n",
    "y_pred = np.where('''Answer'''.reshape(-1)>=best_cut_off,1,0)\n",
    "cm = '''Answer'''(y_true = y_test, y_pred =y_pred)"
   ]
  },
  {
   "cell_type": "code",
   "execution_count": null,
   "metadata": {},
   "outputs": [],
   "source": [
    "sns.heatmap(cm, xticklabels=['Healthy', 'Parkinson'], yticklabels=['Healthy', 'Parkinson'], annot=True, fmt=\"d\");\n",
    "plt.title(\"Cut_off : {:.2f}\".format(best_cut_off))\n",
    "plt.ylabel('True class')\n",
    "plt.xlabel('Predicted class')\n",
    "plt.show()"
   ]
  },
  {
   "cell_type": "markdown",
   "metadata": {},
   "source": [
    "### ROC Curve 그려보기"
   ]
  },
  {
   "cell_type": "code",
   "execution_count": null,
   "metadata": {},
   "outputs": [],
   "source": [
    "# Roc curve X 축, Y축 추출\n",
    "model_fpr, model_tpr, threshold1 = roc_curve(y_test, probs)\n",
    "random_fpr, random_tpr, threshold2 = roc_curve(y_test, [0 for i in range(len(X_test))])\n",
    "\n",
    "# plot the roc curve for the model and random\n",
    "plt.figure('''Answer''')\n",
    "plt.plot('''Answer''')\n",
    "plt.plot('''Answer''')\n",
    "\n",
    "# axis labels\n",
    "plt.'''Answer'''('False Positive Rate',size=20)  # X axis labels\n",
    "plt.'''Answer'''('True Positive Rate',size=20)  # Y axis labels\n",
    " \n",
    "# show the legend\n",
    "plt.'''Answer'''(fontsize=20)\n",
    " \n",
    "# show the plot\n",
    "plt.title(\"ROC curve\",size=20)\n",
    "plt.show()"
   ]
  }
 ],
 "metadata": {
  "kernelspec": {
   "display_name": "Python 3",
   "language": "python",
   "name": "python3"
  },
  "language_info": {
   "codemirror_mode": {
    "name": "ipython",
    "version": 3
   },
   "file_extension": ".py",
   "mimetype": "text/x-python",
   "name": "python",
   "nbconvert_exporter": "python",
   "pygments_lexer": "ipython3",
   "version": "3.8.10 (default, Jun 22 2022, 20:18:18) \n[GCC 9.4.0]"
  },
  "toc": {
   "base_numbering": 1,
   "nav_menu": {},
   "number_sections": true,
   "sideBar": true,
   "skip_h1_title": false,
   "title_cell": "Table of Contents",
   "title_sidebar": "Contents",
   "toc_cell": false,
   "toc_position": {},
   "toc_section_display": true,
   "toc_window_display": false
  },
  "vscode": {
   "interpreter": {
    "hash": "e7370f93d1d0cde622a1f8e1c04877d8463912d04d973331ad4851f04de6915a"
   }
  }
 },
 "nbformat": 4,
 "nbformat_minor": 2
}
