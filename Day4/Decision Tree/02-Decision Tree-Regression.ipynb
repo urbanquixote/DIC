{
 "cells": [
  {
   "cell_type": "code",
   "execution_count": null,
   "id": "a3405253-e7a8-44a2-a002-9c485481bd58",
   "metadata": {},
   "outputs": [],
   "source": [
    "!git clone https://github.com/KU-DIC/LG_time_series_day04.git #코랩 사용"
   ]
  },
  {
   "cell_type": "markdown",
   "id": "201eeb20-9af0-4178-bc41-28c65811e30f",
   "metadata": {
    "tags": []
   },
   "source": [
    "# [머신러닝 기반 시계열 분석 1 실습]\n",
    "# Decision Tree & k-NN \n",
    "## [Decision Tree: Regression Tree - Example]"
   ]
  },
  {
   "cell_type": "markdown",
   "id": "fe121943-f013-4868-a1bb-9bfde12c67f0",
   "metadata": {},
   "source": [
    "##### jupyter notebook 단축키\n",
    "\n",
    "- ctrl+enter: 셀 실행   \n",
    "- shift+enter: 셀 실행 및 다음 셀 이동   \n",
    "- alt+enter: 셀 실행, 다음 셀 이동, 새로운 셀 생성\n",
    "- a: 상단에 새로운 셀 만들기\n",
    "- b: 하단에 새로운 셀 만들기\n",
    "- dd: 셀 삭제(x: 셀 삭제)\n",
    "- 함수 ( ) 안에서 shift+tab: arguments description. shift+tab+tab은 길게 볼 수 있도록"
   ]
  },
  {
   "cell_type": "markdown",
   "id": "b6e9a3d7-c9ba-4b55-aeaf-f3d5011c6d83",
   "metadata": {},
   "source": [
    "## 1. 모듈 불러오기"
   ]
  },
  {
   "cell_type": "markdown",
   "id": "16ff7ef1-95f0-4439-9758-0f735cb1ef7d",
   "metadata": {},
   "source": [
    "import 불러올 패키지명 as 그 패키지를 파이썬에서 사용할 이름"
   ]
  },
  {
   "cell_type": "code",
   "execution_count": null,
   "id": "4dfd87e7",
   "metadata": {},
   "outputs": [],
   "source": [
    "\"\"\" 데이터 전처리 \"\"\"\n",
    "import pandas as pd\n",
    "import numpy as np\n",
    "\n",
    "\n",
    "\"\"\" 모델 생성, 학습, 평가 \"\"\"\n",
    "from sklearn.model_selection import train_test_split\n",
    "from sklearn.tree import DecisionTreeRegressor\n",
    "from sklearn.linear_model import LinearRegression\n",
    "from sklearn.metrics import mean_squared_error\n",
    "\n",
    "\"\"\" 시각화 \"\"\"\n",
    "import matplotlib.pyplot as plt"
   ]
  },
  {
   "cell_type": "markdown",
   "id": "9f73ad0e-8531-47fe-a7c5-e2a98c76c419",
   "metadata": {},
   "source": [
    "## 2. 데이터 불러오기\n",
    "\n",
    "- Stock Market Prediction using Decision Tree"
   ]
  },
  {
   "cell_type": "code",
   "execution_count": null,
   "id": "8b649532",
   "metadata": {},
   "outputs": [],
   "source": [
    "# apple 주식 data 불러오기\n",
    "df = pd.read_csv('/content/LG_time_series_day04/data/AAPL_data.csv')\n",
    "#df = pd.read_csv('../data/AAPL_data.csv') #로컬"
   ]
  },
  {
   "cell_type": "code",
   "execution_count": null,
   "id": "8d7a917c",
   "metadata": {},
   "outputs": [],
   "source": [
    "# data 상위 5개 행 살펴보기\n",
    "df.head()"
   ]
  },
  {
   "cell_type": "code",
   "execution_count": null,
   "id": "6e540319",
   "metadata": {},
   "outputs": [],
   "source": [
    "# data 정보 확인\n",
    "df.info()"
   ]
  },
  {
   "cell_type": "code",
   "execution_count": null,
   "id": "6eea5ba2",
   "metadata": {},
   "outputs": [],
   "source": [
    "# data 요약 통계량 확인\n",
    "df.describe()"
   ]
  },
  {
   "cell_type": "code",
   "execution_count": null,
   "id": "285a156e",
   "metadata": {},
   "outputs": [],
   "source": [
    "# data 크기 확인\n",
    "df.shape"
   ]
  },
  {
   "cell_type": "markdown",
   "id": "3cc5d6c6",
   "metadata": {},
   "source": [
    "## 2.1 Exploratory Data Analysis(EDA)"
   ]
  },
  {
   "cell_type": "code",
   "execution_count": null,
   "id": "14acc8d7",
   "metadata": {},
   "outputs": [],
   "source": [
    "# Apple stock data의 opening price 시각화\n",
    "plt.figure(figsize = (16,8))\n",
    "plt.title('Apple stock')\n",
    "plt.xlabel('Days')\n",
    "plt.ylabel('Opening Price USD ($)')\n",
    "plt.plot(df['open'])\n",
    "plt.show()"
   ]
  },
  {
   "cell_type": "code",
   "execution_count": null,
   "id": "33391a1a",
   "metadata": {},
   "outputs": [],
   "source": [
    "# Apple stock data의 low price 시각화\n",
    "plt.figure(figsize = (16,8))\n",
    "plt.title('Apple stock')\n",
    "plt.xlabel('Days')\n",
    "plt.ylabel('Low Price USD ($)')\n",
    "plt.plot(df['low'])\n",
    "plt.show()"
   ]
  },
  {
   "cell_type": "code",
   "execution_count": null,
   "id": "e38b6653",
   "metadata": {},
   "outputs": [],
   "source": [
    "# Apple stock data의 close price 시각화\n",
    "plt.figure(figsize=(16,8))\n",
    "plt.title('Apple')\n",
    "plt.xlabel('Days')\n",
    "plt.ylabel('Closing Price USD ($)')\n",
    "plt.plot(df['close'])\n",
    "plt.show()"
   ]
  },
  {
   "cell_type": "code",
   "execution_count": null,
   "id": "69cd573b",
   "metadata": {},
   "outputs": [],
   "source": [
    "# close price data를 새로운 dataframe df2에 저장\n",
    "df2 = df['close']\n",
    "df2 = pd.DataFrame(df2)"
   ]
  },
  {
   "cell_type": "markdown",
   "id": "9ff7cc6d",
   "metadata": {},
   "source": [
    "## 2.2 Prediction 100 days into the future"
   ]
  },
  {
   "cell_type": "code",
   "execution_count": null,
   "id": "ab5869ef",
   "metadata": {},
   "outputs": [],
   "source": [
    "# 현재 data에서 100시점 만큼 미래를 예측하는 것이 목적이므로 데이터를 100시점 만큼 앞으로 당김 -> df2['prediction']에 저장\n",
    "# df2['Prediction'] 끝에서부터 100시점은 Not A Number(NAN) 처리됨\n",
    "future_days = 100\n",
    "df2['Prediction'] = df2['close'].shift(-future_days)\n",
    "df2"
   ]
  },
  {
   "cell_type": "code",
   "execution_count": null,
   "id": "62943aa2",
   "metadata": {},
   "outputs": [],
   "source": [
    "# df2['Prediction']는 df2['close']를 100시점만큼 이전으로 평행이동한 값임을 plot을 통해 확인\n",
    "plt.figure(figsize=(16,8))\n",
    "plt.title('Apple Stock')\n",
    "plt.xlabel('Days')\n",
    "plt.ylabel('Price USD ($)')\n",
    "plt.plot(df2['close'])\n",
    "plt.plot(df2['Prediction'])\n",
    "plt.legend(['close','Prediction'])\n",
    "plt.show()"
   ]
  },
  {
   "cell_type": "code",
   "execution_count": null,
   "id": "372f845b",
   "metadata": {},
   "outputs": [],
   "source": [
    "# df['close']의 끝시점으로부터 100시점 이전까지를 제외한 후 X array에 저장\n",
    "X = np.array(df2.drop(['Prediction'], 1))[:-future_days]\n",
    "print(X)"
   ]
  },
  {
   "cell_type": "code",
   "execution_count": null,
   "id": "8ae9a308",
   "metadata": {},
   "outputs": [],
   "source": [
    "# df['Prediction']의 끝시점으로부터 100시점 이전까지를 제외한 후 y array에 저장\n",
    "y = np.array(df2['Prediction'])[:-future_days]\n",
    "print(y)"
   ]
  },
  {
   "cell_type": "code",
   "execution_count": null,
   "id": "800fa876",
   "metadata": {},
   "outputs": [],
   "source": [
    "# 즉, y는 X 각 시점의 100시점 이후의 값을 의미하며 이를 모델의 X, y값으로 대입\n",
    "plt.figure(figsize=(16,8))\n",
    "plt.title('Apple Stock')\n",
    "plt.xlabel('Days')\n",
    "plt.ylabel('Closing Price USD ($)')\n",
    "plt.plot(X)\n",
    "plt.plot(y)"
   ]
  },
  {
   "cell_type": "markdown",
   "id": "07874b5c",
   "metadata": {},
   "source": [
    "## 3. Linear and Decision Tree Regression "
   ]
  },
  {
   "cell_type": "code",
   "execution_count": null,
   "id": "a896ca35",
   "metadata": {},
   "outputs": [],
   "source": [
    "# X,y를 train data와 test data로 split\n",
    "\n",
    "x_train, x_test, y_train, y_test = train_test_split(X, y, test_size = 0.2)"
   ]
  },
  {
   "cell_type": "code",
   "execution_count": null,
   "id": "19ccfdd8",
   "metadata": {},
   "outputs": [],
   "source": [
    "# Linear tree regression과 Decision Tree Regression에 train data 대입\n",
    "tree = DecisionTreeRegressor().fit(x_train, y_train)\n",
    "lr = LinearRegression().fit(x_train, y_train)"
   ]
  },
  {
   "cell_type": "code",
   "execution_count": null,
   "id": "7b1ef8dd",
   "metadata": {},
   "outputs": [],
   "source": [
    "# test를 위해 x_future에 X의 끝시점에서 100이전까지의 값을 x_future에 저장\n",
    "x_future = pd.DataFrame(X).tail(future_days)\n",
    "x_future"
   ]
  },
  {
   "cell_type": "code",
   "execution_count": null,
   "id": "a2720ac8",
   "metadata": {},
   "outputs": [],
   "source": [
    "# x_future의 Decision Tree Regression 결과\n",
    "tree_prediction = tree.predict(x_future)\n",
    "print(tree_prediction)"
   ]
  },
  {
   "cell_type": "code",
   "execution_count": null,
   "id": "d052b9c9",
   "metadata": {},
   "outputs": [],
   "source": [
    "# x_future의 Linear Regression 결과\n",
    "lr_prediction = lr.predict(x_future)\n",
    "print(lr_prediction)"
   ]
  },
  {
   "cell_type": "code",
   "execution_count": null,
   "id": "dd2a9182",
   "metadata": {},
   "outputs": [],
   "source": [
    "# 비교를 위해 valid_linear dataframe에 실제 값(['close'])과 예측값('Prediction')을 대입\n",
    "# valid_tree['predictions']는 decision tree 예측값을 의미함\n",
    "valid_lr = df2[X.shape[0]:]\n",
    "valid_lr['Predictions'] = lr_prediction\n",
    "valid_lr"
   ]
  },
  {
   "cell_type": "code",
   "execution_count": null,
   "id": "f625e52a",
   "metadata": {},
   "outputs": [],
   "source": [
    "# linear regression 예측 결과와 실제 결과 비교를 위해 plot 그림\n",
    "plt.figure(figsize=(16,8))\n",
    "plt.title(\"Model\")\n",
    "plt.xlabel('Days')\n",
    "plt.ylabel('Close Price USD ($)')\n",
    "plt.plot(df2['close'])\n",
    "plt.plot(valid_lr[['close', 'Predictions']])\n",
    "plt.legend([\"Original\", \"Valid\", 'Predicted'])\n",
    "plt.show()"
   ]
  },
  {
   "cell_type": "code",
   "execution_count": null,
   "id": "39201469",
   "metadata": {},
   "outputs": [],
   "source": [
    "# 비교를 위해 valid_tree dataframe에 실제 값(['close'])과 예측값('Prediction')을 대입\n",
    "# valid_tree['predictions']는 decision tree 예측값을 의미함\n",
    "valid_tree = df2[X.shape[0]:]\n",
    "valid_tree['Predictions'] = tree_prediction\n",
    "valid_tree"
   ]
  },
  {
   "cell_type": "code",
   "execution_count": null,
   "id": "796bd7d8",
   "metadata": {},
   "outputs": [],
   "source": [
    "# Decision Tree Regression 결과와 실제 결과 비교를 위해 plot 그림\n",
    "plt.figure(figsize=(16,8))\n",
    "plt.title(\"Model\")\n",
    "plt.xlabel('Days')\n",
    "plt.ylabel('Close Price USD ($)')\n",
    "plt.plot(df2['close'])\n",
    "plt.plot(valid_tree[['close', 'Predictions']])\n",
    "plt.legend([\"Original\", \"Valid\", 'Predicted'])\n",
    "plt.show()"
   ]
  },
  {
   "cell_type": "code",
   "execution_count": null,
   "id": "0c43ffb2",
   "metadata": {},
   "outputs": [],
   "source": [
    "# Linear Regression과 실제 값의 정확한 결과 비교를 위해 끝에서 100시점 부분 확대\n",
    "plt.figure(figsize=(16,8))\n",
    "plt.title(\"Model Comparison\")\n",
    "plt.xlabel('Days')\n",
    "plt.ylabel('Close Price USD ($)')\n",
    "plt.plot(valid_lr[['close']], color = 'b')\n",
    "plt.plot(valid_lr[['Predictions']], color = 'darkorange', linestyle = '--')\n",
    "plt.plot(valid_tree[['Predictions']], color = 'r', linestyle = '--')\n",
    "plt.legend([\"Original\", \"Linear Regression\", 'Decision Tree'])"
   ]
  },
  {
   "cell_type": "code",
   "execution_count": null,
   "id": "82061901",
   "metadata": {},
   "outputs": [],
   "source": [
    "RMSE_lr = mean_squared_error(valid_lr[['close']].values, valid_lr[['Predictions']].values)**0.5\n",
    "RMSE_lr"
   ]
  },
  {
   "cell_type": "code",
   "execution_count": null,
   "id": "a940b77b",
   "metadata": {},
   "outputs": [],
   "source": [
    "RMSE_tree = mean_squared_error(valid_tree[['close']].values, valid_tree[['Predictions']].values)**0.5\n",
    "RMSE_tree"
   ]
  }
 ],
 "metadata": {
  "kernelspec": {
   "display_name": "Python 3 (ipykernel)",
   "language": "python",
   "name": "python3"
  },
  "language_info": {
   "codemirror_mode": {
    "name": "ipython",
    "version": 3
   },
   "file_extension": ".py",
   "mimetype": "text/x-python",
   "name": "python",
   "nbconvert_exporter": "python",
   "pygments_lexer": "ipython3",
   "version": "3.7.11"
  }
 },
 "nbformat": 4,
 "nbformat_minor": 5
}
