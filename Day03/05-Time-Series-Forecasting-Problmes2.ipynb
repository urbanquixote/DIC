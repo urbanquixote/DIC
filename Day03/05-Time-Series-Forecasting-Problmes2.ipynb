{
 "cells": [
  {
   "attachments": {},
   "cell_type": "markdown",
   "id": "526dd902",
   "metadata": {},
   "source": [
    "# 05-Time Series Forecasting: Problem 2 \n",
    "\n",
    "### - ARIMA \n",
    "### - Seasonal ARIMA (SARIMA)\n",
    "### - Prophet"
   ]
  },
  {
   "cell_type": "markdown",
   "id": "e46b6aff",
   "metadata": {},
   "source": [
    "### 1. 모듈 불러오기"
   ]
  },
  {
   "cell_type": "code",
   "execution_count": null,
   "id": "35bedd12",
   "metadata": {},
   "outputs": [],
   "source": [
    "!pip install pmdarima\n",
    "\n",
    "import os\n",
    "import datetime\n",
    "import itertools\n",
    "\n",
    "import numpy as np\n",
    "import pandas as pd\n",
    "\n",
    "from sklearn.model_selection import train_test_split\n",
    "from sklearn.metrics import mean_squared_error, mean_absolute_error, r2_score\n",
    "\n",
    "import matplotlib.pyplot as plt\n",
    "import matplotlib\n",
    "plt.style.use('seaborn-whitegrid')\n",
    "import seaborn as sns\n",
    "\n",
    "import statsmodels.api as sm\n",
    "from statsmodels.graphics.tsaplots import plot_acf, plot_pacf\n",
    "from statsmodels.tsa.arima.model import ARIMA\n",
    "from statsmodels.tsa.statespace.sarimax import SARIMAX \n",
    "from pmdarima.arima import auto_arima\n",
    "\n",
    "!git clone https://github.com/hansam95/LG-Elec-Day3.git"
   ]
  },
  {
   "cell_type": "markdown",
   "id": "c3785635",
   "metadata": {},
   "source": [
    "### 2. 데이터 불러오기\n",
    "\n",
    "### Wisconsin Employment Data\n",
    "### 미국 위스콘신주의 취업건수(Employment) 예측을 위한 예측모델 학습\n"
   ]
  },
  {
   "cell_type": "code",
   "execution_count": null,
   "id": "db2e03a3",
   "metadata": {},
   "outputs": [],
   "source": [
    "data = pd.read_csv('/content/LG-Elec-Day3/data/Employment.csv')\n",
    "data['month'] = pd.to_datetime(data['month'])\n",
    "data = data.set_index('month')\n",
    "data"
   ]
  },
  {
   "cell_type": "markdown",
   "id": "2eb6f802",
   "metadata": {},
   "source": [
    "### 3. Box-Jenkins ARIMA Procedure\n",
    "-  3.1 Data Preprocessing\n",
    "-  3.2 Identify Model to be Tentatively Entertainted\n",
    "-  3.3 Estimate Parameters\n",
    "-  3.4 Diagnosis Check\n",
    "-  3.5 use Model to Forecast\n",
    "\n",
    "### 3.1 Data Preprocessing"
   ]
  },
  {
   "cell_type": "code",
   "execution_count": null,
   "id": "abdf08d2",
   "metadata": {},
   "outputs": [],
   "source": [
    "data.plot(figsize=(12,4))\n",
    "\n",
    "plt.xticks(fontsize=11)\n",
    "plt.yticks(fontsize=11)\n",
    "plt.legend('')\n",
    "\n",
    "plt.title('Employment Data \\n', fontsize=15)\n",
    "plt.xlabel('\\n Year', fontsize=13)\n",
    "plt.ylabel('Employment \\n', fontsize=13)\n",
    "plt.tight_layout()\n",
    "plt.show()"
   ]
  },
  {
   "cell_type": "markdown",
   "id": "c41935ee",
   "metadata": {},
   "source": [
    "### Q: 시계열 분해 수행(Trend, Seasonal, Residual 그래프 확인하기)"
   ]
  },
  {
   "cell_type": "code",
   "execution_count": null,
   "id": "5a16bf2b",
   "metadata": {},
   "outputs": [],
   "source": [
    "decomposition = sm.tsa.'''Answer'''(data['employment'],  model='additive')\n",
    "\n",
    "fig = decomposition.plot()\n",
    "fig.set_size_inches(10,10)\n",
    "plt.show()"
   ]
  },
  {
   "cell_type": "markdown",
   "id": "7060fb18",
   "metadata": {},
   "source": [
    "### 3.2 Identify Model to be Tentatively Entertainted\n",
    "\n",
    "### Q : 학습 데이터와 테스트 데이터 분리 - train:test = 8:2 로 분리하기"
   ]
  },
  {
   "cell_type": "code",
   "execution_count": null,
   "id": "79bb01f8",
   "metadata": {},
   "outputs": [],
   "source": [
    "train, test = train_test_split(data, test_size='''Answer''', shuffle=False)"
   ]
  },
  {
   "cell_type": "markdown",
   "id": "9e065ef7",
   "metadata": {},
   "source": [
    "### Q : Autocorrelation , Partial Autocorrelation 확인하기"
   ]
  },
  {
   "cell_type": "code",
   "execution_count": null,
   "id": "246977d8",
   "metadata": {},
   "outputs": [],
   "source": [
    "fig, ax = plt.subplots(1,2,figsize=(10,5))\n",
    "fig.suptitle('Raw Data')\n",
    "sm.graphics.tsa.'''Answer'''(train.values.squeeze(), lags=30, ax=ax[0])\n",
    "sm.graphics.tsa.'''Answer'''(train.values.squeeze(), lags=30, ax=ax[1]);"
   ]
  },
  {
   "cell_type": "markdown",
   "id": "b72faca8",
   "metadata": {},
   "source": [
    "### Q : 차분(first difference) 후 null 값 제거하기"
   ]
  },
  {
   "cell_type": "code",
   "execution_count": null,
   "id": "4e563151",
   "metadata": {},
   "outputs": [],
   "source": [
    "diff_train = train.copy()\n",
    "diff_train = diff_train['employment'].'''Answer'''()\n",
    "diff_train = diff_train.'''Answer'''()\n",
    "print('####### Raw Data #######')\n",
    "print(train)\n",
    "print('### Differenced Data ###')\n",
    "print(diff_train)"
   ]
  },
  {
   "cell_type": "markdown",
   "id": "121c2e38",
   "metadata": {},
   "source": [
    "### Q : 그래프로 차분 전후 비교하기"
   ]
  },
  {
   "cell_type": "code",
   "execution_count": null,
   "id": "fd38a9ef",
   "metadata": {},
   "outputs": [],
   "source": [
    "plt.figure(figsize=(12,8))\n",
    "\n",
    "plt.subplot(211)\n",
    "plt.plot('''Answer'''['employment'])\n",
    "plt.legend(['Raw Data (Nonstationary)'])\n",
    "\n",
    "plt.subplot(212)\n",
    "plt.plot('''Answer''','orange')\n",
    "plt.legend(['Differenced Data (Stationary)'])\n",
    "\n",
    "plt.show()"
   ]
  },
  {
   "cell_type": "markdown",
   "id": "964a6006",
   "metadata": {},
   "source": [
    "###  차분 후 Autocorrelation , Partial Autocorrelation 확인하기"
   ]
  },
  {
   "cell_type": "code",
   "execution_count": null,
   "id": "707f6c51",
   "metadata": {},
   "outputs": [],
   "source": [
    "fig, ax = plt.subplots(1,2,figsize=(10,5))\n",
    "fig.suptitle('Differenced Data')\n",
    "sm.graphics.tsa.plot_acf(diff_train.values.squeeze(), lags=30, ax=ax[0])\n",
    "sm.graphics.tsa.plot_pacf(diff_train.values.squeeze(), lags=30, ax=ax[1]);"
   ]
  },
  {
   "cell_type": "markdown",
   "id": "6df36603",
   "metadata": {},
   "source": [
    "### 3.3 Estimate Parameters\n",
    "### Q : 파라미터 조합 (1, 1, 0)으로 모델 학습 후 학습 결과 (Summary) 확인하기"
   ]
  },
  {
   "cell_type": "code",
   "execution_count": null,
   "id": "9f375ffa",
   "metadata": {},
   "outputs": [],
   "source": [
    "ARIMA_model = ARIMA(train.values, order=(1,1,0))\n",
    "ARIMA_model_fit = ARIMA_model.'''Answer'''()\n",
    "ARIMA_model_fit.'''Answer'''()"
   ]
  },
  {
   "cell_type": "markdown",
   "id": "147a6dda",
   "metadata": {},
   "source": [
    "### 3.4.1 Diagnosis Check - ARIMA\n",
    "### Q : ARIMA 모델 파라미터 탐색 범위 설정하기\n",
    " - p : 0 ~ 2\n",
    " - d : 1\n",
    " - q : 0 ~ 2"
   ]
  },
  {
   "cell_type": "code",
   "execution_count": null,
   "id": "82fcc11e",
   "metadata": {},
   "outputs": [],
   "source": [
    "print('Examples of parameter combinations for ARIMA...')\n",
    "p = range('''Answer''')\n",
    "d = range('''Answer''')\n",
    "q = range('''Answer''')\n",
    "pdq = list(itertools.product(p, d, q))\n",
    "print(pdq)"
   ]
  },
  {
   "cell_type": "markdown",
   "id": "aa7f3eb2",
   "metadata": {},
   "source": [
    "### Q : 설정된  각 파라미터 조합으로 모델 학습하며 파라미터 조합마다 AIC 값 저장하기"
   ]
  },
  {
   "cell_type": "code",
   "execution_count": null,
   "id": "e9f0cc8b",
   "metadata": {},
   "outputs": [],
   "source": [
    "aic=[]\n",
    "for i in '''Answer''':\n",
    "    model = ARIMA(train.values, order=('''Answer'''))\n",
    "    ARIMA_model_fit = model.fit()\n",
    "    print(f'ARIMA: {i} >> AIC : {round(ARIMA_model_fit.aic,2)}')\n",
    "    aic.append(round(ARIMA_model_fit.aic,2))"
   ]
  },
  {
   "cell_type": "markdown",
   "id": "78bfadc1",
   "metadata": {},
   "source": [
    "### Q : AIC 값이 가장 작은 최적의 파라미터 조합 찾기"
   ]
  },
  {
   "cell_type": "code",
   "execution_count": null,
   "id": "abcb2315",
   "metadata": {},
   "outputs": [],
   "source": [
    "ARIMA_optimal = [(pdq[i], j) for i, j in enumerate(aic) if j == '''Answer'''(aic)]\n",
    "ARIMA_optimal"
   ]
  },
  {
   "cell_type": "markdown",
   "id": "a995d514",
   "metadata": {},
   "source": [
    "### 가장 좋은 모델(최적 모델) 학습 결과 (Summary) 확인하기"
   ]
  },
  {
   "cell_type": "code",
   "execution_count": null,
   "id": "6f13dbc2",
   "metadata": {},
   "outputs": [],
   "source": [
    "ARIMA_model_opt = ARIMA(train.values, order=ARIMA_optimal[0][0])\n",
    "ARIMA_model_opt_fit = ARIMA_model_opt.fit()\n",
    "\n",
    "ARIMA_model_opt_fit.summary()"
   ]
  },
  {
   "cell_type": "markdown",
   "id": "16c154da",
   "metadata": {},
   "source": [
    "### 3.5.1 Use Model to Forecast - ARIMA\n",
    "### Q : 성능이 가장 좋은 모델로 미래 시점 예측하기"
   ]
  },
  {
   "cell_type": "code",
   "execution_count": null,
   "id": "6bafe592",
   "metadata": {},
   "outputs": [],
   "source": [
    "ARIMA_prediction = ARIMA_model_opt_fit.forecast(len('''Answer''')).summary_frame()\n",
    "ARIMA_test_pred = ARIMA_prediction['mean']\n",
    "ARIMA_test_ub = ARIMA_prediction['mean_ci_upper']\n",
    "ARIMA_test_lb = ARIMA_prediction['mean_ci_lower']\n",
    "predict_index = list(test.index)"
   ]
  },
  {
   "cell_type": "markdown",
   "id": "9ba7f7fe",
   "metadata": {},
   "source": [
    "### Q : 모델 성능 확인하기"
   ]
  },
  {
   "cell_type": "code",
   "execution_count": null,
   "id": "bf20dadd",
   "metadata": {},
   "outputs": [],
   "source": [
    "print('ARIMA')\n",
    "print('-'*30)\n",
    "print(f'MSE: {np.round(mean_squared_error(test, ARIMA_test_pred), 2)}')\n",
    "print(f'RMSE: {np.round(np.sqrt(mean_squared_error(test,ARIMA_test_pred)), 2)}')\n",
    "print(f'MAE: {np.round(mean_absolute_error(test, ARIMA_test_pred), 2)}')\n",
    "print(f'R2 score: {np.round(r2_score('''Answer''', '''Answer'''), 2)}')"
   ]
  },
  {
   "cell_type": "markdown",
   "id": "a7c1f3bd",
   "metadata": {},
   "source": [
    "### Q : 실제값과 예측값 그래프로 비교하기"
   ]
  },
  {
   "cell_type": "code",
   "execution_count": null,
   "id": "a70c8ede",
   "metadata": {},
   "outputs": [],
   "source": [
    "fig, ax = plt.subplots(figsize=(12, 6))\n",
    "ax.plot('''Answer'''.index, '''Answer'''.values, label = 'Employment')\n",
    "ax.plot(predict_index, '''Answer''', label = 'Prediction')\n",
    "ax.vlines(datetime.datetime.strptime('1972-11-01','%Y-%m-%d'), 200, 450, linestyle='--', color='r', label='Start of Forecast')\n",
    "ax.fill_between(predict_index, ARIMA_test_lb, ARIMA_test_ub, color = 'k', alpha = 0.1, label='0.95 Prediction Interval')\n",
    "ax.legend(loc='upper left')\n",
    "plt.suptitle(f'ARIMA {ARIMA_optimal[0][0]} Prediction Results (r2_score: {np.round(r2_score(test, ARIMA_test_pred), 2)}')\n",
    "plt.show()"
   ]
  },
  {
   "cell_type": "markdown",
   "id": "cb1e7408",
   "metadata": {},
   "source": [
    "### 3.4.2 Diagnosis Check - SARIMA\n",
    "### Q : SARIMA 모델 파라미터 탐색 범위 설정하기\n",
    " - p : 0 ~ 2\n",
    " - d : 1\n",
    " - q : 0 ~ 2\n",
    " - s : 12"
   ]
  },
  {
   "cell_type": "code",
   "execution_count": null,
   "id": "087d76b9",
   "metadata": {},
   "outputs": [],
   "source": [
    "print('Examples of parameter combinations for Seasonal ARIMA...')\n",
    "p = range('''Answer''')\n",
    "d = range('''Answer''')\n",
    "q = range('''Answer''')\n",
    "pdq = list(itertools.product(p, d, q))\n",
    "seasonal_pdq = [(x[0], x[1], x[2], '''Answer''') for x in list(itertools.product(p, d, q))]\n",
    "print(seasonal_pdq)"
   ]
  },
  {
   "cell_type": "markdown",
   "id": "462f7afe",
   "metadata": {},
   "source": [
    "### Q : 설정된  각 파라미터 조합으로 모델 학습하며 파라미터 조합마다 AIC 값 저장하기"
   ]
  },
  {
   "cell_type": "code",
   "execution_count": null,
   "id": "b534e9f4",
   "metadata": {},
   "outputs": [],
   "source": [
    "aic=[]\n",
    "params=[]\n",
    "for i in pdq:\n",
    "    for j in '''Answer''':\n",
    "        try:\n",
    "            model = SARIMAX(train.values, order=('''Answer'''), seasonal_order = ('''Answer'''))\n",
    "            model_fit = model.fit()\n",
    "            print(f'SARIMA: {i}{j} >> AIC : {round(model_fit.aic,2)}')\n",
    "            aic.append(round(model_fit.aic,2))\n",
    "            params.append((i, j))  \n",
    "        except:\n",
    "            continue"
   ]
  },
  {
   "cell_type": "markdown",
   "id": "744b94a9",
   "metadata": {},
   "source": [
    "### AIC 값이 가장 작은 최적의 파라미터 조합 찾기"
   ]
  },
  {
   "cell_type": "code",
   "execution_count": null,
   "id": "c0878683",
   "metadata": {},
   "outputs": [],
   "source": [
    "SARIMA_optimal = [(params[i], j) for i, j in enumerate(aic) if j == min(aic)]\n",
    "SARIMA_optimal"
   ]
  },
  {
   "cell_type": "markdown",
   "id": "4cc30f8d",
   "metadata": {},
   "source": [
    "### Q : 가장 좋은 모델(최적 모델) 학습 결과 (Summary) 확인하기"
   ]
  },
  {
   "cell_type": "code",
   "execution_count": null,
   "id": "ba1a6fcb",
   "metadata": {},
   "outputs": [],
   "source": [
    "SARIMA_model_opt = SARIMAX('''Answer'''.values, order=SARIMA_optimal[0][0][0], seasonal_order = SARIMA_optimal[0][0][1])\n",
    "SARIMA_model_opt_fit = SARIMA_model_opt.fit()\n",
    "\n",
    "SARIMA_model_opt_fit.summary()"
   ]
  },
  {
   "cell_type": "markdown",
   "id": "0a276053",
   "metadata": {},
   "source": [
    "### 3.5.2 Use Model to Forecast - SARIMA\n",
    "### Q : 성능이 가장 좋은 모델로 미래 시점 예측하기"
   ]
  },
  {
   "cell_type": "code",
   "execution_count": null,
   "id": "81e1e28d",
   "metadata": {},
   "outputs": [],
   "source": [
    "SARIMA_prediction = SARIMA_model_opt_fit.get_forecast(len(test))\n",
    "SARIMA_test_pred = '''Answer'''.predicted_mean\n",
    "SARIMA_test_ub = '''Answer'''.conf_int()[:,0]\n",
    "SARIMA_test_lb = '''Answer'''.conf_int()[:,1]\n",
    "predict_index = list(test.index)"
   ]
  },
  {
   "cell_type": "markdown",
   "id": "0f808eb8",
   "metadata": {},
   "source": [
    "### Q : 모델 성능 확인하기"
   ]
  },
  {
   "cell_type": "code",
   "execution_count": null,
   "id": "046a2beb",
   "metadata": {},
   "outputs": [],
   "source": [
    "print('SARIMA')\n",
    "print('-'*30)\n",
    "print(f'MSE: {np.round(mean_squared_error(test, SARIMA_test_pred), 2)}')\n",
    "print(f'RMSE: {np.round(np.sqrt(mean_squared_error(test,SARIMA_test_pred)), 2)}')\n",
    "print(f'MAE: {np.round(mean_absolute_error(test, SARIMA_test_pred), 2)}')\n",
    "print(f'R2 score: {np.round('''Answer'''(test, SARIMA_test_pred), 2)}')"
   ]
  },
  {
   "cell_type": "markdown",
   "id": "114f51b4",
   "metadata": {},
   "source": [
    "### 실제값과 예측값 그래프로 비교하기"
   ]
  },
  {
   "cell_type": "code",
   "execution_count": null,
   "id": "20e02cce",
   "metadata": {},
   "outputs": [],
   "source": [
    "fig, ax = plt.subplots(figsize=(12, 6))\n",
    "ax.plot(data.index, data.values, label = 'Employment')\n",
    "ax.plot(predict_index, SARIMA_test_pred, label = 'Prediction')\n",
    "ax.vlines(datetime.datetime.strptime('1972-11-01','%Y-%m-%d'), 200, 450, linestyle='--', color='r', label='Start of Forecast')\n",
    "ax.fill_between(predict_index, SARIMA_test_lb, SARIMA_test_ub, color = 'k', alpha = 0.1, label='0.95 Prediction Interval')\n",
    "ax.legend(loc='upper left')\n",
    "plt.suptitle(f'SARIMA {SARIMA_optimal[0][0][0]},{SARIMA_optimal[0][0][1]} Prediction Results (r2_score: {np.round(r2_score(test, SARIMA_test_pred), 2)})')\n",
    "plt.show()"
   ]
  },
  {
   "cell_type": "markdown",
   "id": "369e076f",
   "metadata": {},
   "source": [
    "### 3.4.3 Diagnosis Check - auto_arima\n",
    "### Q : auto_arima 모델 파라미터 탐색 범위 설정 후 모델 학습하기"
   ]
  },
  {
   "cell_type": "code",
   "execution_count": null,
   "id": "62abb14a",
   "metadata": {},
   "outputs": [],
   "source": [
    "auto_arima_model = auto_arima('''Answer''', start_p=1, start_q=1,\n",
    "                              max_p=3, max_q=3, m=12, seasonal=True,\n",
    "                              d=1, D=1, \n",
    "                              max_P=3, max_Q=3,\n",
    "                              trace=True,\n",
    "                              error_action='ignore',  \n",
    "                              suppress_warnings=True, \n",
    "                              stepwise=False)"
   ]
  },
  {
   "cell_type": "markdown",
   "id": "ea689324",
   "metadata": {},
   "source": [
    "### Q : 모델 학습 후 학습 결과 (Summary) 확인하기"
   ]
  },
  {
   "cell_type": "code",
   "execution_count": null,
   "id": "4d018cab",
   "metadata": {},
   "outputs": [],
   "source": [
    "auto_arima_model.'''Answer'''()"
   ]
  },
  {
   "cell_type": "markdown",
   "id": "6c052d11",
   "metadata": {},
   "source": [
    "### 3.5.3 Use Model to Forecast - auto_arima\n",
    "### Q : auto_arima를 통해 선정된 성능이 가장 좋은 모델로 미래 시점 예측하기"
   ]
  },
  {
   "cell_type": "code",
   "execution_count": null,
   "id": "205ebc44",
   "metadata": {},
   "outputs": [],
   "source": [
    "AUTO_ARIMA_prediction = auto_arima_model.predict(len('''Answer'''), return_conf_int=True)\n",
    "AUTO_ARIMA_test_pred = AUTO_ARIMA_prediction[0]\n",
    "AUTO_ARIMA_test_ub = AUTO_ARIMA_prediction[1][:,0]\n",
    "AUTO_ARIMA_test_lb = AUTO_ARIMA_prediction[1][:,1]\n",
    "predict_index = list(test.index)"
   ]
  },
  {
   "cell_type": "markdown",
   "id": "f76b2966",
   "metadata": {},
   "source": [
    "### 모델 성능 확인하기"
   ]
  },
  {
   "cell_type": "code",
   "execution_count": null,
   "id": "397cae2b",
   "metadata": {},
   "outputs": [],
   "source": [
    "print('AUTO ARIMA')\n",
    "print('-'*30)\n",
    "print(f'MSE: {np.round(mean_squared_error(test, AUTO_ARIMA_test_pred), 2)}')\n",
    "print(f'RMSE: {np.round(np.sqrt(mean_squared_error(test,AUTO_ARIMA_test_pred)), 2)}')\n",
    "print(f'MAE: {np.round(mean_absolute_error(test, AUTO_ARIMA_test_pred), 2)}')\n",
    "print(f'R2 score: {np.round(r2_score(test, AUTO_ARIMA_test_pred), 2)}')"
   ]
  },
  {
   "cell_type": "markdown",
   "id": "96b54e6a",
   "metadata": {},
   "source": [
    "### Q : 실제값과 예측값 그래프로 비교하기"
   ]
  },
  {
   "cell_type": "code",
   "execution_count": null,
   "id": "c8bb4bc3",
   "metadata": {},
   "outputs": [],
   "source": [
    "fig, ax = plt.subplots(figsize=(12, 6))\n",
    "ax.plot(data.index, data.values, label = 'Employment')\n",
    "ax.plot('''Answer''', AUTO_ARIMA_test_pred, label = 'Prediction')\n",
    "ax.vlines(datetime.datetime.strptime('1972-11-01','%Y-%m-%d'), 200, 450, linestyle='--', color='r', label='Start of Forecast')\n",
    "ax.fill_between(predict_index, '''Answer''', '''Answer''', color = 'k', alpha = 0.1, label='0.95 Prediction Interval')\n",
    "ax.legend(loc='upper left')\n",
    "plt.suptitle(f'SARIMA {auto_arima_model.order},{auto_arima_model.seasonal_order} Prediction Results (r2_score: {np.round(r2_score(test, AUTO_ARIMA_test_pred), 2)})')\n",
    "plt.show()"
   ]
  },
  {
   "cell_type": "markdown",
   "id": "8229c19a",
   "metadata": {},
   "source": [
    "# EOD"
   ]
  }
 ],
 "metadata": {
  "kernelspec": {
   "display_name": "Python 3",
   "language": "python",
   "name": "python3"
  },
  "language_info": {
   "codemirror_mode": {
    "name": "ipython",
    "version": 3
   },
   "file_extension": ".py",
   "mimetype": "text/x-python",
   "name": "python",
   "nbconvert_exporter": "python",
   "pygments_lexer": "ipython3",
   "version": "3.8.10"
  },
  "toc": {
   "base_numbering": 1,
   "nav_menu": {},
   "number_sections": false,
   "sideBar": true,
   "skip_h1_title": false,
   "title_cell": "Table of Contents",
   "title_sidebar": "Contents",
   "toc_cell": false,
   "toc_position": {
    "height": "calc(100% - 180px)",
    "left": "10px",
    "top": "150px",
    "width": "426.667px"
   },
   "toc_section_display": true,
   "toc_window_display": false
  },
  "vscode": {
   "interpreter": {
    "hash": "e7370f93d1d0cde622a1f8e1c04877d8463912d04d973331ad4851f04de6915a"
   }
  }
 },
 "nbformat": 4,
 "nbformat_minor": 5
}
