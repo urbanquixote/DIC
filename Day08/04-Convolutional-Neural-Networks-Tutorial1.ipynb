{
 "cells": [
  {
   "cell_type": "markdown",
   "id": "e7086d09",
   "metadata": {
    "id": "e7086d09"
   },
   "source": [
    "# Cnvolutional neural network Image: Tutorial\n",
    "- 실습조교: 배진수(wlstn215@korea.ac.kr), 김정인(jungin_kim23@korea.ac.kr), 정진용(jy_jeong@korea.ac.kr)"
   ]
  },
  {
   "cell_type": "markdown",
   "id": "8e7b4428",
   "metadata": {
    "id": "8e7b4428"
   },
   "source": [
    "## Colab gpu 연결\n",
    "\n",
    "#### 런타임 -> 런타임유형 변경 -> 하드웨어 가속기 -> GPU"
   ]
  },
  {
   "cell_type": "code",
   "execution_count": null,
   "id": "9bddfa34",
   "metadata": {
    "colab": {
     "base_uri": "https://localhost:8080/"
    },
    "executionInfo": {
     "elapsed": 3265,
     "status": "ok",
     "timestamp": 1676508633058,
     "user": {
      "displayName": "",
      "userId": ""
     },
     "user_tz": -540
    },
    "id": "9bddfa34",
    "outputId": "b85d77a6-93be-4cac-ba08-cdc4fdd435c7"
   },
   "outputs": [],
   "source": [
    "import torch\n",
    "torch.cuda.is_available()"
   ]
  },
  {
   "cell_type": "markdown",
   "id": "1d885063",
   "metadata": {
    "id": "1d885063"
   },
   "source": [
    "## 0.모듈 불러오기"
   ]
  },
  {
   "cell_type": "code",
   "execution_count": null,
   "id": "ee4c0cf3",
   "metadata": {
    "colab": {
     "base_uri": "https://localhost:8080/"
    },
    "executionInfo": {
     "elapsed": 10090,
     "status": "ok",
     "timestamp": 1676508677528,
     "user": {
      "displayName": "",
      "userId": ""
     },
     "user_tz": -540
    },
    "id": "ee4c0cf3",
    "outputId": "47668789-b3f2-4803-8987-ab5860b3b760"
   },
   "outputs": [],
   "source": [
    "''' 기본 모듈 및 시각화 모듈'''\n",
    "import numpy as np\n",
    "import pandas as pd\n",
    "import seaborn as sns\n",
    "import matplotlib.pyplot as plt\n",
    "import os\n",
    "\n",
    "'''CNN을 위한 딥러닝 모듈'''\n",
    "import torch\n",
    "import torch.nn as nn\n",
    "import torch.optim as optim\n",
    "from torch.optim import lr_scheduler\n",
    "import torchvision\n",
    "from torchvision import datasets, models, transforms\n",
    "\n",
    "''' 결과 평가용 모듈 '''\n",
    "from sklearn.metrics import confusion_matrix, accuracy_score, f1_score, precision_score, recall_score\n",
    "\n",
    "''' github+colab 교육생분들 '''\n",
    "# !git clone https://github.com/bogus215/LG-EDUCATION2.git"
   ]
  },
  {
   "cell_type": "markdown",
   "id": "27a02e66",
   "metadata": {
    "id": "27a02e66"
   },
   "source": [
    "### <GPU 확인, 사용할 device 설정>"
   ]
  },
  {
   "cell_type": "code",
   "execution_count": null,
   "id": "e1d167dc",
   "metadata": {
    "executionInfo": {
     "elapsed": 498,
     "status": "ok",
     "timestamp": 1676508684475,
     "user": {
      "displayName": "",
      "userId": ""
     },
     "user_tz": -540
    },
    "id": "e1d167dc"
   },
   "outputs": [],
   "source": [
    "device = torch.device('cuda') if torch.cuda.is_available() else torch.device('cpu')"
   ]
  },
  {
   "cell_type": "markdown",
   "id": "143f25ba",
   "metadata": {
    "id": "143f25ba"
   },
   "source": [
    "### <Seed/Random state 고정, 재현성을 위해>"
   ]
  },
  {
   "cell_type": "code",
   "execution_count": null,
   "id": "148cf2ba",
   "metadata": {
    "executionInfo": {
     "elapsed": 2,
     "status": "ok",
     "timestamp": 1676508684995,
     "user": {
      "displayName": "",
      "userId": ""
     },
     "user_tz": -540
    },
    "id": "148cf2ba"
   },
   "outputs": [],
   "source": [
    "torch.manual_seed(0)\n",
    "torch.cuda.manual_seed(0)\n",
    "torch.backends.cudnn.deterministic = True\n",
    "torch.backends.cudnn.benchmark = False\n",
    "np.random.seed(0)"
   ]
  },
  {
   "cell_type": "markdown",
   "id": "1f0e569d",
   "metadata": {
    "id": "1f0e569d"
   },
   "source": [
    "## 1. 데이터 불러오기: Dogs Vs. Cats\n",
    "\n",
    "#### https://www.kaggle.com/c/dogs-vs-cats"
   ]
  },
  {
   "cell_type": "markdown",
   "id": "da65cd99",
   "metadata": {
    "id": "da65cd99"
   },
   "source": [
    "- 이미지 데이터는 픽셀로 이루어져 있으며, 각 픽셀의 밝기(intensity, 0~255)를 통해 이미지를 나타낼 수 있다.\n",
    "- Dogs Vs. Cats 데이터는 이런 픽셀 값들을 설명변수(X)로 하여 강이지 or 고양이(Y)에 해당하는 이미지인지 분류하는 문제\n",
    "\n",
    "### - 데이터 구조  \n",
    "- 데이터: 강아지 혹은 고양이의 이미지 데이터로 해당 이미지들의 크기는 서로 상이\n",
    "- 학습 데이터의 개수 : 강아지 이미지 100개 & 고양이 이미지 100개\n",
    "- 검증 데이터의 개수 : 강아지 이미지 50개 & 고양이 이미지 50개\n",
    "- 테스트 데이터의 개수 : 강아지 이미지 20개 & 고양이 이미지 20개"
   ]
  },
  {
   "cell_type": "markdown",
   "id": "501e242a",
   "metadata": {
    "id": "501e242a"
   },
   "source": [
    "<img src=\"https://github.com/bogus215/LG-EDUCATION2/blob/main/image/image1.png?raw=1\" width=\"600\">"
   ]
  },
  {
   "cell_type": "markdown",
   "id": "afe475dc",
   "metadata": {
    "id": "afe475dc"
   },
   "source": [
    "### - 이미지 데이터 전처리  "
   ]
  },
  {
   "cell_type": "code",
   "execution_count": null,
   "id": "ab1685ae",
   "metadata": {
    "executionInfo": {
     "elapsed": 471,
     "status": "ok",
     "timestamp": 1676508967975,
     "user": {
      "displayName": "",
      "userId": ""
     },
     "user_tz": -540
    },
    "id": "ab1685ae"
   },
   "outputs": [],
   "source": [
    "# transforms.Compose 내에 활용할 이미지 데이터들을 변형할 순서에 맞추어서 순차적으로 리스트 형태로 작성\n",
    "data_transforms = {\n",
    "    'train':transforms.Compose([\n",
    "        transforms.RandomResizedCrop(224), # 출력하는 사이즈에 맞게 crop\n",
    "        transforms.RandomHorizontalFlip(), # 해당 이미지를 좌우반전 진행\n",
    "        transforms.ToTensor(), #\n",
    "        transforms.Normalize([0.485, 0.456, 0.406], [0.229, 0.224, 0.225]) \n",
    "        # RGB채널에 대해서 각각 평균과 표준편차를 활용하여 정규화\n",
    "    ]),\n",
    "    'val':transforms.Compose([\n",
    "        transforms.Resize(300), # 크기가 다른 이미지들을 해당 크기로 조정\n",
    "        transforms.CenterCrop(224), # 해당 이미지에서 가운데 부분을 특정 크기로 crop\n",
    "        transforms.ToTensor(),\n",
    "        transforms.Normalize([0.485, 0.456, 0.406], [0.229, 0.224, 0.225]) \n",
    "        # RGB채널에 대해서 각각 평균과 표준편차를 활용하여 정규화\n",
    "    ]),\n",
    "    'test':transforms.Compose([\n",
    "        transforms.Resize(300), # 크기가 다른 이미지들을 해당 크기로 조정\n",
    "        transforms.CenterCrop(224), # 해당 이미지에서 가운데 부분을 특정 크기로 crop\n",
    "        transforms.ToTensor(),\n",
    "        transforms.Normalize([0.485, 0.456, 0.406], [0.229, 0.224, 0.225]) \n",
    "        # RGB채널에 대해서 각각 평균과 표준편차를 활용하여 정규화\n",
    "    ])\n",
    "}"
   ]
  },
  {
   "cell_type": "markdown",
   "id": "9d182884",
   "metadata": {
    "id": "9d182884"
   },
   "source": [
    "### - 각각의 이미지들이 해당하는 레이블 폴더에 존재하는 계층적인 폴더 구조\n",
    "### - Dataset and DataLoader\n",
    "- __Tensor__ : 데이터를 담고있는 다차원 행렬\n",
    "- __Dataset__ : 데이터를 불러오고 전처리 하는 과정\n",
    "- __Data Loader__ : Dataset을 입력받아 배치 사이즈에 맞추어 출력"
   ]
  },
  {
   "cell_type": "code",
   "execution_count": null,
   "id": "f4cc6704",
   "metadata": {
    "colab": {
     "base_uri": "https://localhost:8080/",
     "height": 35
    },
    "executionInfo": {
     "elapsed": 513,
     "status": "ok",
     "timestamp": 1676509007518,
     "user": {
      "displayName": "",
      "userId": ""
     },
     "user_tz": -540
    },
    "id": "f4cc6704",
    "outputId": "ba47efc8-29a5-4d89-dcc7-9c0269bfcff0"
   },
   "outputs": [],
   "source": [
    "data_dir = './data/dog_cat'\n",
    "train_dataset = datasets.ImageFolder(os.path.join(data_dir,'train'),data_transforms['train']) # (데이터의 경로, 전처리 방법)\n",
    "val_dataset = datasets.ImageFolder(os.path.join(data_dir,'val'),data_transforms['val']) \n",
    "test_dataset = datasets.ImageFolder(os.path.join(data_dir,'test'),data_transforms['test'])\n",
    "\n",
    "''' github+colab 교육생분들 '''\n",
    "# data_dir = './LG-EDUCATION2/data/dog_cat'"
   ]
  },
  {
   "cell_type": "code",
   "execution_count": null,
   "id": "e6b815a6",
   "metadata": {
    "colab": {
     "base_uri": "https://localhost:8080/"
    },
    "executionInfo": {
     "elapsed": 499,
     "status": "ok",
     "timestamp": 1676509018130,
     "user": {
      "displayName": "",
      "userId": ""
     },
     "user_tz": -540
    },
    "id": "e6b815a6",
    "outputId": "de5c58be-7221-4a84-bbcd-104a1c60551f"
   },
   "outputs": [],
   "source": [
    "# 개인용 PC 윈도우에서는 num_workers=0만 가능함, 그 외 1 이상의 값\n",
    "train_dataloader = torch.utils.data.DataLoader(train_dataset, batch_size = 4, shuffle = True, num_workers=0)\n",
    "val_dataloader = torch.utils.data.DataLoader(val_dataset, batch_size = 4 ,shuffle = True ,num_workers = 0)\n",
    "test_dataloader = torch.utils.data.DataLoader(test_dataset, batch_size = 4 , num_workers = 0)\n",
    "\n",
    "class_names = train_dataset.classes\n",
    "print(\"Class names : \",class_names)"
   ]
  },
  {
   "cell_type": "markdown",
   "id": "4e50360e",
   "metadata": {
    "id": "4e50360e"
   },
   "source": [
    "### - 데이터 시각화"
   ]
  },
  {
   "cell_type": "code",
   "execution_count": null,
   "id": "3a5ac718",
   "metadata": {
    "executionInfo": {
     "elapsed": 532,
     "status": "ok",
     "timestamp": 1676509023553,
     "user": {
      "displayName": "",
      "userId": ""
     },
     "user_tz": -540
    },
    "id": "3a5ac718"
   },
   "outputs": [],
   "source": [
    "def imshow(inp, title=None):\n",
    "    \"\"\"Imshow for Tensor.\"\"\"\n",
    "    # 이미지 시각화를 위해서 tensor가 아닌 numpy로 변환하여 활용\n",
    "    inp = inp.numpy().transpose((1, 2, 0)) # channel, height, width -> height, width, channel\n",
    "    mean = np.array([0.485, 0.456, 0.406])\n",
    "    std = np.array([0.229, 0.224, 0.225])\n",
    "    inp = std * inp + mean \n",
    "    inp = np.clip(inp, 0, 1) # 범위를 설정하여 해당 범위를 넘어가는 값들은 최대 or 최소값으로 대체\n",
    "    \n",
    "    plt.figure(figsize=(15,15))\n",
    "    plt.imshow(inp)\n",
    "    if title is not None:\n",
    "        plt.title(title)\n",
    "    plt.pause(0.001)  # pause a bit so that plots are updated"
   ]
  },
  {
   "cell_type": "code",
   "execution_count": null,
   "id": "59530e50",
   "metadata": {
    "colab": {
     "base_uri": "https://localhost:8080/",
     "height": 275
    },
    "executionInfo": {
     "elapsed": 2201,
     "status": "ok",
     "timestamp": 1676509026219,
     "user": {
      "displayName": "",
      "userId": ""
     },
     "user_tz": -540
    },
    "id": "59530e50",
    "outputId": "7d14ac3a-bbe5-4911-91b2-0942f3d856e4"
   },
   "outputs": [],
   "source": [
    "inputs,classes = next(iter(train_dataloader))\n",
    "out = torchvision.utils.make_grid(inputs) # batch에 해당하는 4장의 이미지들을 그리드 형태로 변환\n",
    "imshow(out,title=[class_names[x] for x in classes])"
   ]
  },
  {
   "cell_type": "markdown",
   "id": "947c2553",
   "metadata": {
    "id": "947c2553"
   },
   "source": [
    "## 2. Pre-trained 모델 불러오기 (alexnet)"
   ]
  },
  {
   "cell_type": "markdown",
   "id": "60d2ba60",
   "metadata": {
    "id": "60d2ba60"
   },
   "source": [
    "### Convolution Neural Networks 모델링 방법"
   ]
  },
  {
   "cell_type": "markdown",
   "id": "e7e859f1",
   "metadata": {
    "id": "e7e859f1"
   },
   "source": [
    "<img src=\"https://github.com/bogus215/LG-EDUCATION2/blob/main/image/image2.png?raw=1\" width=\"600\">"
   ]
  },
  {
   "cell_type": "markdown",
   "id": "9ac2276a",
   "metadata": {
    "id": "9ac2276a"
   },
   "source": [
    "<img src=\"https://github.com/bogus215/LG-EDUCATION2/blob/main/image/image3.png?raw=1\" width=\"600\">"
   ]
  },
  {
   "cell_type": "markdown",
   "id": "dc00296a",
   "metadata": {
    "id": "dc00296a"
   },
   "source": [
    "#### __Conv2d__ : (in_channels,out_channels,kernel_size,stride,padding)\n",
    "- in_channels : Convolution 연산을 위해 들어오는 입력 채널 개수\n",
    "- out_channels : Convolution 연산 이후 만들어지는 채널의 개수\n",
    "- kernel_size : Filter의 크기를 의미 ( 가로 X 세로 ) or 가로=세로 인경우는 정수값 하나로 표현\n",
    "- stride : Filter가 건너뛰는 픽셀의 수\n",
    "- padding : zero-padding을 진행할 사이즈\n",
    "\n",
    "#### Input_size = (N,C_in,H,W) > Output_size = (N,C_out,OH,OW)\n",
    "- N : batch_size\n",
    "- C : 채널의 개수\n",
    "- H : height\n",
    "- W : width\n"
   ]
  },
  {
   "cell_type": "code",
   "execution_count": null,
   "id": "9307ad8d",
   "metadata": {
    "colab": {
     "base_uri": "https://localhost:8080/",
     "height": 650,
     "referenced_widgets": [
      "fdb9a455b5e84b5bbde631cd966c59a3",
      "4cec08068214488091d7e4d08e5b81a1",
      "c40fa04423074382a7748e471cd06387",
      "fd656eb549764ea5b1d6341d1cd3ca2c",
      "e6749b4380f74058990ed198f746432f",
      "9a2255bfb8144303a41235c0750873f6",
      "d80027d0c4914fbda6ff3f5be843c241",
      "dccab6d76d454b7eaf329de93a8a54a9",
      "ad5851cb761643508c039ed25d51a297",
      "9b7c0cc880554baeb44346c4985763cc",
      "ddc83da5b7c44b1d9b679cd97a752aa1"
     ]
    },
    "executionInfo": {
     "elapsed": 2408,
     "status": "ok",
     "timestamp": 1676509090115,
     "user": {
      "displayName": "",
      "userId": ""
     },
     "user_tz": -540
    },
    "id": "9307ad8d",
    "outputId": "a7cfe743-3f27-4078-f639-3be3721a007a"
   },
   "outputs": [],
   "source": [
    "model = models.alexnet(pretrained=True)\n",
    "model"
   ]
  },
  {
   "cell_type": "markdown",
   "id": "b5b9d953",
   "metadata": {
    "id": "b5b9d953"
   },
   "source": [
    "### Fine-tuning : 마지막 layer\n",
    "\n",
    " - 마지막 linear layer를 통해서 강아지 & 고양이 분류가 가능하도록 2개의 output이 나오도록 변경\n",
    " - 기존의 학습된 weight들은 유지하며 마지막 linear layer의 가중치를 학습"
   ]
  },
  {
   "cell_type": "code",
   "execution_count": null,
   "id": "2c89920d",
   "metadata": {
    "executionInfo": {
     "elapsed": 612,
     "status": "ok",
     "timestamp": 1676509094015,
     "user": {
      "displayName": "",
      "userId": ""
     },
     "user_tz": -540
    },
    "id": "2c89920d"
   },
   "outputs": [],
   "source": [
    "num_in = model.classifier[-1].in_features\n",
    "model.classifier[-1] = nn.Linear(num_in,2)"
   ]
  },
  {
   "cell_type": "code",
   "execution_count": null,
   "id": "1c246bc0",
   "metadata": {
    "colab": {
     "base_uri": "https://localhost:8080/"
    },
    "executionInfo": {
     "elapsed": 12,
     "status": "ok",
     "timestamp": 1676509094017,
     "user": {
      "displayName": "",
      "userId": ""
     },
     "user_tz": -540
    },
    "id": "1c246bc0",
    "outputId": "dd457459-7f86-43f4-9c77-7e508bdaa865"
   },
   "outputs": [],
   "source": [
    "model"
   ]
  },
  {
   "cell_type": "code",
   "execution_count": null,
   "id": "62ec111b",
   "metadata": {
    "executionInfo": {
     "elapsed": 4,
     "status": "ok",
     "timestamp": 1676509097618,
     "user": {
      "displayName": "",
      "userId": ""
     },
     "user_tz": -540
    },
    "id": "62ec111b"
   },
   "outputs": [],
   "source": [
    "class Alexnet(torch.nn.Module):\n",
    "    def __init__(self,num_classes=2): \n",
    "        super().__init__()\n",
    "        \n",
    "        ''' 모델에 필요한 layer 정의 ''' \n",
    "        \n",
    "        self.convnet = nn.Sequential(\n",
    "            nn.Conv2d(3, 64, kernel_size=11, stride=4, padding=2),\n",
    "            nn.ReLU(inplace=True),\n",
    "            nn.MaxPool2d(kernel_size=3, stride=2),\n",
    "            \n",
    "            nn.Conv2d(64, 192, kernel_size=5, padding=2),\n",
    "            nn.ReLU(inplace=True),\n",
    "            nn.MaxPool2d(kernel_size=3, stride=2),\n",
    "            \n",
    "            nn.Conv2d(192, 384, kernel_size=3, padding=1),\n",
    "            nn.ReLU(inplace=True),\n",
    "            \n",
    "            nn.Conv2d(384, 256, kernel_size=3, padding=1),\n",
    "            nn.ReLU(inplace=True),\n",
    "            \n",
    "            nn.Conv2d(256, 256, kernel_size=3, padding=1),\n",
    "            nn.ReLU(inplace=True),\n",
    "            \n",
    "            nn.MaxPool2d(kernel_size=3, stride=2),\n",
    "        )\n",
    "        \n",
    "        self.avgpool = nn.AdaptiveAvgPool2d(output_size = (6,6))\n",
    "        \n",
    "        self.classifier = nn.Sequential(\n",
    "            nn.Dropout(),\n",
    "            nn.Linear(256 * 6 * 6, 4096),\n",
    "            nn.ReLU(inplace=True),\n",
    "            nn.Dropout(),\n",
    "            nn.Linear(4096, 4096),\n",
    "            nn.ReLU(inplace=True),\n",
    "            nn.Linear(4096, num_classes),\n",
    "        )\n",
    "        \n",
    "    def forward(self, x):\n",
    "        \n",
    "        ''' x를 입력받아 진행할 순서 설정 '''\n",
    "        \n",
    "        x = self.convnet(x)\n",
    "        x = self.avgpool(x)\n",
    "        x = torch.flatten(x,1)\n",
    "        x = self.classifier(x)\n",
    "\n",
    "        return x"
   ]
  },
  {
   "cell_type": "code",
   "execution_count": null,
   "id": "3f5350fa",
   "metadata": {
    "colab": {
     "base_uri": "https://localhost:8080/"
    },
    "executionInfo": {
     "elapsed": 469,
     "status": "ok",
     "timestamp": 1676509098084,
     "user": {
      "displayName": "",
      "userId": ""
     },
     "user_tz": -540
    },
    "id": "3f5350fa",
    "outputId": "6a7abae2-3b37-4721-dc13-562801f27df0"
   },
   "outputs": [],
   "source": [
    "model_1 = Alexnet()\n",
    "model_1"
   ]
  },
  {
   "cell_type": "markdown",
   "id": "a4f3cb52",
   "metadata": {
    "id": "a4f3cb52"
   },
   "source": [
    "## 3. 모델 학습"
   ]
  },
  {
   "cell_type": "markdown",
   "id": "f3c33967",
   "metadata": {
    "id": "f3c33967"
   },
   "source": [
    "### - 비용함수"
   ]
  },
  {
   "cell_type": "code",
   "execution_count": null,
   "id": "7d379d54",
   "metadata": {
    "executionInfo": {
     "elapsed": 2,
     "status": "ok",
     "timestamp": 1676509101074,
     "user": {
      "displayName": "",
      "userId": ""
     },
     "user_tz": -540
    },
    "id": "7d379d54"
   },
   "outputs": [],
   "source": [
    "# 비용함수 정의 (분류문제 -> crossentropy 사용)\n",
    "criterion = nn.CrossEntropyLoss()"
   ]
  },
  {
   "cell_type": "markdown",
   "id": "c6cb5d5d",
   "metadata": {
    "id": "c6cb5d5d"
   },
   "source": [
    "### - Optimizer\n",
    "- __params__ : update를 진행할 모델의 파라미터\n",
    "- __lr__ : learning rate"
   ]
  },
  {
   "cell_type": "code",
   "execution_count": null,
   "id": "6286dce6",
   "metadata": {
    "executionInfo": {
     "elapsed": 6,
     "status": "ok",
     "timestamp": 1676509101553,
     "user": {
      "displayName": "",
      "userId": ""
     },
     "user_tz": -540
    },
    "id": "6286dce6"
   },
   "outputs": [],
   "source": [
    "optimizer = torch.optim.Adam(model.classifier[-1].parameters(), lr=1e-4)"
   ]
  },
  {
   "cell_type": "code",
   "execution_count": null,
   "id": "8b1164aa",
   "metadata": {
    "colab": {
     "base_uri": "https://localhost:8080/"
    },
    "executionInfo": {
     "elapsed": 40947,
     "status": "ok",
     "timestamp": 1676509144384,
     "user": {
      "displayName": "",
      "userId": ""
     },
     "user_tz": -540
    },
    "id": "8b1164aa",
    "outputId": "280ce325-529b-4fb4-c1d1-86f69bc923ab"
   },
   "outputs": [],
   "source": [
    "# 모델을 'gpu' or 'cpu'로 이동\n",
    "model = model.to(device)\n",
    "\n",
    "num_epochs = 10\n",
    "\n",
    "print(\"Start Training !\")\n",
    "print('-'*50)\n",
    "print()\n",
    "\n",
    "train_loss_total = []\n",
    "val_loss_total = []\n",
    "best_loss = np.inf\n",
    "\n",
    "for epoch in range(num_epochs):\n",
    "    print('Epoch {}/{}'.format(epoch+1, num_epochs))\n",
    "    print('-' * 10)\n",
    "    \n",
    "    train_loss = 0\n",
    "    val_loss = 0\n",
    "    train_corrects = 0\n",
    "    val_corrects = 0\n",
    "    \n",
    "    \n",
    "    '''Train'''\n",
    "    # 모델을 학습모드로 전환\n",
    "    model.train()\n",
    "    for inputs,labels in train_dataloader:\n",
    "        # 데이터를 'gpu' or 'cpu' 로 이동\n",
    "        inputs = inputs.to(device)\n",
    "        labels = labels.to(device)\n",
    "        \n",
    "        \n",
    "        # 모델의 모든 기울기 값을 0으로 설정\n",
    "        optimizer.zero_grad()\n",
    "        \n",
    "        # 데이터를 모델에 입력하여 출력값 계산\n",
    "        outputs = model(inputs)\n",
    "        \n",
    "        #outputs값 중에서 큰 class값을 가져옴\n",
    "        _,preds = torch.max(outputs,1)\n",
    "        \n",
    "        # 비용함수를 활용하여 오차 계산\n",
    "        loss = criterion(outputs,labels)\n",
    "        \n",
    "        # 계산된 오차를 기반으로 기울기 계산\n",
    "        loss.backward()\n",
    "        \n",
    "        # 계산된 기울기를 바탕으로 모델의 파라미터 업데이트\n",
    "        optimizer.step()\n",
    "        \n",
    "        train_loss += loss.item()\n",
    "        train_corrects += torch.sum(preds == labels.data)\n",
    "    \n",
    "    '''Validation'''\n",
    "    # 모델을 평가모드로 전환\n",
    "    model.eval()\n",
    "    # 모델을 평가할때는 기울기 계산 불필요\n",
    "    with torch.no_grad():\n",
    "        for inputs,labels in val_dataloader:\n",
    "            inputs = inputs.to(device)\n",
    "            labels = labels.to(device)\n",
    "            \n",
    "            outputs = model(inputs)\n",
    "            _,preds = torch.max(outputs,1)\n",
    "            \n",
    "            loss = criterion(outputs, labels)\n",
    "            \n",
    "            val_loss += loss.item()\n",
    "            val_corrects += torch.sum(preds == labels.data)\n",
    "    \n",
    "    # epoch의 loss 계산\n",
    "    train_loss_epoch = train_loss/len(train_dataloader)\n",
    "    val_loss_epoch = val_loss/len(val_dataloader)\n",
    "    \n",
    "    #epoch의 accuracy 계산\n",
    "    train_acc_epoch = train_corrects / len(train_dataset)\n",
    "    val_acc_epoch = val_corrects / len(val_dataset)\n",
    "\n",
    "    print(f'{epoch+1} epoch | Train loss: {train_loss_epoch:.3f}, Valid loss: {val_loss_epoch:.3f}')\n",
    "    print(f'{epoch+1} epoch | Train acc: {train_acc_epoch:.3f}, Valid acc: {val_acc_epoch:.3f}')\n",
    "    print()\n",
    "\n",
    "    # validation loss 기준으로 best epoch 계산 (Early stopping)\n",
    "    if val_loss_epoch < best_loss:\n",
    "        # best loss 업데이트\n",
    "        best_loss = val_loss_epoch\n",
    "        # 최적의 epoch 수와 모델 저장하기\n",
    "        best_epoch = epoch\n",
    "        torch.save(model.state_dict(), './best_model_alexnet_image.pt')\n",
    "    \n",
    "    train_loss_total.append(train_loss_epoch)\n",
    "    val_loss_total.append(val_loss_epoch)\n",
    "\n",
    "print()\n",
    "print('-'*50)\n",
    "print(f'Finished Training ! Best Epoch is epoch {best_epoch+1}')"
   ]
  },
  {
   "cell_type": "markdown",
   "id": "609ea5d0",
   "metadata": {
    "id": "609ea5d0"
   },
   "source": [
    "## 4. 모델 성능 평가"
   ]
  },
  {
   "cell_type": "code",
   "execution_count": null,
   "id": "be45aa14",
   "metadata": {
    "colab": {
     "base_uri": "https://localhost:8080/",
     "height": 611
    },
    "executionInfo": {
     "elapsed": 1288,
     "status": "ok",
     "timestamp": 1676509192358,
     "user": {
      "displayName": "",
      "userId": ""
     },
     "user_tz": -540
    },
    "id": "be45aa14",
    "outputId": "981eeb0e-552c-4c14-d11c-98efa0b1fafc"
   },
   "outputs": [],
   "source": [
    "plt.figure(figsize=(20,10))\n",
    "\n",
    "# 학습 및 검증 로스 변동 관찰하기\n",
    "plt.plot(train_loss_total,label='Train Loss')\n",
    "plt.plot(val_loss_total, label='Validation Loss')\n",
    "# 최적의 모델이 저장된 곳 표시\n",
    "plt.axvline(x = best_epoch, color='red', label='Best Epoch')\n",
    "plt.legend(fontsize=20)\n",
    "plt.title(\"Learning Curve of Trained model\", fontsize=18)\n",
    "plt.show()"
   ]
  },
  {
   "cell_type": "code",
   "execution_count": null,
   "id": "445dc3d1",
   "metadata": {
    "colab": {
     "base_uri": "https://localhost:8080/"
    },
    "executionInfo": {
     "elapsed": 449,
     "status": "ok",
     "timestamp": 1676509205939,
     "user": {
      "displayName": "",
      "userId": ""
     },
     "user_tz": -540
    },
    "id": "445dc3d1",
    "outputId": "0b6b795d-6dbe-47c7-e3eb-e5241ec4a3e0"
   },
   "outputs": [],
   "source": [
    "# 최적의 모델 불러오기\n",
    "ckpt = torch.load('./best_model_alexnet_image.pt')\n",
    "# 모델 파라미터 불러오기\n",
    "model.load_state_dict(ckpt)"
   ]
  },
  {
   "cell_type": "code",
   "execution_count": null,
   "id": "06c11e59",
   "metadata": {
    "executionInfo": {
     "elapsed": 1669,
     "status": "ok",
     "timestamp": 1676509227465,
     "user": {
      "displayName": "",
      "userId": ""
     },
     "user_tz": -540
    },
    "id": "06c11e59"
   },
   "outputs": [],
   "source": [
    "# model을 evaluation 모드로 변경\n",
    "pred_list = []\n",
    "true_list = []\n",
    "\n",
    "model.eval()\n",
    "model.to(device)\n",
    "\n",
    "with torch.no_grad():\n",
    "    for inputs,labels in test_dataloader:\n",
    "        # 모델의 출력값 계산\n",
    "        y_logit = model(inputs.to(device))\n",
    "        # 출력값을 최대로하는 인덱스(class) 저장\n",
    "        y_pred = torch.argmax(y_logit, dim=1)\n",
    "        # 예측값과 실제값 저장\n",
    "        pred_list.extend(y_pred.cpu().detach().numpy())\n",
    "        true_list.extend(labels.cpu().detach().numpy())"
   ]
  },
  {
   "cell_type": "code",
   "execution_count": null,
   "id": "ce3a3f99",
   "metadata": {
    "colab": {
     "base_uri": "https://localhost:8080/",
     "height": 579
    },
    "executionInfo": {
     "elapsed": 521,
     "status": "ok",
     "timestamp": 1676509237536,
     "user": {
      "displayName": "",
      "userId": ""
     },
     "user_tz": -540
    },
    "id": "ce3a3f99",
    "outputId": "5a282d53-c16f-4f48-e662-bb3a6f54d876"
   },
   "outputs": [],
   "source": [
    "# confusion matrix 계산\n",
    "cm_train = confusion_matrix(y_true=true_list, y_pred=pred_list)\n",
    "\n",
    "# confusion matrix 시각화\n",
    "plt.figure(figsize=(10, 8))\n",
    "sns.heatmap(data=cm_train, annot=True, fmt='d', annot_kws={'size': 15}, cmap='Blues')\n",
    "plt.xlabel('Predicted', size=20)\n",
    "plt.ylabel('True', size=20)\n",
    "plt.show()\n",
    "\n",
    "# 평가지표 계산\n",
    "test_acc = accuracy_score(true_list, pred_list)\n",
    "test_rec = recall_score(true_list, pred_list, average='macro')\n",
    "test_prec = precision_score(true_list, pred_list, average='macro')\n",
    "test_f1 = f1_score(true_list, pred_list, average='macro')\n",
    "\n",
    "print('Test Accuracy   : {:.3f}'.format(test_acc))\n",
    "print('Test Sensitivity: {:.3f}'.format(test_rec))\n",
    "print('Test Precision  : {:.3f}'.format(test_prec))\n",
    "print('Test F1 Score   : {:.3f}'.format(test_f1))"
   ]
  },
  {
   "cell_type": "markdown",
   "id": "6eaf7b36",
   "metadata": {
    "id": "6eaf7b36"
   },
   "source": [
    "## EOD"
   ]
  }
 ],
 "metadata": {
  "accelerator": "GPU",
  "colab": {
   "provenance": [
    {
     "file_id": "https://github.com/bogus215/LG-EDUCATION2/blob/main/04-Convolutional-Neural-Networks-Tutorial1.ipynb",
     "timestamp": 1676509242732
    }
   ]
  },
  "gpuClass": "standard",
  "kernelspec": {
   "display_name": "Python 3 (ipykernel)",
   "language": "python",
   "name": "python3"
  },
  "language_info": {
   "codemirror_mode": {
    "name": "ipython",
    "version": 3
   },
   "file_extension": ".py",
   "mimetype": "text/x-python",
   "name": "python",
   "nbconvert_exporter": "python",
   "pygments_lexer": "ipython3",
   "version": "3.9.16"
  },
  "widgets": {
   "application/vnd.jupyter.widget-state+json": {
    "4cec08068214488091d7e4d08e5b81a1": {
     "model_module": "@jupyter-widgets/controls",
     "model_module_version": "1.5.0",
     "model_name": "HTMLModel",
     "state": {
      "_dom_classes": [],
      "_model_module": "@jupyter-widgets/controls",
      "_model_module_version": "1.5.0",
      "_model_name": "HTMLModel",
      "_view_count": null,
      "_view_module": "@jupyter-widgets/controls",
      "_view_module_version": "1.5.0",
      "_view_name": "HTMLView",
      "description": "",
      "description_tooltip": null,
      "layout": "IPY_MODEL_9a2255bfb8144303a41235c0750873f6",
      "placeholder": "​",
      "style": "IPY_MODEL_d80027d0c4914fbda6ff3f5be843c241",
      "value": "100%"
     }
    },
    "9a2255bfb8144303a41235c0750873f6": {
     "model_module": "@jupyter-widgets/base",
     "model_module_version": "1.2.0",
     "model_name": "LayoutModel",
     "state": {
      "_model_module": "@jupyter-widgets/base",
      "_model_module_version": "1.2.0",
      "_model_name": "LayoutModel",
      "_view_count": null,
      "_view_module": "@jupyter-widgets/base",
      "_view_module_version": "1.2.0",
      "_view_name": "LayoutView",
      "align_content": null,
      "align_items": null,
      "align_self": null,
      "border": null,
      "bottom": null,
      "display": null,
      "flex": null,
      "flex_flow": null,
      "grid_area": null,
      "grid_auto_columns": null,
      "grid_auto_flow": null,
      "grid_auto_rows": null,
      "grid_column": null,
      "grid_gap": null,
      "grid_row": null,
      "grid_template_areas": null,
      "grid_template_columns": null,
      "grid_template_rows": null,
      "height": null,
      "justify_content": null,
      "justify_items": null,
      "left": null,
      "margin": null,
      "max_height": null,
      "max_width": null,
      "min_height": null,
      "min_width": null,
      "object_fit": null,
      "object_position": null,
      "order": null,
      "overflow": null,
      "overflow_x": null,
      "overflow_y": null,
      "padding": null,
      "right": null,
      "top": null,
      "visibility": null,
      "width": null
     }
    },
    "9b7c0cc880554baeb44346c4985763cc": {
     "model_module": "@jupyter-widgets/base",
     "model_module_version": "1.2.0",
     "model_name": "LayoutModel",
     "state": {
      "_model_module": "@jupyter-widgets/base",
      "_model_module_version": "1.2.0",
      "_model_name": "LayoutModel",
      "_view_count": null,
      "_view_module": "@jupyter-widgets/base",
      "_view_module_version": "1.2.0",
      "_view_name": "LayoutView",
      "align_content": null,
      "align_items": null,
      "align_self": null,
      "border": null,
      "bottom": null,
      "display": null,
      "flex": null,
      "flex_flow": null,
      "grid_area": null,
      "grid_auto_columns": null,
      "grid_auto_flow": null,
      "grid_auto_rows": null,
      "grid_column": null,
      "grid_gap": null,
      "grid_row": null,
      "grid_template_areas": null,
      "grid_template_columns": null,
      "grid_template_rows": null,
      "height": null,
      "justify_content": null,
      "justify_items": null,
      "left": null,
      "margin": null,
      "max_height": null,
      "max_width": null,
      "min_height": null,
      "min_width": null,
      "object_fit": null,
      "object_position": null,
      "order": null,
      "overflow": null,
      "overflow_x": null,
      "overflow_y": null,
      "padding": null,
      "right": null,
      "top": null,
      "visibility": null,
      "width": null
     }
    },
    "ad5851cb761643508c039ed25d51a297": {
     "model_module": "@jupyter-widgets/controls",
     "model_module_version": "1.5.0",
     "model_name": "ProgressStyleModel",
     "state": {
      "_model_module": "@jupyter-widgets/controls",
      "_model_module_version": "1.5.0",
      "_model_name": "ProgressStyleModel",
      "_view_count": null,
      "_view_module": "@jupyter-widgets/base",
      "_view_module_version": "1.2.0",
      "_view_name": "StyleView",
      "bar_color": null,
      "description_width": ""
     }
    },
    "c40fa04423074382a7748e471cd06387": {
     "model_module": "@jupyter-widgets/controls",
     "model_module_version": "1.5.0",
     "model_name": "FloatProgressModel",
     "state": {
      "_dom_classes": [],
      "_model_module": "@jupyter-widgets/controls",
      "_model_module_version": "1.5.0",
      "_model_name": "FloatProgressModel",
      "_view_count": null,
      "_view_module": "@jupyter-widgets/controls",
      "_view_module_version": "1.5.0",
      "_view_name": "ProgressView",
      "bar_style": "success",
      "description": "",
      "description_tooltip": null,
      "layout": "IPY_MODEL_dccab6d76d454b7eaf329de93a8a54a9",
      "max": 244408911,
      "min": 0,
      "orientation": "horizontal",
      "style": "IPY_MODEL_ad5851cb761643508c039ed25d51a297",
      "value": 244408911
     }
    },
    "d80027d0c4914fbda6ff3f5be843c241": {
     "model_module": "@jupyter-widgets/controls",
     "model_module_version": "1.5.0",
     "model_name": "DescriptionStyleModel",
     "state": {
      "_model_module": "@jupyter-widgets/controls",
      "_model_module_version": "1.5.0",
      "_model_name": "DescriptionStyleModel",
      "_view_count": null,
      "_view_module": "@jupyter-widgets/base",
      "_view_module_version": "1.2.0",
      "_view_name": "StyleView",
      "description_width": ""
     }
    },
    "dccab6d76d454b7eaf329de93a8a54a9": {
     "model_module": "@jupyter-widgets/base",
     "model_module_version": "1.2.0",
     "model_name": "LayoutModel",
     "state": {
      "_model_module": "@jupyter-widgets/base",
      "_model_module_version": "1.2.0",
      "_model_name": "LayoutModel",
      "_view_count": null,
      "_view_module": "@jupyter-widgets/base",
      "_view_module_version": "1.2.0",
      "_view_name": "LayoutView",
      "align_content": null,
      "align_items": null,
      "align_self": null,
      "border": null,
      "bottom": null,
      "display": null,
      "flex": null,
      "flex_flow": null,
      "grid_area": null,
      "grid_auto_columns": null,
      "grid_auto_flow": null,
      "grid_auto_rows": null,
      "grid_column": null,
      "grid_gap": null,
      "grid_row": null,
      "grid_template_areas": null,
      "grid_template_columns": null,
      "grid_template_rows": null,
      "height": null,
      "justify_content": null,
      "justify_items": null,
      "left": null,
      "margin": null,
      "max_height": null,
      "max_width": null,
      "min_height": null,
      "min_width": null,
      "object_fit": null,
      "object_position": null,
      "order": null,
      "overflow": null,
      "overflow_x": null,
      "overflow_y": null,
      "padding": null,
      "right": null,
      "top": null,
      "visibility": null,
      "width": null
     }
    },
    "ddc83da5b7c44b1d9b679cd97a752aa1": {
     "model_module": "@jupyter-widgets/controls",
     "model_module_version": "1.5.0",
     "model_name": "DescriptionStyleModel",
     "state": {
      "_model_module": "@jupyter-widgets/controls",
      "_model_module_version": "1.5.0",
      "_model_name": "DescriptionStyleModel",
      "_view_count": null,
      "_view_module": "@jupyter-widgets/base",
      "_view_module_version": "1.2.0",
      "_view_name": "StyleView",
      "description_width": ""
     }
    },
    "e6749b4380f74058990ed198f746432f": {
     "model_module": "@jupyter-widgets/base",
     "model_module_version": "1.2.0",
     "model_name": "LayoutModel",
     "state": {
      "_model_module": "@jupyter-widgets/base",
      "_model_module_version": "1.2.0",
      "_model_name": "LayoutModel",
      "_view_count": null,
      "_view_module": "@jupyter-widgets/base",
      "_view_module_version": "1.2.0",
      "_view_name": "LayoutView",
      "align_content": null,
      "align_items": null,
      "align_self": null,
      "border": null,
      "bottom": null,
      "display": null,
      "flex": null,
      "flex_flow": null,
      "grid_area": null,
      "grid_auto_columns": null,
      "grid_auto_flow": null,
      "grid_auto_rows": null,
      "grid_column": null,
      "grid_gap": null,
      "grid_row": null,
      "grid_template_areas": null,
      "grid_template_columns": null,
      "grid_template_rows": null,
      "height": null,
      "justify_content": null,
      "justify_items": null,
      "left": null,
      "margin": null,
      "max_height": null,
      "max_width": null,
      "min_height": null,
      "min_width": null,
      "object_fit": null,
      "object_position": null,
      "order": null,
      "overflow": null,
      "overflow_x": null,
      "overflow_y": null,
      "padding": null,
      "right": null,
      "top": null,
      "visibility": null,
      "width": null
     }
    },
    "fd656eb549764ea5b1d6341d1cd3ca2c": {
     "model_module": "@jupyter-widgets/controls",
     "model_module_version": "1.5.0",
     "model_name": "HTMLModel",
     "state": {
      "_dom_classes": [],
      "_model_module": "@jupyter-widgets/controls",
      "_model_module_version": "1.5.0",
      "_model_name": "HTMLModel",
      "_view_count": null,
      "_view_module": "@jupyter-widgets/controls",
      "_view_module_version": "1.5.0",
      "_view_name": "HTMLView",
      "description": "",
      "description_tooltip": null,
      "layout": "IPY_MODEL_9b7c0cc880554baeb44346c4985763cc",
      "placeholder": "​",
      "style": "IPY_MODEL_ddc83da5b7c44b1d9b679cd97a752aa1",
      "value": " 233M/233M [00:00&lt;00:00, 262MB/s]"
     }
    },
    "fdb9a455b5e84b5bbde631cd966c59a3": {
     "model_module": "@jupyter-widgets/controls",
     "model_module_version": "1.5.0",
     "model_name": "HBoxModel",
     "state": {
      "_dom_classes": [],
      "_model_module": "@jupyter-widgets/controls",
      "_model_module_version": "1.5.0",
      "_model_name": "HBoxModel",
      "_view_count": null,
      "_view_module": "@jupyter-widgets/controls",
      "_view_module_version": "1.5.0",
      "_view_name": "HBoxView",
      "box_style": "",
      "children": [
       "IPY_MODEL_4cec08068214488091d7e4d08e5b81a1",
       "IPY_MODEL_c40fa04423074382a7748e471cd06387",
       "IPY_MODEL_fd656eb549764ea5b1d6341d1cd3ca2c"
      ],
      "layout": "IPY_MODEL_e6749b4380f74058990ed198f746432f"
     }
    }
   }
  }
 },
 "nbformat": 4,
 "nbformat_minor": 5
}
