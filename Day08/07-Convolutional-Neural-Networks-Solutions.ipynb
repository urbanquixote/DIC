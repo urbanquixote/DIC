{
 "cells": [
  {
   "cell_type": "markdown",
   "id": "ad82173c-8d04-45e7-8a70-302b6be930c3",
   "metadata": {
    "id": "ad82173c-8d04-45e7-8a70-302b6be930c3"
   },
   "source": [
    "# Convolutional Neural Networks: Solutions\n",
    "- 실습조교: 배진수(wlstn215@korea.ac.kr), 김정인(jungin_kim23@korea.ac.kr), 정진용(jy_jeong@korea.ac.kr)\n",
    "\n",
    "## Colab gpu 연결\n",
    "\n",
    "#### 런타임 -> 런타임유형 변경 -> 하드웨어 가속기 -> GPU"
   ]
  },
  {
   "cell_type": "code",
   "execution_count": null,
   "id": "a1691683",
   "metadata": {
    "colab": {
     "base_uri": "https://localhost:8080/"
    },
    "executionInfo": {
     "elapsed": 17227,
     "status": "ok",
     "timestamp": 1676511619659,
     "user": {
      "displayName": "",
      "userId": ""
     },
     "user_tz": -540
    },
    "id": "a1691683",
    "outputId": "b474d122-0177-4843-d209-ed6a24e1b644"
   },
   "outputs": [],
   "source": [
    "import torch, os\n",
    "torch.cuda.is_available()"
   ]
  },
  {
   "cell_type": "markdown",
   "id": "dc17b57e-9671-404a-8cd9-f944d2f5f94d",
   "metadata": {
    "id": "dc17b57e-9671-404a-8cd9-f944d2f5f94d"
   },
   "source": [
    "## 0.모듈 불러오기"
   ]
  },
  {
   "cell_type": "code",
   "execution_count": null,
   "id": "69da2c5a-25e5-4e7b-bbd9-aafb2659da0b",
   "metadata": {
    "colab": {
     "base_uri": "https://localhost:8080/",
     "height": 35
    },
    "executionInfo": {
     "elapsed": 1240,
     "status": "ok",
     "timestamp": 1676511632758,
     "user": {
      "displayName": "",
      "userId": ""
     },
     "user_tz": -540
    },
    "id": "69da2c5a-25e5-4e7b-bbd9-aafb2659da0b",
    "outputId": "a330b567-8074-4330-f713-5a7bb04974b7"
   },
   "outputs": [],
   "source": [
    "''' 기본 모듈 및 시각화 모듈 '''\n",
    "import numpy as np\n",
    "import pandas as pd\n",
    "import seaborn as sns\n",
    "import matplotlib.pyplot as plt\n",
    "\n",
    "''' 데이터 전처리 모듈 '''\n",
    "from sklearn.preprocessing import StandardScaler\n",
    "from sklearn.model_selection import train_test_split\n",
    "\n",
    "'''Neural Network을 위한 딥러닝 모듈'''\n",
    "import torch\n",
    "from torch.utils.data import Dataset\n",
    "from torch.utils.data import DataLoader\n",
    "\n",
    "''' 결과 평가용 모듈 '''\n",
    "from sklearn.metrics import confusion_matrix, accuracy_score, f1_score, precision_score, recall_score\n",
    "\n",
    "''' github+colab 교육생분들 '''\n",
    "# !git clone https://github.com/bogus215/LG-EDUCATION2.git"
   ]
  },
  {
   "cell_type": "markdown",
   "id": "19245a87-abd5-4569-b537-2e9452a9f216",
   "metadata": {
    "id": "19245a87-abd5-4569-b537-2e9452a9f216"
   },
   "source": [
    "## 1. 분석데이터 : Fashion-MNIST 의류 이미지"
   ]
  },
  {
   "cell_type": "markdown",
   "id": "ecdc0453-aec0-4e9e-97d1-940141a85136",
   "metadata": {
    "id": "ecdc0453-aec0-4e9e-97d1-940141a85136"
   },
   "source": [
    "- 이미지 데이터는 픽셀로 이루어져 있으며, 각 픽셀의 밝기(intensity, 0~255)를 통해 이미지를 나타낼 수 있다.\n",
    "- Fashion-MNIST 데이터는 이런 픽셀 값들을 설명변수(X)로 하여 어떤 의류(Y)에 해당하는 이미지인지 분류하는 문제\n",
    "- Fashion-MNIST 데이터의 이미지는 가로 28 픽셀, 세로 28 픽셀로 이루어져 있으므로 28 x 28 = 784개의 설명변수로 10개의 클래스를 예측하는 다범주 분류문제\n",
    "- 해당 데이터에서의 레이블과 클래스는 아래의 표와 같다.\n",
    "\n",
    "|레이블|클래스|\n",
    "|---|---|\n",
    "|0|T-shirt/top(티셔츠)|\n",
    "|1|Trouser(바지)|\n",
    "|2|Pullover(스웨터)|\n",
    "|3|Dress(드레스)|\n",
    "|4|Coat(코트)|\n",
    "|5|Sandal(샌들)|\n",
    "|6|Shirt(셔츠)|\n",
    "|7|Sneaker(운동화)|\n",
    "|8|Bag(가방)|\n",
    "|9|Ankel boot(발목부츠)|"
   ]
  },
  {
   "cell_type": "markdown",
   "id": "645c61aa-87a8-4f10-87ed-543653d14d49",
   "metadata": {
    "id": "645c61aa-87a8-4f10-87ed-543653d14d49"
   },
   "source": [
    "### 데이터 불러오기"
   ]
  },
  {
   "cell_type": "code",
   "execution_count": null,
   "id": "ba2f6954-2ded-447f-ab76-8597f0ab82ec",
   "metadata": {
    "colab": {
     "base_uri": "https://localhost:8080/",
     "height": 35
    },
    "executionInfo": {
     "elapsed": 6,
     "status": "ok",
     "timestamp": 1676511633763,
     "user": {
      "displayName": "",
      "userId": ""
     },
     "user_tz": -540
    },
    "id": "ba2f6954-2ded-447f-ab76-8597f0ab82ec",
    "outputId": "a6425977-35cf-42d6-fd06-b11047424faf"
   },
   "outputs": [],
   "source": [
    "data = pd.read_csv(\"./data/Fashion_MNIST_Example.csv\")\n",
    "\n",
    "''' github+colab 교육생분들 '''\n",
    "# data = pd.read_csv(\"./LG-EDUCATION2/data/Fashion_MNIST_Example.csv\")"
   ]
  },
  {
   "cell_type": "markdown",
   "id": "da74147b-16a2-4a1f-ae07-2c1a31e39624",
   "metadata": {
    "id": "da74147b-16a2-4a1f-ae07-2c1a31e39624"
   },
   "source": [
    "## 1.1 탐색적 데이터 분석"
   ]
  },
  {
   "cell_type": "markdown",
   "id": "315d767f-a3a5-4f12-8b92-a997ec90fec9",
   "metadata": {
    "id": "315d767f-a3a5-4f12-8b92-a997ec90fec9"
   },
   "source": [
    "### 데이터 확인"
   ]
  },
  {
   "cell_type": "code",
   "execution_count": null,
   "id": "70efb591-dd21-4ff4-a9da-8c067f14fcc5",
   "metadata": {
    "colab": {
     "base_uri": "https://localhost:8080/",
     "height": 253
    },
    "executionInfo": {
     "elapsed": 8,
     "status": "ok",
     "timestamp": 1676511636328,
     "user": {
      "displayName": "",
      "userId": ""
     },
     "user_tz": -540
    },
    "id": "70efb591-dd21-4ff4-a9da-8c067f14fcc5",
    "outputId": "8b968ed7-f17c-4d40-f636-ac2ff109f9ac"
   },
   "outputs": [],
   "source": [
    "## 불러온 데이터의 shape 확인\n",
    "print('Data shape: {}'.format(data.shape))\n",
    "data.head()"
   ]
  },
  {
   "cell_type": "markdown",
   "id": "73966767-c860-46ef-a5e6-a01d9ba36562",
   "metadata": {
    "id": "73966767-c860-46ef-a5e6-a01d9ba36562"
   },
   "source": [
    "### 클래스 비율 확인"
   ]
  },
  {
   "cell_type": "code",
   "execution_count": null,
   "id": "9d0780c5-9ba3-4a10-a6ee-60cdf53d53b1",
   "metadata": {
    "colab": {
     "base_uri": "https://localhost:8080/"
    },
    "executionInfo": {
     "elapsed": 3,
     "status": "ok",
     "timestamp": 1676511637171,
     "user": {
      "displayName": "",
      "userId": ""
     },
     "user_tz": -540
    },
    "id": "9d0780c5-9ba3-4a10-a6ee-60cdf53d53b1",
    "outputId": "c3a230cc-a05d-49d8-8222-699d3567e16f"
   },
   "outputs": [],
   "source": [
    "data['Y'].value_counts()"
   ]
  },
  {
   "cell_type": "markdown",
   "id": "f479979b-8ad2-485e-a2d6-2d443b8b33fe",
   "metadata": {
    "id": "f479979b-8ad2-485e-a2d6-2d443b8b33fe"
   },
   "source": [
    "### 예시 이미지 출력"
   ]
  },
  {
   "cell_type": "code",
   "execution_count": null,
   "id": "5771ff4d-cc05-418b-a428-8f779f03bdbe",
   "metadata": {
    "colab": {
     "base_uri": "https://localhost:8080/",
     "height": 264
    },
    "executionInfo": {
     "elapsed": 5,
     "status": "ok",
     "timestamp": 1676511638447,
     "user": {
      "displayName": "",
      "userId": ""
     },
     "user_tz": -540
    },
    "id": "5771ff4d-cc05-418b-a428-8f779f03bdbe",
    "outputId": "9993e13f-1b96-4063-8d36-ffe6dd925310"
   },
   "outputs": [],
   "source": [
    "## 1번째 데이터의 예시이미지 출력\n",
    "image = data.iloc[0,:-1].values\n",
    "label = data.iloc[0,-1]\n",
    "plt.imshow(image.reshape(28,28), cmap='gray')\n",
    "plt.axis('off')\n",
    "plt.title(f\"label:{label}\")\n",
    "plt.show()"
   ]
  },
  {
   "cell_type": "markdown",
   "id": "d38c5a1e-616e-4898-9ec8-38399f6919a9",
   "metadata": {
    "id": "d38c5a1e-616e-4898-9ec8-38399f6919a9"
   },
   "source": [
    "## 1-2. 모델링: Convolutional Neural Networks (CNN)"
   ]
  },
  {
   "cell_type": "markdown",
   "id": "db0585fd-c350-4673-b0c4-e452d092de7b",
   "metadata": {
    "id": "db0585fd-c350-4673-b0c4-e452d092de7b"
   },
   "source": [
    "### Dataset"
   ]
  },
  {
   "cell_type": "code",
   "execution_count": null,
   "id": "e26df6a3-372b-4376-906b-bac1f1ce6003",
   "metadata": {
    "id": "e26df6a3-372b-4376-906b-bac1f1ce6003"
   },
   "outputs": [],
   "source": [
    "class Fashion_MNISTDataset(Dataset):\n",
    "    def __init__(self, data_path, split):\n",
    "        '''데이터 불러오기, 전처리'''\n",
    "\n",
    "        # 데이터 불러오기\n",
    "        data = pd.read_csv(data_path)\n",
    "        X = data.drop(labels='Y', axis=1).values\n",
    "        y = data['Y'].values\n",
    "\n",
    "        # 데이터 나누기 (학습, 검증, 테스트)\n",
    "        train_X, test_X, train_y, test_y = train_test_split(X, y, stratify=y, test_size=0.2, random_state=0)\n",
    "        train_X, valid_X, train_y, valid_y = train_test_split(train_X, train_y, stratify=train_y, test_size=0.2, random_state=0)\n",
    "\n",
    "        # 데이터 정규화\n",
    "        self.scaler = StandardScaler()\n",
    "        train_X = self.scaler.fit_transform(train_X)\n",
    "        valid_X = self.scaler.transform(valid_X)\n",
    "        test_X = self.scaler.transform(test_X)\n",
    "\n",
    "        # 데이터셋 지정\n",
    "        if split == 'train':\n",
    "            self.data_X = train_X\n",
    "            self.data_y = train_y\n",
    "        elif split == 'valid':\n",
    "            self.data_X = valid_X\n",
    "            self.data_y = valid_y\n",
    "        elif split == 'test':\n",
    "            self.data_X = test_X\n",
    "            self.data_y = test_y\n",
    "\n",
    "        # numpy array -> Tensor 변환\n",
    "        self.data_X = torch.FloatTensor(self.data_X.reshape(-1,1,28,28))\n",
    "        self.data_y = torch.LongTensor(self.data_y)\n",
    "\n",
    "    def __len__(self):\n",
    "        '''데이터셋 개수 정의'''\n",
    "        return len(self.data_X)\n",
    "    \n",
    "    def __getitem__(self, idx):\n",
    "        '''인덱스를 입력받아 데이터를 출력'''\n",
    "        X = self.data_X[idx]\n",
    "        y = self.data_y[idx]\n",
    "        return X, y"
   ]
  },
  {
   "cell_type": "markdown",
   "id": "d4444c7b-3e75-4d46-9d5e-f2d944640333",
   "metadata": {
    "id": "d4444c7b-3e75-4d46-9d5e-f2d944640333"
   },
   "source": [
    "#### DataLoader"
   ]
  },
  {
   "cell_type": "code",
   "execution_count": null,
   "id": "9318eb40-dd89-45bb-9137-cf715e340166",
   "metadata": {
    "colab": {
     "base_uri": "https://localhost:8080/",
     "height": 35
    },
    "executionInfo": {
     "elapsed": 19,
     "status": "ok",
     "timestamp": 1676511643672,
     "user": {
      "displayName": "",
      "userId": ""
     },
     "user_tz": -540
    },
    "id": "9318eb40-dd89-45bb-9137-cf715e340166",
    "outputId": "0319a5ad-88c3-4147-fd3c-dffde2ed0e46"
   },
   "outputs": [],
   "source": [
    "# 학습 데이터\n",
    "train_dataset = Fashion_MNISTDataset(data_path='./data/Fashion_MNIST_Example.csv', split='train')\n",
    "train_loader = DataLoader(dataset = train_dataset, batch_size = 64, shuffle = True)\n",
    "# 검증 데이터\n",
    "valid_dataset = Fashion_MNISTDataset(data_path='./data/Fashion_MNIST_Example.csv', split='valid')\n",
    "valid_loader = DataLoader(dataset = valid_dataset, batch_size = 64)\n",
    "# 테스트 데이터\n",
    "test_dataset = Fashion_MNISTDataset(data_path='./data/Fashion_MNIST_Example.csv', split='test')\n",
    "test_loader = DataLoader(dataset = test_dataset, batch_size = 64)\n",
    "\n",
    "''' github+colab 교육생분들 '''\n",
    "# train_dataset = Fashion_MNISTDataset(data_path='./LG-EDUCATION2/data/Fashion_MNIST_Example.csv', split='train')\n",
    "# valid_dataset = Fashion_MNISTDataset(data_path='./LG-EDUCATION2/data/Fashion_MNIST_Example.csv', split='valid')\n",
    "# test_dataset = Fashion_MNISTDataset(data_path='./LG-EDUCATION2/data/Fashion_MNIST_Example.csv', split='test')"
   ]
  },
  {
   "cell_type": "markdown",
   "id": "4a2a2285-bcc4-42cc-80ce-5c3d7bc8a154",
   "metadata": {
    "id": "4a2a2285-bcc4-42cc-80ce-5c3d7bc8a154"
   },
   "source": [
    "### Model"
   ]
  },
  {
   "cell_type": "code",
   "execution_count": null,
   "id": "b1318e10-350f-4911-85a8-81e10faeb046",
   "metadata": {
    "id": "b1318e10-350f-4911-85a8-81e10faeb046"
   },
   "outputs": [],
   "source": [
    "class CNN(torch.nn.Module):\n",
    "    def __init__(self, input_channel, num_classes=10): \n",
    "        super().__init__()\n",
    "        \n",
    "        ''' 모델에 필요한 layer 정의 ''' \n",
    "               \n",
    "        self.conv1 = torch.nn.Conv2d(1,32,kernel_size=2)\n",
    "        self.conv2 = torch.nn.Conv2d(32,64,kernel_size=2)\n",
    "        self.conv3 = torch.nn.Conv2d(64,128,kernel_size=2)        \n",
    "        \n",
    "        self.max_pool_2d = torch.nn.MaxPool2d(kernel_size=2)\n",
    "        \n",
    "        self.relu = torch.nn.ReLU() # Relu activation function\n",
    "        \n",
    "        self.linear = torch.nn.Linear(512, num_classes)\n",
    "        \n",
    "    def forward(self, x):\n",
    "        \n",
    "        ''' x를 입력받아 진행할 순서 설정 '''\n",
    "\n",
    "        x = self.max_pool_2d(self.relu(self.conv1(x)))\n",
    "        x = self.max_pool_2d(self.relu(self.conv2(x)))\n",
    "        x = self.max_pool_2d(self.relu(self.conv3(x)))        \n",
    "\n",
    "        x = x.view(x.size(0),-1)\n",
    "        logit = self.linear(x)\n",
    "\n",
    "        return logit"
   ]
  },
  {
   "cell_type": "code",
   "execution_count": null,
   "id": "d816a147-ad37-4922-b313-7d8b13113d55",
   "metadata": {
    "id": "d816a147-ad37-4922-b313-7d8b13113d55"
   },
   "outputs": [],
   "source": [
    "# 입력 채널 개수\n",
    "input_channel = train_dataset.data_X.shape[1]\n",
    "# 모델 선언\n",
    "model = CNN(input_channel, num_classes=10) # 10=class 개수"
   ]
  },
  {
   "cell_type": "markdown",
   "id": "d85df548-12a5-4444-8759-74225e67a0ee",
   "metadata": {
    "id": "d85df548-12a5-4444-8759-74225e67a0ee"
   },
   "source": [
    "### 비용함수"
   ]
  },
  {
   "cell_type": "code",
   "execution_count": null,
   "id": "0318d870-9a71-4276-bd7d-a9e2db889704",
   "metadata": {
    "id": "0318d870-9a71-4276-bd7d-a9e2db889704"
   },
   "outputs": [],
   "source": [
    "# 비용함수 정의 (분류문제 -> crossentropy 사용)\n",
    "criterion = torch.nn.CrossEntropyLoss()"
   ]
  },
  {
   "cell_type": "markdown",
   "id": "1bfa65f7-3c46-47e6-87b8-b695696b4dfc",
   "metadata": {
    "id": "1bfa65f7-3c46-47e6-87b8-b695696b4dfc"
   },
   "source": [
    "### Optimizer"
   ]
  },
  {
   "cell_type": "code",
   "execution_count": null,
   "id": "e571aebd-4d06-4709-b05e-9423c6bc60d9",
   "metadata": {
    "id": "e571aebd-4d06-4709-b05e-9423c6bc60d9"
   },
   "outputs": [],
   "source": [
    "# 경사하강법의 종류 정의 (adam)\n",
    "optim = torch.optim.Adam(model.parameters(), lr = 0.0001)"
   ]
  },
  {
   "cell_type": "markdown",
   "id": "7e7702f6-db36-4d87-a6f4-a90435cb1431",
   "metadata": {
    "id": "7e7702f6-db36-4d87-a6f4-a90435cb1431"
   },
   "source": [
    "### 학습"
   ]
  },
  {
   "cell_type": "code",
   "execution_count": null,
   "id": "88d1788f-4b2b-44fb-afa5-37958888f2db",
   "metadata": {
    "colab": {
     "base_uri": "https://localhost:8080/"
    },
    "executionInfo": {
     "elapsed": 16313,
     "status": "ok",
     "timestamp": 1676511668013,
     "user": {
      "displayName": "",
      "userId": ""
     },
     "user_tz": -540
    },
    "id": "88d1788f-4b2b-44fb-afa5-37958888f2db",
    "outputId": "5ae88a26-8a80-42d5-9e77-0c4aacc1e118"
   },
   "outputs": [],
   "source": [
    "# gpu 사용\n",
    "device = torch.device('cuda') if torch.cuda.is_available() else torch.device('cpu')\n",
    "# gpu에서 모델 동작\n",
    "model.to(device)\n",
    "\n",
    "num_epochs = 100\n",
    "\n",
    "print(\"Start Training !\")\n",
    "print('-'*50)\n",
    "\n",
    "train_loss_total = []\n",
    "valid_loss_total = []\n",
    "best_loss = np.inf\n",
    "\n",
    "for epoch in range(num_epochs):\n",
    "    \n",
    "    train_loss = 0\n",
    "    valid_loss = 0\n",
    "    \n",
    "    ''' Training '''\n",
    "    # 모델을 학습모드로 전환\n",
    "    model.train()\n",
    "    # __getitem__에서 반환해주는 형태로 데이터 반환\n",
    "    for X_data, y_data in train_loader:\n",
    "\n",
    "        # 데이터를 gpu로\n",
    "        X_data = X_data.to(device)\n",
    "        y_data = y_data.to(device)\n",
    "        \n",
    "        # 모델의 모든 기울기 값을 0으로 설정\n",
    "        optim.zero_grad()\n",
    "        \n",
    "        # 데이터를 모델에 입력하여 출력값 계산\n",
    "        y_pred = model(X_data)\n",
    "        \n",
    "        # 비용함수를 활용하여 오차 계산\n",
    "        loss = criterion(y_pred, y_data)\n",
    "        \n",
    "        # 계산된 오차를 기반으로 기울기 계산\n",
    "        loss.backward()\n",
    "        \n",
    "        # 계산된 기울기를 바탕으로 모델의 파라미터 업데이트\n",
    "        optim.step()\n",
    "\n",
    "        train_loss += loss.item()\n",
    "    \n",
    "    ''' Validation '''\n",
    "    # 모델을 평가모드로 전환\n",
    "    model.eval()\n",
    "    # 모델을 평가할때는 기울기 계산 불필요\n",
    "    with torch.no_grad():\n",
    "        for X_data, y_data in valid_loader:\n",
    "            # 데이터를 gpu로\n",
    "            X_data = X_data.to(device)\n",
    "            y_data = y_data.to(device)\n",
    "            y_pred = model(X_data)\n",
    "            loss = criterion(y_pred, y_data)\n",
    "            valid_loss += loss.item()\n",
    "    \n",
    "    # epoch의 loss 계산\n",
    "    train_loss_epoch = train_loss/len(train_loader)\n",
    "    valid_loss_epoch = valid_loss/len(valid_loader)\n",
    "\n",
    "    print(f'{epoch+1} epoch | Train loss: {train_loss_epoch:.3f}, Valid loss: {valid_loss_epoch:.3f}')\n",
    "    \n",
    "    # validation loss 기준으로 best epoch 계산 (Early stopping)\n",
    "    if valid_loss_epoch < best_loss:\n",
    "        # best loss 업데이트\n",
    "        best_loss = valid_loss_epoch\n",
    "        # 최적의 epoch 수와 모델 저장하기\n",
    "        best_epoch = epoch\n",
    "        torch.save(model.state_dict(), './best_model_cnn_fashion_MNIST.pt')\n",
    "    \n",
    "    train_loss_total.append(train_loss_epoch)\n",
    "    valid_loss_total.append(valid_loss_epoch)\n",
    "    \n",
    "print('-'*50)\n",
    "print(f'Finished Training ! Best Epoch is epoch {best_epoch+1}')"
   ]
  },
  {
   "cell_type": "markdown",
   "id": "3585d3f0-99fb-4b61-aa66-7164dd316e52",
   "metadata": {
    "id": "3585d3f0-99fb-4b61-aa66-7164dd316e52"
   },
   "source": [
    "### 학습 상태 확인 (learning curve)"
   ]
  },
  {
   "cell_type": "code",
   "execution_count": null,
   "id": "3eeaa7a2-ab42-4b8b-9894-6ec2bc1314e3",
   "metadata": {
    "colab": {
     "base_uri": "https://localhost:8080/",
     "height": 611
    },
    "executionInfo": {
     "elapsed": 507,
     "status": "ok",
     "timestamp": 1676511672726,
     "user": {
      "displayName": "",
      "userId": ""
     },
     "user_tz": -540
    },
    "id": "3eeaa7a2-ab42-4b8b-9894-6ec2bc1314e3",
    "outputId": "a9a19f6e-9fe6-4d96-e9cb-2a378b8986fc"
   },
   "outputs": [],
   "source": [
    "plt.figure(figsize=(20,10))\n",
    "\n",
    "# 학습 및 검증 로스 변동 관찰하기\n",
    "plt.plot(train_loss_total,label='Train Loss')\n",
    "plt.plot(valid_loss_total, label='Validation Loss')\n",
    "# 최적의 모델이 저장된 곳 표시\n",
    "plt.axvline(x = best_epoch, color='red', label='Best Epoch')\n",
    "plt.legend(fontsize=20)\n",
    "plt.title(\"Learning Curve of trained model\", fontsize=18)\n",
    "plt.show()"
   ]
  },
  {
   "cell_type": "markdown",
   "id": "6927a14b-e36e-4306-9ae2-e3dc02af05b5",
   "metadata": {
    "id": "6927a14b-e36e-4306-9ae2-e3dc02af05b5"
   },
   "source": [
    "## 1-3. Convolutional Neural Networks 모델 성능 평가"
   ]
  },
  {
   "cell_type": "code",
   "execution_count": null,
   "id": "d7ab06ed-7336-4123-acf4-2ae64ee692d7",
   "metadata": {
    "colab": {
     "base_uri": "https://localhost:8080/"
    },
    "executionInfo": {
     "elapsed": 376,
     "status": "ok",
     "timestamp": 1676511675047,
     "user": {
      "displayName": "",
      "userId": ""
     },
     "user_tz": -540
    },
    "id": "d7ab06ed-7336-4123-acf4-2ae64ee692d7",
    "outputId": "a9f5d0a6-9598-4650-e033-b943ce1d6645"
   },
   "outputs": [],
   "source": [
    "# 모델 선언\n",
    "model = CNN(input_channel, num_classes=10) # 10=class 개수\n",
    "\n",
    "# 최적의 모델 불러오기\n",
    "ckpt = torch.load('./best_model_cnn_fashion_MNIST.pt')\n",
    "\n",
    "# 모델 파라미터 불러오기\n",
    "model.load_state_dict(ckpt)"
   ]
  },
  {
   "cell_type": "markdown",
   "id": "f2c2cf9e-67e2-46c3-ac6e-3b1a4dcf416c",
   "metadata": {
    "id": "f2c2cf9e-67e2-46c3-ac6e-3b1a4dcf416c"
   },
   "source": [
    "### 학습된 CNN 결과 확인 및 성능 평가: Training Data"
   ]
  },
  {
   "cell_type": "code",
   "execution_count": null,
   "id": "f8eaab75-c0ba-4f1d-8ae9-ae17df8dce30",
   "metadata": {
    "id": "f8eaab75-c0ba-4f1d-8ae9-ae17df8dce30"
   },
   "outputs": [],
   "source": [
    "# model을 evaluation 모드로 변경\n",
    "pred_list = []\n",
    "true_list = []\n",
    "\n",
    "model.eval()\n",
    "with torch.no_grad():\n",
    "    for X_data, y_data in train_loader:\n",
    "        # 모델의 출력값 계산\n",
    "        y_logit = model(X_data)\n",
    "        # 출력값을 최대로하는 인덱스(class) 저장\n",
    "        y_pred = torch.argmax(y_logit, dim=1)\n",
    "        # 예측값과 실제값 저장\n",
    "        pred_list.extend(y_pred.detach().numpy())\n",
    "        true_list.extend(y_data.detach().numpy())"
   ]
  },
  {
   "cell_type": "code",
   "execution_count": null,
   "id": "11cbab12-2d44-4534-ba67-8adeae7991f7",
   "metadata": {
    "colab": {
     "base_uri": "https://localhost:8080/",
     "height": 579
    },
    "executionInfo": {
     "elapsed": 681,
     "status": "ok",
     "timestamp": 1676511678047,
     "user": {
      "displayName": "",
      "userId": ""
     },
     "user_tz": -540
    },
    "id": "11cbab12-2d44-4534-ba67-8adeae7991f7",
    "outputId": "9daf4551-8851-4c36-a22a-adb5e6b81bc8"
   },
   "outputs": [],
   "source": [
    "# confusion matrix 계산\n",
    "cm_train = confusion_matrix(y_true=true_list, y_pred=pred_list)\n",
    "\n",
    "# confusion matrix 시각화\n",
    "plt.figure(figsize=(10, 8))\n",
    "sns.heatmap(data=cm_train, annot=True, fmt='d', annot_kws={'size': 15}, cmap='Blues')\n",
    "plt.xlabel('Predicted', size=20)\n",
    "plt.ylabel('True', size=20)\n",
    "plt.show()\n",
    "\n",
    "# 평가지표 계산\n",
    "train_acc = accuracy_score(true_list, pred_list)\n",
    "train_rec = recall_score(true_list, pred_list, average='macro')\n",
    "train_prec = precision_score(true_list, pred_list, average='macro')\n",
    "train_f1 = f1_score(true_list, pred_list, average='macro')\n",
    "\n",
    "print('Train Accuracy   : {:.3f}'.format(train_acc))\n",
    "print('Train Sensitivity: {:.3f}'.format(train_rec))\n",
    "print('Train Precision  : {:.3f}'.format(train_prec))\n",
    "print('Train F1 Score   : {:.3f}'.format(train_f1))"
   ]
  },
  {
   "cell_type": "markdown",
   "id": "850a7173-173c-4a29-a19f-5bfd445d2ce1",
   "metadata": {
    "id": "850a7173-173c-4a29-a19f-5bfd445d2ce1"
   },
   "source": [
    "### 학습된 CNN 결과 확인 및 성능 평가: Testing Data"
   ]
  },
  {
   "cell_type": "code",
   "execution_count": null,
   "id": "3f04e91e-7b1d-449c-a334-55f0b817e1da",
   "metadata": {
    "id": "3f04e91e-7b1d-449c-a334-55f0b817e1da"
   },
   "outputs": [],
   "source": [
    "# model을 evaluation 모드로 변경\n",
    "pred_list = []\n",
    "true_list = []\n",
    "\n",
    "model.eval()\n",
    "with torch.no_grad():\n",
    "    for X_data, y_data in test_loader:\n",
    "        # 모델의 출력값 계산\n",
    "        y_logit = model(X_data)\n",
    "        # 출력값을 최대로하는 인덱스(class) 저장\n",
    "        y_pred = torch.argmax(y_logit, dim=1)\n",
    "        # 예측값과 실제값 저장\n",
    "        pred_list.extend(y_pred.detach().numpy())\n",
    "        true_list.extend(y_data.detach().numpy())"
   ]
  },
  {
   "cell_type": "code",
   "execution_count": null,
   "id": "8f4d01c4-630e-4cfc-8ff0-ad457b61d656",
   "metadata": {
    "colab": {
     "base_uri": "https://localhost:8080/",
     "height": 579
    },
    "executionInfo": {
     "elapsed": 815,
     "status": "ok",
     "timestamp": 1676511698545,
     "user": {
      "displayName": "",
      "userId": ""
     },
     "user_tz": -540
    },
    "id": "8f4d01c4-630e-4cfc-8ff0-ad457b61d656",
    "outputId": "dcb48518-1134-429b-b6e0-45f1f5f0547d"
   },
   "outputs": [],
   "source": [
    "# confusion matrix 계산\n",
    "cm_train = confusion_matrix(y_true=true_list, y_pred=pred_list)\n",
    "\n",
    "# confusion matrix 시각화\n",
    "plt.figure(figsize=(10, 8))\n",
    "sns.heatmap(data=cm_train, annot=True, fmt='d', annot_kws={'size': 15}, cmap='Blues')\n",
    "plt.xlabel('Predicted', size=20)\n",
    "plt.ylabel('True', size=20)\n",
    "plt.show()\n",
    "\n",
    "# 평가지표 계산\n",
    "test_acc = accuracy_score(true_list, pred_list)\n",
    "test_rec = recall_score(true_list, pred_list, average='macro')\n",
    "test_prec = precision_score(true_list, pred_list, average='macro')\n",
    "test_f1 = f1_score(true_list, pred_list, average='macro')\n",
    "\n",
    "print('Test Accuracy   : {:.3f}'.format(test_acc))\n",
    "print('Test Sensitivity: {:.3f}'.format(test_rec))\n",
    "print('Test Precision  : {:.3f}'.format(test_prec))\n",
    "print('Test F1 Score   : {:.3f}'.format(test_f1))"
   ]
  },
  {
   "cell_type": "markdown",
   "id": "e5c0683e-0cdc-4bce-83e9-c8532e8149cc",
   "metadata": {
    "id": "e5c0683e-0cdc-4bce-83e9-c8532e8149cc"
   },
   "source": [
    "## 1-4. 실제 데이터 이미지로 확인"
   ]
  },
  {
   "cell_type": "markdown",
   "id": "7e59ee79-d683-4bf0-b093-40adee7e3659",
   "metadata": {
    "id": "7e59ee79-d683-4bf0-b093-40adee7e3659"
   },
   "source": [
    "|레이블|클래스|\n",
    "|---|---|\n",
    "|0|T-shirt/top(티셔츠)|\n",
    "|1|Trouser(바지)|\n",
    "|2|Pullover(스웨터)|\n",
    "|3|Dress(드레스)|\n",
    "|4|Coat(코트)|\n",
    "|5|Sandal(샌들)|\n",
    "|6|Shirt(셔츠)|\n",
    "|7|Sneaker(운동화)|\n",
    "|8|Bag(가방)|\n",
    "|9|Ankel boot(발목부츠)|"
   ]
  },
  {
   "cell_type": "code",
   "execution_count": null,
   "id": "ea49e53b-e0f0-4e91-9f13-f24e69151e94",
   "metadata": {
    "id": "ea49e53b-e0f0-4e91-9f13-f24e69151e94"
   },
   "outputs": [],
   "source": [
    "# test data에서 일부 이미지 선택 및 해당 레이블 확인\n",
    "test_data = test_dataset.data_X[:9]\n",
    "y_true = test_dataset.data_y[:9]\n",
    "\n",
    "# 모델의 출력값 계산\n",
    "y_logit = model(test_data)\n",
    "\n",
    "# 출력값을 최대로하는 인덱스(class) 저장\n",
    "y_pred = torch.argmax(y_logit, dim=1)\n",
    "\n",
    "# scaler 불러오기\n",
    "scaler = test_dataset.scaler\n",
    "\n",
    "# 정규화 제거 (-1 ~ 1 -> 0 ~ 255)\n",
    "test_data = scaler.inverse_transform(test_data.reshape(test_data.shape[0],-1))"
   ]
  },
  {
   "cell_type": "code",
   "execution_count": null,
   "id": "669c6ac7-a99e-4020-af0a-1a1ab0f8db8c",
   "metadata": {
    "colab": {
     "base_uri": "https://localhost:8080/",
     "height": 720
    },
    "executionInfo": {
     "elapsed": 358,
     "status": "ok",
     "timestamp": 1676511699505,
     "user": {
      "displayName": "",
      "userId": ""
     },
     "user_tz": -540
    },
    "id": "669c6ac7-a99e-4020-af0a-1a1ab0f8db8c",
    "outputId": "b5620bd3-f226-4564-f86c-65e462b1217e"
   },
   "outputs": [],
   "source": [
    "# 예측값 출력\n",
    "print('예측값 출력')\n",
    "print(y_pred.reshape(3,3))\n",
    "\n",
    "print('실제값 출력')\n",
    "print(y_true.reshape(3,3))\n",
    "\n",
    "# test data 시각화\n",
    "fig ,axes = plt.subplots(3,3,figsize=(10,10))\n",
    "for i, ax in enumerate(axes.ravel()):\n",
    "    ax.imshow(test_data[i].reshape(28,28), cmap='gray')\n",
    "    ax.axis('off')\n",
    "plt.show()"
   ]
  }
 ],
 "metadata": {
  "accelerator": "GPU",
  "colab": {
   "provenance": [
    {
     "file_id": "https://github.com/bogus215/LG-EDUCATION2/blob/main/07-Convolutional-Neural-Networks-Solutions.ipynb",
     "timestamp": 1676511718403
    }
   ]
  },
  "gpuClass": "standard",
  "interpreter": {
   "hash": "db3bff50f693da5399c2b51e7c4d16c9e5f0237a35e50e132e9ef2e5f1217c9c"
  },
  "kernelspec": {
   "display_name": "Python 3 (ipykernel)",
   "language": "python",
   "name": "python3"
  },
  "language_info": {
   "codemirror_mode": {
    "name": "ipython",
    "version": 3
   },
   "file_extension": ".py",
   "mimetype": "text/x-python",
   "name": "python",
   "nbconvert_exporter": "python",
   "pygments_lexer": "ipython3",
   "version": "3.9.16"
  }
 },
 "nbformat": 4,
 "nbformat_minor": 5
}
