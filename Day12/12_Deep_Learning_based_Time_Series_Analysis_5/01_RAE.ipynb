{
 "cells": [
  {
   "cell_type": "markdown",
   "metadata": {
    "id": "HomKHZI5ClUR"
   },
   "source": [
    "# <br>[ LG전자_DX_Intensive_Course  ] 딥러닝 기반 시계열 분석 5<br><br> : Deep Auto-Encoder - Recurrent Auto-Encoder<br>"
   ]
  },
  {
   "cell_type": "code",
   "execution_count": null,
   "metadata": {},
   "outputs": [],
   "source": [
    "# github에서 데이터 불러오기\n",
    "!git clone https://github.com/KU-DIC/LG_time_series_day12.git"
   ]
  },
  {
   "cell_type": "code",
   "execution_count": 1,
   "metadata": {
    "execution": {
     "iopub.execute_input": "2022-01-10T12:23:49.209313Z",
     "iopub.status.busy": "2022-01-10T12:23:49.208960Z",
     "iopub.status.idle": "2022-01-10T12:23:52.259138Z",
     "shell.execute_reply": "2022-01-10T12:23:52.258062Z",
     "shell.execute_reply.started": "2022-01-10T12:23:49.209201Z"
    },
    "id": "o7ijTF6OClUV"
   },
   "outputs": [],
   "source": [
    "# 모듈 불러오기\n",
    "import os\n",
    "import time\n",
    "import copy\n",
    "import random\n",
    "import numpy as np\n",
    "import pandas as pd\n",
    "import seaborn as sns\n",
    "import matplotlib.pyplot as plt\n",
    "from sklearn.preprocessing import MinMaxScaler\n",
    "from sklearn.metrics import confusion_matrix\n",
    "from sklearn.metrics import f1_score\n",
    "\n",
    "import torch\n",
    "import torch.nn as nn\n",
    "import torch.optim as optim"
   ]
  },
  {
   "cell_type": "markdown",
   "metadata": {
    "id": "jWmCqHesClUX"
   },
   "source": [
    "# <br>0. Hyperparameter Setting\n",
    "- batch_size: 학습 및 검증에 사용할 배치의 크기\n",
    "- num_epochs: 학습할 epoch 횟수\n",
    "- window_size: input의 시간 길이 (time series data에서 도출한 subsequence의 길이)\n",
    "- input_size: 변수 개수\n",
    "- hidden_size: 모델의 hidden dimension\n",
    "- num_layers: 모델의 layer 개수\n",
    "- random_seed: reproduction을 위해 고정할 seed의 값"
   ]
  },
  {
   "cell_type": "code",
   "execution_count": 2,
   "metadata": {
    "execution": {
     "iopub.execute_input": "2022-01-10T12:23:52.261676Z",
     "iopub.status.busy": "2022-01-10T12:23:52.261339Z",
     "iopub.status.idle": "2022-01-10T12:23:52.321835Z",
     "shell.execute_reply": "2022-01-10T12:23:52.320784Z",
     "shell.execute_reply.started": "2022-01-10T12:23:52.261591Z"
    },
    "id": "9Jk-yPDRClUX"
   },
   "outputs": [],
   "source": [
    "# Hyperparameter setting\n",
    "batch_size = 32\n",
    "num_epochs = 20\n",
    "window_size = 5\n",
    "input_size = 4\n",
    "hidden_size = 2\n",
    "num_layers = 1\n",
    "\n",
    "random_seed = 42\n",
    "device = torch.device(\"cuda:0\" if torch.cuda.is_available() else \"cpu\") # Detect if we have a GPU available"
   ]
  },
  {
   "cell_type": "code",
   "execution_count": 3,
   "metadata": {
    "execution": {
     "iopub.execute_input": "2022-01-10T12:23:52.324584Z",
     "iopub.status.busy": "2022-01-10T12:23:52.323924Z",
     "iopub.status.idle": "2022-01-10T12:23:52.334310Z",
     "shell.execute_reply": "2022-01-10T12:23:52.333346Z",
     "shell.execute_reply.started": "2022-01-10T12:23:52.324534Z"
    },
    "id": "eN4xKeZTClUY"
   },
   "outputs": [],
   "source": [
    "# seed 고정\n",
    "torch.manual_seed(random_seed)\n",
    "torch.cuda.manual_seed(random_seed)\n",
    "torch.backends.cudnn.deterministic = True\n",
    "torch.backends.cudnn.benchmark = False\n",
    "np.random.seed(random_seed)\n",
    "random.seed(random_seed)"
   ]
  },
  {
   "cell_type": "markdown",
   "metadata": {
    "id": "ApIPGrdgClUY"
   },
   "source": [
    "---"
   ]
  },
  {
   "cell_type": "markdown",
   "metadata": {
    "id": "QlW7oLzTClUZ"
   },
   "source": [
    "# <br>__1. Data: NASA Bearing Dataset__\n",
    "- 데이터 description <br>\n",
    "    - NASA Bearing Dataset은 NSF I/UCR Center의 Intelligent Maintenance System의 4개의 bearing에서 고장이 발생할 때까지 10분 단위로 수집된 센서 데이터이다. 본 데이터셋은 특정 구간에서 기록된 1-second vibration signal snapshots을 나타내는 여러 개의 파일로 구성되어 있다. 각 파일은 20 kHz 단위로 샘플링 된 20,480개의 data point를 포함하고 있으며, 각 파일의 이름은 데이터가 수집된 시간을 의미한다. 해당 데이터셋은 크게 3개의 데이터를 포함하고 있으며, 본 실습에서 사용하는 데이터는 bearing 1에서 outer race failure가 발생할 때까지 수집된 센서 데이터이다. <br><br>\n",
    "- 변수 설명\n",
    "    - 독립 변수 (4개): Bearing1, Bearing2, Bearing3, Bearing4 \n",
    "    - **종속 변수 (1개): anomaly -> custom label: normal(0) / abnormal(1)** <br><br>\n",
    "- 출처: https://ti.arc.nasa.gov/tech/dash/groups/pcoe/prognostic-data-repository/"
   ]
  },
  {
   "cell_type": "markdown",
   "metadata": {
    "id": "DUd_JDw4ClUZ"
   },
   "source": [
    "<img src=\"https://i.imgur.com/dfFzn3H.jpg\" width=\"600\">"
   ]
  },
  {
   "cell_type": "markdown",
   "metadata": {
    "id": "yeEtW0NCClUa"
   },
   "source": [
    "### Step 1-1. 데이터 불러오기"
   ]
  },
  {
   "cell_type": "code",
   "execution_count": 4,
   "metadata": {
    "colab": {
     "base_uri": "https://localhost:8080/",
     "height": 206
    },
    "execution": {
     "iopub.execute_input": "2022-01-10T12:23:52.338158Z",
     "iopub.status.busy": "2022-01-10T12:23:52.337902Z",
     "iopub.status.idle": "2022-01-10T12:23:52.388091Z",
     "shell.execute_reply": "2022-01-10T12:23:52.387143Z",
     "shell.execute_reply.started": "2022-01-10T12:23:52.338129Z"
    },
    "id": "bFusGLFaClUa",
    "outputId": "d999ab13-44b5-4cea-ef1a-3c23aa44c369",
    "scrolled": true
   },
   "outputs": [
    {
     "data": {
      "text/html": [
       "\n",
       "  <div id=\"df-92dc2c2e-6586-4fb7-b05a-5fbc2b184a58\">\n",
       "    <div class=\"colab-df-container\">\n",
       "      <div>\n",
       "<style scoped>\n",
       "    .dataframe tbody tr th:only-of-type {\n",
       "        vertical-align: middle;\n",
       "    }\n",
       "\n",
       "    .dataframe tbody tr th {\n",
       "        vertical-align: top;\n",
       "    }\n",
       "\n",
       "    .dataframe thead th {\n",
       "        text-align: right;\n",
       "    }\n",
       "</style>\n",
       "<table border=\"1\" class=\"dataframe\">\n",
       "  <thead>\n",
       "    <tr style=\"text-align: right;\">\n",
       "      <th></th>\n",
       "      <th>Bearing 1</th>\n",
       "      <th>Bearing 2</th>\n",
       "      <th>Bearing 3</th>\n",
       "      <th>Bearing 4</th>\n",
       "      <th>anomaly</th>\n",
       "      <th>data_type</th>\n",
       "    </tr>\n",
       "  </thead>\n",
       "  <tbody>\n",
       "    <tr>\n",
       "      <th>2004-02-12 10:32:39</th>\n",
       "      <td>0.058332</td>\n",
       "      <td>0.071832</td>\n",
       "      <td>0.083244</td>\n",
       "      <td>0.043065</td>\n",
       "      <td>0</td>\n",
       "      <td>train</td>\n",
       "    </tr>\n",
       "    <tr>\n",
       "      <th>2004-02-12 10:42:39</th>\n",
       "      <td>0.058997</td>\n",
       "      <td>0.074008</td>\n",
       "      <td>0.084439</td>\n",
       "      <td>0.044540</td>\n",
       "      <td>0</td>\n",
       "      <td>train</td>\n",
       "    </tr>\n",
       "    <tr>\n",
       "      <th>2004-02-12 10:52:39</th>\n",
       "      <td>0.060239</td>\n",
       "      <td>0.074223</td>\n",
       "      <td>0.083922</td>\n",
       "      <td>0.044442</td>\n",
       "      <td>0</td>\n",
       "      <td>train</td>\n",
       "    </tr>\n",
       "    <tr>\n",
       "      <th>2004-02-12 11:02:39</th>\n",
       "      <td>0.061453</td>\n",
       "      <td>0.073843</td>\n",
       "      <td>0.084462</td>\n",
       "      <td>0.045081</td>\n",
       "      <td>0</td>\n",
       "      <td>train</td>\n",
       "    </tr>\n",
       "    <tr>\n",
       "      <th>2004-02-12 11:12:39</th>\n",
       "      <td>0.061361</td>\n",
       "      <td>0.075606</td>\n",
       "      <td>0.082837</td>\n",
       "      <td>0.045118</td>\n",
       "      <td>0</td>\n",
       "      <td>train</td>\n",
       "    </tr>\n",
       "  </tbody>\n",
       "</table>\n",
       "</div>\n",
       "      <button class=\"colab-df-convert\" onclick=\"convertToInteractive('df-92dc2c2e-6586-4fb7-b05a-5fbc2b184a58')\"\n",
       "              title=\"Convert this dataframe to an interactive table.\"\n",
       "              style=\"display:none;\">\n",
       "        \n",
       "  <svg xmlns=\"http://www.w3.org/2000/svg\" height=\"24px\"viewBox=\"0 0 24 24\"\n",
       "       width=\"24px\">\n",
       "    <path d=\"M0 0h24v24H0V0z\" fill=\"none\"/>\n",
       "    <path d=\"M18.56 5.44l.94 2.06.94-2.06 2.06-.94-2.06-.94-.94-2.06-.94 2.06-2.06.94zm-11 1L8.5 8.5l.94-2.06 2.06-.94-2.06-.94L8.5 2.5l-.94 2.06-2.06.94zm10 10l.94 2.06.94-2.06 2.06-.94-2.06-.94-.94-2.06-.94 2.06-2.06.94z\"/><path d=\"M17.41 7.96l-1.37-1.37c-.4-.4-.92-.59-1.43-.59-.52 0-1.04.2-1.43.59L10.3 9.45l-7.72 7.72c-.78.78-.78 2.05 0 2.83L4 21.41c.39.39.9.59 1.41.59.51 0 1.02-.2 1.41-.59l7.78-7.78 2.81-2.81c.8-.78.8-2.07 0-2.86zM5.41 20L4 18.59l7.72-7.72 1.47 1.35L5.41 20z\"/>\n",
       "  </svg>\n",
       "      </button>\n",
       "      \n",
       "  <style>\n",
       "    .colab-df-container {\n",
       "      display:flex;\n",
       "      flex-wrap:wrap;\n",
       "      gap: 12px;\n",
       "    }\n",
       "\n",
       "    .colab-df-convert {\n",
       "      background-color: #E8F0FE;\n",
       "      border: none;\n",
       "      border-radius: 50%;\n",
       "      cursor: pointer;\n",
       "      display: none;\n",
       "      fill: #1967D2;\n",
       "      height: 32px;\n",
       "      padding: 0 0 0 0;\n",
       "      width: 32px;\n",
       "    }\n",
       "\n",
       "    .colab-df-convert:hover {\n",
       "      background-color: #E2EBFA;\n",
       "      box-shadow: 0px 1px 2px rgba(60, 64, 67, 0.3), 0px 1px 3px 1px rgba(60, 64, 67, 0.15);\n",
       "      fill: #174EA6;\n",
       "    }\n",
       "\n",
       "    [theme=dark] .colab-df-convert {\n",
       "      background-color: #3B4455;\n",
       "      fill: #D2E3FC;\n",
       "    }\n",
       "\n",
       "    [theme=dark] .colab-df-convert:hover {\n",
       "      background-color: #434B5C;\n",
       "      box-shadow: 0px 1px 3px 1px rgba(0, 0, 0, 0.15);\n",
       "      filter: drop-shadow(0px 1px 2px rgba(0, 0, 0, 0.3));\n",
       "      fill: #FFFFFF;\n",
       "    }\n",
       "  </style>\n",
       "\n",
       "      <script>\n",
       "        const buttonEl =\n",
       "          document.querySelector('#df-92dc2c2e-6586-4fb7-b05a-5fbc2b184a58 button.colab-df-convert');\n",
       "        buttonEl.style.display =\n",
       "          google.colab.kernel.accessAllowed ? 'block' : 'none';\n",
       "\n",
       "        async function convertToInteractive(key) {\n",
       "          const element = document.querySelector('#df-92dc2c2e-6586-4fb7-b05a-5fbc2b184a58');\n",
       "          const dataTable =\n",
       "            await google.colab.kernel.invokeFunction('convertToInteractive',\n",
       "                                                     [key], {});\n",
       "          if (!dataTable) return;\n",
       "\n",
       "          const docLinkHtml = 'Like what you see? Visit the ' +\n",
       "            '<a target=\"_blank\" href=https://colab.research.google.com/notebooks/data_table.ipynb>data table notebook</a>'\n",
       "            + ' to learn more about interactive tables.';\n",
       "          element.innerHTML = '';\n",
       "          dataTable['output_type'] = 'display_data';\n",
       "          await google.colab.output.renderOutput(dataTable, element);\n",
       "          const docLink = document.createElement('div');\n",
       "          docLink.innerHTML = docLinkHtml;\n",
       "          element.appendChild(docLink);\n",
       "        }\n",
       "      </script>\n",
       "    </div>\n",
       "  </div>\n",
       "  "
      ],
      "text/plain": [
       "                     Bearing 1  Bearing 2  ...  anomaly  data_type\n",
       "2004-02-12 10:32:39   0.058332   0.071832  ...        0      train\n",
       "2004-02-12 10:42:39   0.058997   0.074008  ...        0      train\n",
       "2004-02-12 10:52:39   0.060239   0.074223  ...        0      train\n",
       "2004-02-12 11:02:39   0.061453   0.073843  ...        0      train\n",
       "2004-02-12 11:12:39   0.061361   0.075606  ...        0      train\n",
       "\n",
       "[5 rows x 6 columns]"
      ]
     },
     "execution_count": 4,
     "metadata": {},
     "output_type": "execute_result"
    }
   ],
   "source": [
    "# 데이터 불러오기\n",
    "data = pd.read_csv('/content/LG_time_series_day12/input/nasa-data/nasa_bearing_dataset.csv', index_col=0)\n",
    "data.index = pd.to_datetime(data.index)\n",
    "data.head()"
   ]
  },
  {
   "cell_type": "code",
   "execution_count": 5,
   "metadata": {
    "colab": {
     "base_uri": "https://localhost:8080/",
     "height": 386
    },
    "execution": {
     "iopub.execute_input": "2022-01-10T12:23:52.389582Z",
     "iopub.status.busy": "2022-01-10T12:23:52.389275Z",
     "iopub.status.idle": "2022-01-10T12:23:52.839105Z",
     "shell.execute_reply": "2022-01-10T12:23:52.838124Z",
     "shell.execute_reply.started": "2022-01-10T12:23:52.389515Z"
    },
    "id": "FEaXJP4YClUb",
    "outputId": "421862b8-9d33-45e5-cdc4-033c98062a05",
    "scrolled": true
   },
   "outputs": [
    {
     "data": {
      "text/plain": [
       "<matplotlib.lines.Line2D at 0x7f9b68ebbed0>"
      ]
     },
     "execution_count": 5,
     "metadata": {},
     "output_type": "execute_result"
    },
    {
     "data": {
      "image/png": "[encoded data removed]",
      "text/plain": [
       "<Figure size 864x432 with 1 Axes>"
      ]
     },
     "metadata": {
      "needs_background": "light"
     },
     "output_type": "display_data"
    }
   ],
   "source": [
    "# 전체 기간의 데이터 분포 확인\n",
    "data.iloc[:, :4].plot(figsize = (12, 6))\n",
    "plt.axvline(data.index[list(data['data_type']).index('valid')], c='black')  # validation data 시작 위치 표시\n",
    "plt.axvline(data.index[list(data['data_type']).index('test')], c='black')  # test data 시작 위치 표시\n",
    "plt.axvline(data.index[list(data['anomaly']).index(1)], c='red')  # abnormal data 시작 위치 표시"
   ]
  },
  {
   "cell_type": "markdown",
   "metadata": {
    "id": "S4EOte86ClUb"
   },
   "source": [
    "### Step 1-2. 데이터 Split"
   ]
  },
  {
   "cell_type": "code",
   "execution_count": 6,
   "metadata": {
    "colab": {
     "base_uri": "https://localhost:8080/"
    },
    "execution": {
     "iopub.execute_input": "2022-01-10T12:23:52.843468Z",
     "iopub.status.busy": "2022-01-10T12:23:52.840764Z",
     "iopub.status.idle": "2022-01-10T12:23:52.862152Z",
     "shell.execute_reply": "2022-01-10T12:23:52.860959Z",
     "shell.execute_reply.started": "2022-01-10T12:23:52.843406Z"
    },
    "id": "n2bDwIQWClUc",
    "outputId": "ed990849-1211-4aa7-ceca-1941d09bba00"
   },
   "outputs": [
    {
     "name": "stdout",
     "output_type": "stream",
     "text": [
      "Train data shape: (393, 4)\n",
      "Validation data shape: (98, 4)\n",
      "Test data shape: (493, 4)\n"
     ]
    }
   ],
   "source": [
    "X_train = data[data['data_type'] == 'train'].iloc[:, :4]\n",
    "y_train = data[data['data_type'] == 'train'].iloc[:, -2].values\n",
    "\n",
    "X_valid = data[data['data_type'] == 'valid'].iloc[:, :4]\n",
    "y_valid = data[data['data_type'] == 'valid'].iloc[:, -2].values\n",
    "\n",
    "X_test = data[data['data_type'] == 'test'].iloc[:, :4]\n",
    "y_test = data[data['data_type'] == 'test'].iloc[:, -2].values\n",
    "\n",
    "print(\"Train data shape:\", X_train.shape)\n",
    "print(\"Validation data shape:\", X_valid.shape)\n",
    "print(\"Test data shape:\", X_test.shape)"
   ]
  },
  {
   "cell_type": "markdown",
   "metadata": {
    "id": "Wdcn6y-xClUc"
   },
   "source": [
    "### Step 1-3. 데이터 정규화"
   ]
  },
  {
   "cell_type": "code",
   "execution_count": 7,
   "metadata": {
    "execution": {
     "iopub.execute_input": "2022-01-10T12:23:52.864447Z",
     "iopub.status.busy": "2022-01-10T12:23:52.864036Z",
     "iopub.status.idle": "2022-01-10T12:23:52.874661Z",
     "shell.execute_reply": "2022-01-10T12:23:52.873442Z",
     "shell.execute_reply.started": "2022-01-10T12:23:52.864402Z"
    },
    "id": "TQ7mDZHUClUc"
   },
   "outputs": [],
   "source": [
    "# train 데이터를 기반으로 train/test 데이터에 대하여 min-max scaling 적용 \n",
    "scaler = MinMaxScaler()\n",
    "scaler = scaler.fit(X_train)"
   ]
  },
  {
   "cell_type": "code",
   "execution_count": 8,
   "metadata": {
    "execution": {
     "iopub.execute_input": "2022-01-10T12:23:52.877194Z",
     "iopub.status.busy": "2022-01-10T12:23:52.876047Z",
     "iopub.status.idle": "2022-01-10T12:23:52.894741Z",
     "shell.execute_reply": "2022-01-10T12:23:52.893663Z",
     "shell.execute_reply.started": "2022-01-10T12:23:52.877146Z"
    },
    "id": "EQkfJLspClUd"
   },
   "outputs": [],
   "source": [
    "X_train = scaler.transform(X_train)\n",
    "X_valid = scaler.transform(X_valid)\n",
    "X_test = scaler.transform(X_test)"
   ]
  },
  {
   "cell_type": "markdown",
   "metadata": {
    "id": "-Ph4Xc7HClUd"
   },
   "source": [
    "### Step 1-4. DataLoader 구축"
   ]
  },
  {
   "cell_type": "code",
   "execution_count": 9,
   "metadata": {
    "execution": {
     "iopub.execute_input": "2022-01-10T12:23:52.897123Z",
     "iopub.status.busy": "2022-01-10T12:23:52.896780Z",
     "iopub.status.idle": "2022-01-10T12:23:52.908067Z",
     "shell.execute_reply": "2022-01-10T12:23:52.906932Z",
     "shell.execute_reply.started": "2022-01-10T12:23:52.897078Z"
    },
    "id": "j6_M0yFNClUd"
   },
   "outputs": [],
   "source": [
    "class CustomDataset(torch.utils.data.Dataset): \n",
    "    def __init__(self, data, seq_len):\n",
    "        self.data = data\n",
    "        self.seq_len = seq_len\n",
    "        self.start_point = range(0, len(data) - seq_len)\n",
    "\n",
    "    # 총 데이터의 개수를 리턴\n",
    "    def __len__(self): \n",
    "        return len(self.start_point)\n",
    "\n",
    "    # 인덱스를 입력받아 그에 맵핑되는 입출력 데이터를 파이토치의 Tensor 형태로 리턴\n",
    "    def __getitem__(self, idx):\n",
    "        x = torch.FloatTensor(self.data[self.start_point[idx]:self.start_point[idx] + self.seq_len]) # shape: (seq_len, n_features)\n",
    "        x = torch.transpose(x, 1, 0) # shape: (n_features, seq_len)\n",
    "        return x"
   ]
  },
  {
   "cell_type": "code",
   "execution_count": 10,
   "metadata": {
    "execution": {
     "iopub.execute_input": "2022-01-10T12:23:52.913985Z",
     "iopub.status.busy": "2022-01-10T12:23:52.913079Z",
     "iopub.status.idle": "2022-01-10T12:23:52.920617Z",
     "shell.execute_reply": "2022-01-10T12:23:52.919569Z",
     "shell.execute_reply.started": "2022-01-10T12:23:52.913944Z"
    },
    "id": "1dIZ-HPeClUd"
   },
   "outputs": [],
   "source": [
    "train_dataset = CustomDataset(X_train, window_size)\n",
    "train_loader = torch.utils.data.DataLoader(train_dataset, batch_size=batch_size, shuffle=True)\n",
    "\n",
    "valid_dataset = CustomDataset(X_valid, window_size)\n",
    "valid_loader = torch.utils.data.DataLoader(valid_dataset, batch_size=batch_size, shuffle=False)\n",
    "\n",
    "test_dataset = CustomDataset(X_test, window_size)\n",
    "test_loader = torch.utils.data.DataLoader(test_dataset, batch_size=batch_size, shuffle=False)"
   ]
  },
  {
   "cell_type": "markdown",
   "metadata": {
    "id": "h8nng6AHClUe"
   },
   "source": [
    "---"
   ]
  },
  {
   "cell_type": "markdown",
   "metadata": {
    "id": "rSoVfO6nClUe"
   },
   "source": [
    "# <br>__2. Model: Recurrent Auto-Encoder__"
   ]
  },
  {
   "cell_type": "markdown",
   "metadata": {
    "id": "cTfl44u4ClUe"
   },
   "source": [
    "### Recurrent Auto-Encoder\n",
    ">입력과 출력이 동일한 인공신경망 구조 <br>\n",
    ">정상 데이터에 대한 학습이 충분히 되어 있을 경우 정상 데이터는 자기 자신을 잘 복원할 수 있지만, 이상치 제이터는 학습 기회가 적어 상대적으로 잘 복원하지 못할 것을 가정"
   ]
  },
  {
   "cell_type": "markdown",
   "metadata": {
    "id": "M9BZJJLGClUf"
   },
   "source": [
    "<img src=\"https://i.imgur.com/KpyS57D.jpg\" width=\"700\">"
   ]
  },
  {
   "cell_type": "code",
   "execution_count": 11,
   "metadata": {
    "execution": {
     "iopub.execute_input": "2022-01-10T12:23:52.923072Z",
     "iopub.status.busy": "2022-01-10T12:23:52.922189Z",
     "iopub.status.idle": "2022-01-10T12:23:52.936938Z",
     "shell.execute_reply": "2022-01-10T12:23:52.935944Z",
     "shell.execute_reply.started": "2022-01-10T12:23:52.922988Z"
    },
    "id": "EbYN4ns7ClUf"
   },
   "outputs": [],
   "source": [
    "class RAE(nn.Module):\n",
    "    def __init__(self, input_size, hidden_size, num_layers, seq_len):\n",
    "        super(RAE, self).__init__()\n",
    "        self.seq_len = seq_len\n",
    "        \n",
    "        self.encoder = nn.LSTM(\n",
    "            input_size = input_size,\n",
    "            hidden_size = hidden_size,\n",
    "            num_layers = num_layers,\n",
    "            batch_first=True\n",
    "        )\n",
    "        self.decoder = nn.LSTM(\n",
    "            input_size = hidden_size,\n",
    "            hidden_size = 2 * hidden_size,\n",
    "            num_layers = num_layers,\n",
    "            batch_first = True\n",
    "        )\n",
    "        self.fc = nn.Linear(2 * hidden_size, input_size)\n",
    "                \n",
    "    def forward(self, x):\n",
    "        # data dimension: (batch_size x input_size x seq_len) -> (batch_size x seq_len x input_size)로 변환\n",
    "        x = torch.transpose(x, 1, 2)\n",
    "        \n",
    "        enc_x, (enc_hidden_state, enc_cell_state) = self.encoder(x)\n",
    "        enc_last_hidden = enc_hidden_state[-1, :, :]\n",
    "        \n",
    "        enc_last_hidden = enc_last_hidden.unsqueeze(1).repeat(1, self.seq_len, 1)\n",
    "        dec_x, (dec_hidden_state, dec_cell_state) = self.decoder(enc_last_hidden)\n",
    "        dec_x = dec_x.reshape((x.size(0), self.seq_len, -1))\n",
    "        \n",
    "        out = self.fc(dec_x)\n",
    "        out = torch.sigmoid(out)\n",
    "        out = torch.transpose(out, 1, 2)\n",
    "        return out"
   ]
  },
  {
   "cell_type": "code",
   "execution_count": 12,
   "metadata": {
    "colab": {
     "base_uri": "https://localhost:8080/"
    },
    "execution": {
     "iopub.execute_input": "2022-01-10T12:23:52.939267Z",
     "iopub.status.busy": "2022-01-10T12:23:52.938832Z",
     "iopub.status.idle": "2022-01-10T12:23:57.184877Z",
     "shell.execute_reply": "2022-01-10T12:23:57.183911Z",
     "shell.execute_reply.started": "2022-01-10T12:23:52.939223Z"
    },
    "id": "1eUZjO-oClUf",
    "outputId": "b2bed598-9152-4a4e-cd5c-64976bbd4283",
    "scrolled": true
   },
   "outputs": [
    {
     "name": "stdout",
     "output_type": "stream",
     "text": [
      "RAE(\n",
      "  (encoder): LSTM(4, 2, batch_first=True)\n",
      "  (decoder): LSTM(2, 4, batch_first=True)\n",
      "  (fc): Linear(in_features=4, out_features=4, bias=True)\n",
      ")\n"
     ]
    }
   ],
   "source": [
    "# RAE 모델 구축\n",
    "model = RAE(input_size, hidden_size, num_layers, seq_len=window_size)\n",
    "model = model.to(device)\n",
    "print(model)"
   ]
  },
  {
   "cell_type": "markdown",
   "metadata": {
    "id": "rX7Bc-9pClUf"
   },
   "source": [
    "---"
   ]
  },
  {
   "cell_type": "markdown",
   "metadata": {
    "id": "Lnn1gOKJClUg"
   },
   "source": [
    "# <br>__3. Training__"
   ]
  },
  {
   "cell_type": "code",
   "execution_count": 13,
   "metadata": {
    "execution": {
     "iopub.execute_input": "2022-01-10T12:23:57.187175Z",
     "iopub.status.busy": "2022-01-10T12:23:57.186624Z",
     "iopub.status.idle": "2022-01-10T12:23:57.203235Z",
     "shell.execute_reply": "2022-01-10T12:23:57.201717Z",
     "shell.execute_reply.started": "2022-01-10T12:23:57.187128Z"
    },
    "id": "1G8scmytClUg"
   },
   "outputs": [],
   "source": [
    "def train_model(model, dataloaders, criterion, num_epochs, optimizer):\n",
    "    since = time.time()\n",
    "\n",
    "    val_mse_history = []\n",
    "\n",
    "    best_model_wts = copy.deepcopy(model.state_dict())\n",
    "    best_mse = 10000000\n",
    "\n",
    "    for epoch in range(num_epochs):\n",
    "        print('Epoch {}/{}'.format(epoch + 1, num_epochs))\n",
    "        print('-' * 10)\n",
    "\n",
    "        # 각 epoch마다 순서대로 training과 validation을 진행\n",
    "        for phase in ['train', 'val']:\n",
    "            if phase == 'train':\n",
    "                model.train()  # 모델을 training mode로 설정\n",
    "            else:\n",
    "                model.eval()   # 모델을 validation mode로 설정\n",
    "\n",
    "            running_loss = 0.0\n",
    "            running_total = 0\n",
    "\n",
    "            # training과 validation 단계에 맞는 dataloader에 대하여 학습/검증 진행\n",
    "            for inputs in dataloaders[phase]:\n",
    "                inputs = inputs.to(device)\n",
    "\n",
    "                # parameter gradients를 0으로 설정\n",
    "                optimizer.zero_grad()\n",
    "\n",
    "                # forward\n",
    "                # training 단계에서만 gradient 업데이트 수행\n",
    "                with torch.set_grad_enabled(phase == 'train'):\n",
    "                    # input을 model에 넣어 output을 도출한 후, loss를 계산함\n",
    "                    outputs = model(inputs)\n",
    "                    loss = criterion(outputs, inputs)\n",
    "\n",
    "                    # backward (optimize): training 단계에서만 수행\n",
    "                    if phase == 'train':\n",
    "                        loss.backward()\n",
    "                        optimizer.step()\n",
    "\n",
    "                # batch별 loss를 축적함\n",
    "                running_loss += loss.item() * inputs.size(0)\n",
    "                running_total += inputs.size(0)\n",
    "\n",
    "            # epoch의 loss 및 RMSE 도출\n",
    "            epoch_loss = running_loss / running_total\n",
    "\n",
    "            print('{} Loss: {:.4f}'.format(phase, epoch_loss))\n",
    "\n",
    "            # validation 단계에서 validation loss가 감소할 때마다 best model 가중치를 업데이트함\n",
    "            if phase == 'val' and epoch_loss < best_mse:\n",
    "                best_mse = epoch_loss\n",
    "                best_model_wts = copy.deepcopy(model.state_dict())\n",
    "            if phase == 'val':\n",
    "                val_mse_history.append(epoch_loss)\n",
    "\n",
    "        print()\n",
    "\n",
    "    # 전체 학습 시간 계산\n",
    "    time_elapsed = time.time() - since\n",
    "    print('Training complete in {:.0f}m {:.0f}s'.format(time_elapsed // 60, time_elapsed % 60))\n",
    "    print('Best val MSE: {:4f}'.format(best_mse))\n",
    "\n",
    "    # validation loss가 가장 낮았을 때의 best model 가중치를 불러와 best model을 구축함\n",
    "    model.load_state_dict(best_model_wts)\n",
    "    \n",
    "    # best model 가중치 저장\n",
    "    # torch.save(best_model_wts, '../output/best_model.pt')\n",
    "    return model, val_mse_history"
   ]
  },
  {
   "cell_type": "code",
   "execution_count": 14,
   "metadata": {
    "execution": {
     "iopub.execute_input": "2022-01-10T12:23:57.205501Z",
     "iopub.status.busy": "2022-01-10T12:23:57.205017Z",
     "iopub.status.idle": "2022-01-10T12:23:57.218370Z",
     "shell.execute_reply": "2022-01-10T12:23:57.217178Z",
     "shell.execute_reply.started": "2022-01-10T12:23:57.205391Z"
    },
    "id": "geK6zKdXClUg"
   },
   "outputs": [],
   "source": [
    "# trining 단계에서 사용할 Dataloader dictionary 생성\n",
    "dataloaders_dict = {\n",
    "    'train': train_loader,\n",
    "    'val': valid_loader\n",
    "}"
   ]
  },
  {
   "cell_type": "code",
   "execution_count": 15,
   "metadata": {
    "execution": {
     "iopub.execute_input": "2022-01-10T12:23:57.221396Z",
     "iopub.status.busy": "2022-01-10T12:23:57.220516Z",
     "iopub.status.idle": "2022-01-10T12:23:57.229004Z",
     "shell.execute_reply": "2022-01-10T12:23:57.228009Z",
     "shell.execute_reply.started": "2022-01-10T12:23:57.221319Z"
    },
    "id": "6MXU2S8AClUg"
   },
   "outputs": [],
   "source": [
    "# loss function 설정\n",
    "criterion = nn.MSELoss()"
   ]
  },
  {
   "cell_type": "code",
   "execution_count": 16,
   "metadata": {
    "colab": {
     "base_uri": "https://localhost:8080/"
    },
    "execution": {
     "iopub.execute_input": "2022-01-10T12:23:57.231660Z",
     "iopub.status.busy": "2022-01-10T12:23:57.230948Z",
     "iopub.status.idle": "2022-01-10T12:24:00.322834Z",
     "shell.execute_reply": "2022-01-10T12:24:00.321879Z",
     "shell.execute_reply.started": "2022-01-10T12:23:57.231616Z"
    },
    "id": "gOQ-UA2tClUh",
    "outputId": "5288dd34-7273-4e1b-f0fc-ee1f24d0155a",
    "scrolled": true
   },
   "outputs": [
    {
     "name": "stdout",
     "output_type": "stream",
     "text": [
      "Epoch 1/20\n",
      "----------\n",
      "train Loss: 0.0378\n",
      "val Loss: 0.0638\n",
      "\n",
      "Epoch 2/20\n",
      "----------\n",
      "train Loss: 0.0377\n",
      "val Loss: 0.0636\n",
      "\n",
      "Epoch 3/20\n",
      "----------\n",
      "train Loss: 0.0376\n",
      "val Loss: 0.0635\n",
      "\n",
      "Epoch 4/20\n",
      "----------\n",
      "train Loss: 0.0375\n",
      "val Loss: 0.0633\n",
      "\n",
      "Epoch 5/20\n",
      "----------\n",
      "train Loss: 0.0374\n",
      "val Loss: 0.0631\n",
      "\n",
      "Epoch 6/20\n",
      "----------\n",
      "train Loss: 0.0373\n",
      "val Loss: 0.0630\n",
      "\n",
      "Epoch 7/20\n",
      "----------\n",
      "train Loss: 0.0372\n",
      "val Loss: 0.0628\n",
      "\n",
      "Epoch 8/20\n",
      "----------\n",
      "train Loss: 0.0371\n",
      "val Loss: 0.0626\n",
      "\n",
      "Epoch 9/20\n",
      "----------\n",
      "train Loss: 0.0370\n",
      "val Loss: 0.0625\n",
      "\n",
      "Epoch 10/20\n",
      "----------\n",
      "train Loss: 0.0369\n",
      "val Loss: 0.0623\n",
      "\n",
      "Epoch 11/20\n",
      "----------\n",
      "train Loss: 0.0368\n",
      "val Loss: 0.0622\n",
      "\n",
      "Epoch 12/20\n",
      "----------\n",
      "train Loss: 0.0367\n",
      "val Loss: 0.0620\n",
      "\n",
      "Epoch 13/20\n",
      "----------\n",
      "train Loss: 0.0366\n",
      "val Loss: 0.0618\n",
      "\n",
      "Epoch 14/20\n",
      "----------\n",
      "train Loss: 0.0365\n",
      "val Loss: 0.0617\n",
      "\n",
      "Epoch 15/20\n",
      "----------\n",
      "train Loss: 0.0364\n",
      "val Loss: 0.0615\n",
      "\n",
      "Epoch 16/20\n",
      "----------\n",
      "train Loss: 0.0363\n",
      "val Loss: 0.0614\n",
      "\n",
      "Epoch 17/20\n",
      "----------\n",
      "train Loss: 0.0362\n",
      "val Loss: 0.0612\n",
      "\n",
      "Epoch 18/20\n",
      "----------\n",
      "train Loss: 0.0361\n",
      "val Loss: 0.0610\n",
      "\n",
      "Epoch 19/20\n",
      "----------\n",
      "train Loss: 0.0360\n",
      "val Loss: 0.0609\n",
      "\n",
      "Epoch 20/20\n",
      "----------\n",
      "train Loss: 0.0360\n",
      "val Loss: 0.0607\n",
      "\n",
      "Training complete in 0m 1s\n",
      "Best val MSE: 0.060729\n"
     ]
    }
   ],
   "source": [
    "# RAE 모델 학습\n",
    "model, val_mse_history = train_model(model, dataloaders_dict, criterion, num_epochs,\n",
    "                                     optimizer=optim.Adam(model.parameters(), lr=0.0001))"
   ]
  },
  {
   "cell_type": "markdown",
   "metadata": {
    "id": "swRTvTl-ClUh"
   },
   "source": [
    "---"
   ]
  },
  {
   "cell_type": "markdown",
   "metadata": {
    "id": "62Nugu85ClUh"
   },
   "source": [
    "# <br>__4. Anomaly Detection__"
   ]
  },
  {
   "cell_type": "markdown",
   "metadata": {
    "id": "5O3lsDLiClUh"
   },
   "source": [
    "### Step 4-1. 적합된 모델을 기반으로 train/valid/test 데이터의 anomaly score 도출"
   ]
  },
  {
   "cell_type": "code",
   "execution_count": 17,
   "metadata": {
    "execution": {
     "iopub.execute_input": "2022-01-10T12:24:00.325796Z",
     "iopub.status.busy": "2022-01-10T12:24:00.325481Z",
     "iopub.status.idle": "2022-01-10T12:24:00.335603Z",
     "shell.execute_reply": "2022-01-10T12:24:00.334287Z",
     "shell.execute_reply.started": "2022-01-10T12:24:00.325752Z"
    },
    "id": "jxDnin8VClUh"
   },
   "outputs": [],
   "source": [
    "def test_model(model, test_loader, criterion):\n",
    "    model.eval()   # 모델을 validation mode로 설정\n",
    "    \n",
    "    # test_loader에 대하여 anomaly score 도출 (gradient update 방지)\n",
    "    with torch.no_grad():\n",
    "        test_loss = []\n",
    "        for inputs in test_loader:\n",
    "            inputs = inputs.to(device)\n",
    "\n",
    "            # forward\n",
    "            # input을 model에 넣어 output을 도출한 후, loss를 계산함\n",
    "            outputs = model(inputs)\n",
    "            loss = criterion(outputs, inputs)\n",
    "            loss = loss.mean(axis=-1).mean(axis=-1)\n",
    "\n",
    "            # sample별 loss를 축적함\n",
    "            test_loss += loss.cpu().data.numpy().tolist()\n",
    "    return test_loss"
   ]
  },
  {
   "cell_type": "code",
   "execution_count": 18,
   "metadata": {
    "execution": {
     "iopub.execute_input": "2022-01-10T12:24:00.338899Z",
     "iopub.status.busy": "2022-01-10T12:24:00.338565Z",
     "iopub.status.idle": "2022-01-10T12:24:00.345457Z",
     "shell.execute_reply": "2022-01-10T12:24:00.344352Z",
     "shell.execute_reply.started": "2022-01-10T12:24:00.338855Z"
    },
    "id": "MQem-iWCClUh"
   },
   "outputs": [],
   "source": [
    "# loss function 설정하기\n",
    "ad_criterion = nn.L1Loss(reduction='none')"
   ]
  },
  {
   "cell_type": "code",
   "execution_count": 19,
   "metadata": {
    "execution": {
     "iopub.execute_input": "2022-01-10T12:24:00.347859Z",
     "iopub.status.busy": "2022-01-10T12:24:00.347530Z",
     "iopub.status.idle": "2022-01-10T12:24:00.415477Z",
     "shell.execute_reply": "2022-01-10T12:24:00.414523Z",
     "shell.execute_reply.started": "2022-01-10T12:24:00.347815Z"
    },
    "id": "vJhfgUagClUi"
   },
   "outputs": [],
   "source": [
    "# train/valid/test 데이터에 대한 최종 결과 도출\n",
    "train_loss = test_model(model, train_loader, ad_criterion)\n",
    "valid_loss = test_model(model, valid_loader, ad_criterion)\n",
    "test_loss = test_model(model, test_loader, ad_criterion)"
   ]
  },
  {
   "cell_type": "code",
   "execution_count": 20,
   "metadata": {
    "colab": {
     "base_uri": "https://localhost:8080/",
     "height": 858
    },
    "execution": {
     "iopub.execute_input": "2022-01-10T12:24:00.417573Z",
     "iopub.status.busy": "2022-01-10T12:24:00.417246Z",
     "iopub.status.idle": "2022-01-10T12:24:01.812806Z",
     "shell.execute_reply": "2022-01-10T12:24:01.811824Z",
     "shell.execute_reply.started": "2022-01-10T12:24:00.417530Z"
    },
    "id": "XofO9wpSClUi",
    "outputId": "05337b5e-3700-423d-e0fe-cf2194abb438",
    "scrolled": true
   },
   "outputs": [
    {
     "name": "stderr",
     "output_type": "stream",
     "text": [
      "/usr/local/lib/python3.7/dist-packages/seaborn/distributions.py:2619: FutureWarning: `distplot` is a deprecated function and will be removed in a future version. Please adapt your code to use either `displot` (a figure-level function with similar flexibility) or `histplot` (an axes-level function for histograms).\n",
      "  warnings.warn(msg, FutureWarning)\n",
      "/usr/local/lib/python3.7/dist-packages/seaborn/distributions.py:2619: FutureWarning: `distplot` is a deprecated function and will be removed in a future version. Please adapt your code to use either `displot` (a figure-level function with similar flexibility) or `histplot` (an axes-level function for histograms).\n",
      "  warnings.warn(msg, FutureWarning)\n",
      "/usr/local/lib/python3.7/dist-packages/seaborn/distributions.py:2619: FutureWarning: `distplot` is a deprecated function and will be removed in a future version. Please adapt your code to use either `displot` (a figure-level function with similar flexibility) or `histplot` (an axes-level function for histograms).\n",
      "  warnings.warn(msg, FutureWarning)\n"
     ]
    },
    {
     "data": {
      "text/plain": [
       "Text(0.5, 1.0, 'Test Data')"
      ]
     },
     "execution_count": 20,
     "metadata": {},
     "output_type": "execute_result"
    },
    {
     "data": {
      "image/png": "[encoded data removed]",
      "text/plain": [
       "<Figure size 576x864 with 3 Axes>"
      ]
     },
     "metadata": {
      "needs_background": "light"
     },
     "output_type": "display_data"
    }
   ],
   "source": [
    "# valid/test 데이터의 anomaly score 분포 시각화\n",
    "fig, (ax1, ax2, ax3) = plt.subplots(nrows=3, ncols=1, figsize = (8, 12))\n",
    "\n",
    "sns.distplot(train_loss, bins=100, kde=True, color='blue', ax=ax1)\n",
    "sns.distplot(valid_loss, bins=100, kde=True, color='blue', ax=ax2)\n",
    "sns.distplot(test_loss, bins=100, kde=True, color='red', ax=ax3)\n",
    "ax1.set_title(\"Train Data\")\n",
    "ax2.set_title(\"Validation Data\")\n",
    "ax3.set_title(\"Test Data\")"
   ]
  },
  {
   "cell_type": "markdown",
   "metadata": {
    "id": "gOIYEp99ClUi"
   },
   "source": [
    "### Step 4-2. Threshold 탐색"
   ]
  },
  {
   "cell_type": "code",
   "execution_count": 21,
   "metadata": {
    "execution": {
     "iopub.execute_input": "2022-01-10T12:24:01.815097Z",
     "iopub.status.busy": "2022-01-10T12:24:01.814525Z",
     "iopub.status.idle": "2022-01-10T12:24:01.824062Z",
     "shell.execute_reply": "2022-01-10T12:24:01.823109Z",
     "shell.execute_reply.started": "2022-01-10T12:24:01.815044Z"
    },
    "id": "7jlSwQctClUi"
   },
   "outputs": [],
   "source": [
    "# threshold 탐색\n",
    "# score의 min ~ max 범위를 num_step개로 균등 분할한 threshold에 대하여 best threshold 탐색 \n",
    "def search_best_threshold(score, y_true, num_step):\n",
    "    best_f1 = 0.5\n",
    "    best_threshold = None\n",
    "    for threshold in np.linspace(min(score), max(score), num_step):\n",
    "        y_pred = threshold < score\n",
    "\n",
    "        f1 = f1_score(y_true, y_pred)\n",
    "        if f1 > best_f1:\n",
    "            best_f1 = f1\n",
    "            best_threshold = threshold\n",
    "\n",
    "    print('Best threshold: ', round(best_threshold, 4))\n",
    "    print('Best F1 Score:', round(best_f1, 4))\n",
    "    return best_threshold"
   ]
  },
  {
   "cell_type": "code",
   "execution_count": 22,
   "metadata": {
    "colab": {
     "base_uri": "https://localhost:8080/"
    },
    "execution": {
     "iopub.execute_input": "2022-01-10T12:24:01.827630Z",
     "iopub.status.busy": "2022-01-10T12:24:01.826930Z",
     "iopub.status.idle": "2022-01-10T12:24:02.928086Z",
     "shell.execute_reply": "2022-01-10T12:24:02.927136Z",
     "shell.execute_reply.started": "2022-01-10T12:24:01.827586Z"
    },
    "id": "l7zip5rXClUi",
    "outputId": "5a1116c4-a731-40ea-de18-6f4bdc0385e1",
    "scrolled": true
   },
   "outputs": [
    {
     "name": "stdout",
     "output_type": "stream",
     "text": [
      "Best threshold:  1.2937\n",
      "Best F1 Score: 0.9834\n"
     ]
    }
   ],
   "source": [
    "# best threshold 탐색 (Best threshold:  1.2937)\n",
    "best_threshold = search_best_threshold(test_loss, y_test[window_size:], num_step=1000)"
   ]
  },
  {
   "cell_type": "markdown",
   "metadata": {
    "id": "YQeLdiGHClUj"
   },
   "source": [
    "### Step 4-3. Best threshold를 기반으로 이상치 탐지 모형 평가 (정량적)"
   ]
  },
  {
   "cell_type": "code",
   "execution_count": 23,
   "metadata": {
    "execution": {
     "iopub.execute_input": "2022-01-10T12:24:02.930117Z",
     "iopub.status.busy": "2022-01-10T12:24:02.929530Z",
     "iopub.status.idle": "2022-01-10T12:24:02.940376Z",
     "shell.execute_reply": "2022-01-10T12:24:02.939373Z",
     "shell.execute_reply.started": "2022-01-10T12:24:02.930071Z"
    },
    "id": "GxmTQ5HPClUj"
   },
   "outputs": [],
   "source": [
    "train_dates = data[data['data_type'] == 'train'].index[window_size:]\n",
    "valid_dates = data[data['data_type'] == 'valid'].index[window_size:]\n",
    "test_dates = data[data['data_type'] == 'test'].index[window_size:]"
   ]
  },
  {
   "cell_type": "code",
   "execution_count": 24,
   "metadata": {
    "colab": {
     "base_uri": "https://localhost:8080/",
     "height": 206
    },
    "execution": {
     "iopub.execute_input": "2022-01-10T12:24:02.942277Z",
     "iopub.status.busy": "2022-01-10T12:24:02.941854Z",
     "iopub.status.idle": "2022-01-10T12:24:02.968182Z",
     "shell.execute_reply": "2022-01-10T12:24:02.967265Z",
     "shell.execute_reply.started": "2022-01-10T12:24:02.942202Z"
    },
    "id": "K0a1Cp6RClUj",
    "outputId": "4a59058d-7ab5-4f9d-93cc-b09b3bbe49c7"
   },
   "outputs": [
    {
     "data": {
      "text/html": [
       "\n",
       "  <div id=\"df-e299a23f-f487-4c4f-8e44-966a9a830947\">\n",
       "    <div class=\"colab-df-container\">\n",
       "      <div>\n",
       "<style scoped>\n",
       "    .dataframe tbody tr th:only-of-type {\n",
       "        vertical-align: middle;\n",
       "    }\n",
       "\n",
       "    .dataframe tbody tr th {\n",
       "        vertical-align: top;\n",
       "    }\n",
       "\n",
       "    .dataframe thead th {\n",
       "        text-align: right;\n",
       "    }\n",
       "</style>\n",
       "<table border=\"1\" class=\"dataframe\">\n",
       "  <thead>\n",
       "    <tr style=\"text-align: right;\">\n",
       "      <th></th>\n",
       "      <th>score</th>\n",
       "      <th>anomaly</th>\n",
       "    </tr>\n",
       "  </thead>\n",
       "  <tbody>\n",
       "    <tr>\n",
       "      <th>2004-02-12 11:22:39</th>\n",
       "      <td>0.131568</td>\n",
       "      <td>False</td>\n",
       "    </tr>\n",
       "    <tr>\n",
       "      <th>2004-02-12 11:32:39</th>\n",
       "      <td>0.192033</td>\n",
       "      <td>False</td>\n",
       "    </tr>\n",
       "    <tr>\n",
       "      <th>2004-02-12 11:42:39</th>\n",
       "      <td>0.134857</td>\n",
       "      <td>False</td>\n",
       "    </tr>\n",
       "    <tr>\n",
       "      <th>2004-02-12 11:52:39</th>\n",
       "      <td>0.151587</td>\n",
       "      <td>False</td>\n",
       "    </tr>\n",
       "    <tr>\n",
       "      <th>2004-02-12 12:02:39</th>\n",
       "      <td>0.210760</td>\n",
       "      <td>False</td>\n",
       "    </tr>\n",
       "  </tbody>\n",
       "</table>\n",
       "</div>\n",
       "      <button class=\"colab-df-convert\" onclick=\"convertToInteractive('df-e299a23f-f487-4c4f-8e44-966a9a830947')\"\n",
       "              title=\"Convert this dataframe to an interactive table.\"\n",
       "              style=\"display:none;\">\n",
       "        \n",
       "  <svg xmlns=\"http://www.w3.org/2000/svg\" height=\"24px\"viewBox=\"0 0 24 24\"\n",
       "       width=\"24px\">\n",
       "    <path d=\"M0 0h24v24H0V0z\" fill=\"none\"/>\n",
       "    <path d=\"M18.56 5.44l.94 2.06.94-2.06 2.06-.94-2.06-.94-.94-2.06-.94 2.06-2.06.94zm-11 1L8.5 8.5l.94-2.06 2.06-.94-2.06-.94L8.5 2.5l-.94 2.06-2.06.94zm10 10l.94 2.06.94-2.06 2.06-.94-2.06-.94-.94-2.06-.94 2.06-2.06.94z\"/><path d=\"M17.41 7.96l-1.37-1.37c-.4-.4-.92-.59-1.43-.59-.52 0-1.04.2-1.43.59L10.3 9.45l-7.72 7.72c-.78.78-.78 2.05 0 2.83L4 21.41c.39.39.9.59 1.41.59.51 0 1.02-.2 1.41-.59l7.78-7.78 2.81-2.81c.8-.78.8-2.07 0-2.86zM5.41 20L4 18.59l7.72-7.72 1.47 1.35L5.41 20z\"/>\n",
       "  </svg>\n",
       "      </button>\n",
       "      \n",
       "  <style>\n",
       "    .colab-df-container {\n",
       "      display:flex;\n",
       "      flex-wrap:wrap;\n",
       "      gap: 12px;\n",
       "    }\n",
       "\n",
       "    .colab-df-convert {\n",
       "      background-color: #E8F0FE;\n",
       "      border: none;\n",
       "      border-radius: 50%;\n",
       "      cursor: pointer;\n",
       "      display: none;\n",
       "      fill: #1967D2;\n",
       "      height: 32px;\n",
       "      padding: 0 0 0 0;\n",
       "      width: 32px;\n",
       "    }\n",
       "\n",
       "    .colab-df-convert:hover {\n",
       "      background-color: #E2EBFA;\n",
       "      box-shadow: 0px 1px 2px rgba(60, 64, 67, 0.3), 0px 1px 3px 1px rgba(60, 64, 67, 0.15);\n",
       "      fill: #174EA6;\n",
       "    }\n",
       "\n",
       "    [theme=dark] .colab-df-convert {\n",
       "      background-color: #3B4455;\n",
       "      fill: #D2E3FC;\n",
       "    }\n",
       "\n",
       "    [theme=dark] .colab-df-convert:hover {\n",
       "      background-color: #434B5C;\n",
       "      box-shadow: 0px 1px 3px 1px rgba(0, 0, 0, 0.15);\n",
       "      filter: drop-shadow(0px 1px 2px rgba(0, 0, 0, 0.3));\n",
       "      fill: #FFFFFF;\n",
       "    }\n",
       "  </style>\n",
       "\n",
       "      <script>\n",
       "        const buttonEl =\n",
       "          document.querySelector('#df-e299a23f-f487-4c4f-8e44-966a9a830947 button.colab-df-convert');\n",
       "        buttonEl.style.display =\n",
       "          google.colab.kernel.accessAllowed ? 'block' : 'none';\n",
       "\n",
       "        async function convertToInteractive(key) {\n",
       "          const element = document.querySelector('#df-e299a23f-f487-4c4f-8e44-966a9a830947');\n",
       "          const dataTable =\n",
       "            await google.colab.kernel.invokeFunction('convertToInteractive',\n",
       "                                                     [key], {});\n",
       "          if (!dataTable) return;\n",
       "\n",
       "          const docLinkHtml = 'Like what you see? Visit the ' +\n",
       "            '<a target=\"_blank\" href=https://colab.research.google.com/notebooks/data_table.ipynb>data table notebook</a>'\n",
       "            + ' to learn more about interactive tables.';\n",
       "          element.innerHTML = '';\n",
       "          dataTable['output_type'] = 'display_data';\n",
       "          await google.colab.output.renderOutput(dataTable, element);\n",
       "          const docLink = document.createElement('div');\n",
       "          docLink.innerHTML = docLinkHtml;\n",
       "          element.appendChild(docLink);\n",
       "        }\n",
       "      </script>\n",
       "    </div>\n",
       "  </div>\n",
       "  "
      ],
      "text/plain": [
       "                        score  anomaly\n",
       "2004-02-12 11:22:39  0.131568    False\n",
       "2004-02-12 11:32:39  0.192033    False\n",
       "2004-02-12 11:42:39  0.134857    False\n",
       "2004-02-12 11:52:39  0.151587    False\n",
       "2004-02-12 12:02:39  0.210760    False"
      ]
     },
     "execution_count": 24,
     "metadata": {},
     "output_type": "execute_result"
    }
   ],
   "source": [
    "scores = pd.DataFrame(index=list(train_dates) + list(valid_dates) + list(test_dates))\n",
    "scores['score'] = list(np.hstack([train_loss, valid_loss, test_loss]))\n",
    "scores['anomaly'] = best_threshold < scores['score']\n",
    "scores.head()"
   ]
  },
  {
   "cell_type": "code",
   "execution_count": 25,
   "metadata": {
    "execution": {
     "iopub.execute_input": "2022-01-10T12:24:02.970295Z",
     "iopub.status.busy": "2022-01-10T12:24:02.969881Z",
     "iopub.status.idle": "2022-01-10T12:24:02.978817Z",
     "shell.execute_reply": "2022-01-10T12:24:02.977549Z",
     "shell.execute_reply.started": "2022-01-10T12:24:02.970252Z"
    },
    "id": "2_JeTFxgClUj"
   },
   "outputs": [],
   "source": [
    "# FRR, FAR, F1 score 도출\n",
    "def calculate_metric(y_true, y_pred):\n",
    "    cm = confusion_matrix(y_true, y_pred, labels=[True, False])\n",
    "    tp, fn, fp, tn = cm.ravel()\n",
    "    \n",
    "    frr = fp / (fp + tn)\n",
    "    far = fn / (fn + tp) \n",
    "    \n",
    "    f1 = f1_score(y_true, y_pred)\n",
    "    \n",
    "    return frr, far, f1"
   ]
  },
  {
   "cell_type": "code",
   "execution_count": 26,
   "metadata": {
    "colab": {
     "base_uri": "https://localhost:8080/"
    },
    "execution": {
     "iopub.execute_input": "2022-01-10T12:24:02.980894Z",
     "iopub.status.busy": "2022-01-10T12:24:02.980322Z",
     "iopub.status.idle": "2022-01-10T12:24:03.002015Z",
     "shell.execute_reply": "2022-01-10T12:24:03.000956Z",
     "shell.execute_reply.started": "2022-01-10T12:24:02.980839Z"
    },
    "id": "AfFGMvvGClUj",
    "outputId": "7ca2a1e5-d523-4069-d4ed-0b14f2f5b625"
   },
   "outputs": [
    {
     "name": "stdout",
     "output_type": "stream",
     "text": [
      "**  FRR: 0.0521  |  FAR: 0.0  |  F1 Score: 0.9834\n"
     ]
    }
   ],
   "source": [
    "# FRR: 0.0521  |  FAR: 0.0  |  F1 Score: 0.9834\n",
    "frr, far, f1 = calculate_metric(y_test[window_size:], scores['anomaly'][test_dates[0]:])\n",
    "\n",
    "print(\"**  FRR: {}  |  FAR: {}  |  F1 Score: {}\".format(round(frr, 4), round(far, 4), round(f1, 4)))"
   ]
  },
  {
   "cell_type": "markdown",
   "metadata": {
    "id": "e4gH7fWQClUk"
   },
   "source": [
    "### Step 4-4. Best threshold를 기반으로 이상치 탐지 모형 평가 (정성적)"
   ]
  },
  {
   "cell_type": "code",
   "execution_count": 27,
   "metadata": {
    "execution": {
     "iopub.execute_input": "2022-01-10T12:24:03.005646Z",
     "iopub.status.busy": "2022-01-10T12:24:03.003548Z",
     "iopub.status.idle": "2022-01-10T12:24:03.016074Z",
     "shell.execute_reply": "2022-01-10T12:24:03.014715Z",
     "shell.execute_reply.started": "2022-01-10T12:24:03.005597Z"
    },
    "id": "nSJ8gGBoClUk"
   },
   "outputs": [],
   "source": [
    "# anomaly score plot 도출\n",
    "def draw_plot(data, scores, threshold):\n",
    "    normal_scores = scores[scores['anomaly'] == False]\n",
    "    abnormal_scores = scores[scores['anomaly'] == True]\n",
    "\n",
    "    plt.figure(figsize = (12,5))\n",
    "    plt.scatter(normal_scores.index, normal_scores['score'], label='Normal', c='blue', s=3)\n",
    "    plt.scatter(abnormal_scores.index, abnormal_scores['score'], label='Abnormal', c='red', s=3)\n",
    "    \n",
    "    plt.axhline(threshold, c='green', alpha=0.7)\n",
    "    plt.axvline(data.index[list(data['data_type']).index('valid')], c='orange', ls='--')  # validation data 시작 위치 표시\n",
    "    plt.axvline(data.index[list(data['data_type']).index('test')], c='orange', ls='--')  # test data 시작 위치 표시\n",
    "    \n",
    "    plt.xlabel('Date')\n",
    "    plt.ylabel('Anomaly Score')\n",
    "    plt.legend()\n",
    "    \n",
    "    plt.show()"
   ]
  },
  {
   "cell_type": "code",
   "execution_count": 28,
   "metadata": {
    "colab": {
     "base_uri": "https://localhost:8080/",
     "height": 334
    },
    "execution": {
     "iopub.execute_input": "2022-01-10T12:24:03.022074Z",
     "iopub.status.busy": "2022-01-10T12:24:03.021802Z",
     "iopub.status.idle": "2022-01-10T12:24:03.365118Z",
     "shell.execute_reply": "2022-01-10T12:24:03.364114Z",
     "shell.execute_reply.started": "2022-01-10T12:24:03.022035Z"
    },
    "id": "gHb3aaf0ClUk",
    "outputId": "19854076-3506-4159-db5a-273ab3ca5cb5"
   },
   "outputs": [
    {
     "data": {
      "image/png": "[encoded data removed]",
      "text/plain": [
       "<Figure size 864x360 with 1 Axes>"
      ]
     },
     "metadata": {
      "needs_background": "light"
     },
     "output_type": "display_data"
    }
   ],
   "source": [
    "# 전체 기간의 데이터 분포 확인\n",
    "draw_plot(data, scores, best_threshold)"
   ]
  },
  {
   "cell_type": "markdown",
   "metadata": {
    "id": "Ae9lQJTEClUk"
   },
   "source": [
    "---"
   ]
  }
 ],
 "metadata": {
  "colab": {
   "name": "01_RAE.ipynb",
   "provenance": []
  },
  "kernelspec": {
   "display_name": "Python 3",
   "language": "python",
   "name": "python3"
  },
  "language_info": {
   "codemirror_mode": {
    "name": "ipython",
    "version": 3
   },
   "file_extension": ".py",
   "mimetype": "text/x-python",
   "name": "python",
   "nbconvert_exporter": "python",
   "pygments_lexer": "ipython3",
   "version": "3.8.6"
  }
 },
 "nbformat": 4,
 "nbformat_minor": 1
}
