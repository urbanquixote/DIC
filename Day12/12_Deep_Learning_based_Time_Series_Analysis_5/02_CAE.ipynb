{
 "cells": [
  {
   "cell_type": "markdown",
   "metadata": {
    "id": "TsbB_Lz0DGtm"
   },
   "source": [
    "# <br>[ LG전자_DX_Intensive_Course  ] 딥러닝 기반 시계열 분석 5<br><br> : Deep Auto-Encoder - Convolutional Auto-Encoder<br>"
   ]
  },
  {
   "cell_type": "code",
   "execution_count": null,
   "metadata": {},
   "outputs": [],
   "source": [
    "# github에서 데이터 불러오기\n",
    "!git clone https://github.com/KU-DIC/LG_time_series_day12.git"
   ]
  },
  {
   "cell_type": "code",
   "execution_count": 1,
   "metadata": {
    "execution": {
     "iopub.execute_input": "2022-01-10T12:26:44.253784Z",
     "iopub.status.busy": "2022-01-10T12:26:44.253555Z",
     "iopub.status.idle": "2022-01-10T12:26:46.490861Z",
     "shell.execute_reply": "2022-01-10T12:26:46.490083Z",
     "shell.execute_reply.started": "2022-01-10T12:26:44.253714Z"
    },
    "id": "cYeE87WYDGtq"
   },
   "outputs": [],
   "source": [
    "# 모듈 불러오기\n",
    "import os\n",
    "import time\n",
    "import copy\n",
    "import random\n",
    "import numpy as np\n",
    "import pandas as pd\n",
    "import seaborn as sns\n",
    "import matplotlib.pyplot as plt\n",
    "from sklearn.preprocessing import MinMaxScaler\n",
    "from sklearn.metrics import confusion_matrix\n",
    "from sklearn.metrics import f1_score\n",
    "\n",
    "import torch\n",
    "import torch.nn as nn\n",
    "import torch.optim as optim"
   ]
  },
  {
   "cell_type": "markdown",
   "metadata": {
    "id": "fPzh9JoWDGts"
   },
   "source": [
    "# <br>0. Hyperparameter Setting\n",
    "- data_dir: Top level data directory.\n",
    "- batch_size: Batch size for training (change depending on how much memory you have)\n",
    "- num_classes: Number of classes in the dataset\n",
    "- num_epochs: Number of epochs to train for\n",
    "- window_size: Length of input (subsequence from time series data)"
   ]
  },
  {
   "cell_type": "code",
   "execution_count": 2,
   "metadata": {
    "execution": {
     "iopub.execute_input": "2022-01-10T12:26:46.493751Z",
     "iopub.status.busy": "2022-01-10T12:26:46.493249Z",
     "iopub.status.idle": "2022-01-10T12:26:46.548027Z",
     "shell.execute_reply": "2022-01-10T12:26:46.547263Z",
     "shell.execute_reply.started": "2022-01-10T12:26:46.493715Z"
    },
    "id": "YlJiPmC3DGts"
   },
   "outputs": [],
   "source": [
    "# Hyperparameter setting\n",
    "batch_size = 32\n",
    "num_epochs = 20\n",
    "window_size = 5\n",
    "input_size = 4\n",
    "hidden_size = 2\n",
    "num_layers = 2\n",
    "\n",
    "random_seed = 42\n",
    "device = torch.device(\"cuda:0\" if torch.cuda.is_available() else \"cpu\") # Detect if we have a GPU available"
   ]
  },
  {
   "cell_type": "code",
   "execution_count": 3,
   "metadata": {
    "execution": {
     "iopub.execute_input": "2022-01-10T12:26:46.551543Z",
     "iopub.status.busy": "2022-01-10T12:26:46.551340Z",
     "iopub.status.idle": "2022-01-10T12:26:46.561321Z",
     "shell.execute_reply": "2022-01-10T12:26:46.560513Z",
     "shell.execute_reply.started": "2022-01-10T12:26:46.551516Z"
    },
    "id": "yPQIjkaJDGtt"
   },
   "outputs": [],
   "source": [
    "# seed 고정\n",
    "torch.manual_seed(random_seed)\n",
    "torch.cuda.manual_seed(random_seed)\n",
    "torch.backends.cudnn.deterministic = True\n",
    "torch.backends.cudnn.benchmark = False\n",
    "np.random.seed(random_seed)\n",
    "random.seed(random_seed)"
   ]
  },
  {
   "cell_type": "markdown",
   "metadata": {
    "id": "R4W3mDBfDGtt"
   },
   "source": [
    "---"
   ]
  },
  {
   "cell_type": "markdown",
   "metadata": {
    "id": "Pg0EzUvqDGtu"
   },
   "source": [
    "# <br>__1. Data: NASA Bearing Dataset__\n",
    "- 데이터 description <br>\n",
    "    - NASA Bearing Dataset은 NSF I/UCR Center의 Intelligent Maintenance System의 4개의 bearing에서 고장이 발생할 때까지 10분 단위로 수집된 센서 데이터이다. 본 데이터셋은 특정 구간에서 기록된 1-second vibration signal snapshots을 나타내는 여러 개의 파일로 구성되어 있다. 각 파일은 20 kHz 단위로 샘플링 된 20,480개의 data point를 포함하고 있으며, 각 파일의 이름은 데이터가 수집된 시간을 의미한다. 해당 데이터셋은 크게 3개의 데이터를 포함하고 있으며, 본 실습에서 사용하는 데이터는 bearing 1에서 outer race failure가 발생할 때까지 수집된 센서 데이터이다. <br><br>\n",
    "- 변수 설명\n",
    "    - 독립 변수 (4개): Bearing1, Bearing2, Bearing3, Bearing4 \n",
    "    - **종속 변수 (1개): anomaly -> custom label: normal(0) / abnormal(1)** <br><br>\n",
    "- 출처: https://ti.arc.nasa.gov/tech/dash/groups/pcoe/prognostic-data-repository/"
   ]
  },
  {
   "cell_type": "markdown",
   "metadata": {
    "id": "kOigvebADGtv"
   },
   "source": [
    "<img src=\"https://i.imgur.com/dfFzn3H.jpg\" width=\"600\">"
   ]
  },
  {
   "cell_type": "markdown",
   "metadata": {
    "id": "8MIkkwm-DGtv"
   },
   "source": [
    "### Step 1-1. 데이터 불러오기"
   ]
  },
  {
   "cell_type": "code",
   "execution_count": 4,
   "metadata": {
    "colab": {
     "base_uri": "https://localhost:8080/",
     "height": 206
    },
    "execution": {
     "iopub.execute_input": "2022-01-10T12:26:46.563887Z",
     "iopub.status.busy": "2022-01-10T12:26:46.563613Z",
     "iopub.status.idle": "2022-01-10T12:26:46.612916Z",
     "shell.execute_reply": "2022-01-10T12:26:46.612259Z",
     "shell.execute_reply.started": "2022-01-10T12:26:46.563851Z"
    },
    "id": "2hGLH-a7DGtw",
    "outputId": "69ae26b1-7f8e-4083-d310-277626afac65",
    "scrolled": true
   },
   "outputs": [
    {
     "data": {
      "text/html": [
       "\n",
       "  <div id=\"df-9c0b9322-650b-4288-8e0b-4c4220ef4590\">\n",
       "    <div class=\"colab-df-container\">\n",
       "      <div>\n",
       "<style scoped>\n",
       "    .dataframe tbody tr th:only-of-type {\n",
       "        vertical-align: middle;\n",
       "    }\n",
       "\n",
       "    .dataframe tbody tr th {\n",
       "        vertical-align: top;\n",
       "    }\n",
       "\n",
       "    .dataframe thead th {\n",
       "        text-align: right;\n",
       "    }\n",
       "</style>\n",
       "<table border=\"1\" class=\"dataframe\">\n",
       "  <thead>\n",
       "    <tr style=\"text-align: right;\">\n",
       "      <th></th>\n",
       "      <th>Bearing 1</th>\n",
       "      <th>Bearing 2</th>\n",
       "      <th>Bearing 3</th>\n",
       "      <th>Bearing 4</th>\n",
       "      <th>anomaly</th>\n",
       "      <th>data_type</th>\n",
       "    </tr>\n",
       "  </thead>\n",
       "  <tbody>\n",
       "    <tr>\n",
       "      <th>2004-02-12 10:32:39</th>\n",
       "      <td>0.058332</td>\n",
       "      <td>0.071832</td>\n",
       "      <td>0.083244</td>\n",
       "      <td>0.043065</td>\n",
       "      <td>0</td>\n",
       "      <td>train</td>\n",
       "    </tr>\n",
       "    <tr>\n",
       "      <th>2004-02-12 10:42:39</th>\n",
       "      <td>0.058997</td>\n",
       "      <td>0.074008</td>\n",
       "      <td>0.084439</td>\n",
       "      <td>0.044540</td>\n",
       "      <td>0</td>\n",
       "      <td>train</td>\n",
       "    </tr>\n",
       "    <tr>\n",
       "      <th>2004-02-12 10:52:39</th>\n",
       "      <td>0.060239</td>\n",
       "      <td>0.074223</td>\n",
       "      <td>0.083922</td>\n",
       "      <td>0.044442</td>\n",
       "      <td>0</td>\n",
       "      <td>train</td>\n",
       "    </tr>\n",
       "    <tr>\n",
       "      <th>2004-02-12 11:02:39</th>\n",
       "      <td>0.061453</td>\n",
       "      <td>0.073843</td>\n",
       "      <td>0.084462</td>\n",
       "      <td>0.045081</td>\n",
       "      <td>0</td>\n",
       "      <td>train</td>\n",
       "    </tr>\n",
       "    <tr>\n",
       "      <th>2004-02-12 11:12:39</th>\n",
       "      <td>0.061361</td>\n",
       "      <td>0.075606</td>\n",
       "      <td>0.082837</td>\n",
       "      <td>0.045118</td>\n",
       "      <td>0</td>\n",
       "      <td>train</td>\n",
       "    </tr>\n",
       "  </tbody>\n",
       "</table>\n",
       "</div>\n",
       "      <button class=\"colab-df-convert\" onclick=\"convertToInteractive('df-9c0b9322-650b-4288-8e0b-4c4220ef4590')\"\n",
       "              title=\"Convert this dataframe to an interactive table.\"\n",
       "              style=\"display:none;\">\n",
       "        \n",
       "  <svg xmlns=\"http://www.w3.org/2000/svg\" height=\"24px\"viewBox=\"0 0 24 24\"\n",
       "       width=\"24px\">\n",
       "    <path d=\"M0 0h24v24H0V0z\" fill=\"none\"/>\n",
       "    <path d=\"M18.56 5.44l.94 2.06.94-2.06 2.06-.94-2.06-.94-.94-2.06-.94 2.06-2.06.94zm-11 1L8.5 8.5l.94-2.06 2.06-.94-2.06-.94L8.5 2.5l-.94 2.06-2.06.94zm10 10l.94 2.06.94-2.06 2.06-.94-2.06-.94-.94-2.06-.94 2.06-2.06.94z\"/><path d=\"M17.41 7.96l-1.37-1.37c-.4-.4-.92-.59-1.43-.59-.52 0-1.04.2-1.43.59L10.3 9.45l-7.72 7.72c-.78.78-.78 2.05 0 2.83L4 21.41c.39.39.9.59 1.41.59.51 0 1.02-.2 1.41-.59l7.78-7.78 2.81-2.81c.8-.78.8-2.07 0-2.86zM5.41 20L4 18.59l7.72-7.72 1.47 1.35L5.41 20z\"/>\n",
       "  </svg>\n",
       "      </button>\n",
       "      \n",
       "  <style>\n",
       "    .colab-df-container {\n",
       "      display:flex;\n",
       "      flex-wrap:wrap;\n",
       "      gap: 12px;\n",
       "    }\n",
       "\n",
       "    .colab-df-convert {\n",
       "      background-color: #E8F0FE;\n",
       "      border: none;\n",
       "      border-radius: 50%;\n",
       "      cursor: pointer;\n",
       "      display: none;\n",
       "      fill: #1967D2;\n",
       "      height: 32px;\n",
       "      padding: 0 0 0 0;\n",
       "      width: 32px;\n",
       "    }\n",
       "\n",
       "    .colab-df-convert:hover {\n",
       "      background-color: #E2EBFA;\n",
       "      box-shadow: 0px 1px 2px rgba(60, 64, 67, 0.3), 0px 1px 3px 1px rgba(60, 64, 67, 0.15);\n",
       "      fill: #174EA6;\n",
       "    }\n",
       "\n",
       "    [theme=dark] .colab-df-convert {\n",
       "      background-color: #3B4455;\n",
       "      fill: #D2E3FC;\n",
       "    }\n",
       "\n",
       "    [theme=dark] .colab-df-convert:hover {\n",
       "      background-color: #434B5C;\n",
       "      box-shadow: 0px 1px 3px 1px rgba(0, 0, 0, 0.15);\n",
       "      filter: drop-shadow(0px 1px 2px rgba(0, 0, 0, 0.3));\n",
       "      fill: #FFFFFF;\n",
       "    }\n",
       "  </style>\n",
       "\n",
       "      <script>\n",
       "        const buttonEl =\n",
       "          document.querySelector('#df-9c0b9322-650b-4288-8e0b-4c4220ef4590 button.colab-df-convert');\n",
       "        buttonEl.style.display =\n",
       "          google.colab.kernel.accessAllowed ? 'block' : 'none';\n",
       "\n",
       "        async function convertToInteractive(key) {\n",
       "          const element = document.querySelector('#df-9c0b9322-650b-4288-8e0b-4c4220ef4590');\n",
       "          const dataTable =\n",
       "            await google.colab.kernel.invokeFunction('convertToInteractive',\n",
       "                                                     [key], {});\n",
       "          if (!dataTable) return;\n",
       "\n",
       "          const docLinkHtml = 'Like what you see? Visit the ' +\n",
       "            '<a target=\"_blank\" href=https://colab.research.google.com/notebooks/data_table.ipynb>data table notebook</a>'\n",
       "            + ' to learn more about interactive tables.';\n",
       "          element.innerHTML = '';\n",
       "          dataTable['output_type'] = 'display_data';\n",
       "          await google.colab.output.renderOutput(dataTable, element);\n",
       "          const docLink = document.createElement('div');\n",
       "          docLink.innerHTML = docLinkHtml;\n",
       "          element.appendChild(docLink);\n",
       "        }\n",
       "      </script>\n",
       "    </div>\n",
       "  </div>\n",
       "  "
      ],
      "text/plain": [
       "                     Bearing 1  Bearing 2  ...  anomaly  data_type\n",
       "2004-02-12 10:32:39   0.058332   0.071832  ...        0      train\n",
       "2004-02-12 10:42:39   0.058997   0.074008  ...        0      train\n",
       "2004-02-12 10:52:39   0.060239   0.074223  ...        0      train\n",
       "2004-02-12 11:02:39   0.061453   0.073843  ...        0      train\n",
       "2004-02-12 11:12:39   0.061361   0.075606  ...        0      train\n",
       "\n",
       "[5 rows x 6 columns]"
      ]
     },
     "execution_count": 4,
     "metadata": {},
     "output_type": "execute_result"
    }
   ],
   "source": [
    "# 데이터 불러오기\n",
    "data = pd.read_csv('/content/LG_time_series_day12/input/nasa-data/nasa_bearing_dataset.csv', index_col=0)\n",
    "data.index = pd.to_datetime(data.index)\n",
    "data.head()"
   ]
  },
  {
   "cell_type": "code",
   "execution_count": 5,
   "metadata": {
    "colab": {
     "base_uri": "https://localhost:8080/",
     "height": 386
    },
    "execution": {
     "iopub.execute_input": "2022-01-10T12:26:46.614834Z",
     "iopub.status.busy": "2022-01-10T12:26:46.614348Z",
     "iopub.status.idle": "2022-01-10T12:26:46.957311Z",
     "shell.execute_reply": "2022-01-10T12:26:46.956647Z",
     "shell.execute_reply.started": "2022-01-10T12:26:46.614798Z"
    },
    "id": "oX7-n6YXDGtw",
    "outputId": "f0238743-f355-4e4e-b773-ae7f603fa98d",
    "scrolled": true
   },
   "outputs": [
    {
     "data": {
      "text/plain": [
       "<matplotlib.lines.Line2D at 0x7fbab2ffc710>"
      ]
     },
     "execution_count": 5,
     "metadata": {},
     "output_type": "execute_result"
    },
    {
     "data": {
      "image/png": "[encoded data removed]",
      "text/plain": [
       "<Figure size 864x432 with 1 Axes>"
      ]
     },
     "metadata": {
      "needs_background": "light"
     },
     "output_type": "display_data"
    }
   ],
   "source": [
    "# 전체 기간의 데이터 분포 확인\n",
    "data.iloc[:, :4].plot(figsize = (12, 6))\n",
    "plt.axvline(data.index[list(data['data_type']).index('valid')], c='black')  # validation data 시작 위치 표시\n",
    "plt.axvline(data.index[list(data['data_type']).index('test')], c='black')  # test data 시작 위치 표시\n",
    "plt.axvline(data.index[list(data['anomaly']).index(1)], c='red')  # abnormal data 시작 위치 표시"
   ]
  },
  {
   "cell_type": "markdown",
   "metadata": {
    "id": "1y6V7JoBDGtw"
   },
   "source": [
    "### Step 1-2. 데이터 Split"
   ]
  },
  {
   "cell_type": "code",
   "execution_count": 6,
   "metadata": {
    "colab": {
     "base_uri": "https://localhost:8080/"
    },
    "execution": {
     "iopub.execute_input": "2022-01-10T12:26:46.959106Z",
     "iopub.status.busy": "2022-01-10T12:26:46.958698Z",
     "iopub.status.idle": "2022-01-10T12:26:46.974491Z",
     "shell.execute_reply": "2022-01-10T12:26:46.973779Z",
     "shell.execute_reply.started": "2022-01-10T12:26:46.959070Z"
    },
    "id": "slelwcrPDGtx",
    "outputId": "cda49bdd-7e5d-4116-d672-c984e10ac99f"
   },
   "outputs": [
    {
     "name": "stdout",
     "output_type": "stream",
     "text": [
      "Train data shape: (393, 4)\n",
      "Validation data shape: (98, 4)\n",
      "Test data shape: (493, 4)\n"
     ]
    }
   ],
   "source": [
    "X_train = data[data['data_type'] == 'train'].iloc[:, :4]\n",
    "y_train = data[data['data_type'] == 'train'].iloc[:, -2].values\n",
    "\n",
    "X_valid = data[data['data_type'] == 'valid'].iloc[:, :4]\n",
    "y_valid = data[data['data_type'] == 'valid'].iloc[:, -2].values\n",
    "\n",
    "X_test = data[data['data_type'] == 'test'].iloc[:, :4]\n",
    "y_test = data[data['data_type'] == 'test'].iloc[:, -2].values\n",
    "\n",
    "print(\"Train data shape:\", X_train.shape)\n",
    "print(\"Validation data shape:\", X_valid.shape)\n",
    "print(\"Test data shape:\", X_test.shape)"
   ]
  },
  {
   "cell_type": "markdown",
   "metadata": {
    "id": "RfMUJwPCDGtx"
   },
   "source": [
    "### Step 1-3. 데이터 정규화"
   ]
  },
  {
   "cell_type": "code",
   "execution_count": 7,
   "metadata": {
    "execution": {
     "iopub.execute_input": "2022-01-10T12:26:46.976825Z",
     "iopub.status.busy": "2022-01-10T12:26:46.976565Z",
     "iopub.status.idle": "2022-01-10T12:26:46.983862Z",
     "shell.execute_reply": "2022-01-10T12:26:46.983173Z",
     "shell.execute_reply.started": "2022-01-10T12:26:46.976789Z"
    },
    "id": "LK9647rODGtx"
   },
   "outputs": [],
   "source": [
    "# train 데이터를 기반으로 train/test 데이터에 대하여 min-max scaling 적용 \n",
    "scaler = MinMaxScaler()\n",
    "scaler = scaler.fit(X_train)"
   ]
  },
  {
   "cell_type": "code",
   "execution_count": 8,
   "metadata": {
    "execution": {
     "iopub.execute_input": "2022-01-10T12:26:46.985809Z",
     "iopub.status.busy": "2022-01-10T12:26:46.985351Z",
     "iopub.status.idle": "2022-01-10T12:26:46.999142Z",
     "shell.execute_reply": "2022-01-10T12:26:46.998354Z",
     "shell.execute_reply.started": "2022-01-10T12:26:46.985773Z"
    },
    "id": "lDKA2bAoDGty"
   },
   "outputs": [],
   "source": [
    "X_train = scaler.transform(X_train)\n",
    "X_valid = scaler.transform(X_valid)\n",
    "X_test = scaler.transform(X_test)"
   ]
  },
  {
   "cell_type": "markdown",
   "metadata": {
    "id": "h4sTappsDGty"
   },
   "source": [
    "### Step 1-4. DataLoader 구축"
   ]
  },
  {
   "cell_type": "code",
   "execution_count": 9,
   "metadata": {
    "execution": {
     "iopub.execute_input": "2022-01-10T12:26:47.001037Z",
     "iopub.status.busy": "2022-01-10T12:26:47.000627Z",
     "iopub.status.idle": "2022-01-10T12:26:47.009136Z",
     "shell.execute_reply": "2022-01-10T12:26:47.008339Z",
     "shell.execute_reply.started": "2022-01-10T12:26:47.001004Z"
    },
    "id": "JzENTk7ODGty"
   },
   "outputs": [],
   "source": [
    "class CustomDataset(torch.utils.data.Dataset): \n",
    "    def __init__(self, data, seq_len):\n",
    "        self.data = data\n",
    "        self.seq_len = seq_len\n",
    "        self.start_point = range(0, len(data) - seq_len)\n",
    "\n",
    "    # 총 데이터의 개수를 리턴\n",
    "    def __len__(self): \n",
    "        return len(self.start_point)\n",
    "\n",
    "    # 인덱스를 입력받아 그에 맵핑되는 입출력 데이터를 파이토치의 Tensor 형태로 리턴\n",
    "    def __getitem__(self, idx):\n",
    "        x = torch.FloatTensor(self.data[self.start_point[idx]:self.start_point[idx] + self.seq_len]) # shape: (seq_len, n_features)\n",
    "        x = torch.transpose(x, 1, 0) # shape: (n_features, seq_len)\n",
    "        return x"
   ]
  },
  {
   "cell_type": "code",
   "execution_count": 10,
   "metadata": {
    "execution": {
     "iopub.execute_input": "2022-01-10T12:26:47.013965Z",
     "iopub.status.busy": "2022-01-10T12:26:47.013268Z",
     "iopub.status.idle": "2022-01-10T12:26:47.020408Z",
     "shell.execute_reply": "2022-01-10T12:26:47.019583Z",
     "shell.execute_reply.started": "2022-01-10T12:26:47.013896Z"
    },
    "id": "GMs2l95ODGtz"
   },
   "outputs": [],
   "source": [
    "train_dataset = CustomDataset(X_train, window_size)\n",
    "train_loader = torch.utils.data.DataLoader(train_dataset, batch_size=batch_size, shuffle=True)\n",
    "\n",
    "valid_dataset = CustomDataset(X_valid, window_size)\n",
    "valid_loader = torch.utils.data.DataLoader(valid_dataset, batch_size=batch_size, shuffle=False)\n",
    "\n",
    "test_dataset = CustomDataset(X_test, window_size)\n",
    "test_loader = torch.utils.data.DataLoader(test_dataset, batch_size=batch_size, shuffle=False)"
   ]
  },
  {
   "cell_type": "markdown",
   "metadata": {
    "id": "qZfTjY-gDGtz"
   },
   "source": [
    "---"
   ]
  },
  {
   "cell_type": "markdown",
   "metadata": {
    "id": "u72IaTs7DGtz"
   },
   "source": [
    "# <br>__2. Model: Convolutional Auto-Encoder__"
   ]
  },
  {
   "cell_type": "markdown",
   "metadata": {
    "id": "lyAr5HEYDGtz"
   },
   "source": [
    "### Convolutional Auto-Encoder\n",
    ">입력과 출력이 동일한 인공신경망 구조 <br>\n",
    ">정상 데이터에 대한 학습이 충분히 되어 있을 경우 정상 데이터는 자기 자신을 잘 복원할 수 있지만, 이상치 제이터는 학습 기회가 적어 상대적으로 잘 복원하지 못할 것을 가정"
   ]
  },
  {
   "cell_type": "code",
   "execution_count": 11,
   "metadata": {
    "execution": {
     "iopub.execute_input": "2022-01-10T12:26:47.021902Z",
     "iopub.status.busy": "2022-01-10T12:26:47.021482Z",
     "iopub.status.idle": "2022-01-10T12:26:47.030301Z",
     "shell.execute_reply": "2022-01-10T12:26:47.029628Z",
     "shell.execute_reply.started": "2022-01-10T12:26:47.021869Z"
    },
    "id": "819oAy7UDGt0"
   },
   "outputs": [],
   "source": [
    "class CAE_1D(nn.Module):\n",
    "    def __init__(self):\n",
    "        super(CAE_1D, self).__init__()\n",
    "        self.encoder = nn.Sequential(\n",
    "            nn.Conv1d(4, 64, kernel_size=3),\n",
    "            nn.ReLU(),\n",
    "            nn.Conv1d(64, 64, kernel_size=3),\n",
    "            nn.ReLU()\n",
    "        )\n",
    "\n",
    "        self.decoder = nn.Sequential(\n",
    "          nn.ConvTranspose1d(64, 64, kernel_size=3),\n",
    "          nn.ReLU(),\n",
    "          nn.ConvTranspose1d(64, 4, kernel_size=3)\n",
    "        )\n",
    "    \n",
    "    def forward(self, x):\n",
    "        out = self.encoder(x)\n",
    "        out = self.decoder(out)\n",
    "        out = torch.sigmoid(out)\n",
    "        return out"
   ]
  },
  {
   "cell_type": "code",
   "execution_count": 12,
   "metadata": {
    "colab": {
     "base_uri": "https://localhost:8080/"
    },
    "execution": {
     "iopub.execute_input": "2022-01-10T12:26:47.032003Z",
     "iopub.status.busy": "2022-01-10T12:26:47.031428Z",
     "iopub.status.idle": "2022-01-10T12:26:49.903566Z",
     "shell.execute_reply": "2022-01-10T12:26:49.902810Z",
     "shell.execute_reply.started": "2022-01-10T12:26:47.031968Z"
    },
    "id": "q4aq6hgoDGt0",
    "outputId": "2b924e14-f34d-422d-8951-bb6d4a79d2a3",
    "scrolled": true
   },
   "outputs": [
    {
     "name": "stdout",
     "output_type": "stream",
     "text": [
      "CAE_1D(\n",
      "  (encoder): Sequential(\n",
      "    (0): Conv1d(4, 64, kernel_size=(3,), stride=(1,))\n",
      "    (1): ReLU()\n",
      "    (2): Conv1d(64, 64, kernel_size=(3,), stride=(1,))\n",
      "    (3): ReLU()\n",
      "  )\n",
      "  (decoder): Sequential(\n",
      "    (0): ConvTranspose1d(64, 64, kernel_size=(3,), stride=(1,))\n",
      "    (1): ReLU()\n",
      "    (2): ConvTranspose1d(64, 4, kernel_size=(3,), stride=(1,))\n",
      "  )\n",
      ")\n"
     ]
    }
   ],
   "source": [
    "# CAE 모델 구축\n",
    "model = CAE_1D()\n",
    "model = model.to(device)\n",
    "print(model)"
   ]
  },
  {
   "cell_type": "markdown",
   "metadata": {
    "id": "sJkAWsUUDGt0"
   },
   "source": [
    "---"
   ]
  },
  {
   "cell_type": "markdown",
   "metadata": {
    "id": "oVcTBr0bDGt1"
   },
   "source": [
    "# <br>__3. Training__"
   ]
  },
  {
   "cell_type": "code",
   "execution_count": 13,
   "metadata": {
    "execution": {
     "iopub.execute_input": "2022-01-10T12:26:49.905736Z",
     "iopub.status.busy": "2022-01-10T12:26:49.904900Z",
     "iopub.status.idle": "2022-01-10T12:26:49.918429Z",
     "shell.execute_reply": "2022-01-10T12:26:49.917490Z",
     "shell.execute_reply.started": "2022-01-10T12:26:49.905697Z"
    },
    "id": "MPFCWBsUDGt1"
   },
   "outputs": [],
   "source": [
    "def train_model(model, dataloaders, criterion, num_epochs, optimizer):\n",
    "    since = time.time()\n",
    "\n",
    "    val_mse_history = []\n",
    "\n",
    "    best_model_wts = copy.deepcopy(model.state_dict())\n",
    "    best_mse = 10000000\n",
    "\n",
    "    for epoch in range(num_epochs):\n",
    "        print('Epoch {}/{}'.format(epoch + 1, num_epochs))\n",
    "        print('-' * 10)\n",
    "\n",
    "        # 각 epoch마다 순서대로 training과 validation을 진행\n",
    "        for phase in ['train', 'val']:\n",
    "            if phase == 'train':\n",
    "                model.train()  # 모델을 training mode로 설정\n",
    "            else:\n",
    "                model.eval()   # 모델을 validation mode로 설정\n",
    "\n",
    "            running_loss = 0.0\n",
    "            running_total = 0\n",
    "\n",
    "            # training과 validation 단계에 맞는 dataloader에 대하여 학습/검증 진행\n",
    "            for inputs in dataloaders[phase]:\n",
    "                inputs = inputs.to(device)\n",
    "\n",
    "                # parameter gradients를 0으로 설정\n",
    "                optimizer.zero_grad()\n",
    "\n",
    "                # forward\n",
    "                # training 단계에서만 gradient 업데이트 수행\n",
    "                with torch.set_grad_enabled(phase == 'train'):\n",
    "                    # input을 model에 넣어 output을 도출한 후, loss를 계산함\n",
    "                    outputs = model(inputs)\n",
    "                    loss = criterion(outputs, inputs)\n",
    "\n",
    "                    # backward (optimize): training 단계에서만 수행\n",
    "                    if phase == 'train':\n",
    "                        loss.backward()\n",
    "                        optimizer.step()\n",
    "\n",
    "                # batch별 loss를 축적함\n",
    "                running_loss += loss.item() * inputs.size(0)\n",
    "                running_total += inputs.size(0)\n",
    "\n",
    "            # epoch의 loss 및 RMSE 도출\n",
    "            epoch_loss = running_loss / running_total\n",
    "\n",
    "            print('{} Loss: {:.4f}'.format(phase, epoch_loss))\n",
    "\n",
    "            # validation 단계에서 validation loss가 감소할 때마다 best model 가중치를 업데이트함\n",
    "            if phase == 'val' and epoch_loss < best_mse:\n",
    "                best_mse = epoch_loss\n",
    "                best_model_wts = copy.deepcopy(model.state_dict())\n",
    "            if phase == 'val':\n",
    "                val_mse_history.append(epoch_loss)\n",
    "\n",
    "        print()\n",
    "\n",
    "    # 전체 학습 시간 계산\n",
    "    time_elapsed = time.time() - since\n",
    "    print('Training complete in {:.0f}m {:.0f}s'.format(time_elapsed // 60, time_elapsed % 60))\n",
    "    print('Best val MSE: {:4f}'.format(best_mse))\n",
    "\n",
    "    # validation loss가 가장 낮았을 때의 best model 가중치를 불러와 best model을 구축함\n",
    "    model.load_state_dict(best_model_wts)\n",
    "    \n",
    "    # best model 가중치 저장\n",
    "    # torch.save(best_model_wts, '../output/best_model.pt')\n",
    "    return model, val_mse_history"
   ]
  },
  {
   "cell_type": "code",
   "execution_count": 14,
   "metadata": {
    "execution": {
     "iopub.execute_input": "2022-01-10T12:26:49.919904Z",
     "iopub.status.busy": "2022-01-10T12:26:49.919581Z",
     "iopub.status.idle": "2022-01-10T12:26:49.932966Z",
     "shell.execute_reply": "2022-01-10T12:26:49.932133Z",
     "shell.execute_reply.started": "2022-01-10T12:26:49.919868Z"
    },
    "id": "WpASdK8cDGt1"
   },
   "outputs": [],
   "source": [
    "# trining 단계에서 사용할 Dataloader dictionary 생성\n",
    "dataloaders_dict = {\n",
    "    'train': train_loader,\n",
    "    'val': valid_loader\n",
    "}"
   ]
  },
  {
   "cell_type": "code",
   "execution_count": 15,
   "metadata": {
    "execution": {
     "iopub.execute_input": "2022-01-10T12:26:49.935619Z",
     "iopub.status.busy": "2022-01-10T12:26:49.935091Z",
     "iopub.status.idle": "2022-01-10T12:26:49.942552Z",
     "shell.execute_reply": "2022-01-10T12:26:49.941770Z",
     "shell.execute_reply.started": "2022-01-10T12:26:49.935582Z"
    },
    "id": "McaU1sY9DGt2"
   },
   "outputs": [],
   "source": [
    "# loss function 설정\n",
    "criterion = nn.MSELoss()"
   ]
  },
  {
   "cell_type": "code",
   "execution_count": 16,
   "metadata": {
    "colab": {
     "base_uri": "https://localhost:8080/"
    },
    "execution": {
     "iopub.execute_input": "2022-01-10T12:26:49.944584Z",
     "iopub.status.busy": "2022-01-10T12:26:49.943881Z",
     "iopub.status.idle": "2022-01-10T12:26:55.991089Z",
     "shell.execute_reply": "2022-01-10T12:26:55.989977Z",
     "shell.execute_reply.started": "2022-01-10T12:26:49.944542Z"
    },
    "id": "PTDJQVZODGt2",
    "outputId": "159e962c-8daf-4646-ac00-eaa72871f63f",
    "scrolled": true
   },
   "outputs": [
    {
     "name": "stdout",
     "output_type": "stream",
     "text": [
      "Epoch 1/20\n",
      "----------\n",
      "train Loss: 0.0355\n",
      "val Loss: 0.0458\n",
      "\n",
      "Epoch 2/20\n",
      "----------\n",
      "train Loss: 0.0345\n",
      "val Loss: 0.0447\n",
      "\n",
      "Epoch 3/20\n",
      "----------\n",
      "train Loss: 0.0336\n",
      "val Loss: 0.0436\n",
      "\n",
      "Epoch 4/20\n",
      "----------\n",
      "train Loss: 0.0327\n",
      "val Loss: 0.0427\n",
      "\n",
      "Epoch 5/20\n",
      "----------\n",
      "train Loss: 0.0318\n",
      "val Loss: 0.0418\n",
      "\n",
      "Epoch 6/20\n",
      "----------\n",
      "train Loss: 0.0310\n",
      "val Loss: 0.0411\n",
      "\n",
      "Epoch 7/20\n",
      "----------\n",
      "train Loss: 0.0302\n",
      "val Loss: 0.0409\n",
      "\n",
      "Epoch 8/20\n",
      "----------\n",
      "train Loss: 0.0296\n",
      "val Loss: 0.0404\n",
      "\n",
      "Epoch 9/20\n",
      "----------\n",
      "train Loss: 0.0291\n",
      "val Loss: 0.0404\n",
      "\n",
      "Epoch 10/20\n",
      "----------\n",
      "train Loss: 0.0287\n",
      "val Loss: 0.0406\n",
      "\n",
      "Epoch 11/20\n",
      "----------\n",
      "train Loss: 0.0284\n",
      "val Loss: 0.0405\n",
      "\n",
      "Epoch 12/20\n",
      "----------\n",
      "train Loss: 0.0281\n",
      "val Loss: 0.0398\n",
      "\n",
      "Epoch 13/20\n",
      "----------\n",
      "train Loss: 0.0278\n",
      "val Loss: 0.0390\n",
      "\n",
      "Epoch 14/20\n",
      "----------\n",
      "train Loss: 0.0274\n",
      "val Loss: 0.0394\n",
      "\n",
      "Epoch 15/20\n",
      "----------\n",
      "train Loss: 0.0271\n",
      "val Loss: 0.0385\n",
      "\n",
      "Epoch 16/20\n",
      "----------\n",
      "train Loss: 0.0267\n",
      "val Loss: 0.0384\n",
      "\n",
      "Epoch 17/20\n",
      "----------\n",
      "train Loss: 0.0264\n",
      "val Loss: 0.0381\n",
      "\n",
      "Epoch 18/20\n",
      "----------\n",
      "train Loss: 0.0260\n",
      "val Loss: 0.0376\n",
      "\n",
      "Epoch 19/20\n",
      "----------\n",
      "train Loss: 0.0256\n",
      "val Loss: 0.0365\n",
      "\n",
      "Epoch 20/20\n",
      "----------\n",
      "train Loss: 0.0252\n",
      "val Loss: 0.0359\n",
      "\n",
      "Training complete in 0m 2s\n",
      "Best val MSE: 0.035908\n"
     ]
    }
   ],
   "source": [
    "# CAE 모델 학습\n",
    "model, val_mse_history = train_model(model, dataloaders_dict, criterion, num_epochs,\n",
    "                                     optimizer=optim.Adam(model.parameters(), lr=0.0001))"
   ]
  },
  {
   "cell_type": "markdown",
   "metadata": {
    "id": "x_RsrPEnDGt2"
   },
   "source": [
    "---"
   ]
  },
  {
   "cell_type": "markdown",
   "metadata": {
    "id": "YGQ3eQHXDGt2"
   },
   "source": [
    "# <br>__4. Anomaly Detection__"
   ]
  },
  {
   "cell_type": "markdown",
   "metadata": {
    "id": "UObnK-uHDGt3"
   },
   "source": [
    "### Step 4-1. 적합된 모델을 기반으로 train/valid/test 데이터의 anomaly score 도출"
   ]
  },
  {
   "cell_type": "code",
   "execution_count": 17,
   "metadata": {
    "execution": {
     "iopub.execute_input": "2022-01-10T12:26:55.993494Z",
     "iopub.status.busy": "2022-01-10T12:26:55.992884Z",
     "iopub.status.idle": "2022-01-10T12:26:55.999867Z",
     "shell.execute_reply": "2022-01-10T12:26:55.999246Z",
     "shell.execute_reply.started": "2022-01-10T12:26:55.993455Z"
    },
    "id": "Kr3PfNt4DGt3"
   },
   "outputs": [],
   "source": [
    "def test_model(model, test_loader, criterion):\n",
    "    model.eval()   # 모델을 validation mode로 설정\n",
    "    \n",
    "    # test_loader에 대하여 anomaly score 도출 (gradient update 방지)\n",
    "    with torch.no_grad():\n",
    "        test_loss = []\n",
    "        for inputs in test_loader:\n",
    "            inputs = inputs.to(device)\n",
    "\n",
    "            # forward\n",
    "            # input을 model에 넣어 output을 도출한 후, loss를 계산함\n",
    "            outputs = model(inputs)\n",
    "            loss = criterion(outputs, inputs)\n",
    "            loss = loss.mean(axis=-1).mean(axis=-1)\n",
    "\n",
    "            # sample별 loss를 축적함\n",
    "            test_loss += loss.cpu().data.numpy().tolist()\n",
    "    return test_loss"
   ]
  },
  {
   "cell_type": "code",
   "execution_count": 18,
   "metadata": {
    "execution": {
     "iopub.execute_input": "2022-01-10T12:26:56.003110Z",
     "iopub.status.busy": "2022-01-10T12:26:56.002894Z",
     "iopub.status.idle": "2022-01-10T12:26:56.010554Z",
     "shell.execute_reply": "2022-01-10T12:26:56.009779Z",
     "shell.execute_reply.started": "2022-01-10T12:26:56.003080Z"
    },
    "id": "hGa9rAeMDGt3"
   },
   "outputs": [],
   "source": [
    "# loss function 설정하기\n",
    "ad_criterion = nn.L1Loss(reduction='none')"
   ]
  },
  {
   "cell_type": "code",
   "execution_count": 19,
   "metadata": {
    "execution": {
     "iopub.execute_input": "2022-01-10T12:26:56.011799Z",
     "iopub.status.busy": "2022-01-10T12:26:56.011597Z",
     "iopub.status.idle": "2022-01-10T12:26:56.061708Z",
     "shell.execute_reply": "2022-01-10T12:26:56.061036Z",
     "shell.execute_reply.started": "2022-01-10T12:26:56.011778Z"
    },
    "id": "GQufiygtDGt3"
   },
   "outputs": [],
   "source": [
    "# train/valid/test 데이터에 대한 최종 결과 도출\n",
    "train_loss = test_model(model, train_loader, ad_criterion)\n",
    "valid_loss = test_model(model, valid_loader, ad_criterion)\n",
    "test_loss = test_model(model, test_loader, ad_criterion)"
   ]
  },
  {
   "cell_type": "code",
   "execution_count": 20,
   "metadata": {
    "colab": {
     "base_uri": "https://localhost:8080/",
     "height": 858
    },
    "execution": {
     "iopub.execute_input": "2022-01-10T12:26:56.063593Z",
     "iopub.status.busy": "2022-01-10T12:26:56.063090Z",
     "iopub.status.idle": "2022-01-10T12:26:57.114272Z",
     "shell.execute_reply": "2022-01-10T12:26:57.113563Z",
     "shell.execute_reply.started": "2022-01-10T12:26:56.063560Z"
    },
    "id": "erLGLuc1DGt3",
    "outputId": "02d64093-35fe-44a3-b41c-75a134753cbf",
    "scrolled": true
   },
   "outputs": [
    {
     "name": "stderr",
     "output_type": "stream",
     "text": [
      "/usr/local/lib/python3.7/dist-packages/seaborn/distributions.py:2619: FutureWarning: `distplot` is a deprecated function and will be removed in a future version. Please adapt your code to use either `displot` (a figure-level function with similar flexibility) or `histplot` (an axes-level function for histograms).\n",
      "  warnings.warn(msg, FutureWarning)\n",
      "/usr/local/lib/python3.7/dist-packages/seaborn/distributions.py:2619: FutureWarning: `distplot` is a deprecated function and will be removed in a future version. Please adapt your code to use either `displot` (a figure-level function with similar flexibility) or `histplot` (an axes-level function for histograms).\n",
      "  warnings.warn(msg, FutureWarning)\n",
      "/usr/local/lib/python3.7/dist-packages/seaborn/distributions.py:2619: FutureWarning: `distplot` is a deprecated function and will be removed in a future version. Please adapt your code to use either `displot` (a figure-level function with similar flexibility) or `histplot` (an axes-level function for histograms).\n",
      "  warnings.warn(msg, FutureWarning)\n"
     ]
    },
    {
     "data": {
      "text/plain": [
       "Text(0.5, 1.0, 'Test Data')"
      ]
     },
     "execution_count": 20,
     "metadata": {},
     "output_type": "execute_result"
    },
    {
     "data": {
      "image/png": "[encoded data removed]",
      "text/plain": [
       "<Figure size 576x864 with 3 Axes>"
      ]
     },
     "metadata": {
      "needs_background": "light"
     },
     "output_type": "display_data"
    }
   ],
   "source": [
    "# valid/test 데이터의 anomaly score 분포 시각화\n",
    "fig, (ax1, ax2, ax3) = plt.subplots(nrows=3, ncols=1, figsize = (8, 12))\n",
    "\n",
    "sns.distplot(train_loss, bins=100, kde=True, color='blue', ax=ax1)\n",
    "sns.distplot(valid_loss, bins=100, kde=True, color='blue', ax=ax2)\n",
    "sns.distplot(test_loss, bins=100, kde=True, color='red', ax=ax3)\n",
    "ax1.set_title(\"Train Data\")\n",
    "ax2.set_title(\"Validation Data\")\n",
    "ax3.set_title(\"Test Data\")"
   ]
  },
  {
   "cell_type": "markdown",
   "metadata": {
    "id": "8m7Tje-YDGt3"
   },
   "source": [
    "### Step 4-2. Threshold 탐색"
   ]
  },
  {
   "cell_type": "code",
   "execution_count": 21,
   "metadata": {
    "execution": {
     "iopub.execute_input": "2022-01-10T12:26:57.115911Z",
     "iopub.status.busy": "2022-01-10T12:26:57.115655Z",
     "iopub.status.idle": "2022-01-10T12:26:57.121482Z",
     "shell.execute_reply": "2022-01-10T12:26:57.120752Z",
     "shell.execute_reply.started": "2022-01-10T12:26:57.115878Z"
    },
    "id": "LJMsoaD7DGt4"
   },
   "outputs": [],
   "source": [
    "# threshold 탐색\n",
    "# score의 min ~ max 범위를 num_step개로 균등 분할한 threshold에 대하여 best threshold 탐색 \n",
    "def search_best_threshold(score, y_true, num_step):\n",
    "    best_f1 = 0.5\n",
    "    best_threshold = None\n",
    "    for threshold in np.linspace(min(score), max(score), num_step):\n",
    "        y_pred = threshold < score\n",
    "\n",
    "        f1 = f1_score(y_true, y_pred)\n",
    "        if f1 > best_f1:\n",
    "            best_f1 = f1\n",
    "            best_threshold = threshold\n",
    "\n",
    "    print('Best threshold: ', round(best_threshold, 4))\n",
    "    print('Best F1 Score:', round(best_f1, 4))\n",
    "    return best_threshold"
   ]
  },
  {
   "cell_type": "code",
   "execution_count": 22,
   "metadata": {
    "colab": {
     "base_uri": "https://localhost:8080/"
    },
    "execution": {
     "iopub.execute_input": "2022-01-10T12:26:57.123467Z",
     "iopub.status.busy": "2022-01-10T12:26:57.122925Z",
     "iopub.status.idle": "2022-01-10T12:26:57.912227Z",
     "shell.execute_reply": "2022-01-10T12:26:57.911322Z",
     "shell.execute_reply.started": "2022-01-10T12:26:57.123428Z"
    },
    "id": "BLI_dFaDDGt4",
    "outputId": "c53fa74e-3622-42b8-c57f-e8fff8213a2e",
    "scrolled": false
   },
   "outputs": [
    {
     "name": "stdout",
     "output_type": "stream",
     "text": [
      "Best threshold:  1.3496\n",
      "Best F1 Score: 0.9759\n"
     ]
    }
   ],
   "source": [
    "# best threshold 탐색 (Best threshold:  1.3496)\n",
    "best_threshold = search_best_threshold(test_loss, y_test[window_size:], num_step=1000)"
   ]
  },
  {
   "cell_type": "markdown",
   "metadata": {
    "id": "HAKtr5ZHDGt4"
   },
   "source": [
    "### Step 4-3. Best threshold를 기반으로 이상치 탐지 모형 평가 (정량적)"
   ]
  },
  {
   "cell_type": "code",
   "execution_count": 23,
   "metadata": {
    "execution": {
     "iopub.execute_input": "2022-01-10T12:26:57.913971Z",
     "iopub.status.busy": "2022-01-10T12:26:57.913709Z",
     "iopub.status.idle": "2022-01-10T12:26:57.921416Z",
     "shell.execute_reply": "2022-01-10T12:26:57.920429Z",
     "shell.execute_reply.started": "2022-01-10T12:26:57.913936Z"
    },
    "id": "U4GlAaDzDGt4"
   },
   "outputs": [],
   "source": [
    "train_dates = data[data['data_type'] == 'train'].index[window_size:]\n",
    "valid_dates = data[data['data_type'] == 'valid'].index[window_size:]\n",
    "test_dates = data[data['data_type'] == 'test'].index[window_size:]"
   ]
  },
  {
   "cell_type": "code",
   "execution_count": 24,
   "metadata": {
    "colab": {
     "base_uri": "https://localhost:8080/",
     "height": 206
    },
    "execution": {
     "iopub.execute_input": "2022-01-10T12:26:57.923189Z",
     "iopub.status.busy": "2022-01-10T12:26:57.922700Z",
     "iopub.status.idle": "2022-01-10T12:26:57.944151Z",
     "shell.execute_reply": "2022-01-10T12:26:57.943302Z",
     "shell.execute_reply.started": "2022-01-10T12:26:57.923153Z"
    },
    "id": "7IjvSMLjDGt4",
    "outputId": "b6c346fa-e979-45d9-a870-289c3f5657e9"
   },
   "outputs": [
    {
     "data": {
      "text/html": [
       "\n",
       "  <div id=\"df-5e1f1024-efe2-47ec-a4bb-23fb95efcf1c\">\n",
       "    <div class=\"colab-df-container\">\n",
       "      <div>\n",
       "<style scoped>\n",
       "    .dataframe tbody tr th:only-of-type {\n",
       "        vertical-align: middle;\n",
       "    }\n",
       "\n",
       "    .dataframe tbody tr th {\n",
       "        vertical-align: top;\n",
       "    }\n",
       "\n",
       "    .dataframe thead th {\n",
       "        text-align: right;\n",
       "    }\n",
       "</style>\n",
       "<table border=\"1\" class=\"dataframe\">\n",
       "  <thead>\n",
       "    <tr style=\"text-align: right;\">\n",
       "      <th></th>\n",
       "      <th>score</th>\n",
       "      <th>anomaly</th>\n",
       "    </tr>\n",
       "  </thead>\n",
       "  <tbody>\n",
       "    <tr>\n",
       "      <th>2004-02-12 11:22:39</th>\n",
       "      <td>0.193940</td>\n",
       "      <td>False</td>\n",
       "    </tr>\n",
       "    <tr>\n",
       "      <th>2004-02-12 11:32:39</th>\n",
       "      <td>0.111620</td>\n",
       "      <td>False</td>\n",
       "    </tr>\n",
       "    <tr>\n",
       "      <th>2004-02-12 11:42:39</th>\n",
       "      <td>0.111231</td>\n",
       "      <td>False</td>\n",
       "    </tr>\n",
       "    <tr>\n",
       "      <th>2004-02-12 11:52:39</th>\n",
       "      <td>0.161822</td>\n",
       "      <td>False</td>\n",
       "    </tr>\n",
       "    <tr>\n",
       "      <th>2004-02-12 12:02:39</th>\n",
       "      <td>0.107614</td>\n",
       "      <td>False</td>\n",
       "    </tr>\n",
       "  </tbody>\n",
       "</table>\n",
       "</div>\n",
       "      <button class=\"colab-df-convert\" onclick=\"convertToInteractive('df-5e1f1024-efe2-47ec-a4bb-23fb95efcf1c')\"\n",
       "              title=\"Convert this dataframe to an interactive table.\"\n",
       "              style=\"display:none;\">\n",
       "        \n",
       "  <svg xmlns=\"http://www.w3.org/2000/svg\" height=\"24px\"viewBox=\"0 0 24 24\"\n",
       "       width=\"24px\">\n",
       "    <path d=\"M0 0h24v24H0V0z\" fill=\"none\"/>\n",
       "    <path d=\"M18.56 5.44l.94 2.06.94-2.06 2.06-.94-2.06-.94-.94-2.06-.94 2.06-2.06.94zm-11 1L8.5 8.5l.94-2.06 2.06-.94-2.06-.94L8.5 2.5l-.94 2.06-2.06.94zm10 10l.94 2.06.94-2.06 2.06-.94-2.06-.94-.94-2.06-.94 2.06-2.06.94z\"/><path d=\"M17.41 7.96l-1.37-1.37c-.4-.4-.92-.59-1.43-.59-.52 0-1.04.2-1.43.59L10.3 9.45l-7.72 7.72c-.78.78-.78 2.05 0 2.83L4 21.41c.39.39.9.59 1.41.59.51 0 1.02-.2 1.41-.59l7.78-7.78 2.81-2.81c.8-.78.8-2.07 0-2.86zM5.41 20L4 18.59l7.72-7.72 1.47 1.35L5.41 20z\"/>\n",
       "  </svg>\n",
       "      </button>\n",
       "      \n",
       "  <style>\n",
       "    .colab-df-container {\n",
       "      display:flex;\n",
       "      flex-wrap:wrap;\n",
       "      gap: 12px;\n",
       "    }\n",
       "\n",
       "    .colab-df-convert {\n",
       "      background-color: #E8F0FE;\n",
       "      border: none;\n",
       "      border-radius: 50%;\n",
       "      cursor: pointer;\n",
       "      display: none;\n",
       "      fill: #1967D2;\n",
       "      height: 32px;\n",
       "      padding: 0 0 0 0;\n",
       "      width: 32px;\n",
       "    }\n",
       "\n",
       "    .colab-df-convert:hover {\n",
       "      background-color: #E2EBFA;\n",
       "      box-shadow: 0px 1px 2px rgba(60, 64, 67, 0.3), 0px 1px 3px 1px rgba(60, 64, 67, 0.15);\n",
       "      fill: #174EA6;\n",
       "    }\n",
       "\n",
       "    [theme=dark] .colab-df-convert {\n",
       "      background-color: #3B4455;\n",
       "      fill: #D2E3FC;\n",
       "    }\n",
       "\n",
       "    [theme=dark] .colab-df-convert:hover {\n",
       "      background-color: #434B5C;\n",
       "      box-shadow: 0px 1px 3px 1px rgba(0, 0, 0, 0.15);\n",
       "      filter: drop-shadow(0px 1px 2px rgba(0, 0, 0, 0.3));\n",
       "      fill: #FFFFFF;\n",
       "    }\n",
       "  </style>\n",
       "\n",
       "      <script>\n",
       "        const buttonEl =\n",
       "          document.querySelector('#df-5e1f1024-efe2-47ec-a4bb-23fb95efcf1c button.colab-df-convert');\n",
       "        buttonEl.style.display =\n",
       "          google.colab.kernel.accessAllowed ? 'block' : 'none';\n",
       "\n",
       "        async function convertToInteractive(key) {\n",
       "          const element = document.querySelector('#df-5e1f1024-efe2-47ec-a4bb-23fb95efcf1c');\n",
       "          const dataTable =\n",
       "            await google.colab.kernel.invokeFunction('convertToInteractive',\n",
       "                                                     [key], {});\n",
       "          if (!dataTable) return;\n",
       "\n",
       "          const docLinkHtml = 'Like what you see? Visit the ' +\n",
       "            '<a target=\"_blank\" href=https://colab.research.google.com/notebooks/data_table.ipynb>data table notebook</a>'\n",
       "            + ' to learn more about interactive tables.';\n",
       "          element.innerHTML = '';\n",
       "          dataTable['output_type'] = 'display_data';\n",
       "          await google.colab.output.renderOutput(dataTable, element);\n",
       "          const docLink = document.createElement('div');\n",
       "          docLink.innerHTML = docLinkHtml;\n",
       "          element.appendChild(docLink);\n",
       "        }\n",
       "      </script>\n",
       "    </div>\n",
       "  </div>\n",
       "  "
      ],
      "text/plain": [
       "                        score  anomaly\n",
       "2004-02-12 11:22:39  0.193940    False\n",
       "2004-02-12 11:32:39  0.111620    False\n",
       "2004-02-12 11:42:39  0.111231    False\n",
       "2004-02-12 11:52:39  0.161822    False\n",
       "2004-02-12 12:02:39  0.107614    False"
      ]
     },
     "execution_count": 24,
     "metadata": {},
     "output_type": "execute_result"
    }
   ],
   "source": [
    "scores = pd.DataFrame(index=list(train_dates) + list(valid_dates) + list(test_dates))\n",
    "scores['score'] = list(np.hstack([train_loss, valid_loss, test_loss]))\n",
    "scores['anomaly'] = best_threshold < scores['score']\n",
    "scores.head()"
   ]
  },
  {
   "cell_type": "code",
   "execution_count": 25,
   "metadata": {
    "execution": {
     "iopub.execute_input": "2022-01-10T12:26:57.945937Z",
     "iopub.status.busy": "2022-01-10T12:26:57.945630Z",
     "iopub.status.idle": "2022-01-10T12:26:57.954558Z",
     "shell.execute_reply": "2022-01-10T12:26:57.953634Z",
     "shell.execute_reply.started": "2022-01-10T12:26:57.945896Z"
    },
    "id": "k-I0z0hJDGt4"
   },
   "outputs": [],
   "source": [
    "# FRR, FAR, F1 score 도출\n",
    "def calculate_metric(y_true, y_pred):\n",
    "    cm = confusion_matrix(y_true, y_pred, labels=[True, False])\n",
    "    tp, fn, fp, tn = cm.ravel()\n",
    "    \n",
    "    frr = fp / (fp + tn)\n",
    "    far = fn / (fn + tp) \n",
    "    \n",
    "    f1 = f1_score(y_true, y_pred)\n",
    "    \n",
    "    return frr, far, f1"
   ]
  },
  {
   "cell_type": "code",
   "execution_count": 26,
   "metadata": {
    "colab": {
     "base_uri": "https://localhost:8080/"
    },
    "execution": {
     "iopub.execute_input": "2022-01-10T12:26:57.956607Z",
     "iopub.status.busy": "2022-01-10T12:26:57.956273Z",
     "iopub.status.idle": "2022-01-10T12:26:57.974490Z",
     "shell.execute_reply": "2022-01-10T12:26:57.973711Z",
     "shell.execute_reply.started": "2022-01-10T12:26:57.956573Z"
    },
    "id": "D6usst01DGt5",
    "outputId": "f006eeb2-3f6e-4628-999a-9b1fab20dcff"
   },
   "outputs": [
    {
     "name": "stdout",
     "output_type": "stream",
     "text": [
      "**  FRR: 0.0052  |  FAR: 0.0439  |  F1 Score: 0.9759\n"
     ]
    }
   ],
   "source": [
    "# FRR: 0.0052  |  FAR: 0.0439  |  F1 Score: 0.9759\n",
    "frr, far, f1 = calculate_metric(y_test[window_size:], scores['anomaly'][test_dates[0]:])\n",
    "\n",
    "print(\"**  FRR: {}  |  FAR: {}  |  F1 Score: {}\".format(round(frr, 4), round(far, 4), round(f1, 4)))"
   ]
  },
  {
   "cell_type": "markdown",
   "metadata": {
    "id": "Gs9sjXV7DGt5"
   },
   "source": [
    "### Step 4-4. Best threshold를 기반으로 이상치 탐지 모형 평가 (정성적)"
   ]
  },
  {
   "cell_type": "code",
   "execution_count": 27,
   "metadata": {
    "execution": {
     "iopub.execute_input": "2022-01-10T12:26:57.975892Z",
     "iopub.status.busy": "2022-01-10T12:26:57.975569Z",
     "iopub.status.idle": "2022-01-10T12:26:57.984974Z",
     "shell.execute_reply": "2022-01-10T12:26:57.983882Z",
     "shell.execute_reply.started": "2022-01-10T12:26:57.975857Z"
    },
    "id": "YN4jAupzDGt5"
   },
   "outputs": [],
   "source": [
    "# anomaly score plot 도출\n",
    "def draw_plot(data, scores, threshold):\n",
    "    normal_scores = scores[scores['anomaly'] == False]\n",
    "    abnormal_scores = scores[scores['anomaly'] == True]\n",
    "\n",
    "    plt.figure(figsize = (12,5))\n",
    "    plt.scatter(normal_scores.index, normal_scores['score'], label='Normal', c='blue', s=3)\n",
    "    plt.scatter(abnormal_scores.index, abnormal_scores['score'], label='Abnormal', c='red', s=3)\n",
    "    \n",
    "    plt.axhline(threshold, c='green', alpha=0.7)\n",
    "    plt.axvline(data.index[list(data['data_type']).index('valid')], c='orange', ls='--')  # validation data 시작 위치 표시\n",
    "    plt.axvline(data.index[list(data['data_type']).index('test')], c='orange', ls='--')  # test data 시작 위치 표시\n",
    "    \n",
    "    plt.xlabel('Date')\n",
    "    plt.ylabel('Anomaly Score')\n",
    "    plt.legend()\n",
    "    \n",
    "    plt.show()"
   ]
  },
  {
   "cell_type": "code",
   "execution_count": 28,
   "metadata": {
    "colab": {
     "base_uri": "https://localhost:8080/",
     "height": 334
    },
    "execution": {
     "iopub.execute_input": "2022-01-10T12:26:57.990625Z",
     "iopub.status.busy": "2022-01-10T12:26:57.989904Z",
     "iopub.status.idle": "2022-01-10T12:26:58.261719Z",
     "shell.execute_reply": "2022-01-10T12:26:58.261039Z",
     "shell.execute_reply.started": "2022-01-10T12:26:57.990586Z"
    },
    "id": "A-vkh6HxDGt5",
    "outputId": "769ac5dd-166f-4df3-a16d-476d322b6444",
    "scrolled": true
   },
   "outputs": [
    {
     "data": {
      "image/png": "[encoded data removed]",
      "text/plain": [
       "<Figure size 864x360 with 1 Axes>"
      ]
     },
     "metadata": {
      "needs_background": "light"
     },
     "output_type": "display_data"
    }
   ],
   "source": [
    "# 전체 기간의 데이터 분포 확인\n",
    "draw_plot(data, scores, best_threshold)"
   ]
  },
  {
   "cell_type": "markdown",
   "metadata": {
    "id": "3V2gtL7lDGt5"
   },
   "source": [
    "---"
   ]
  }
 ],
 "metadata": {
  "colab": {
   "collapsed_sections": [],
   "name": "02_CAE.ipynb",
   "provenance": []
  },
  "kernelspec": {
   "display_name": "Python 3",
   "language": "python",
   "name": "python3"
  },
  "language_info": {
   "codemirror_mode": {
    "name": "ipython",
    "version": 3
   },
   "file_extension": ".py",
   "mimetype": "text/x-python",
   "name": "python",
   "nbconvert_exporter": "python",
   "pygments_lexer": "ipython3",
   "version": "3.8.6"
  }
 },
 "nbformat": 4,
 "nbformat_minor": 1
}
